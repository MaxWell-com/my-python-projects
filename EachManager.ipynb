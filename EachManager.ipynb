{
 "cells": [
  {
   "cell_type": "code",
   "execution_count": null,
   "id": "d4d2f5bf-b4aa-4a9e-84a6-308a6169c862",
   "metadata": {},
   "outputs": [],
   "source": [
    "df = pd.read_excel('/Users/olgaa/Desktop/MaxWork/Контрагент_SKU_(выгрузка из дашборда).xlsx', sheet_name = 'Final_version')\n",
    "unic_managers = df['Менеджер'].unique()\n",
    "for i in unic_managers:\n",
    "    new_df = df[df['Менеджер'] == i]\n",
    "    new_df.to_excel(f'/Users/olgaa/Desktop/MaxWork/Менеджеры_1/{i}.xlsx')\n",
    "    print(f'Таблица для {i} успешно сформирована')"
   ]
  }
 ],
 "metadata": {
  "kernelspec": {
   "display_name": "Python 3 (ipykernel)",
   "language": "python",
   "name": "python3"
  },
  "language_info": {
   "codemirror_mode": {
    "name": "ipython",
    "version": 3
   },
   "file_extension": ".py",
   "mimetype": "text/x-python",
   "name": "python",
   "nbconvert_exporter": "python",
   "pygments_lexer": "ipython3",
   "version": "3.12.8"
  }
 },
 "nbformat": 4,
 "nbformat_minor": 5
}
