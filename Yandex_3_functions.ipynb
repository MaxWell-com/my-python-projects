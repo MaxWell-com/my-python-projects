{
 "cells": [
  {
   "cell_type": "markdown",
   "id": "83af61e1-27eb-4de9-9f0d-27624fa027e5",
   "metadata": {},
   "source": [
    "# Пользовательская функция и её синтаксис"
   ]
  },
  {
   "cell_type": "code",
   "execution_count": 3,
   "id": "3af8378c-da5f-443b-b849-68d7212253c8",
   "metadata": {},
   "outputs": [],
   "source": [
    "def имя_функции(аргументы):\n",
    "    тело_функции \n"
   ]
  },
  {
   "cell_type": "code",
   "execution_count": 5,
   "id": "a61052c3-199a-4217-8208-951d89bf0919",
   "metadata": {},
   "outputs": [],
   "source": [
    "def print_tech_info():\n",
    "    print('Работа программы завершена успешно') "
   ]
  },
  {
   "cell_type": "code",
   "execution_count": 7,
   "id": "c9711a09-c596-43d5-8dc0-578d30169bb2",
   "metadata": {},
   "outputs": [
    {
     "name": "stdout",
     "output_type": "stream",
     "text": [
      "Работа программы завершена успешно\n"
     ]
    }
   ],
   "source": [
    "print_tech_info()"
   ]
  },
  {
   "cell_type": "markdown",
   "id": "2bdc8627-caa2-48c6-8d8f-533b489dcf7b",
   "metadata": {},
   "source": [
    "## Правила имен функции"
   ]
  },
  {
   "cell_type": "raw",
   "id": "bd40220f-46be-4647-9199-914d0692fe37",
   "metadata": {},
   "source": [
    "Обратите внимание на имя функции — оно создаётся по тем же правилам, что и название переменной. Напомним их. Название функции должно быть: \n",
    "Синтаксически корректным. Имя функции начинается с буквы или знака нижнего подчёркивания _ и содержит только буквы, цифры и знак нижнего подчёркивания. Нельзя добавлять другие символы, например, !, и разделять слова пробелом.\n",
    "Уникальным. В программе не должно быть двух функций с одинаковыми наименованиями. Если нарушать это правило, код может работать совсем не так, как предполагалось: та функция, которая была определена первой, станет недоступна, и всё будет обрабатывать вторая.\n",
    "Понятным. Здесь несколько моментов:\n",
    "Обычно используют англоязычные названия функций. Это помогает понимать код сотрудникам из разных стран и просто хороший тон в разработке.\n",
    "Название функции должно описывать то, что она делает — это облегчит чтение кода. Например, если функция находит количество пользователей сайта за день, то хорошим названием будет get_users_count_day().\n",
    "В питоне принята «змеиная» запись, когда слова разделены нижним подчёркиванием и состоят из строчных букв. Без разделителей понять название функции может быть трудно.\n",
    "В меру кратким. Длинные названия выглядят громоздко, код становится плохо читаемым. Короткие названия облегчают код и упрощают его восприятие."
   ]
  },
  {
   "cell_type": "markdown",
   "id": "8a90e84d-007e-40e9-ae96-3343e6e24a67",
   "metadata": {},
   "source": [
    "## Аргументы и тело функции\n"
   ]
  },
  {
   "cell_type": "raw",
   "id": "5dd8d166-5413-40ba-83b4-c2065c14cb23",
   "metadata": {},
   "source": [
    "Аргументы функции — изменяемые вводные данные, которые функция принимает и использует в своей работе."
   ]
  },
  {
   "cell_type": "raw",
   "id": "e1811661-cc03-4e4d-b996-b4dabf293205",
   "metadata": {},
   "source": [
    "Функция triple_num() принимает один аргумент и выводит его утроенное значение:"
   ]
  },
  {
   "cell_type": "code",
   "execution_count": 5,
   "id": "68688761-c1a7-43bf-a2d8-0624ce0deb91",
   "metadata": {},
   "outputs": [],
   "source": [
    "def triple_num(num) : \n",
    "    print(3*num) \n"
   ]
  },
  {
   "cell_type": "raw",
   "id": "f4a9e567-c7cd-42e1-962c-364b0526e8af",
   "metadata": {},
   "source": [
    "Вызовем функцию с аргументом 2024:"
   ]
  },
  {
   "cell_type": "code",
   "execution_count": 7,
   "id": "1d7f2afe-4c9a-430a-89e8-c983c8f525b7",
   "metadata": {},
   "outputs": [
    {
     "name": "stdout",
     "output_type": "stream",
     "text": [
      "6072\n"
     ]
    }
   ],
   "source": [
    "triple_num(num=2024) "
   ]
  },
  {
   "cell_type": "raw",
   "id": "4af10cc9-4532-47db-8769-ff186ee2a76f",
   "metadata": {},
   "source": [
    "Можно использовать короткую запись: "
   ]
  },
  {
   "cell_type": "code",
   "execution_count": 9,
   "id": "bd8cfccb-ad37-4d8b-8574-c665ce6c4293",
   "metadata": {},
   "outputs": [
    {
     "name": "stdout",
     "output_type": "stream",
     "text": [
      "6072\n"
     ]
    }
   ],
   "source": [
    "triple_num(2024) "
   ]
  },
  {
   "cell_type": "code",
   "execution_count": 11,
   "id": "f0426b0e-947b-4857-bf1f-c97626445f30",
   "metadata": {},
   "outputs": [],
   "source": [
    "def get_sum(first_num, second_num=12):\n",
    "    print(first_num + second_num) "
   ]
  },
  {
   "cell_type": "raw",
   "id": "0f0f4500-e12a-4919-8943-00dfa7ba4449",
   "metadata": {},
   "source": [
    "Внутри скобок указано second_num=12. Здесь 12 — это значение аргумента по умолчанию. Это значит, что при вызове функции аргументу second_num необязательно присваивать значение. Если присвоим, то функция возьмёт его, а если нет — будет использовать 12. "
   ]
  },
  {
   "cell_type": "code",
   "execution_count": 13,
   "id": "11db3a1d-083f-4c42-ae3b-277f56375e52",
   "metadata": {},
   "outputs": [
    {
     "name": "stdout",
     "output_type": "stream",
     "text": [
      "13\n"
     ]
    }
   ],
   "source": [
    "get_sum(first_num=1)"
   ]
  },
  {
   "cell_type": "code",
   "execution_count": 15,
   "id": "dc1e5866-7e21-4ef5-b0fb-6b17d110e7d4",
   "metadata": {},
   "outputs": [
    {
     "name": "stdout",
     "output_type": "stream",
     "text": [
      "16\n"
     ]
    }
   ],
   "source": [
    "get_sum(first_num=1, second_num=15)"
   ]
  },
  {
   "cell_type": "code",
   "execution_count": 17,
   "id": "8df0644a-3d3c-4d31-9b6c-cab7597ef8fd",
   "metadata": {},
   "outputs": [
    {
     "name": "stdout",
     "output_type": "stream",
     "text": [
      "20\n"
     ]
    }
   ],
   "source": [
    "get_sum(5, 15) "
   ]
  },
  {
   "cell_type": "raw",
   "id": "0015b272-e9d2-4b29-ad0e-057c2a524b18",
   "metadata": {},
   "source": [
    "Подведём итог по аргументам: \n",
    "Аргументы функции — изменяемые вводные данные, которые функция принимает и использует в своей работе.\n",
    "Аргументы указываются в круглых скобках после имени функции.\n",
    "Можно задавать значения по умолчанию.\n",
    "Синтаксически корректные записи:"
   ]
  },
  {
   "cell_type": "markdown",
   "id": "69311722-41ff-4670-ba3f-9069e38b02d8",
   "metadata": {},
   "source": [
    "## Тело функции"
   ]
  },
  {
   "cell_type": "raw",
   "id": "d62f8a76-1f3e-4ea0-8d0c-fb25c1b2e24b",
   "metadata": {},
   "source": [
    "Тело функции — часть, содержащая блок кода с основным алгоритмом. "
   ]
  },
  {
   "cell_type": "code",
   "execution_count": 20,
   "id": "c6bd83ce-c8c3-4e3d-8041-a04d842e85ad",
   "metadata": {},
   "outputs": [],
   "source": [
    "# объявление функции get_signature с аргументами name, position **\n",
    "def get_signature(name, position): \n",
    "# вывод по образцу\n",
    "# name - параметр из аргументов функции\n",
    "        print('С уважением,', name) \n",
    "        print('— — — — — — — — —')\n",
    "# position- параметр из аргументов функции\n",
    "        print(position,', ООО «Баг и Фича»', sep = '') "
   ]
  },
  {
   "cell_type": "code",
   "execution_count": 22,
   "id": "fcc1f637-972d-4573-94c3-1138736069ef",
   "metadata": {},
   "outputs": [
    {
     "name": "stdout",
     "output_type": "stream",
     "text": [
      "С уважением, Александра Павлова\n",
      "— — — — — — — — —\n",
      "Инженер данных, ООО «Баг и Фича»\n"
     ]
    }
   ],
   "source": [
    "get_signature(name = 'Александра Павлова', position = 'Инженер данных') "
   ]
  },
  {
   "cell_type": "markdown",
   "id": "9039844e-6319-4e25-b6d0-48dbf639bdcc",
   "metadata": {},
   "source": [
    "## Вывод результатов. return"
   ]
  },
  {
   "cell_type": "raw",
   "id": "a4685dc9-868a-4ecb-b4e6-2a4d32655e59",
   "metadata": {},
   "source": [
    "Оператор return используют, когда нужно сохранить результат работы функции — в виде переменной, списка или др. Например:"
   ]
  },
  {
   "cell_type": "code",
   "execution_count": 25,
   "id": "cbe48b0e-6c20-448e-b75f-284e19a20ab9",
   "metadata": {},
   "outputs": [
    {
     "name": "stdout",
     "output_type": "stream",
     "text": [
      "10\n",
      "8\n"
     ]
    }
   ],
   "source": [
    "def multiply(num1, num2):\n",
    "    # перемножаем два числа\n",
    "    result = num1 * num2 \n",
    "    # return возвращает значение result\n",
    "    return result   \n",
    "    \n",
    "# res_1 присваиваем результат работы multiply()\n",
    "res_1 = multiply(2,5) \n",
    "# то же для res_2\n",
    "res_2 = multiply(4,2) \n",
    "\n",
    "# выведем res_1, чтобы посмотреть, что хранится в переменной\n",
    "print(res_1) \n",
    "# то же для res_2\n",
    "print(res_2) "
   ]
  },
  {
   "cell_type": "raw",
   "id": "fa8741fd-b511-455a-bdfc-60c93c803d6b",
   "metadata": {},
   "source": [
    "Несколько return — тоже «штатная» ситуация. Рассмотрим её на примере задачи."
   ]
  },
  {
   "cell_type": "raw",
   "id": "c3cc7ec3-ad52-4f19-bcb0-2438102ef299",
   "metadata": {},
   "source": [
    "Задача. В сервисе доставки еды запускают акцию. Условия такие: если сумма в чеке с учётом доставки превышает 1000 денег, то клиенту дают скидку 10%. Создадим функцию, которая: \n",
    "принимает сумму из ресторана и стоимость доставки;\n",
    "возвращает итоговую стоимость заказа с учётом условий акции."
   ]
  },
  {
   "cell_type": "code",
   "execution_count": 27,
   "id": "22dba9b7-7057-4bba-a85e-3610486232ae",
   "metadata": {},
   "outputs": [],
   "source": [
    "# объявление функции amount_estimator \n",
    "# с аргументами sum1, sum2\n",
    "def amount_estimator(sum1, sum2):\n",
    "    # вычисление полной стоимости заказа\n",
    "    total_sum = sum1 + sum2\n",
    "    # сравнение с 1000\n",
    "    # выбор случая, когда сумма больше 1000 \n",
    "    if total_sum > 1000:        \n",
    "        # возвращение значения согласно условию \n",
    "        # акции: с начисленной скидкой\n",
    "        return total_sum*0.9       \n",
    "        # сравнение с 1000, выбор\n",
    "        # всех оставшихся случаев\n",
    "    else:       \n",
    "        # возвращение значения согласно условию акции\n",
    "        return total_sum         "
   ]
  },
  {
   "cell_type": "code",
   "execution_count": 29,
   "id": "a3dc7fcb-0241-4e65-bbda-aa194012995c",
   "metadata": {},
   "outputs": [
    {
     "data": {
      "text/plain": [
       "945.0"
      ]
     },
     "execution_count": 29,
     "metadata": {},
     "output_type": "execute_result"
    }
   ],
   "source": [
    "# стоимость заказа в ресторане 890, стоимость доставки 160 \n",
    "amount_estimator(sum1=890, sum2=160)"
   ]
  },
  {
   "cell_type": "raw",
   "id": "43e44c90-e6a7-4856-92b4-5b4c085c2321",
   "metadata": {},
   "source": [
    "Несколько операторов return в одной функции позволили реализовать ветвление в алгоритме. В этом коде две ветки — поэтому и операторов return — два. Вызов одной и той же функции всегда возвращает одно корректное значение. "
   ]
  },
  {
   "cell_type": "raw",
   "id": "be7650bc-9593-4f36-9a88-42af61001d48",
   "metadata": {},
   "source": [
    "Обобщим алгоритм создания функции:\n",
    "Указать универсальный оператор def.\n",
    "Выбрать название функции.\n",
    "В круглых скобках указать аргументы, при необходимости присвоить им значение по умолчанию. Указать : после закрывающей скобки.\n",
    "В тело функции записать алгоритм, который обрабатывает аргументы. Следить за отступами.\n",
    "Если функция возвращает результат обработки, указать return в конце блока кода."
   ]
  },
  {
   "cell_type": "code",
   "execution_count": 49,
   "id": "f4a235e1-7d52-493b-8aca-0f374bda0e63",
   "metadata": {},
   "outputs": [],
   "source": [
    "main_manager = \"Елена Смирнова, Гуру Креативных Решений\"\n",
    "\n",
    "def gratitude_letter (client = 'Клиент', manager = None):\n",
    "    text= '''Subject: Благодарим за выбор нашей компании «Ненавязчивые услуги»\\n\n",
    "             Уважаемый {client},\\n\n",
    "             Мы ценим ваше доверие и стремимся предоставить вам выдающийся сервис.\n",
    "             Ваша поддержка важна для нас. \n",
    "             Мы с нетерпением ждём продолжения нашей успешной работы.\\n\n",
    "             С наилучшими пожеланиями,\n",
    "             {manager}'''\n",
    "    print(text.format(client=client,manager=manager))\n"
   ]
  },
  {
   "cell_type": "code",
   "execution_count": 65,
   "id": "2f0c253e-2f7a-47dd-b186-f0d543bfdd06",
   "metadata": {},
   "outputs": [
    {
     "name": "stdout",
     "output_type": "stream",
     "text": [
      "Subject: Благодарим за выбор нашей компании «Ненавязчивые услуги»\n",
      "\n",
      "             Уважаемый Bdfyjd,\n",
      "\n",
      "             Мы ценим ваше доверие и стремимся предоставить вам выдающийся сервис.\n",
      "             Ваша поддержка важна для нас. \n",
      "             Мы с нетерпением ждём продолжения нашей успешной работы.\n",
      "\n",
      "             С наилучшими пожеланиями,\n",
      "             Елена Смирнова, Гуру Креативных Решений\n"
     ]
    }
   ],
   "source": [
    "gratitude_letter('Bdfyjd',main_manager)"
   ]
  },
  {
   "cell_type": "code",
   "execution_count": 69,
   "id": "dcb125fd-6728-4459-8341-39c78f043fce",
   "metadata": {},
   "outputs": [
    {
     "name": "stdout",
     "output_type": "stream",
     "text": [
      "20\n"
     ]
    }
   ],
   "source": [
    "def price_sum_with_gifts(prices_list):\n",
    "    # напишите ваш код тут\n",
    "    if len(prices_list) >= 3:\n",
    "        total_sum = sum(prices_list) -  min(prices_list)\n",
    "    # возвращаем результат\n",
    "        return total_sum\n",
    "    else:\n",
    "        return sum(prices_list)\n",
    "\n",
    "# вызываем функцию\n",
    "print(price_sum_with_gifts([11,9,7]))"
   ]
  },
  {
   "cell_type": "code",
   "execution_count": 77,
   "id": "0a8caa62-7da2-4863-a312-314eb8fac9ad",
   "metadata": {},
   "outputs": [
    {
     "name": "stdout",
     "output_type": "stream",
     "text": [
      "20\n"
     ]
    }
   ],
   "source": [
    "def price_sum_with_gifts(prices_list):\n",
    "    if len(prices_list) >= 3:\n",
    "        quantity = len(prices_list)//3\n",
    "        prices_list.sort()\n",
    "        total_sum = sum(prices_list[quantity:])\n",
    "    \n",
    "        return total_sum \n",
    "    else:\n",
    "        return sum(prices_list)\n",
    "\n",
    "# вызываем функцию\n",
    "print(price_sum_with_gifts([11,9,7]))\n",
    "    # напишите ваш код тут"
   ]
  },
  {
   "cell_type": "code",
   "execution_count": 89,
   "id": "7da10ab9-ad16-4c2b-885b-c5d83b7e0203",
   "metadata": {},
   "outputs": [
    {
     "name": "stdout",
     "output_type": "stream",
     "text": [
      "Sat, 13:00 \u0007 Будильник сработал\n",
      "Mon, 12:00 Будильник не сработал\n"
     ]
    }
   ],
   "source": [
    "def alarm_check(timecode):\n",
    "    '''\n",
    "    Печатает управляющий символ сигнала\n",
    "    по условию.\n",
    "    Пример кодов времени: \n",
    "    \"Sun, 17:00\", \"Wed, 07:00\" \n",
    "    '''\n",
    "    # список будильников и выходных\n",
    "    break_book = ['Sun']\n",
    "    alarm_book = [\"09:00\", \"13:00\", \"18:00\"]\n",
    "    def alarm_book_check(book):\n",
    "        # обход будильников\n",
    "        # задаём начальное значение флага\n",
    "        flag = False\n",
    "        # проверяем для каждой записи\n",
    "        for entry in book:\n",
    "            # если нашли соответствие\n",
    "            if timecode.find(entry) != -1:\n",
    "                # переключаем флаг на истину \n",
    "                flag = True\n",
    "        # возвращаем флаг\n",
    "        return flag\n",
    "    # проверка на выходной день\n",
    "    if alarm_book_check(break_book):\n",
    "        # напишите ваш код тут\n",
    "        print(timecode, 'Выходной')\n",
    "    elif alarm_book_check(alarm_book):\n",
    "        print(timecode, \"\\a Будильник сработал\")\n",
    "    else:\n",
    "        print(timecode, 'Будильник не сработал')\n",
    "        # напишите ваш код тут\n",
    "\n",
    "# вызываем функцию\n",
    "alarm_check('Sat, 13:00')\n",
    "alarm_check('Mon, 12:00')\n",
    "# напишите ваш код тут"
   ]
  },
  {
   "cell_type": "markdown",
   "id": "09f2dfe6-fe5e-407f-b508-f7753204e05c",
   "metadata": {},
   "source": [
    "# Создание функции с несколькими аргументами и встроенными методами"
   ]
  },
  {
   "cell_type": "code",
   "execution_count": 92,
   "id": "bb21da27-ddd5-43d2-b6da-e35fbd0d6929",
   "metadata": {},
   "outputs": [
    {
     "name": "stdout",
     "output_type": "stream",
     "text": [
      "Уважаемый(ая) Анна, приглашаем Вас на наше мероприятие!\n",
      "Уважаемый(ая) Иван, приглашаем Вас на наше мероприятие!\n",
      "Уважаемый(ая) Ольга, приглашаем Вас на наше мероприятие!\n"
     ]
    }
   ],
   "source": [
    "def create_invitation(name):\n",
    "    return f\"Уважаемый(ая) {name}, приглашаем Вас на наше мероприятие!\"\n",
    "\n",
    "# Примеры вызова функции\n",
    "print(create_invitation(\"Анна\"))\n",
    "print(create_invitation(\"Иван\"))\n",
    "print(create_invitation(\"Ольга\"))"
   ]
  },
  {
   "cell_type": "code",
   "execution_count": 94,
   "id": "6dffb949-5f0b-4d53-8894-47b59011485a",
   "metadata": {},
   "outputs": [
    {
     "name": "stdout",
     "output_type": "stream",
     "text": [
      "Оставшиеся яблоки: 4\n",
      "Оставшиеся бананы: 5\n",
      "Оставшиеся апельсины: 1\n"
     ]
    }
   ],
   "source": [
    "def remaining_fruits(participants):\n",
    "    # Количество каждого вида фруктов на начало мероприятия\n",
    "    apples = 12\n",
    "    bananas = 13\n",
    "    oranges = 9\n",
    "\n",
    "    # Вычисляем количество оставшихся фруктов\n",
    "    remaining_apples = apples - participants\n",
    "    remaining_bananas = bananas - participants\n",
    "    remaining_oranges = oranges - participants\n",
    "\n",
    "    # Печатаем результаты с использованием f-строк\n",
    "    print(f\"Оставшиеся яблоки: {remaining_apples}\")\n",
    "    print(f\"Оставшиеся бананы: {remaining_bananas}\")\n",
    "    print(f\"Оставшиеся апельсины: {remaining_oranges}\")\n",
    "\n",
    "# Вывод функции\n",
    "remaining_fruits(8) "
   ]
  },
  {
   "cell_type": "code",
   "execution_count": 98,
   "id": "008fecc4-868f-4f88-a4d9-44cdbbcd98f4",
   "metadata": {},
   "outputs": [
    {
     "name": "stdout",
     "output_type": "stream",
     "text": [
      "For event needs: 30 cups and 45 plates\n",
      "None\n"
     ]
    }
   ],
   "source": [
    "def calculate_cups_and_plates(guests):\n",
    "    cups = guests * 2   \n",
    "    plates = guests * 3\n",
    "    return print(f'For event needs: {cups} cups and {plates} plates')\n",
    "\n",
    "print(calculate_cups_and_plates(15))"
   ]
  },
  {
   "cell_type": "code",
   "execution_count": 100,
   "id": "39159b2f-c002-4f4f-a6e5-188d3c273d32",
   "metadata": {},
   "outputs": [
    {
     "name": "stdout",
     "output_type": "stream",
     "text": [
      "(30, 272.24)\n"
     ]
    }
   ],
   "source": [
    "def pizza_count(pepperoni, margherita, hawaiian, seafood, discount):\n",
    "    # считаем число пицц \n",
    "    total_slices = pepperoni + margherita +hawaiian + seafood\n",
    "\n",
    "    # считаем цены заказанной пиццы без скидки (допишите код)\n",
    "    pepperoni_price = pepperoni * 10\n",
    "    margherita_price = margherita * 8\n",
    "    hawaiian_price = hawaiian * 12\n",
    "    seafood_price = seafood * 14\n",
    "\n",
    "    # применяем скидку (допишите код)\n",
    "    total_price = pepperoni_price + margherita_price + hawaiian_price + seafood_price\n",
    "    total_with_discount = total_price - ((total_price * discount)/100)\n",
    "    return total_slices, total_with_discount\n",
    "\n",
    "#Вызов функции\n",
    "print(pizza_count(6, 8, 10, 6, 17))"
   ]
  },
  {
   "cell_type": "code",
   "execution_count": 102,
   "id": "8d3cb6ca-8841-434c-93af-a3db5fde7fe9",
   "metadata": {},
   "outputs": [
    {
     "name": "stdout",
     "output_type": "stream",
     "text": [
      "Общая стоимость покупок: 103000\n",
      "Самая дорогая покупка: 70000\n",
      "Процент самой дорогой покупки от общей стоимости: 67.96%\n"
     ]
    }
   ],
   "source": [
    "purchases = [7_000, 14_000, 9_000, 70_000, 3_000]\n",
    "\n",
    "def display_purchase_statistics(purchases_list):\n",
    "    total = sum(purchases_list)\n",
    "    most_expensive = max(purchases_list)\n",
    "    percentage = round((most_expensive / total) * 100, 2)\n",
    "\n",
    "    # вставьте переменные в фигурные скобки\n",
    "    print(f\"Общая стоимость покупок: {total}\")\n",
    "    print(f\"Самая дорогая покупка: {most_expensive}\")\n",
    "    print(f\"Процент самой дорогой покупки от общей стоимости: {percentage}%\")\n",
    "\n",
    "display_purchase_statistics(purchases)"
   ]
  },
  {
   "cell_type": "code",
   "execution_count": 104,
   "id": "eca05bad-219b-413b-a966-3c607bc97e2b",
   "metadata": {},
   "outputs": [
    {
     "name": "stdout",
     "output_type": "stream",
     "text": [
      "Общий бюджет: 1100\n",
      "Средний дневной бюджет: 110.0\n"
     ]
    }
   ],
   "source": [
    "def estimate_budget(accommodation, food, excursions, souvenirs, vacation_duration):\n",
    "\t# допишите код в двух строчках ниже\n",
    "    total_budget = accommodation + food + excursions + souvenirs\n",
    "    daily_average_budget = total_budget/vacation_duration\n",
    "    return total_budget, daily_average_budget\n",
    "\n",
    "# Использование функции:\n",
    "total, daily = estimate_budget(500, 200, 300, 100, 10)\n",
    "print(\"Общий бюджет:\", total)\n",
    "print(\"Средний дневной бюджет:\", daily)"
   ]
  },
  {
   "cell_type": "markdown",
   "id": "2214249d-d250-40e7-8d6b-3a096cfa0e59",
   "metadata": {},
   "source": [
    "## Создание функций с циклами и условиями"
   ]
  },
  {
   "cell_type": "raw",
   "id": "fc6a3e86-12d2-45ed-8b23-5bf0ca136b2d",
   "metadata": {},
   "source": [
    "Часто возникает ситуация, когда в рамках одной пользовательской функции нужно многократно выполнять одно или несколько действий. Например: \n",
    "помесячно рассчитать финансовый показатель, чтобы построить график его динамики;\n",
    "распределить клиентов по сегментам — для каждого клиента определить, в какой сегмент он попадает по заранее определённым условиям;\n",
    "перебрать все маркетинговые кампании, чтобы определить более и менее эффективные;\n",
    "проверить каждый склад и определить, достаточно ли на в нём запасов для территории, которую он обслуживает."
   ]
  },
  {
   "cell_type": "raw",
   "id": "0bc63bf4-6fed-449c-9a9f-d7d6aa82af0d",
   "metadata": {},
   "source": [
    "Более того, циклы и условия можно комбинировать! Например, функция для подсчёта среднего значения списка чисел может: \n",
    "с помощью условия проверять перед расчётом, не пуст ли список;\n",
    "а затем с помощью цикла перебирать все числа."
   ]
  },
  {
   "cell_type": "code",
   "execution_count": 107,
   "id": "8b33fa17-220b-42a8-8b1e-8fe4cba2ecaf",
   "metadata": {},
   "outputs": [
    {
     "name": "stdout",
     "output_type": "stream",
     "text": [
      "[7000, 14000, 9000]\n"
     ]
    }
   ],
   "source": [
    "purchases = [7000, 14000, 9000, 70000, 3000]\n",
    "\n",
    "def price_range(prices, min_price, max_price):\n",
    "    # Создаём пустой список для хранения результатов\n",
    "    result = []  \n",
    "    # Итерируем по каждому элементу в списке prices\n",
    "    for price in prices:  \n",
    "        # Проверяем, попадает ли цена в заданный диапазон\n",
    "        if min_price <= price <= max_price:  \n",
    "            # Если да, добавляем цену в список результатов\n",
    "            result.append(price)  \n",
    "    return result\n",
    "\n",
    "print(price_range(purchases, 5000, 15000)) "
   ]
  },
  {
   "cell_type": "raw",
   "id": "09c641f6-eb8a-4639-9456-04714736d0fe",
   "metadata": {},
   "source": [
    "Списковые включения\n",
    "Более элегантно решать подобные задачи и создавать новые списки на основе существующих помогают списковые включения (list comprehensions). Они позволяют комбинировать цикл и условие — генерировать новый список, применяя выражение к каждому элементу итерируемого объекта (например, списка), и при необходимости фильтровать элементы с помощью условного выражения."
   ]
  },
  {
   "cell_type": "raw",
   "id": "35833e32-6448-4d9d-9db0-aa70db6120e7",
   "metadata": {},
   "source": [
    "Списковое включение — цикл, который включён внутрь определения списка."
   ]
  },
  {
   "cell_type": "raw",
   "id": "7c3a15c1-7462-4d0b-a69f-4d4fecb9e77a",
   "metadata": {},
   "source": [
    "Сначала возьмём обычный цикл и создадим с его помощью список квадратов чисел: "
   ]
  },
  {
   "cell_type": "code",
   "execution_count": 109,
   "id": "1b3764ce-c718-4929-a803-c9186eb6d0b1",
   "metadata": {},
   "outputs": [
    {
     "name": "stdout",
     "output_type": "stream",
     "text": [
      "[1, 4, 9, 16, 25]\n"
     ]
    }
   ],
   "source": [
    "numbers = [1, 2, 3, 4, 5]\n",
    "squared_numbers = []\n",
    "\n",
    "for x in numbers:\n",
    "    squared_numbers.append(x**2)\n",
    "print(squared_numbers) "
   ]
  },
  {
   "cell_type": "raw",
   "id": "3193d93c-ab28-4076-907e-f441632aa95e",
   "metadata": {},
   "source": [
    "Задача простая, а код немного громоздкий. Списковое включение поможет с этим справиться. \n",
    "Простой пример спискового включения выглядит так:"
   ]
  },
  {
   "cell_type": "code",
   "execution_count": 111,
   "id": "76688de4-0e06-44c2-8639-3f264e6a83b8",
   "metadata": {},
   "outputs": [
    {
     "name": "stdout",
     "output_type": "stream",
     "text": [
      "[4, 9, 16, 25, 36]\n"
     ]
    }
   ],
   "source": [
    "numbers = [2, 3, 4, 5, 6]\n",
    "squared_numbers = [x**2 for x in numbers]\n",
    "print(squared_numbers) "
   ]
  },
  {
   "cell_type": "raw",
   "id": "fc550268-2bf5-4747-8e8c-c632589aaf5e",
   "metadata": {},
   "source": [
    "Чтобы дополнительно фильтровать результат, нужно добавить в конце спискового включения if и после него логическое выражение, которое будет проверяться для каждого х. \n",
    "Например, получим квадраты только чётных чисел от 1 до 10:"
   ]
  },
  {
   "cell_type": "code",
   "execution_count": 133,
   "id": "303ca438-83c4-4b94-a6d5-c48380cd0c67",
   "metadata": {},
   "outputs": [
    {
     "name": "stdout",
     "output_type": "stream",
     "text": [
      "[4, 16, 36, 64, 100]\n"
     ]
    }
   ],
   "source": [
    "print([x**2 for x in range(1, 11) if x % 2 == 0])"
   ]
  },
  {
   "cell_type": "code",
   "execution_count": 135,
   "id": "b6a526ab-9ce3-468f-ae78-6e54e848ac0f",
   "metadata": {},
   "outputs": [
    {
     "name": "stdout",
     "output_type": "stream",
     "text": [
      "[7000, 14000, 9000]\n"
     ]
    }
   ],
   "source": [
    "purchases = [7000, 14000, 9000, 70000, 3000]\n",
    "\n",
    "def price_range(prices, min_price, max_price):\n",
    "    return [price for price in prices if min_price <= price <= max_price]\n",
    "print(price_range(purchases, 5000, 15000)) "
   ]
  },
  {
   "cell_type": "code",
   "execution_count": 137,
   "id": "763f9e3c-1c2f-4225-9eb3-06afd1f58d43",
   "metadata": {},
   "outputs": [],
   "source": [
    "def accumulation_time(initial_amount, goal, interest_rate):\n",
    "    years = 0\n",
    "    while  initial_amount < goal:\n",
    "        initial_amount += initial_amount * (initial_rate/ 100)\n",
    "        years += 1\n",
    "    return years"
   ]
  },
  {
   "cell_type": "code",
   "execution_count": 139,
   "id": "15dea699-7ac2-4993-9cf7-2ee30da70492",
   "metadata": {},
   "outputs": [],
   "source": [
    "def analyze_temperature(temperatures, lower_threshold, upper_threshold):\n",
    "    anomaly_days = []\n",
    "    for day, temp in enumerate(temperatures):\n",
    "\t\t# дополните код ниже\n",
    "        if  temp < lower_threshold or  temp >upper_threshold:\n",
    "            anomaly_days.append(day + 1)\n",
    "    return anomaly_days"
   ]
  },
  {
   "cell_type": "code",
   "execution_count": 141,
   "id": "27b46e63-9871-4467-b97a-10bdd89e7948",
   "metadata": {},
   "outputs": [],
   "source": [
    "def suggest_clothing(weather_forecast):\n",
    "    suggestions = []\n",
    "    for day, (temperature, precipitation) in enumerate(weather_forecast):\n",
    "        outfit = \"Футболка\" if temperature > 15 else \"Лёгкая куртка\"\n",
    "        if  temperature < 0:\n",
    "            outfit = \"Тёплая куртка\"\n",
    "        if precipitation is True:\n",
    "            outfit += \" и зонт\"\n",
    "        suggestions.append((day + 1, outfit))\n",
    "    return suggestions"
   ]
  },
  {
   "cell_type": "code",
   "execution_count": 145,
   "id": "3292f2b8-a586-4e1e-a0c4-10d77c8c2e77",
   "metadata": {},
   "outputs": [],
   "source": [
    "weather_forecast = [(17, False), (21, False), (-3, True), (10, True)]\n"
   ]
  },
  {
   "cell_type": "code",
   "execution_count": 153,
   "id": "b0f9cd19-ae97-4f4a-9182-f14d6b10c7c2",
   "metadata": {},
   "outputs": [
    {
     "name": "stdout",
     "output_type": "stream",
     "text": [
      "[(1, 'Футболка'), (2, 'Футболка'), (3, 'Тёплая куртка и зонт'), (4, 'Лёгкая куртка и зонт')]\n"
     ]
    }
   ],
   "source": [
    "print(suggest_clothing(weather_forecast))"
   ]
  },
  {
   "cell_type": "code",
   "execution_count": null,
   "id": "c3bfb295-c3a6-4283-b457-e90c4be5e857",
   "metadata": {},
   "outputs": [],
   "source": []
  }
 ],
 "metadata": {
  "kernelspec": {
   "display_name": "Python [conda env:base] *",
   "language": "python",
   "name": "conda-base-py"
  },
  "language_info": {
   "codemirror_mode": {
    "name": "ipython",
    "version": 3
   },
   "file_extension": ".py",
   "mimetype": "text/x-python",
   "name": "python",
   "nbconvert_exporter": "python",
   "pygments_lexer": "ipython3",
   "version": "3.12.7"
  }
 },
 "nbformat": 4,
 "nbformat_minor": 5
}
