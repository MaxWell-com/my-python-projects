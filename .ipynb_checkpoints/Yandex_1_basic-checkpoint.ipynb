{
 "cells": [
  {
   "cell_type": "code",
   "execution_count": 4,
   "id": "21dfc88d-d63f-4413-a9b5-518f754d1330",
   "metadata": {},
   "outputs": [
    {
     "name": "stdout",
     "output_type": "stream",
     "text": [
      "0.13375\n"
     ]
    }
   ],
   "source": [
    "players_by_level = [800, 600, 450, 338, 253, 190, 142, 107]\n",
    "first_level_players = players_by_level[0] # выберите первый элемент списка\n",
    "last_level_players = players_by_level[-1] # выберите последний элемент списка\n",
    "last_to_first_ratio = last_level_players/first_level_players# разделите last_level_players на first_level_players\n",
    "print(last_to_first_ratio) "
   ]
  },
  {
   "cell_type": "code",
   "execution_count": 6,
   "id": "8477fa60-abad-4097-9413-52b82809d678",
   "metadata": {},
   "outputs": [
    {
     "name": "stdout",
     "output_type": "stream",
     "text": [
      "[800, 600, 450, 338, 253, 190, 142, 107, 62, 34]\n"
     ]
    }
   ],
   "source": [
    "players_by_level = [800, 600, 450, 338, 253, 190, 142, 107]\n",
    "players_by_level.append(62)  # добавьте значение 62\n",
    "players_by_level.append(34)  # добавьте значение 34\n",
    "print(players_by_level)"
   ]
  },
  {
   "cell_type": "code",
   "execution_count": 12,
   "id": "225c6b6d-d8ce-4070-9d56-ad9bb6903fc2",
   "metadata": {},
   "outputs": [
    {
     "name": "stdout",
     "output_type": "stream",
     "text": [
      "[450, 338, 253, 190]\n"
     ]
    }
   ],
   "source": [
    "players_by_level = [800, 600, 450, 338, 253, 190, 142, 107, 62, 34]\n",
    "players_mid_slice = players_by_level[2:6]\n",
    "print(players_mid_slice)"
   ]
  },
  {
   "cell_type": "code",
   "execution_count": 14,
   "id": "b1b3e1f5-a636-4b39-bea8-61f6a90b39a4",
   "metadata": {},
   "outputs": [
    {
     "name": "stdout",
     "output_type": "stream",
     "text": [
      "[190, 142, 107, 62, 34]\n"
     ]
    }
   ],
   "source": [
    "players_by_level = [800, 600, 450, 338, 253, 190, 142, 107, 62, 34]\n",
    "players_end_slice = players_by_level[-5:]\n",
    "print(players_end_slice)"
   ]
  },
  {
   "cell_type": "code",
   "execution_count": 34,
   "id": "9193be15-47e7-4450-a387-91c2a674b44f",
   "metadata": {},
   "outputs": [
    {
     "name": "stdout",
     "output_type": "stream",
     "text": [
      "[800, 600, 450, 338, 253, 190, 142, 107, 62, 34]\n"
     ]
    }
   ],
   "source": [
    "players_by_level = [800, 600, 450, 338, 253, 190, 142, 107]\n",
    "new_levels = [62, 34]\n",
    "players_by_level.extend(new_levels)\n",
    "print(players_by_level)"
   ]
  },
  {
   "cell_type": "code",
   "execution_count": 52,
   "id": "0d4027b8-4f77-4035-9f5e-9996762adcb7",
   "metadata": {},
   "outputs": [
    {
     "name": "stdout",
     "output_type": "stream",
     "text": [
      "[600, 450, 338, 253, 190, 142, 107]\n"
     ]
    }
   ],
   "source": [
    "players_by_level = [800, 600, 450, 338, 253, 190, 142, 107]\n",
    "first_level_players = players_by_level.pop(0) #Удалите данные о первом уровне\n",
    "\n",
    "print(players_by_level)"
   ]
  },
  {
   "cell_type": "code",
   "execution_count": 54,
   "id": "856cffd4-4517-43a8-96c0-d766d045aaf8",
   "metadata": {},
   "outputs": [
    {
     "name": "stdout",
     "output_type": "stream",
     "text": [
      "False\n"
     ]
    }
   ],
   "source": [
    "user_costs = [419, 445, 385, 561, 434, 445, 371, 423, 410, 373, 386]\n",
    "\n",
    "# напишите простое логическое условие внутри функции print\n",
    "print(  len(user_costs)>=15   )"
   ]
  },
  {
   "cell_type": "code",
   "execution_count": 56,
   "id": "6beb63fd-cab9-4d13-8f50-c2ba8babcb7b",
   "metadata": {},
   "outputs": [
    {
     "name": "stdout",
     "output_type": "stream",
     "text": [
      "True\n"
     ]
    }
   ],
   "source": [
    "users = [1359, 1674]\n",
    "buyers = [334, 510]\n",
    "\n",
    "# напишите код внутри функции print\n",
    "print( (buyers[0]/users[0]) < (buyers[1]/users[1]))"
   ]
  },
  {
   "cell_type": "code",
   "execution_count": 8,
   "id": "a40a0ff9-653d-40f0-be18-3bd0e8ef83d1",
   "metadata": {},
   "outputs": [
    {
     "name": "stdout",
     "output_type": "stream",
     "text": [
      "True\n"
     ]
    }
   ],
   "source": [
    "age = 62 # возраст посетителя\n",
    "gender = 'жен' # пол посетителя\n",
    "c = (age >=60 and gender == 'жен') or (age >= 65 and gender != 'жен')\n",
    "# напишите сложное логическое выражение внутри функции print\n",
    "print(c)"
   ]
  },
  {
   "cell_type": "code",
   "execution_count": 10,
   "id": "1ce520e0-aaab-4561-81e1-6b104a5aadcb",
   "metadata": {},
   "outputs": [
    {
     "name": "stdout",
     "output_type": "stream",
     "text": [
      "True\n"
     ]
    }
   ],
   "source": [
    "# сегменты пользователей\n",
    "segments = ['Новосибирск','Академгородок']\n",
    "\n",
    "# количество посетителей, согласно сегментам пользователей\n",
    "users = [3564, 547]\n",
    "\n",
    "# количество посетителей, оформивших заказ, согласно сегментам\n",
    "orders = [962, 175] \n",
    "\n",
    "# напишите сложное логические выражение внутри функции print\n",
    "print((orders[0]/users[0]>= 0.25) and (orders[1]/users[1]>= 0.31))"
   ]
  },
  {
   "cell_type": "code",
   "execution_count": 12,
   "id": "dbf202e4-79b3-46e7-ade7-f50c720ca814",
   "metadata": {},
   "outputs": [
    {
     "name": "stdout",
     "output_type": "stream",
     "text": [
      "Да\n"
     ]
    }
   ],
   "source": [
    "movie_info = ['Криминальное чтиво', 'США', 1994, 'триллер, комедия, криминал', 154, 8.619]\n",
    "if movie_info[4] > 120 and movie_info[1] == 'США':\n",
    "    print('Да')# напишите ваш код здесь"
   ]
  },
  {
   "cell_type": "code",
   "execution_count": 2,
   "id": "295a0abc-43db-4a91-8832-aed2632b0277",
   "metadata": {},
   "outputs": [
    {
     "name": "stdout",
     "output_type": "stream",
     "text": [
      "Il film e stato rilasciato in Italia.\n"
     ]
    }
   ],
   "source": [
    "movie_info = ['Хороший, плохой, злой', 'Италия', 1966, 'вестерн', 178, 8.521]\n",
    "if movie_info[1] == 'СССР':\n",
    "    print('Фильм вышел в СССР.')\n",
    "elif movie_info[1] == 'США':\n",
    "    print('The movie was released in USA.')\n",
    "elif movie_info[1] == 'Италия':\n",
    "    print('Il film e stato rilasciato in Italia.')\n",
    "else:\n",
    "    print('Страна не определена.')"
   ]
  },
  {
   "cell_type": "code",
   "execution_count": 6,
   "id": "c4bbf980-e508-4434-ad2e-3f1fbeb76f33",
   "metadata": {},
   "outputs": [
    {
     "name": "stdout",
     "output_type": "stream",
     "text": [
      "отличный рейтинг\n",
      "отличный рейтинг\n"
     ]
    }
   ],
   "source": [
    "movie_info = ['Сталкер', 'СССР', 1979, 'фантастика, драма, детектив', 163, 8.083]\n",
    "if movie_info[5] > 8:\n",
    "    print('отличный рейтинг')\n",
    "    rating_category = 'отличный рейтинг'\n",
    "elif movie_info[5] > 6:\n",
    "    print('хороший рейтинг')\n",
    "    rating_category = 'хороший рейтинг'\n",
    "elif 5 <= movie_info[5]<= 6:\n",
    "    print('средний рейтинг')\n",
    "    rating_category = 'средний рейтинг'\n",
    "elif movie_info[5] < 5:\n",
    "    print('низкий рейтинг')\n",
    "    rating_category = 'низкий рейтинг'\n",
    "else:\n",
    "    print('нет рейтинга')\n",
    "    rating_category = 'нет рейтинга'\n",
    " \n",
    "print(rating_category)"
   ]
  },
  {
   "cell_type": "code",
   "execution_count": 8,
   "id": "893a3e24-c960-4e34-9d1e-daafb7e057a3",
   "metadata": {},
   "outputs": [
    {
     "name": "stdout",
     "output_type": "stream",
     "text": [
      "отличный рейтинг\n"
     ]
    }
   ],
   "source": [
    "movie_info = ['Сталкер', 'СССР', 1979, 'фантастика, драма, детектив', 163, 8.083]\n",
    "if 8 < movie_info[5] <10:\n",
    "   rating_category = 'отличный рейтинг'\n",
    "elif 6 < movie_info[5] <= 8:\n",
    "    rating_category = 'хороший рейтинг'\n",
    "elif 5 <= movie_info[5]<= 6:\n",
    "    rating_category = 'средний рейтинг'\n",
    "elif 0 < movie_info[5] < 5:\n",
    "    rating_category = 'низкий рейтинг'\n",
    "elif movie_info[5] >= 10:\n",
    "    rating_category = 'нет рейтинга'\n",
    "elif movie_info[5] <= 0:\n",
    "    rating_category = 'нет рейтинга'\n",
    "else:\n",
    "    rating_category = 'нет рейтинга'\n",
    "\n",
    " \n",
    "print(rating_category)"
   ]
  },
  {
   "cell_type": "markdown",
   "id": "6ab6938b-877d-47ec-b335-af4aec1b5b65",
   "metadata": {},
   "source": [
    "# Циклы"
   ]
  },
  {
   "cell_type": "raw",
   "id": "470e5752-6f5f-4395-9112-376918bb1a66",
   "metadata": {},
   "source": [
    "Часто применяемый цикл Python для анализа данных — это for  — от английского «для». Он повторяет заданную последовательность инструкций для каждого итерируемого объекта, например, списка, кортежа, строки. \n"
   ]
  },
  {
   "cell_type": "code",
   "execution_count": 13,
   "id": "baa23555-eb5a-41ea-8d4f-75ae77b47bdf",
   "metadata": {},
   "outputs": [
    {
     "name": "stdout",
     "output_type": "stream",
     "text": [
      "Имя друга: Юля\n",
      "Имя друга: Гена\n",
      "Имя друга: Гоша\n",
      "Имя друга: Алиса\n",
      "Имя друга: Слава\n"
     ]
    }
   ],
   "source": [
    "friends = ['Юля', 'Гена', 'Гоша', 'Алиса', 'Слава'] # список друзей\n",
    "\n",
    "for friend in friends: # заголовок цикла\n",
    "    print('Имя друга:', friend) # тело цикла "
   ]
  },
  {
   "cell_type": "markdown",
   "id": "bd04497a-2ca0-442c-9c97-1f228884c117",
   "metadata": {},
   "source": [
    "# Цикл for и строки"
   ]
  },
  {
   "cell_type": "raw",
   "id": "030d9fe6-6caa-43b5-9488-3e9a0829a456",
   "metadata": {},
   "source": [
    "Циклы можно применять не только к спискам. Например, можно перебирать строки. В этом случае переменная-итератор будет последовательно принимать значение каждого элемента строки"
   ]
  },
  {
   "cell_type": "code",
   "execution_count": 23,
   "id": "60b75a07-93a4-47bb-bee9-8bd67cbd151d",
   "metadata": {},
   "outputs": [
    {
     "name": "stdout",
     "output_type": "stream",
     "text": [
      "П\n",
      "р\n",
      "и\n",
      "м\n",
      "е\n",
      "р\n",
      " \n",
      "с\n",
      "т\n",
      "р\n",
      "о\n",
      "к\n",
      "и\n"
     ]
    }
   ],
   "source": [
    "string = 'Пример строки'\n",
    "for symbol in string:\n",
    "    print(symbol) "
   ]
  },
  {
   "cell_type": "raw",
   "id": "509461b1-18b5-4537-85de-d3d990a27af2",
   "metadata": {},
   "source": [
    "Используя функцию range() в качестве последовательности значений, по которому движется итератор, мы можем определить необходимое количество итераций цикла:"
   ]
  },
  {
   "cell_type": "code",
   "execution_count": 25,
   "id": "23db37e9-d51e-4b59-b59e-ee55118a6f39",
   "metadata": {},
   "outputs": [
    {
     "name": "stdout",
     "output_type": "stream",
     "text": [
      "Значение итератора равно 0\n",
      "Значение итератора равно 1\n",
      "Значение итератора равно 2\n",
      "Значение итератора равно 3\n",
      "Значение итератора равно 4\n"
     ]
    }
   ],
   "source": [
    "for i in range(5): # зададим последовательность целых чисел - 0, 1, 2, 3, 4\n",
    "    print(f'Значение итератора равно {i}') "
   ]
  },
  {
   "cell_type": "code",
   "execution_count": 27,
   "id": "a68a8f9d-d2ec-4d56-9860-fb27b4dc8dc4",
   "metadata": {},
   "outputs": [
    {
     "name": "stdout",
     "output_type": "stream",
     "text": [
      "Стоимость товара в квартале 1 равна 105.0 руб.\n",
      "Стоимость товара в квартале 2 равна 110.25 руб.\n",
      "Стоимость товара в квартале 3 равна 115.76 руб.\n",
      "Стоимость товара в квартале 4 равна 121.55 руб.\n"
     ]
    }
   ],
   "source": [
    "price = 100 # исходная стоимость товара\n",
    "coeff = 1.05 # коэффициент увеличения стоимости на 5%\n",
    "\n",
    "for i in range(0,4): # в заголовке установим количество итераций, равное 4\n",
    "    price *= coeff # увеличиваем исходное значение на 5% на каждом шаге цикла\n",
    "    print(f'Стоимость товара в квартале {i+1} равна {round(price,2)} руб.') "
   ]
  },
  {
   "cell_type": "raw",
   "id": "ccffc770-75bf-4b4c-868e-da5ab91be25a",
   "metadata": {},
   "source": [
    "Если в функцию range() передать длину списка — результат работы функции len(), то последовательность чисел будет соответствовать индексам списка. Например, выведем знакомые нам имена друзей с помощью индекса элемента списка:"
   ]
  },
  {
   "cell_type": "code",
   "execution_count": 29,
   "id": "b32630ec-de23-40aa-9a80-b945545e3e86",
   "metadata": {},
   "outputs": [
    {
     "name": "stdout",
     "output_type": "stream",
     "text": [
      "Имя друга: Юля\n",
      "Имя друга: Гена\n",
      "Имя друга: Гоша\n",
      "Имя друга: Алиса\n",
      "Имя друга: Слава\n"
     ]
    }
   ],
   "source": [
    "friends = ['Юля', 'Гена', 'Гоша', 'Алиса', 'Слава'] \n",
    "\n",
    "for i in range(len(friends)): \n",
    "    print('Имя друга:', friends[i])"
   ]
  },
  {
   "cell_type": "code",
   "execution_count": 31,
   "id": "242ff53c-1c45-43a4-9478-37c40a6c6fba",
   "metadata": {},
   "outputs": [
    {
     "name": "stdout",
     "output_type": "stream",
     "text": [
      "П\n",
      "р\n",
      "и\n",
      "м\n",
      "е\n",
      "р\n",
      " \n",
      "с\n",
      "т\n",
      "р\n",
      "о\n",
      "к\n",
      "и\n"
     ]
    }
   ],
   "source": [
    "string = 'Пример строки'\n",
    "for symbol in range(len(string)):\n",
    "    print(string[symbol]) "
   ]
  },
  {
   "cell_type": "code",
   "execution_count": 33,
   "id": "ab745a84-ae6a-406f-8908-03af779c87ab",
   "metadata": {},
   "outputs": [
    {
     "name": "stdout",
     "output_type": "stream",
     "text": [
      "Значения списка prices до изменения: [1500, 3100, 7500, 4200]\n",
      "Результат изменения значений списка prices: [1400, 3000, 7400, 4100]\n"
     ]
    }
   ],
   "source": [
    "prices = [1500, 3100, 7500, 4200]\n",
    "print('Значения списка prices до изменения:', prices)\n",
    "\n",
    "# уменьшим каждое значение списка prices на 100 единиц:\n",
    "for i in range(len(prices)): \n",
    "     prices[i] -= 100\n",
    "print('Результат изменения значений списка prices:', prices) "
   ]
  },
  {
   "cell_type": "code",
   "execution_count": 39,
   "id": "8e5cdb26-a11e-44c3-b5ae-31e84d3b601c",
   "metadata": {},
   "outputs": [
    {
     "name": "stdout",
     "output_type": "stream",
     "text": [
      "Значения списка prices до изменения: [1500, 3100, 7500, 4200]\n",
      "1400\n",
      "3000\n",
      "7400\n",
      "4100\n"
     ]
    }
   ],
   "source": [
    "prices = [1500, 3100, 7500, 4200]\n",
    "print('Значения списка prices до изменения:', prices)\n",
    "\n",
    "# уменьшим каждое значение списка prices на 100 единиц:\n",
    "for i in prices: \n",
    "     print(i-100)\n"
   ]
  },
  {
   "cell_type": "markdown",
   "id": "3eedc303-b612-479f-8e35-b4dea4db6a6c",
   "metadata": {},
   "source": [
    "# Перебор определённого интервала индексов элементов списка в цикле"
   ]
  },
  {
   "cell_type": "raw",
   "id": "198f81b0-7f9e-497b-9763-df301fce4e04",
   "metadata": {},
   "source": [
    "С помощью функции range() можно перебрать заданный интервал индексов элементов множества. Для этого нужно передать в функцию range() два аргумента — начальное значение и конечное. Например, отобразим только первые три элемента списка друзей:\n",
    "\n"
   ]
  },
  {
   "cell_type": "code",
   "execution_count": 42,
   "id": "89a354d9-0a24-40cf-9b57-7db754341d7c",
   "metadata": {},
   "outputs": [
    {
     "name": "stdout",
     "output_type": "stream",
     "text": [
      "Имя друга: Юля\n",
      "Имя друга: Гена\n",
      "Имя друга: Гоша\n"
     ]
    }
   ],
   "source": [
    "friends = ['Юля', 'Гена', 'Гоша', 'Алиса', 'Слава'] \n",
    "\n",
    "for i in range(0,3): \n",
    "    print('Имя друга:', friends[i]) "
   ]
  },
  {
   "cell_type": "code",
   "execution_count": 2,
   "id": "83561416-c7d5-4a1f-8f0c-e36cca46e9f2",
   "metadata": {},
   "outputs": [
    {
     "name": "stdout",
     "output_type": "stream",
     "text": [
      "225.0\n",
      "262.5\n",
      "202.5\n",
      "298.5\n"
     ]
    }
   ],
   "source": [
    "prices = [150, 175, 135, 199]\n",
    "for i in prices:\n",
    "    new_price = i *1.5\n",
    "    print(new_price)"
   ]
  },
  {
   "cell_type": "code",
   "execution_count": 26,
   "id": "b6eb00dd-8298-42fa-9fd7-5164dc87ab7e",
   "metadata": {},
   "outputs": [
    {
     "name": "stdout",
     "output_type": "stream",
     "text": [
      "Марко Альбарелло\n",
      "Эрлинг Евне\n",
      "Кристер Майбекк\n",
      "Никлас Юнссон\n"
     ]
    }
   ],
   "source": [
    "participants = ['Вегард Ульванг', 'Бьёрн Дели', 'Терье Лангли', \n",
    "                'Марко Альбарелло', 'Эрлинг Евне', 'Кристер Майбекк', 'Никлас Юнссон']\n",
    "for i in range(3,7):\n",
    "    print(participants[i])"
   ]
  },
  {
   "cell_type": "code",
   "execution_count": 30,
   "id": "365db0f2-d382-49b1-9695-377f1fd5d9dc",
   "metadata": {},
   "outputs": [
    {
     "name": "stdout",
     "output_type": "stream",
     "text": [
      "[-7.7, -8.3, -4.3, 0.7, 6.5, 11.9, 16.2, 14.7, 10.4, 3.9, -0.5, -5.6]\n"
     ]
    }
   ],
   "source": [
    "temperature = [-77, -83, -43, 7, 65, 119, 162, 147, 104, 39, -5, -56]\n",
    "for i in range(len(temperature)):\n",
    "    temperature[i] /= 10\n",
    "print(temperature)"
   ]
  },
  {
   "cell_type": "markdown",
   "id": "8544e3bb-06b3-405b-9221-2016b5302c2b",
   "metadata": {},
   "source": [
    "# Циклы и строки. Вложенные циклы"
   ]
  },
  {
   "cell_type": "raw",
   "id": "39c9266a-8e3a-4ae8-8aee-1825d204783e",
   "metadata": {},
   "source": [
    "Перебор индексов элементов строки в цикле"
   ]
  },
  {
   "cell_type": "code",
   "execution_count": 3,
   "id": "7e47e6a0-9c9b-4596-9aa4-1a3b426d9182",
   "metadata": {},
   "outputs": [
    {
     "name": "stdout",
     "output_type": "stream",
     "text": [
      "001642"
     ]
    }
   ],
   "source": [
    "string = '001642 Кизильник цельнокрайний (обыкновенный), 50 кустов'\n",
    "for i in range(6): # переберём первые 6 элементов строки\n",
    "    print(string[i], end=\"\") "
   ]
  },
  {
   "cell_type": "raw",
   "id": "1db2a79d-854f-47e8-bf85-38cea23d9a2d",
   "metadata": {},
   "source": [
    "Такой перебор значений строки можно использовать для создания новой строки: изменим код выше и выделим номер заказа в отдельную строку order_id :"
   ]
  },
  {
   "cell_type": "code",
   "execution_count": 5,
   "id": "8a063272-4dff-4e07-9c8a-2a7050931f33",
   "metadata": {},
   "outputs": [
    {
     "name": "stdout",
     "output_type": "stream",
     "text": [
      "Номер заказа: 001642\n"
     ]
    }
   ],
   "source": [
    "\n",
    "string = '001642 Кизильник цельнокрайний (обыкновенный), 50 кустов'\n",
    "order_id = '' # зададим пустую строку\n",
    "for i in range(6): # переберём первые 6 элементов строки\n",
    "    order_id += string[i]\n",
    "print(f'Номер заказа: {order_id}') "
   ]
  },
  {
   "cell_type": "code",
   "execution_count": 7,
   "id": "c8d8ca38-25d3-4ef6-bc3b-53a5dbd6f071",
   "metadata": {},
   "outputs": [
    {
     "name": "stdout",
     "output_type": "stream",
     "text": [
      "Няндома\n"
     ]
    }
   ],
   "source": [
    "string = '164200, г. Няндома, Няндомский р-н, Архангельская обл.'\n",
    "result = ''\n",
    "for i in range(11,18):\n",
    "    result += string[i]\n",
    "print(result)"
   ]
  },
  {
   "cell_type": "markdown",
   "id": "b93a9cfa-3261-4330-8460-ae7b5393128e",
   "metadata": {},
   "source": [
    "# Изменение значений строки с помощью цикла"
   ]
  },
  {
   "cell_type": "raw",
   "id": "292876a7-9803-4e3a-a4da-573fe5e9c5ec",
   "metadata": {},
   "source": [
    "Например, приведём строку АП ЧЕХОВ к виду Чехов А.П.. Для этого будем придерживаться такого алгоритма:"
   ]
  },
  {
   "cell_type": "code",
   "execution_count": 10,
   "id": "9ff5c4bf-9591-4ed0-87df-3442dc3abd3a",
   "metadata": {},
   "outputs": [
    {
     "name": "stdout",
     "output_type": "stream",
     "text": [
      "Исходная строка: АП ЧЕХОВ\n",
      "Новая строка: Чехов А.П.\n"
     ]
    }
   ],
   "source": [
    "string = 'АП ЧЕХОВ' # исходная строка\n",
    "new_string = '' \n",
    "new_string += string[3].upper()\n",
    "\n",
    "for i in range(4, len(string)): \n",
    "    new_string += string[i].lower()\n",
    "\n",
    "new_string += ' '\n",
    "\n",
    "for i in range(0, 2): # добавим инициалы и после них точку\n",
    "    new_string += string[i].upper() + '.' \n",
    "\n",
    "print(f'Исходная строка: {string}')\n",
    "print(f'Новая строка: {new_string}') "
   ]
  },
  {
   "cell_type": "raw",
   "id": "6209b4ef-390e-48d0-a7c3-7a7b80df1699",
   "metadata": {},
   "source": [
    "Изменение значения исходной строки после определённого символа"
   ]
  },
  {
   "cell_type": "code",
   "execution_count": 14,
   "id": "849a22bb-1fa2-4d7e-8793-dd01eb15e61b",
   "metadata": {},
   "outputs": [
    {
     "name": "stdout",
     "output_type": "stream",
     "text": [
      "Фамилия автора: Стейнбек\n"
     ]
    }
   ],
   "source": [
    "author = 'Джон Стейнбек'\n",
    "\n",
    "space_position = ''\n",
    "for i in range(len(author)):\n",
    "    if author[i] == ' ': \n",
    "        space_position = i\n",
    "        \n",
    "last_name = '' # создадим новую пустую строку\n",
    "for i in range(space_position+1, len(author)): # объявим новый цикл\n",
    "    last_name += author[i] # сохраним значения исходной строки в новую строку\n",
    "\n",
    "print(f'Фамилия автора: {last_name}') "
   ]
  },
  {
   "cell_type": "markdown",
   "id": "86fab26e-db2e-470b-a180-ec367f1c0285",
   "metadata": {},
   "source": [
    "# Вложенные циклы"
   ]
  },
  {
   "cell_type": "code",
   "execution_count": 17,
   "id": "d278b46e-76e6-43b8-8ee5-e50d4ce1d6f9",
   "metadata": {},
   "outputs": [
    {
     "name": "stdout",
     "output_type": "stream",
     "text": [
      "Исходный список: ['АП ЧЕХОВ', 'ФМ ДосТОЕВский', 'ма шолохов']\n",
      "Новый список: ['Чехов А.П.', 'Достоевский Ф.М.', 'Шолохов М.А.']\n"
     ]
    }
   ],
   "source": [
    "names = ['АП ЧЕХОВ','ФМ ДосТОЕВский','ма шолохов']\n",
    "new_names = [] \n",
    "\n",
    "for name in names:\n",
    "    new_string = ''\n",
    "    new_string += name[3].upper()\n",
    "\n",
    "    for i in range(4, len(name)): \n",
    "        new_string += name[i].lower()\n",
    "\n",
    "    new_string += ' '\n",
    "\n",
    "    for i in range(0, 2): # добавим инициалы и после них точку\n",
    "        new_string += name[i].upper() + '.' \n",
    "    \n",
    "    new_names.append(new_string) # в теле основного цикла добавим строку в новый список\n",
    "\n",
    "print(f'Исходный список: {names}')\n",
    "print(f'Новый список: {new_names}') "
   ]
  },
  {
   "cell_type": "code",
   "execution_count": 31,
   "id": "7e208a66-fa9c-4f93-8c16-594e432bab72",
   "metadata": {},
   "outputs": [
    {
     "name": "stdout",
     "output_type": "stream",
     "text": [
      "354228\n"
     ]
    }
   ],
   "source": [
    "text = 'Фанера ФК 4 мм, размер 1525х1525 мм, сорт 3/4, инв.н. 354228, 5 шт.'\n",
    "number = ''\n",
    "for i in range(len(text)-13,len(text)-7):\n",
    "    number += text[i]\n",
    "        \n",
    "\n",
    "print(number) "
   ]
  },
  {
   "cell_type": "raw",
   "id": "4ee6fb34-3058-484b-83aa-f822f707028a",
   "metadata": {},
   "source": [
    "addresses = ['164200, г. Няндома, Няндомский р-н, Архангельская обл.',\n",
    "             '184703, пгт. Умба, Терский р-н, Мурманская обл.',\n",
    "             '601010, г. Киржач, Киржачский р-н, Владимирская обл.']\n",
    "indexes = []\n",
    "\n",
    "for i in addresses:\n",
    "    index = i.split(',')[0].strip()\n",
    "    indexes.append(index)\n",
    "    \n",
    "print(indexes)\n",
    "\n"
   ]
  },
  {
   "cell_type": "code",
   "execution_count": 45,
   "id": "63d47b67-495b-49c2-bf4d-e9bfd2ea5dfb",
   "metadata": {},
   "outputs": [
    {
     "name": "stdout",
     "output_type": "stream",
     "text": [
      "['164200', '184703', '601010']\n"
     ]
    }
   ],
   "source": [
    "addresses = ['164200, г. Няндома, Няндомский р-н, Архангельская обл.',\n",
    "             '184703, пгт. Умба, Терский р-н, Мурманской обл.',\n",
    "             '601010, г. Киржач, Киржачский р-н, Владимирская обл.']\n",
    "\n",
    "indexes = []\n",
    "\n",
    "for address in addresses:\n",
    "  index = ''\n",
    "  is_index_found = False  # Флаг, чтобы выйти из внутреннего цикла после нахождения индекса\n",
    "  for part in address.split(','):\n",
    "    part = part.strip()\n",
    "    if not is_index_found: # Проверяем, нашли ли мы уже индекс\n",
    "      index = part # Берем первую часть\n",
    "      is_index_found = True # Устанавливаем флаг\n",
    "      break # Выходим из внутреннего цикла, так как индекс найден\n",
    "  indexes.append(index)\n",
    "\n",
    "print(indexes)"
   ]
  },
  {
   "cell_type": "markdown",
   "id": "77e0fcca-904d-4593-b068-4533ed0d5ccd",
   "metadata": {},
   "source": [
    "# Продвинутые концепции. Функции и модули\n"
   ]
  },
  {
   "cell_type": "markdown",
   "id": "bf6da321-d0b2-40fc-87d5-b8e350450010",
   "metadata": {},
   "source": [
    "## Обработка списков в цикле"
   ]
  },
  {
   "cell_type": "raw",
   "id": "dc18ddfa-27e5-4f72-b76c-725468118062",
   "metadata": {},
   "source": [
    "Циклы можно использовать не только для вывода значений элементов списка или их преобразования, но и для обработки значений при группировке данных. Например, нужно подсчитать сумму или произведение элементов списка, найти минимальное или максимальное значение или выполнить другое математическое действие. Часто при выполнении подобных вычислений на основе исходных списков создаются новые. "
   ]
  },
  {
   "cell_type": "code",
   "execution_count": 4,
   "id": "540a8716-d045-4d7f-b6ed-ea928c553158",
   "metadata": {},
   "outputs": [
    {
     "name": "stdout",
     "output_type": "stream",
     "text": [
      "1768\n"
     ]
    }
   ],
   "source": [
    "movies_duration = [142, 175, 152, 195, 201, 154, 178, 139, 133, 163, 136]\n",
    "total_duration = 0 # создадим переменную-счётчик\n",
    "\n",
    "for duration in movies_duration:\n",
    "    total_duration += duration\n",
    "\n",
    "print(total_duration) "
   ]
  },
  {
   "cell_type": "raw",
   "id": "137a9dd9-f770-498a-9621-d326e3b5dd3c",
   "metadata": {},
   "source": [
    "Другое преимущество Python — встроенные методы. Расчёты суммы и произведения встречаются в работе аналитика так часто, что для них в языке есть готовые функции. На практике в таких задачах вам не придётся каждый раз писать цикл:"
   ]
  },
  {
   "cell_type": "raw",
   "id": "5adcffe7-1ce7-4004-b7fe-95b64d64dc66",
   "metadata": {},
   "source": [
    "Использование встроенной функции sum() для суммирования значений: функция sum() — «сумма» принимает в качестве аргумента список и возвращает сумму его элементов:"
   ]
  },
  {
   "cell_type": "code",
   "execution_count": 6,
   "id": "b5406952-43d4-43a7-813a-b59ab168dea2",
   "metadata": {},
   "outputs": [
    {
     "name": "stdout",
     "output_type": "stream",
     "text": [
      "1768\n"
     ]
    }
   ],
   "source": [
    "movies_duration = [142, 175, 152, 195, 201, 154, 178, 139, 133, 163, 136]\n",
    "total_duration = sum(movies_duration)\n",
    "print(total_duration) "
   ]
  },
  {
   "cell_type": "raw",
   "id": "d3e720bb-e78e-4b15-ae5a-3d88cc4aabcf",
   "metadata": {},
   "source": [
    "Использование функции prod() для произведения значений: аналогично работает функция для расчёта произведения — prod() — от англ. product, «произведение». Она встроена в модуль math — придётся его импортировать:"
   ]
  },
  {
   "cell_type": "code",
   "execution_count": 10,
   "id": "240b5164-d5b5-41de-b3ee-9427241b8664",
   "metadata": {},
   "outputs": [
    {
     "name": "stdout",
     "output_type": "stream",
     "text": [
      "1663161131763038875968000\n"
     ]
    }
   ],
   "source": [
    "import math \n",
    "\n",
    "movies_duration = [142, 175, 152, 195, 201, 154, 178, 139, 133, 163, 136]\n",
    "mult_duration = math.prod(movies_duration)\n",
    "print(mult_duration) "
   ]
  },
  {
   "cell_type": "raw",
   "id": "6041a316-9edd-4d4b-b077-35d93a4a3745",
   "metadata": {},
   "source": [
    "Максимум и минимум\n",
    "Чтобы найти максимальное значение, мало цикла — ещё нужна условная конструкция с if  — «если». С ней вы уже встречались в предыдущих темах.\n"
   ]
  },
  {
   "cell_type": "code",
   "execution_count": 12,
   "id": "1d4a5ab4-a510-4e31-8c12-8bb320fe17ee",
   "metadata": {},
   "outputs": [
    {
     "name": "stdout",
     "output_type": "stream",
     "text": [
      "201\n"
     ]
    }
   ],
   "source": [
    "movies_duration = [142, 175, 152, 195, 201, 154, 178, 139, 133, 163, 136]\n",
    "max_value = movies_duration[0]\n",
    "\n",
    "for duration in movies_duration:\n",
    "    if duration > max_value:\n",
    "        max_value = duration\n",
    "\n",
    "print(max_value) "
   ]
  },
  {
   "cell_type": "raw",
   "id": "45a7fe1c-9105-4a1d-ab97-3ddbfedac7e6",
   "metadata": {},
   "source": [
    "В Python также есть встроенные функции, которые находят минимальное — min()  — «минимум» и максимальное max()  — «максимум» значения из списка значений. Чтобы воспользоваться этими функциями, передадим им список:"
   ]
  },
  {
   "cell_type": "code",
   "execution_count": 18,
   "id": "e106352d-9a3c-4243-9d54-cf9744467f32",
   "metadata": {},
   "outputs": [
    {
     "name": "stdout",
     "output_type": "stream",
     "text": [
      "Максимальное значение - 201 \n",
      "Минимальное значение - 133\n"
     ]
    }
   ],
   "source": [
    "movies_duration = [142, 175, 152, 195, 201, 154, 178, 139, 133, 163, 136]\n",
    "max_duration = max(movies_duration)\n",
    "min_duration = min(movies_duration)\n",
    "print(f'Максимальное значение - {max_duration} \\nМинимальное значение - {min_duration}') "
   ]
  },
  {
   "cell_type": "raw",
   "id": "baefa21c-f3e5-481b-a176-9c86b164dab8",
   "metadata": {},
   "source": [
    "Представьте, что нам нужно найти самую низкую цену товара среди дорогих товаров. У нас есть несколько условий для цикла. Найдём самую низкую стоимость товара среди значений, состоящих из четырёх и более знаков:"
   ]
  },
  {
   "cell_type": "code",
   "execution_count": 20,
   "id": "0da685ec-74b1-4192-a1f1-0f46d023c627",
   "metadata": {},
   "outputs": [
    {
     "name": "stdout",
     "output_type": "stream",
     "text": [
      "1105\n"
     ]
    }
   ],
   "source": [
    "values = [750, 341, 950, 899, 159, 3550, 1500, 1105, 1999]\n",
    "min_value = max(values)\n",
    "\n",
    "for value in values:\n",
    "    if value > 1000:\n",
    "        if value < min_value:\n",
    "            min_value = value\n",
    "\n",
    "print(min_value) "
   ]
  },
  {
   "cell_type": "raw",
   "id": "cd917bac-e943-48bb-ba08-8406a2c0ba05",
   "metadata": {},
   "source": [
    "Если решать задачу с помощью цикла, что ему лучше перебирать? Исходите из того, что по задаче нам нужно создать новый список, а изменять значения в старом нет необходимости.\n",
    "\n",
    "\n",
    "Правильный ответ\n",
    "Значения исходного списка\n",
    "Верно! По условиям задачи нужно создать новый список. Тогда цикл с перебором элементов получится лаконичнее, чем с перебором индексов.\n",
    "\n"
   ]
  },
  {
   "cell_type": "code",
   "execution_count": 22,
   "id": "1333a3cb-b747-475e-8b42-023644942926",
   "metadata": {},
   "outputs": [
    {
     "name": "stdout",
     "output_type": "stream",
     "text": [
      "Список длин сторон квадратов: [2, 10, 20, 3]\n",
      "Список площадей квадратов: [4, 100, 400, 9]\n"
     ]
    }
   ],
   "source": [
    "sides = [2, 10, 20, 3]\n",
    "\n",
    "# создаём пустой список\n",
    "squares = [] \n",
    "# объявляем цикл for, \n",
    "# который перебирает элементы списка sides\n",
    "for side in sides: \n",
    "    # добавляем к squares \n",
    "    # квадрат очередного элемента\n",
    "    squares.append(side ** 2) \n",
    "    \n",
    "# после цикла «печатаем» результат\n",
    "print('Список длин сторон квадратов:', sides)\n",
    "print('Список площадей квадратов:', squares) "
   ]
  },
  {
   "cell_type": "raw",
   "id": "558011bc-0ea9-4c57-baaa-d2cffef023a6",
   "metadata": {},
   "source": [
    "Если бы задача состояла в изменении исходного списка, помогла бы функция range():"
   ]
  },
  {
   "cell_type": "code",
   "execution_count": 24,
   "id": "74f1757f-d274-45a6-87dc-babfcb453f22",
   "metadata": {},
   "outputs": [
    {
     "name": "stdout",
     "output_type": "stream",
     "text": [
      "Список длин сторон квадратов: [2, 10, 20, 3]\n",
      "Список превратился в список площадей квадратов: [4, 100, 400, 9]\n"
     ]
    }
   ],
   "source": [
    "sides = [2, 10, 20, 3]\n",
    "\n",
    "# выведем значения списка до цикла\n",
    "print('Список длин сторон квадратов:', sides) \n",
    "\n",
    "# пройдёмся по индексам списка sides: 0, 1, 2, 3\n",
    "for i in range(len(sides)):  \n",
    "    # на каждом шаге обращаемся \n",
    "    # к очередному элементу списка и заменяем его \n",
    "    # на квадрат этого же элемента\n",
    "    sides[i] = sides[i] ** 2 \n",
    "\n",
    "# после цикла «печатаем» результат\n",
    "print('Список превратился в список площадей квадратов:', sides)  "
   ]
  },
  {
   "cell_type": "raw",
   "id": "6aef99de-0282-467d-96ec-5515d726d5a8",
   "metadata": {},
   "source": [
    "Факториал числа n — произведение всех целых чисел от 1 до n. Факториал означают так: !. Например, факториал числа 5:"
   ]
  },
  {
   "cell_type": "code",
   "execution_count": 28,
   "id": "5dc08d2f-92cb-4bbe-98a0-9ac8a5fb8af7",
   "metadata": {},
   "outputs": [
    {
     "name": "stdout",
     "output_type": "stream",
     "text": [
      "40320\n"
     ]
    }
   ],
   "source": [
    "number = 8 \n",
    "fact = 1 \n",
    "for i in range(1, number + 1): \n",
    "    fact *= i \n",
    "print(fact)"
   ]
  },
  {
   "cell_type": "markdown",
   "id": "2d94974f-cdae-4010-a226-6e066f1ff99a",
   "metadata": {},
   "source": [
    "# Подсчёт количества значений в строке"
   ]
  },
  {
   "cell_type": "raw",
   "id": "c54520ff-d07a-42db-8029-d2cfbb8248bf",
   "metadata": {},
   "source": [
    "Счётчик, который мы использовали в примерах выше, можно также применять для подсчёта значений в строке. Например, подсчитаем, сколько знаков в строке и сколько из них — буква о:\n"
   ]
  },
  {
   "cell_type": "code",
   "execution_count": 31,
   "id": "cb016d41-3cd8-4b86-89ad-da56d7821750",
   "metadata": {},
   "outputs": [
    {
     "name": "stdout",
     "output_type": "stream",
     "text": [
      "Всего в строке 14 знаков, из них 5 букв \"о\"\n"
     ]
    }
   ],
   "source": [
    "text = 'Коровье молоко'\n",
    "# счётчик, подсчитывающий общее количество символов\n",
    "total_letters = 0 \n",
    "\n",
    "# счётчик, подсчитывающий количество букв о\n",
    "letter_o_cnt = 0 \n",
    "\n",
    "for letter in text:\n",
    "    # на каждом шаге увеличиваем счётчик символов\n",
    "    total_letters += 1 \n",
    "    # проверяем в условном выражении, является ли итератор буквой о\n",
    "    if letter.lower() == 'о': \n",
    "        letter_o_cnt += 1       \n",
    "    \n",
    "print(f'Всего в строке {total_letters} знаков, из них {letter_o_cnt} букв \"о\"') "
   ]
  },
  {
   "cell_type": "markdown",
   "id": "8aaf5a72-f849-4147-a409-249154d7e403",
   "metadata": {},
   "source": [
    "# Индекс и значение элемента из списка. Функция enumerate()"
   ]
  },
  {
   "cell_type": "raw",
   "id": "0d01c7f9-4b40-4a29-846f-1a615485d48b",
   "metadata": {},
   "source": [
    "Иногда, чтобы решить аналитическую задачу, нужно извлечь из списка и индекс элемента, и его значение. Например, для изменения исходных значений в списке, создания отдельных списков или словарей на основе существующих, для ранжирования данных или проведения сложных расчётов. В этом поможет функция enumerate()  — «перечислять». "
   ]
  },
  {
   "cell_type": "code",
   "execution_count": 4,
   "id": "42dd4bfa-988a-4c0d-b2d9-5b874983e686",
   "metadata": {},
   "outputs": [
    {
     "name": "stdout",
     "output_type": "stream",
     "text": [
      "(0, 'Дуб')\n",
      "(1, 'Береза')\n",
      "(2, 'Сосна')\n",
      "(3, 'Ель')\n"
     ]
    }
   ],
   "source": [
    "trees = ['Дуб','Береза','Сосна','Ель']\n",
    "\n",
    "for i in enumerate(trees):\n",
    "      print(i) "
   ]
  },
  {
   "cell_type": "raw",
   "id": "9845860d-90e9-4a9e-8587-3fa9726a93ec",
   "metadata": {},
   "source": [
    "Здесь каждый элемент исходного списка trees представлен кортежем с индексом этого элемента и его значением, например, (0, 'Дуб'). \n",
    "Поскольку в каждом кортеже два значения, то для их использования в цикле следует вместо одной переменной-итератора задать две: \n",
    "первая будет отображать индекс элемента (i);\n",
    "а вторая — его значение (tree)."
   ]
  },
  {
   "cell_type": "code",
   "execution_count": 6,
   "id": "afb06090-877c-4fe7-b7b1-451ee5e41352",
   "metadata": {},
   "outputs": [
    {
     "name": "stdout",
     "output_type": "stream",
     "text": [
      "Дерево с индексом 0 в списке - Яблоня\n",
      "Дерево с индексом 1 в списке - Ясень\n",
      "Дерево с индексом 2 в списке - Черёмуха\n",
      "Дерево с индексом 3 в списке - Ирга\n"
     ]
    }
   ],
   "source": [
    "trees = ['Яблоня','Ясень','Черёмуха','Ирга']\n",
    "\n",
    "for i, tree in enumerate(trees): # зададим две переменные-итератора\n",
    "    print(f\"Дерево с индексом {i} в списке - {tree}\") "
   ]
  },
  {
   "cell_type": "code",
   "execution_count": 8,
   "id": "8f7df7fd-27e7-4ff2-86fb-e3078a35628a",
   "metadata": {},
   "outputs": [
    {
     "name": "stdout",
     "output_type": "stream",
     "text": [
      "Значения списка prices до изменения: [1500, 3100, 7500, 4200]\n",
      "Результат изменения значений списка prices: [1400, 3000, 7400, 4100]\n"
     ]
    }
   ],
   "source": [
    "prices = [1500, 3100, 7500, 4200]\n",
    "print('Значения списка prices до изменения:', prices)\n",
    "\n",
    "# уменьшим каждое значение списка prices на 100 единиц:\n",
    "for i, price in enumerate(prices):\n",
    "     prices[i] = price - 100\n",
    "print('Результат изменения значений списка prices:', prices) "
   ]
  },
  {
   "cell_type": "raw",
   "id": "aeeb9569-6c6c-45b0-86ff-782f61a9c154",
   "metadata": {},
   "source": [
    "Разберём работу скрипта:\n",
    "Определение исходного списка: в этом блоке был определён список prices с исходными значениями — prices = [1500, 3100, 7500, 4200]. Далее использована функция print() для вывода на экран исходных значений списка.\n",
    "Объявление цикла for: далее был объявлен цикл for i, price in enumerate(prices):, в котором в заголовке используется функция enumerate(). На каждой итерации цикла функция enumerate() генерирует кортеж из двух значений — индекс элемента и его значение. В заголовке цикла определены две переменных-итератора: первая переменная-итератор i будет принимать значение индекса элемента списка, а вторая переменная-итератор price — значение элемента списка.\n",
    "Тело цикла: в теле цикла прописана инструкция, которая, используя индекс элемента списка (prices[i]), изменяет его значение за счёт математической операции с исходным значением элемента списка — price - 100.\n",
    "Вывод на экран изменённых значений списка: в завершении использована функция print() для вывода на экран значений списка после изменения."
   ]
  },
  {
   "cell_type": "code",
   "execution_count": 10,
   "id": "771444e8-9c85-445e-9d7f-d7d5e2e55d60",
   "metadata": {},
   "outputs": [
    {
     "name": "stdout",
     "output_type": "stream",
     "text": [
      "0 Комедии 1 Мультфильмы 2 Фантастика 3 Фэнтези 4 Семейные "
     ]
    }
   ],
   "source": [
    "categories = ['Комедии', 'Мультфильмы', 'Фантастика', 'Фэнтези', 'Семейные']\n",
    "\n",
    "for i, category in enumerate(categories):\n",
    "    print(i, category, end=' ') "
   ]
  },
  {
   "cell_type": "raw",
   "id": "07982dce-792b-44dd-b675-46d537719bce",
   "metadata": {},
   "source": [
    "enumerate() предпочтительнее использовать при переборе и изменении элементов по их индексу вместо конструкции range(len(some_list)), которую мы использовали для примеров в предыдущих уроках. В"
   ]
  },
  {
   "cell_type": "code",
   "execution_count": 12,
   "id": "a8830e83-2a7b-4e4e-8682-def75f87e841",
   "metadata": {},
   "outputs": [
    {
     "name": "stdout",
     "output_type": "stream",
     "text": [
      "[1400, 3000, 7400, 4100]\n",
      "[1400, 3000, 7400, 4100]\n"
     ]
    }
   ],
   "source": [
    "prices_a = [1500, 3100, 7500, 4200]\n",
    "prices_b = [1500, 3100, 7500, 4200]\n",
    "\n",
    "# уменьшим каждое значение списка prices на 100 единиц, используя enumerate:\n",
    "for i, price in enumerate(prices_a):\n",
    "     prices_a[i] = price - 100\n",
    "\n",
    "# уменьшим каждое значение списка prices на 100 единиц, используя range(len(prices)):\n",
    "for i in range(len(prices_b)):\n",
    "     prices_b[i] = prices_b[i] - 100\n",
    "        \n",
    "print(prices_a)\n",
    "print(prices_b) "
   ]
  },
  {
   "cell_type": "raw",
   "id": "908b18b2-a96f-4f2e-8f1a-2074ff58107c",
   "metadata": {},
   "source": [
    "Функция enumerate()имеет дополнительный параметр start, который позволяет задать начало нумерации значений. По умолчанию этот параметр равен 0. Такой подход может быть полезным для составления нумерованных списков, где необходимо задать отличное от 0 начальное значение. "
   ]
  },
  {
   "cell_type": "code",
   "execution_count": 14,
   "id": "3d35a3b9-dfbc-4f1e-b0d1-87f0b8b8b188",
   "metadata": {},
   "outputs": [
    {
     "name": "stdout",
     "output_type": "stream",
     "text": [
      "Этап воронки 1: registration\n",
      "Этап воронки 2: login\n",
      "Этап воронки 3: main_page\n",
      "Этап воронки 4: product_page\n",
      "Этап воронки 5: purchase_page\n"
     ]
    }
   ],
   "source": [
    "funnel = ['registration','login','main_page','product_page','purchase_page']\n",
    "\n",
    "for i, stage in enumerate(funnel, start=1):\n",
    "    print(f'Этап воронки {i}: {stage}') "
   ]
  },
  {
   "cell_type": "markdown",
   "id": "34b93639-0d7c-4b3d-865e-2e69cbeda973",
   "metadata": {},
   "source": [
    "# Использование в цикле нескольких списков. Функция zip()"
   ]
  },
  {
   "cell_type": "raw",
   "id": "b9fb9ac7-5f1f-4737-9da7-ec3a18854bea",
   "metadata": {},
   "source": [
    "В цикле можно использовать несколько списков, если их предварительно объединить. Например, в одном списке содержится информация о товаре, а во втором — его стоимость. Чтобы вывести для каждого товара его стоимость в цикле, можно использовать в заголовке цикла функцию zip()  — «упаковывать». "
   ]
  },
  {
   "cell_type": "raw",
   "id": "a18cc118-fb70-4e71-919f-9ed550b7ce2b",
   "metadata": {},
   "source": [
    "Функция zip() принимает в качестве аргумента список итерируемых объектов, элементы которых с одинаковым индексом будут объединены в кортеж. В результате будет создано множество кортежей, объединённых в zip-объект: "
   ]
  },
  {
   "cell_type": "code",
   "execution_count": 17,
   "id": "ef1fef68-e969-4fde-95ec-371000b67b34",
   "metadata": {},
   "outputs": [
    {
     "name": "stdout",
     "output_type": "stream",
     "text": [
      "('Яблоня', 10000)\n",
      "('Ясень', 15000)\n",
      "('Черёмуха', 13000)\n",
      "('Ирга', 14000)\n"
     ]
    }
   ],
   "source": [
    "trees = ['Яблоня','Ясень','Черёмуха','Ирга']\n",
    "prices = [10000, 15000, 13000, 14000]\n",
    "\n",
    "# выведем значения zip-объекта, объединяющие два списка:\n",
    "for i in zip(trees, prices):\n",
    "     print(i) "
   ]
  },
  {
   "cell_type": "raw",
   "id": "37c0d037-58a5-457b-bce8-336ff95e0034",
   "metadata": {},
   "source": [
    "Для перебора кортежей, сформированных функцией zip() при объединении нескольких списков, можно использовать цикл for с несколькими переменными итераторами в заголовке:"
   ]
  },
  {
   "cell_type": "code",
   "execution_count": 19,
   "id": "ccc8c208-a754-4cfd-a4ee-e89f130331a8",
   "metadata": {},
   "outputs": [
    {
     "name": "stdout",
     "output_type": "stream",
     "text": [
      "Яблоня, стоимость 10000 руб.\n",
      "Ясень, стоимость 15000 руб.\n",
      "Черёмуха, стоимость 13000 руб.\n",
      "Ирга, стоимость 14000 руб.\n"
     ]
    }
   ],
   "source": [
    "trees = ['Яблоня','Ясень','Черёмуха','Ирга']\n",
    "prices = [10000, 15000, 13000, 14000]\n",
    "\n",
    "for tree, price in zip(trees, prices):\n",
    "     print(f'{tree}, стоимость {price} руб.') "
   ]
  },
  {
   "cell_type": "raw",
   "id": "0df38793-1046-4678-946e-9f2a8fe99e4a",
   "metadata": {},
   "source": [
    "С помощью функции zip() можно объединять более двух списков. Например, объединим название товара, его стоимость и место реализации, если оно есть:"
   ]
  },
  {
   "cell_type": "code",
   "execution_count": 21,
   "id": "956d7d5e-3663-4a53-ab85-14a5ef2c7102",
   "metadata": {},
   "outputs": [
    {
     "name": "stdout",
     "output_type": "stream",
     "text": [
      "Яблоня, стоимость 10000 руб., магазин: Алексеевка\n",
      "Ясень, стоимость 15000 руб., магазин: Заречное\n"
     ]
    }
   ],
   "source": [
    "trees = ['Яблоня','Ясень','Черёмуха','Ирга']\n",
    "prices = [10000, 15000, 13000, 14000]\n",
    "markets = ['Алексеевка','Заречное']\n",
    "\n",
    "# объединим списки:\n",
    "for tree, price, market in zip(trees, prices, markets):\n",
    "    print(f'{tree}, стоимость {price} руб., магазин: {market}') "
   ]
  },
  {
   "cell_type": "raw",
   "id": "f415d54a-2889-4e81-a437-42ff3c3a01c3",
   "metadata": {},
   "source": [
    "У функции zip() есть важная особенность: если количество элементов в циклах будет разным, то итоговое количество кортежей будет соответствовать количеству элементов в наикратчайшем из списков."
   ]
  },
  {
   "cell_type": "code",
   "execution_count": 23,
   "id": "6c476f09-65d4-43b8-a530-51e1d2e932f5",
   "metadata": {},
   "outputs": [
    {
     "name": "stdout",
     "output_type": "stream",
     "text": [
      "Яблоня, стоимость 10000 руб., магазин: Алексеевка\n",
      "Ясень, стоимость 15000 руб., магазин: Заречное\n",
      "Черёмуха, стоимость 13000 руб., магазин: None\n",
      "Ирга, стоимость 14000 руб., магазин: None\n"
     ]
    }
   ],
   "source": [
    "import itertools # импортируем модуль itertools \n",
    "\n",
    "trees = ['Яблоня','Ясень','Черёмуха','Ирга']\n",
    "prices = [10000, 15000, 13000, 14000]\n",
    "markets = ['Алексеевка','Заречное']\n",
    "\n",
    "# уменьшим каждое значение списка prices на 100 единиц:\n",
    "for tree, price, market in itertools.zip_longest(trees, prices, markets):\n",
    "    print(f'{tree}, стоимость {price} руб., магазин: {market}') "
   ]
  },
  {
   "cell_type": "raw",
   "id": "5ba7a4ae-89b9-4635-8747-10361fb549db",
   "metadata": {},
   "source": [
    "В функцию zip_longest() можно передать аргумент, который будет заполнять пропущенные значения: fillvalue:"
   ]
  },
  {
   "cell_type": "code",
   "execution_count": 25,
   "id": "df4c01a3-45aa-41f5-8bb5-5d726d96e224",
   "metadata": {},
   "outputs": [
    {
     "name": "stdout",
     "output_type": "stream",
     "text": [
      "Яблоня, стоимость 10000 руб., магазин: Алексеевка\n",
      "Ясень, стоимость 15000 руб., магазин: Заречное\n",
      "Черёмуха, стоимость 13000 руб., магазин: Нет данных\n",
      "Ирга, стоимость 14000 руб., магазин: Нет данных\n"
     ]
    }
   ],
   "source": [
    "import itertools\n",
    "\n",
    "trees = ['Яблоня','Ясень','Черёмуха','Ирга']\n",
    "prices = [10000, 15000, 13000, 14000]\n",
    "markets = ['Алексеевка','Заречное']\n",
    "\n",
    "# Выведем совместно значения списков:\n",
    "for tree, price, market in itertools.zip_longest(trees, prices, markets, fillvalue='Нет данных'):\n",
    "    print(f'{tree}, стоимость {price} руб., магазин: {market}') "
   ]
  },
  {
   "cell_type": "markdown",
   "id": "7cb2bd2d-0509-41c6-b335-5829158a8c94",
   "metadata": {},
   "source": [
    "# Циклы с неизвестным количеством итераций"
   ]
  },
  {
   "cell_type": "code",
   "execution_count": 3,
   "id": "162f9364-6447-412d-8683-9b8b2caf71cf",
   "metadata": {},
   "outputs": [
    {
     "name": "stdout",
     "output_type": "stream",
     "text": [
      "Значение переменной n = 1\n",
      "Значение переменной n = 2\n",
      "Значение переменной n = 3\n",
      "Значение переменной n = 4\n",
      "Инструкция после цикла: цикл окончен\n"
     ]
    }
   ],
   "source": [
    "n = 1\n",
    "\n",
    "# объявим цикл while\n",
    "while n < 5: # заголовок цикла\n",
    "    print(f'Значение переменной n = {n}') # тело цикла\n",
    "    n = n+1\n",
    "\n",
    "print('Инструкция после цикла: цикл окончен') "
   ]
  },
  {
   "cell_type": "code",
   "execution_count": 5,
   "id": "f31bd20c-e946-41a9-bc4c-dcfc9489b8c9",
   "metadata": {},
   "outputs": [
    {
     "name": "stdout",
     "output_type": "stream",
     "text": [
      "Осталось 68 см упаковочной бумаги\n",
      "Осталось 36 см упаковочной бумаги\n",
      "Осталось 4 см упаковочной бумаги\n"
     ]
    }
   ],
   "source": [
    "length = 100 # переменная, которая задаёт общую длину бумаги\n",
    "\n",
    "# объявим цикл while\n",
    "while length > 32: # условие, которое проверяет хватит ли бумаги на подарок\n",
    "    length -= 32 # изменение переменной на каждой итерации\n",
    "    print(f'Осталось {length} см упаковочной бумаги') "
   ]
  },
  {
   "cell_type": "raw",
   "id": "57561588-2d68-4a46-aa8e-1efc2e9662cf",
   "metadata": {},
   "source": [
    "На практике аналитики часто используют цикл while вместе с переменной, которая подсчитывает количество итераций, а в условии прописывают необходимое их количество. "
   ]
  },
  {
   "cell_type": "code",
   "execution_count": 7,
   "id": "cc718437-ddd1-4f78-a07c-125e17f3d64d",
   "metadata": {},
   "outputs": [
    {
     "name": "stdout",
     "output_type": "stream",
     "text": [
      "Подарок 1, израсходовано 32 см упаковочной бумаги\n",
      "Подарок 2, израсходовано 64 см упаковочной бумаги\n",
      "Подарок 3, израсходовано 96 см упаковочной бумаги\n",
      "Подарок 4, израсходовано 128 см упаковочной бумаги\n",
      "Подарок 5, израсходовано 160 см упаковочной бумаги\n",
      "Результат: для 5 подарков нужно 160 см упаковочной бумаги\n"
     ]
    }
   ],
   "source": [
    "length = 0 # зададим переменную, которая будет учитывать затраченную длину бумаги\n",
    "n = 1 # зададим начальное количество итераций - количество подарков\n",
    "\n",
    "# объявим цикл\n",
    "while n <= 5: # условие, которое проверяет значение перменной 'n'\n",
    "    length += 32 # на каждой итерации к значению length будет добавлено 32\n",
    "    print(f'Подарок {n}, израсходовано {length} см упаковочной бумаги')\n",
    "    n += 1 # увеличиваем счётчик итераций на 1\n",
    "\n",
    "print(f'Результат: для {n-1} подарков нужно {length} см упаковочной бумаги') "
   ]
  },
  {
   "cell_type": "code",
   "execution_count": 9,
   "id": "80dd202d-d4c5-4e92-9e88-462e03c1f2cc",
   "metadata": {},
   "outputs": [
    {
     "name": "stdout",
     "output_type": "stream",
     "text": [
      "Месяц 1, процент по вкладу 566.67, сумма вклада с капитализацией 100566.67\n",
      "Месяц 2, процент по вкладу 569.88, сумма вклада с капитализацией 101136.54\n",
      "Месяц 3, процент по вкладу 573.11, сумма вклада с капитализацией 101709.65\n",
      "Месяц 4, процент по вкладу 576.35, сумма вклада с капитализацией 102286.01\n",
      "Месяц 5, процент по вкладу 579.62, сумма вклада с капитализацией 102865.63\n",
      "Месяц 6, процент по вкладу 582.91, сумма вклада с капитализацией 103448.53\n"
     ]
    }
   ],
   "source": [
    "deposit = 100000 # сумма вклада\n",
    "annual_rate = 0.068 # годовая процентная ставка в долях \n",
    "time = 6 # срок вклада в месяцах\n",
    "\n",
    "month = 1 # установим счётчик месяцев\n",
    "\n",
    "while month <= time: # объявим цикл\n",
    "    dep_interest = deposit * annual_rate / 12 # рассчитаем начисленный процент по вкладу\n",
    "    deposit += dep_interest # увеличим размер вклада на значение процента по вкладу \n",
    "    print(f'Месяц {month}, процент по вкладу {round(dep_interest, 2)}, сумма вклада с капитализацией {round(deposit, 2)}')\n",
    "    month += 1 "
   ]
  },
  {
   "cell_type": "raw",
   "id": "211fb5e3-b516-4e1b-aebb-9c5d04af8eff",
   "metadata": {},
   "source": [
    "В примере выше мы задали шесть итераций, подразумевая 6 месяцев. В этом случае можно также использовать цикл for:"
   ]
  },
  {
   "cell_type": "code",
   "execution_count": 11,
   "id": "f8cb6e12-86cf-4014-b7c4-7975e758da0f",
   "metadata": {},
   "outputs": [
    {
     "name": "stdout",
     "output_type": "stream",
     "text": [
      "Месяц 1, процент по вкладу 566.67, сумма вклада с капитализацией 100566.67\n",
      "Месяц 2, процент по вкладу 569.88, сумма вклада с капитализацией 101136.54\n",
      "Месяц 3, процент по вкладу 573.11, сумма вклада с капитализацией 101709.65\n",
      "Месяц 4, процент по вкладу 576.35, сумма вклада с капитализацией 102286.01\n",
      "Месяц 5, процент по вкладу 579.62, сумма вклада с капитализацией 102865.63\n",
      "Месяц 6, процент по вкладу 582.91, сумма вклада с капитализацией 103448.53\n"
     ]
    }
   ],
   "source": [
    "deposit = 100000 # сумма вклада\n",
    "annual_rate = 0.068 # годовая процентная ставка в долях \n",
    "time = 6 # срок вклада в месяцах\n",
    "\n",
    "for month in range(6): # объявим цикл\n",
    "    dep_interest = deposit * annual_rate / 12 # рассчитаем начисленный процент по вкладу\n",
    "    deposit += dep_interest # увеличим размер вклада на значение процента по вкладу \n",
    "    print(f'Месяц {month+1}, процент по вкладу {round(dep_interest, 2)}, сумма вклада с капитализацией {round(deposit, 2)}')"
   ]
  },
  {
   "cell_type": "raw",
   "id": "e7c6d86c-eba5-4f09-bbcb-fe1dfdccd83b",
   "metadata": {},
   "source": [
    "Циклы while чаще используются, когда необходимо ожидать наступления определённого события. Например, в примере выше подсчитаем, через какое время (количество месяцев) сумма начислений процентов по вкладу будет выше 10000. Для этого отлично подойдет цикл while. Изменим программу выше:"
   ]
  },
  {
   "cell_type": "code",
   "execution_count": 13,
   "id": "f8846296-3920-4d7c-9316-ee80f6ea1f9d",
   "metadata": {},
   "outputs": [
    {
     "name": "stdout",
     "output_type": "stream",
     "text": [
      "Месяц 1, суммарный процент по вкладу 566.67, сумма вклада с капитализацией 100566.67\n",
      "Месяц 2, суммарный процент по вкладу 1136.54, сумма вклада с капитализацией 101136.54\n",
      "Месяц 3, суммарный процент по вкладу 1709.65, сумма вклада с капитализацией 101709.65\n",
      "Месяц 4, суммарный процент по вкладу 2286.01, сумма вклада с капитализацией 102286.01\n",
      "Месяц 5, суммарный процент по вкладу 2865.63, сумма вклада с капитализацией 102865.63\n",
      "Месяц 6, суммарный процент по вкладу 3448.53, сумма вклада с капитализацией 103448.53\n",
      "Месяц 7, суммарный процент по вкладу 4034.74, сумма вклада с капитализацией 104034.74\n",
      "Месяц 8, суммарный процент по вкладу 4624.27, сумма вклада с капитализацией 104624.27\n",
      "Месяц 9, суммарный процент по вкладу 5217.14, сумма вклада с капитализацией 105217.14\n",
      "Месяц 10, суммарный процент по вкладу 5813.37, сумма вклада с капитализацией 105813.37\n",
      "Месяц 11, суммарный процент по вкладу 6412.98, сумма вклада с капитализацией 106412.98\n",
      "Месяц 12, суммарный процент по вкладу 7015.99, сумма вклада с капитализацией 107015.99\n",
      "Месяц 13, суммарный процент по вкладу 7622.41, сумма вклада с капитализацией 107622.41\n",
      "Месяц 14, суммарный процент по вкладу 8232.27, сумма вклада с капитализацией 108232.27\n",
      "Месяц 15, суммарный процент по вкладу 8845.59, сумма вклада с капитализацией 108845.59\n",
      "Месяц 16, суммарный процент по вкладу 9462.38, сумма вклада с капитализацией 109462.38\n",
      "Месяц 17, суммарный процент по вкладу 10082.67, сумма вклада с капитализацией 110082.67\n",
      "Количество месяцев, через которое сумма начисленных процентов по вкладу превысить 10000 = 17\n"
     ]
    }
   ],
   "source": [
    "deposit = 100000 # сумма вклада\n",
    "annual_rate = 0.068 # годовая процентная ставка в долях \n",
    "total_dep_interest = 0 # накопленная сумма начислений процентов по вкладу\n",
    "\n",
    "month = 1 # установим счётчик месяцев\n",
    "\n",
    "while total_dep_interest <= 10000: # объявим цикл\n",
    "    dep_interest = deposit * annual_rate / 12 # рассчитаем начисленный процент по вкладу\n",
    "    deposit += dep_interest # увеличим размер вклада на значение процента по вкладу \n",
    "    total_dep_interest += dep_interest # суммируем начисления по вкладу\n",
    "    print(f'Месяц {month}, суммарный процент по вкладу {round(total_dep_interest, 2)}, сумма вклада с капитализацией {round(deposit, 2)}')\n",
    "    \n",
    "    month += 1\n",
    "    \n",
    "print(f'Количество месяцев, через которое сумма начисленных процентов по вкладу превысить 10000 = {month-1}') "
   ]
  },
  {
   "cell_type": "raw",
   "id": "c9478e68-e460-40aa-87b3-a481a9147e62",
   "metadata": {},
   "source": [
    "Встроенные функции:\n",
    "sum() используется для суммирования значений: она принимает в качестве аргумента список и возвращает сумму его элементов,\n",
    "min() и max() возвращают минимальное и максимальное значения соответственно.\n",
    "Факториал числа n — произведение всех целых чисел от 1 до n. В математике факториал обозначают знаком !."
   ]
  },
  {
   "cell_type": "code",
   "execution_count": 15,
   "id": "998a4c22-e9e5-4d50-a966-7fc6d55a180a",
   "metadata": {},
   "outputs": [
    {
     "name": "stdout",
     "output_type": "stream",
     "text": [
      "1034 681 4\n"
     ]
    }
   ],
   "source": [
    "concerts = [915,829,988,681,866,818,1034]\n",
    "max_value = max(concerts)\n",
    "min_value = min(concerts)\n",
    "# напишите код тут\n",
    "day_count=0\n",
    "for i in concerts:\n",
    "    if i < 900:\n",
    "        day_count += 1\n",
    "\n",
    "print(max_value, min_value, day_count)"
   ]
  },
  {
   "cell_type": "code",
   "execution_count": 19,
   "id": "0a3ea309-24ac-45bc-a52d-4fb11320b2a5",
   "metadata": {},
   "outputs": [
    {
     "name": "stdout",
     "output_type": "stream",
     "text": [
      "3628800\n"
     ]
    }
   ],
   "source": [
    "number = 10\n",
    "fact = 1 \n",
    "for i in range(1, number+1):\n",
    "    fact *= i\n",
    "\n",
    "print(fact)"
   ]
  },
  {
   "cell_type": "code",
   "execution_count": 23,
   "id": "620d01d6-8698-44b7-aeae-436721ec907b",
   "metadata": {},
   "outputs": [
    {
     "name": "stdout",
     "output_type": "stream",
     "text": [
      "[850, 700, 950.0, 1200.0, 890, 990, 1150]\n"
     ]
    }
   ],
   "source": [
    "prices = [850, 700, 95000, 120000, 890, 990, 1150]\n",
    "for i, price in enumerate(prices):\n",
    "    if price > 10000:\n",
    "        prices [i] = price/100\n",
    "    else:\n",
    "        prices [i] = price\n",
    "\n",
    "print(prices)"
   ]
  },
  {
   "cell_type": "code",
   "execution_count": 33,
   "id": "cf23ee31-c4e6-4e1d-8fbe-9a49b30412ea",
   "metadata": {},
   "outputs": [
    {
     "name": "stdout",
     "output_type": "stream",
     "text": [
      "Источник 1, доля затрат - 0.12094417960941103\n",
      "Источник 2, доля затрат - 0.1422420421343995\n",
      "Источник 3, доля затрат - 0.0857296632323543\n",
      "Источник 4, доля затрат - 0.2694910041519299\n",
      "Источник 5, доля затрат - 0.3815931108719053\n"
     ]
    }
   ],
   "source": [
    "costs = [15730, 18500, 11150, 35050, 49630]\n",
    "total_costs = sum(costs)\n",
    "for i, cost in enumerate(costs, start = 1):\n",
    "    cost = cost/total_costs\n",
    "    print(f'Источник {i}, доля затрат - {cost}')"
   ]
  },
  {
   "cell_type": "code",
   "execution_count": 35,
   "id": "7f3ff66c-20c2-4dfe-800f-e498b9053322",
   "metadata": {},
   "outputs": [
    {
     "name": "stdout",
     "output_type": "stream",
     "text": [
      "Source_A: 15730\n",
      "Source_B: 18500\n",
      "Source_C: 11150\n",
      "Source_D: 35050\n",
      "Source_E: 49630\n"
     ]
    }
   ],
   "source": [
    "costs = [15730, 18500, 11150, 35050, 49630]\n",
    "sources = ['Source_A', 'Source_B', 'Source_C', 'Source_D', 'Source_E']\n",
    "for source, cost in zip(sources, costs):\n",
    "    print(f'{source}: {cost}')\n",
    "# напишите ваш код здесь"
   ]
  },
  {
   "cell_type": "code",
   "execution_count": 43,
   "id": "8ce530e2-387d-4aed-9094-7d23eb42435c",
   "metadata": {},
   "outputs": [
    {
     "name": "stdout",
     "output_type": "stream",
     "text": [
      "['000137', '000874', '000755']\n"
     ]
    }
   ],
   "source": [
    "costs = [6006,5574,4184,6097,4104,4795,2042,7728]\n",
    "orders = [7,6,4,7,4,5,2,8]\n",
    "users = ['002521','015531','000137','008995','000874','002254','000755','011539']\n",
    "list_of_users = []\n",
    "for cost, order, user in zip(costs, orders, users):\n",
    "    m = cost/order # напишите ваш код здесь\n",
    "    if m > 1000:\n",
    "        list_of_users.append(user)\n",
    "\n",
    "print(list_of_users)"
   ]
  },
  {
   "cell_type": "code",
   "execution_count": 2,
   "id": "0fd1d552-fc7e-4ca3-94d6-51542127f6fd",
   "metadata": {},
   "outputs": [
    {
     "name": "stdout",
     "output_type": "stream",
     "text": [
      "0\n",
      "3\n",
      "6\n",
      "9\n",
      "12\n",
      "15\n"
     ]
    }
   ],
   "source": [
    "i = 0\n",
    "while i <= 15:\n",
    "    print(i)\n",
    "    i += 3"
   ]
  },
  {
   "cell_type": "code",
   "execution_count": 6,
   "id": "42897a85-210c-468c-af0f-70340a4f58a6",
   "metadata": {},
   "outputs": [
    {
     "name": "stdout",
     "output_type": "stream",
     "text": [
      "kjkj\n"
     ]
    }
   ],
   "source": [
    "print('kjkj')"
   ]
  },
  {
   "cell_type": "code",
   "execution_count": 10,
   "id": "4532f28c-050d-4f51-8d3f-5850d642fea4",
   "metadata": {},
   "outputs": [
    {
     "name": "stdout",
     "output_type": "stream",
     "text": [
      "10\n"
     ]
    }
   ],
   "source": [
    "first_cost = 75000\n",
    "total = 0\n",
    "week_count = 1\n",
    "\n",
    "while total < 1200000:\n",
    "    total += first_cost\n",
    "    first_cost += first_cost*0.15\n",
    "    week_count += 1 # Ваш код тут\n",
    "\n",
    "# Выводим результат\n",
    "print(week_count)"
   ]
  },
  {
   "cell_type": "markdown",
   "id": "7ecef549-096a-4f34-9ce6-ee86c3961083",
   "metadata": {},
   "source": [
    "# Комбинации с itertools"
   ]
  },
  {
   "cell_type": "raw",
   "id": "3197621a-5bc3-46aa-bcae-0aaf88c867e7",
   "metadata": {},
   "source": [
    "Комбинации с itertools"
   ]
  },
  {
   "cell_type": "code",
   "execution_count": 17,
   "id": "0066c624-0a2a-4287-9804-48055bb0ed8b",
   "metadata": {},
   "outputs": [
    {
     "name": "stdout",
     "output_type": "stream",
     "text": [
      "0\n",
      "5\n",
      "10\n",
      "15\n",
      "20\n",
      "25\n",
      "30\n",
      "35\n",
      "40\n",
      "45\n",
      "50\n"
     ]
    }
   ],
   "source": [
    "import itertools\n",
    "\n",
    "#бесконечный итератор с определенным шагом, например попросим создать итератор,\n",
    "#генерирующий бесконечную последовательность чисел от 0 с шагом 5:\n",
    "\n",
    "# Создадим цикл, использующий бесконечный итератор count:\n",
    "for i in itertools.count(0, 5):\n",
    "    if i > 50:\n",
    "        break\n",
    "    else:\n",
    "        print(i)"
   ]
  },
  {
   "cell_type": "raw",
   "id": "7dc6c0fa-f91d-48fd-9d75-809f78b2eea1",
   "metadata": {},
   "source": [
    "В примере выше функция itertools.count() создала бесконечный итератор, начинающийся со значения 0 и шагом 5. В результате цикл for получился бесконечным и, чтобы его остановить, было использовано условие, останавливающее цикл через команду break, если перебираемое значение выше 50."
   ]
  },
  {
   "cell_type": "raw",
   "id": "bc581089-b934-4b12-bcf6-3bdc8d61f983",
   "metadata": {},
   "source": [
    "Функция cycle() создаёт объект-итератор с бесконечным перебором всех значений в итерируемом множестве (например, списке). Функция имеет простой синтаксис и принимает значение множества для перебора — itertools.cycle(<коллекция>)"
   ]
  },
  {
   "cell_type": "code",
   "execution_count": 19,
   "id": "226b40cd-2c0c-48f0-ab97-4c3fd52f4f8b",
   "metadata": {},
   "outputs": [
    {
     "name": "stdout",
     "output_type": "stream",
     "text": [
      "Итерация цикла: 0, Элемент списка: Ольха\n",
      "Итерация цикла: 1, Элемент списка: Берёза\n",
      "Итерация цикла: 2, Элемент списка: Ясень\n",
      "Итерация цикла: 3, Элемент списка: Кипарис\n",
      "Итерация цикла: 4, Элемент списка: Ольха\n",
      "Итерация цикла: 5, Элемент списка: Берёза\n",
      "Итерация цикла: 6, Элемент списка: Ясень\n"
     ]
    }
   ],
   "source": [
    "trees = ['Ольха','Берёза','Ясень','Кипарис']\n",
    "\n",
    "# Создадим цикл, использующий бесконечный итератор cycle:\n",
    "count = 0\n",
    "for i in itertools.cycle(trees):\n",
    "    if count > 6:\n",
    "        break\n",
    "    else:\n",
    "        print(f'Итерация цикла: {count}, Элемент списка: {i}')\n",
    "    count += 1 "
   ]
  },
  {
   "cell_type": "code",
   "execution_count": 21,
   "id": "fad17eec-41b7-4372-a46e-63c074f107d6",
   "metadata": {},
   "outputs": [
    {
     "name": "stdout",
     "output_type": "stream",
     "text": [
      "['100000_A', '100001_B', '100002_C', '100003_A', '100004_B', '100005_C', '100006_A', '100007_B', '100008_C', '100009_A', '100010_B']\n"
     ]
    }
   ],
   "source": [
    "# Создадим список групп:\n",
    "groups = ['A','B','C']\n",
    "\n",
    "# Создадим итератор, имитирующий генерацию id пользователей:\n",
    "user_id = itertools.count(100000, 1)\n",
    "\n",
    "# Создадим пустой список, в который будем добавлять информацию:\n",
    "user_grop_list = []\n",
    "\n",
    "# Создадим цикл, использующий бесконечный итератор cycle:\n",
    "count = 0\n",
    "for group in itertools.cycle(groups):\n",
    "    # Для примера проведём 10 итераций:\n",
    "    if count > 10:\n",
    "        break\n",
    "    else:\n",
    "        user_grop_list.append(f'{next(user_id)}_{group}')\n",
    "    count += 1\n",
    "    \n",
    "# Проверим результат:\n",
    "print(user_grop_list) "
   ]
  },
  {
   "cell_type": "raw",
   "id": "51706969-5919-46bb-8221-1113da816b39",
   "metadata": {},
   "source": [
    "Функция repeat() создаёт объект-итератор, возвращающий один-единственный элемент бесконечное количество раз, если не было указано точное количество итераций. Синтаксис функции следующий itertools.repeat(object, times), где object возвращаемое значение, а times — количество итераций, по умолчанию — бесконечное значение."
   ]
  },
  {
   "cell_type": "code",
   "execution_count": 23,
   "id": "d0465572-97f5-4288-9379-08ed7d6a2d97",
   "metadata": {},
   "outputs": [
    {
     "name": "stdout",
     "output_type": "stream",
     "text": [
      "['100000_15%_Sale', '100001_15%_Sale', '100002_15%_Sale', '100003_15%_Sale', '100004_15%_Sale', '100005_15%_Sale', '100006_15%_Sale']\n"
     ]
    }
   ],
   "source": [
    "# Создадим итератор, имитирующий генерацию id пользователей:\n",
    "user_id = itertools.count(100000, 1)\n",
    "\n",
    "# Создадим пустой список, в который будем добавлять информацию:\n",
    "user_action_list = []\n",
    "\n",
    "# Создадим цикл, использующий бесконечный итератор repeat с количеством итераций 7:\n",
    "for action in itertools.repeat('15%_Sale', 7):\n",
    "    user_action_list.append(f'{next(user_id)}_{action}')\n",
    "    \n",
    "# Проверим результат:\n",
    "print(user_action_list) "
   ]
  },
  {
   "cell_type": "raw",
   "id": "d3f0f274-4f2c-43b0-a814-006a76ab21c8",
   "metadata": {},
   "source": [
    "Функция product() создаёт объект-итератор, определяющий все возможные последовательности элементов двух множеств, реализуя декартово произведение множеств. Функция имеет следующий синтаксис: itertools.product(*iterables, repeat=1), где на месте *iterables через запятую перечислены все коллекции (списки, кортежи, множества или другие итерируемые объекты), а параметр repeat указывает, какое количество раз возможно задействовать исходные множества. По умолчанию это значение равно 1.  "
   ]
  },
  {
   "cell_type": "code",
   "execution_count": 25,
   "id": "bc032bcf-9810-4359-8af2-d9990483df78",
   "metadata": {},
   "outputs": [
    {
     "name": "stdout",
     "output_type": "stream",
     "text": [
      "('A', 0)\n",
      "('A', 1)\n",
      "('B', 0)\n",
      "('B', 1)\n"
     ]
    }
   ],
   "source": [
    "# Найдём декартово произведение множеств `A` и `B`:\n",
    "A = ['A', 'B']\n",
    "B = [0, 1]\n",
    "\n",
    "for i in itertools.product(A, B):\n",
    "    print(i)   "
   ]
  },
  {
   "cell_type": "code",
   "execution_count": 31,
   "id": "18caf786-13f0-4396-8b01-d05580a8c206",
   "metadata": {},
   "outputs": [
    {
     "name": "stdout",
     "output_type": "stream",
     "text": [
      "1 : 1\n",
      "1 : 2\n",
      "1 : 3\n",
      "1 : 4\n",
      "1 : 5\n",
      "1 : 6\n",
      "2 : 1\n",
      "2 : 2\n",
      "2 : 3\n",
      "2 : 4\n",
      "2 : 5\n",
      "2 : 6\n",
      "3 : 1\n",
      "3 : 2\n",
      "3 : 3\n",
      "3 : 4\n",
      "3 : 5\n",
      "3 : 6\n",
      "4 : 1\n",
      "4 : 2\n",
      "4 : 3\n",
      "4 : 4\n",
      "4 : 5\n",
      "4 : 6\n",
      "5 : 1\n",
      "5 : 2\n",
      "5 : 3\n",
      "5 : 4\n",
      "5 : 5\n",
      "5 : 6\n",
      "6 : 1\n",
      "6 : 2\n",
      "6 : 3\n",
      "6 : 4\n",
      "6 : 5\n",
      "6 : 6\n",
      "36\n"
     ]
    }
   ],
   "source": [
    "# Найдём возможные результаты по последовательному броску двух игровых кубиков:\n",
    "A = [1, 2, 3, 4, 5, 6]\n",
    "t= 0\n",
    "for i, j in itertools.product(A, repeat=2):\n",
    "    t += 1\n",
    "    print(f'{i} : {j}')\n",
    "\n",
    "print(t)"
   ]
  },
  {
   "cell_type": "markdown",
   "id": "62b60246-7796-4730-8492-8c7754c40feb",
   "metadata": {},
   "source": [
    "# Функции в Python"
   ]
  },
  {
   "cell_type": "raw",
   "id": "e4677ae7-a3f2-41f6-bd9f-4381aa4b8782",
   "metadata": {},
   "source": [
    "Основные преимущества применения функций: \n",
    "Повышается скорость работы. Аналитик применяет свои наработки для решения похожих задач, а это быстрее, чем писать код заново.\n",
    "Удобнее поддерживать код. С функциями код становится структурированным, детали выносятся из основного алгоритма. Код проще анализировать, дорабатывать и переиспользовать.\n",
    "Код проще отлаживать. Опять же потому, что код более чистый, и всё логично разделено на блоки."
   ]
  },
  {
   "cell_type": "raw",
   "id": "c1eac5e5-6f97-4a7b-8b7b-801b5bc89f28",
   "metadata": {},
   "source": [
    "# list of Pythons fuctions\n",
    "https://docs.python.org/3/library/functions.html"
   ]
  },
  {
   "cell_type": "markdown",
   "id": "3f7d7f1e-9d15-4abd-ae22-a19f31f8d938",
   "metadata": {},
   "source": [
    "## Примеры часто встречаемых операций в работе со строками:"
   ]
  },
  {
   "cell_type": "raw",
   "id": "3256ee1f-9d22-4164-b11c-ae7872d0857e",
   "metadata": {},
   "source": [
    "Разделить строку. Используем метод .split(), по умолчанию он делит строку по пробелам, но можно указать разделитель самостоятельно:"
   ]
  },
  {
   "cell_type": "code",
   "execution_count": 36,
   "id": "6b2b1c8e-c786-4ff6-85ca-23c6b1126e7e",
   "metadata": {},
   "outputs": [
    {
     "name": "stdout",
     "output_type": "stream",
     "text": [
      "['Есть', 'три', 'вида', 'лжи:', 'ложь,', 'наглая', 'ложь', 'и', 'статистика']\n",
      "['кто', 'где', 'когда']\n"
     ]
    }
   ],
   "source": [
    "print(\"Есть три вида лжи: ложь, наглая ложь и статистика\".split())\n",
    "print(\"кто, где, когда\".split(\", \")) "
   ]
  },
  {
   "cell_type": "raw",
   "id": "5fad9121-6216-4a1e-86d7-814502c97012",
   "metadata": {},
   "source": [
    "Проверить, состоит ли строка только из букв. Здесь помогает метод .isalpha():"
   ]
  },
  {
   "cell_type": "code",
   "execution_count": 38,
   "id": "b0283939-f79f-4126-ad22-9056703d076c",
   "metadata": {},
   "outputs": [
    {
     "name": "stdout",
     "output_type": "stream",
     "text": [
      "True\n",
      "False\n"
     ]
    }
   ],
   "source": [
    "example_1 = 'ЭтаСтрокаСостоитТолькоИзБукв'\n",
    "example_2 = 'а в этой уже будут не только буквы, но пробелы, спец.символы и даже цифры: 123654789'\n",
    "# проверим, состоят ли строки только из букв, используя метод .isalpha()\n",
    "print(example_1.isalpha())\n",
    "print(example_2.isalpha())"
   ]
  },
  {
   "cell_type": "raw",
   "id": "57443780-56ba-4f80-be80-19fd3e78d000",
   "metadata": {},
   "source": [
    "Преобразовать строку к верхнему регистру — помогает метод .upper():"
   ]
  },
  {
   "cell_type": "code",
   "execution_count": 42,
   "id": "b6db365a-3b12-4cd5-9cca-e5eb9de90d49",
   "metadata": {},
   "outputs": [
    {
     "name": "stdout",
     "output_type": "stream",
     "text": [
      "Я ПРОГРАММИРУЮ НА PYTHON, МОГУ ОБОЙТИСЬ БЕЗ CAPS LOCK\n"
     ]
    }
   ],
   "source": [
    "\n",
    "\n",
    "# приведём все символы строки к верхнему регистру, используя метод .upper()\n",
    "print('я программирую на python, могу обойтись без caps lock'.upper())"
   ]
  },
  {
   "cell_type": "raw",
   "id": "2946c9d5-dd64-49ce-847b-8dd61bc9b951",
   "metadata": {},
   "source": [
    "Преобразовать строку к нижнему регистру — используют метод .lower():"
   ]
  },
  {
   "cell_type": "code",
   "execution_count": 44,
   "id": "0e05c630-3443-445e-b5e4-33a06e088515",
   "metadata": {},
   "outputs": [
    {
     "name": "stdout",
     "output_type": "stream",
     "text": [
      "кажется, я опять забыл выключить caps lock перед тем, как набрать текст\n"
     ]
    }
   ],
   "source": [
    "# приведём все символы строки к нижнему регистру, используя метод .lower()\n",
    "print('КАЖЕТСЯ, Я ОПЯТЬ ЗАБЫЛ ВЫКЛЮЧИТЬ CAPS LOCK ПЕРЕД ТЕМ, КАК НАБРАТЬ ТЕКСТ'.lower()) "
   ]
  },
  {
   "cell_type": "markdown",
   "id": "252af701-a5a4-413b-b75d-b86a7bf4a07f",
   "metadata": {},
   "source": [
    "## Для списков"
   ]
  },
  {
   "cell_type": "code",
   "execution_count": 50,
   "id": "020134be-7ed9-40e7-92e1-c4a3a3c7abe8",
   "metadata": {},
   "outputs": [
    {
     "name": "stdout",
     "output_type": "stream",
     "text": [
      "['т', 'е', 'р', 'р', 'а', 'р', 'и', 'у', 'м']\n"
     ]
    }
   ],
   "source": [
    "mylist = list('террариум')\n",
    "print(mylist) "
   ]
  },
  {
   "cell_type": "code",
   "execution_count": 52,
   "id": "19a082a9-3350-46bc-8119-66713872e1ba",
   "metadata": {},
   "outputs": [
    {
     "name": "stdout",
     "output_type": "stream",
     "text": [
      "['м', 'у', 'и', 'р', 'а', 'р', 'р', 'е', 'т']\n"
     ]
    }
   ],
   "source": [
    "mylist.reverse()\n",
    "print(mylist)"
   ]
  },
  {
   "cell_type": "code",
   "execution_count": null,
   "id": "038bd9b6-5620-4e0a-bd36-060b07acd77b",
   "metadata": {},
   "outputs": [],
   "source": []
  }
 ],
 "metadata": {
  "kernelspec": {
   "display_name": "Python [conda env:base] *",
   "language": "python",
   "name": "conda-base-py"
  },
  "language_info": {
   "codemirror_mode": {
    "name": "ipython",
    "version": 3
   },
   "file_extension": ".py",
   "mimetype": "text/x-python",
   "name": "python",
   "nbconvert_exporter": "python",
   "pygments_lexer": "ipython3",
   "version": "3.12.7"
  }
 },
 "nbformat": 4,
 "nbformat_minor": 5
}
