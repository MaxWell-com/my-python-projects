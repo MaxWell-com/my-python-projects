{
 "cells": [
  {
   "cell_type": "code",
   "execution_count": 2,
   "id": "59dcc278-bf79-4dbf-b9c9-3819fcafd452",
   "metadata": {},
   "outputs": [
    {
     "name": "stdout",
     "output_type": "stream",
     "text": [
      "«Крутая Компания»\n"
     ]
    }
   ],
   "source": [
    "stocks = 'В первую минуту торгов стоимость акций ООО «Крутая Компания» составила 100руб. за бумагу'\n",
    "s = stocks.find('«')\n",
    "t = stocks.rfind('»')\n",
    "company_name = stocks[s:t+1] #Название компании\n",
    "\n",
    "print(company_name)"
   ]
  },
  {
   "cell_type": "code",
   "execution_count": 4,
   "id": "21dfc88d-d63f-4413-a9b5-518f754d1330",
   "metadata": {},
   "outputs": [
    {
     "name": "stdout",
     "output_type": "stream",
     "text": [
      "0.13375\n"
     ]
    }
   ],
   "source": [
    "players_by_level = [800, 600, 450, 338, 253, 190, 142, 107]\n",
    "first_level_players = players_by_level[0] # выберите первый элемент списка\n",
    "last_level_players = players_by_level[-1] # выберите последний элемент списка\n",
    "last_to_first_ratio = last_level_players/first_level_players# разделите last_level_players на first_level_players\n",
    "print(last_to_first_ratio) "
   ]
  },
  {
   "cell_type": "code",
   "execution_count": 6,
   "id": "8477fa60-abad-4097-9413-52b82809d678",
   "metadata": {},
   "outputs": [
    {
     "name": "stdout",
     "output_type": "stream",
     "text": [
      "[800, 600, 450, 338, 253, 190, 142, 107, 62, 34]\n"
     ]
    }
   ],
   "source": [
    "players_by_level = [800, 600, 450, 338, 253, 190, 142, 107]\n",
    "players_by_level.append(62)  # добавьте значение 62\n",
    "players_by_level.append(34)  # добавьте значение 34\n",
    "print(players_by_level)"
   ]
  },
  {
   "cell_type": "code",
   "execution_count": 12,
   "id": "225c6b6d-d8ce-4070-9d56-ad9bb6903fc2",
   "metadata": {},
   "outputs": [
    {
     "name": "stdout",
     "output_type": "stream",
     "text": [
      "[450, 338, 253, 190]\n"
     ]
    }
   ],
   "source": [
    "players_by_level = [800, 600, 450, 338, 253, 190, 142, 107, 62, 34]\n",
    "players_mid_slice = players_by_level[2:6]\n",
    "print(players_mid_slice)"
   ]
  },
  {
   "cell_type": "code",
   "execution_count": 14,
   "id": "b1b3e1f5-a636-4b39-bea8-61f6a90b39a4",
   "metadata": {},
   "outputs": [
    {
     "name": "stdout",
     "output_type": "stream",
     "text": [
      "[190, 142, 107, 62, 34]\n"
     ]
    }
   ],
   "source": [
    "players_by_level = [800, 600, 450, 338, 253, 190, 142, 107, 62, 34]\n",
    "players_end_slice = players_by_level[-5:]\n",
    "print(players_end_slice)"
   ]
  },
  {
   "cell_type": "code",
   "execution_count": 34,
   "id": "9193be15-47e7-4450-a387-91c2a674b44f",
   "metadata": {},
   "outputs": [
    {
     "name": "stdout",
     "output_type": "stream",
     "text": [
      "[800, 600, 450, 338, 253, 190, 142, 107, 62, 34]\n"
     ]
    }
   ],
   "source": [
    "players_by_level = [800, 600, 450, 338, 253, 190, 142, 107]\n",
    "new_levels = [62, 34]\n",
    "players_by_level.extend(new_levels)\n",
    "print(players_by_level)"
   ]
  },
  {
   "cell_type": "code",
   "execution_count": 52,
   "id": "0d4027b8-4f77-4035-9f5e-9996762adcb7",
   "metadata": {},
   "outputs": [
    {
     "name": "stdout",
     "output_type": "stream",
     "text": [
      "[600, 450, 338, 253, 190, 142, 107]\n"
     ]
    }
   ],
   "source": [
    "players_by_level = [800, 600, 450, 338, 253, 190, 142, 107]\n",
    "first_level_players = players_by_level.pop(0) #Удалите данные о первом уровне\n",
    "\n",
    "print(players_by_level)"
   ]
  },
  {
   "cell_type": "code",
   "execution_count": 54,
   "id": "856cffd4-4517-43a8-96c0-d766d045aaf8",
   "metadata": {},
   "outputs": [
    {
     "name": "stdout",
     "output_type": "stream",
     "text": [
      "False\n"
     ]
    }
   ],
   "source": [
    "user_costs = [419, 445, 385, 561, 434, 445, 371, 423, 410, 373, 386]\n",
    "\n",
    "# напишите простое логическое условие внутри функции print\n",
    "print(  len(user_costs)>=15   )"
   ]
  },
  {
   "cell_type": "code",
   "execution_count": 56,
   "id": "6beb63fd-cab9-4d13-8f50-c2ba8babcb7b",
   "metadata": {},
   "outputs": [
    {
     "name": "stdout",
     "output_type": "stream",
     "text": [
      "True\n"
     ]
    }
   ],
   "source": [
    "users = [1359, 1674]\n",
    "buyers = [334, 510]\n",
    "\n",
    "# напишите код внутри функции print\n",
    "print( (buyers[0]/users[0]) < (buyers[1]/users[1]))"
   ]
  },
  {
   "cell_type": "code",
   "execution_count": 8,
   "id": "a40a0ff9-653d-40f0-be18-3bd0e8ef83d1",
   "metadata": {},
   "outputs": [
    {
     "name": "stdout",
     "output_type": "stream",
     "text": [
      "True\n"
     ]
    }
   ],
   "source": [
    "age = 62 # возраст посетителя\n",
    "gender = 'жен' # пол посетителя\n",
    "c = (age >=60 and gender == 'жен') or (age >= 65 and gender != 'жен')\n",
    "# напишите сложное логическое выражение внутри функции print\n",
    "print(c)"
   ]
  },
  {
   "cell_type": "code",
   "execution_count": 10,
   "id": "1ce520e0-aaab-4561-81e1-6b104a5aadcb",
   "metadata": {},
   "outputs": [
    {
     "name": "stdout",
     "output_type": "stream",
     "text": [
      "True\n"
     ]
    }
   ],
   "source": [
    "# сегменты пользователей\n",
    "segments = ['Новосибирск','Академгородок']\n",
    "\n",
    "# количество посетителей, согласно сегментам пользователей\n",
    "users = [3564, 547]\n",
    "\n",
    "# количество посетителей, оформивших заказ, согласно сегментам\n",
    "orders = [962, 175] \n",
    "\n",
    "# напишите сложное логические выражение внутри функции print\n",
    "print((orders[0]/users[0]>= 0.25) and (orders[1]/users[1]>= 0.31))"
   ]
  },
  {
   "cell_type": "code",
   "execution_count": 12,
   "id": "dbf202e4-79b3-46e7-ade7-f50c720ca814",
   "metadata": {},
   "outputs": [
    {
     "name": "stdout",
     "output_type": "stream",
     "text": [
      "Да\n"
     ]
    }
   ],
   "source": [
    "movie_info = ['Криминальное чтиво', 'США', 1994, 'триллер, комедия, криминал', 154, 8.619]\n",
    "if movie_info[4] > 120 and movie_info[1] == 'США':\n",
    "    print('Да')# напишите ваш код здесь"
   ]
  },
  {
   "cell_type": "code",
   "execution_count": 2,
   "id": "295a0abc-43db-4a91-8832-aed2632b0277",
   "metadata": {},
   "outputs": [
    {
     "name": "stdout",
     "output_type": "stream",
     "text": [
      "Il film e stato rilasciato in Italia.\n"
     ]
    }
   ],
   "source": [
    "movie_info = ['Хороший, плохой, злой', 'Италия', 1966, 'вестерн', 178, 8.521]\n",
    "if movie_info[1] == 'СССР':\n",
    "    print('Фильм вышел в СССР.')\n",
    "elif movie_info[1] == 'США':\n",
    "    print('The movie was released in USA.')\n",
    "elif movie_info[1] == 'Италия':\n",
    "    print('Il film e stato rilasciato in Italia.')\n",
    "else:\n",
    "    print('Страна не определена.')"
   ]
  },
  {
   "cell_type": "code",
   "execution_count": 6,
   "id": "c4bbf980-e508-4434-ad2e-3f1fbeb76f33",
   "metadata": {},
   "outputs": [
    {
     "name": "stdout",
     "output_type": "stream",
     "text": [
      "отличный рейтинг\n",
      "отличный рейтинг\n"
     ]
    }
   ],
   "source": [
    "movie_info = ['Сталкер', 'СССР', 1979, 'фантастика, драма, детектив', 163, 8.083]\n",
    "if movie_info[5] > 8:\n",
    "    print('отличный рейтинг')\n",
    "    rating_category = 'отличный рейтинг'\n",
    "elif movie_info[5] > 6:\n",
    "    print('хороший рейтинг')\n",
    "    rating_category = 'хороший рейтинг'\n",
    "elif 5 <= movie_info[5]<= 6:\n",
    "    print('средний рейтинг')\n",
    "    rating_category = 'средний рейтинг'\n",
    "elif movie_info[5] < 5:\n",
    "    print('низкий рейтинг')\n",
    "    rating_category = 'низкий рейтинг'\n",
    "else:\n",
    "    print('нет рейтинга')\n",
    "    rating_category = 'нет рейтинга'\n",
    " \n",
    "print(rating_category)"
   ]
  },
  {
   "cell_type": "code",
   "execution_count": 8,
   "id": "893a3e24-c960-4e34-9d1e-daafb7e057a3",
   "metadata": {},
   "outputs": [
    {
     "name": "stdout",
     "output_type": "stream",
     "text": [
      "отличный рейтинг\n"
     ]
    }
   ],
   "source": [
    "movie_info = ['Сталкер', 'СССР', 1979, 'фантастика, драма, детектив', 163, 8.083]\n",
    "if 8 < movie_info[5] <10:\n",
    "   rating_category = 'отличный рейтинг'\n",
    "elif 6 < movie_info[5] <= 8:\n",
    "    rating_category = 'хороший рейтинг'\n",
    "elif 5 <= movie_info[5]<= 6:\n",
    "    rating_category = 'средний рейтинг'\n",
    "elif 0 < movie_info[5] < 5:\n",
    "    rating_category = 'низкий рейтинг'\n",
    "elif movie_info[5] >= 10:\n",
    "    rating_category = 'нет рейтинга'\n",
    "elif movie_info[5] <= 0:\n",
    "    rating_category = 'нет рейтинга'\n",
    "else:\n",
    "    rating_category = 'нет рейтинга'\n",
    "\n",
    " \n",
    "print(rating_category)"
   ]
  },
  {
   "cell_type": "markdown",
   "id": "6ab6938b-877d-47ec-b335-af4aec1b5b65",
   "metadata": {},
   "source": [
    "# Циклы"
   ]
  },
  {
   "cell_type": "raw",
   "id": "470e5752-6f5f-4395-9112-376918bb1a66",
   "metadata": {},
   "source": [
    "Часто применяемый цикл Python для анализа данных — это for  — от английского «для». Он повторяет заданную последовательность инструкций для каждого итерируемого объекта, например, списка, кортежа, строки. \n"
   ]
  },
  {
   "cell_type": "code",
   "execution_count": 13,
   "id": "baa23555-eb5a-41ea-8d4f-75ae77b47bdf",
   "metadata": {},
   "outputs": [
    {
     "name": "stdout",
     "output_type": "stream",
     "text": [
      "Имя друга: Юля\n",
      "Имя друга: Гена\n",
      "Имя друга: Гоша\n",
      "Имя друга: Алиса\n",
      "Имя друга: Слава\n"
     ]
    }
   ],
   "source": [
    "friends = ['Юля', 'Гена', 'Гоша', 'Алиса', 'Слава'] # список друзей\n",
    "\n",
    "for friend in friends: # заголовок цикла\n",
    "    print('Имя друга:', friend) # тело цикла "
   ]
  },
  {
   "cell_type": "markdown",
   "id": "bd04497a-2ca0-442c-9c97-1f228884c117",
   "metadata": {},
   "source": [
    "# Цикл for и строки"
   ]
  },
  {
   "cell_type": "raw",
   "id": "030d9fe6-6caa-43b5-9488-3e9a0829a456",
   "metadata": {},
   "source": [
    "Циклы можно применять не только к спискам. Например, можно перебирать строки. В этом случае переменная-итератор будет последовательно принимать значение каждого элемента строки"
   ]
  },
  {
   "cell_type": "code",
   "execution_count": 16,
   "id": "60b75a07-93a4-47bb-bee9-8bd67cbd151d",
   "metadata": {},
   "outputs": [
    {
     "name": "stdout",
     "output_type": "stream",
     "text": [
      "П\n",
      "р\n",
      "и\n",
      "м\n",
      "е\n",
      "р\n",
      " \n",
      "с\n",
      "т\n",
      "р\n",
      "о\n",
      "к\n",
      "и\n"
     ]
    }
   ],
   "source": [
    "string = 'Пример строки'\n",
    "for symbol in string:\n",
    "    print(symbol) "
   ]
  },
  {
   "cell_type": "code",
   "execution_count": null,
   "id": "a2a08a12-45c8-404e-a006-e214aac433a2",
   "metadata": {},
   "outputs": [],
   "source": []
  }
 ],
 "metadata": {
  "kernelspec": {
   "display_name": "Python [conda env:base] *",
   "language": "python",
   "name": "conda-base-py"
  },
  "language_info": {
   "codemirror_mode": {
    "name": "ipython",
    "version": 3
   },
   "file_extension": ".py",
   "mimetype": "text/x-python",
   "name": "python",
   "nbconvert_exporter": "python",
   "pygments_lexer": "ipython3",
   "version": "3.12.7"
  }
 },
 "nbformat": 4,
 "nbformat_minor": 5
}
