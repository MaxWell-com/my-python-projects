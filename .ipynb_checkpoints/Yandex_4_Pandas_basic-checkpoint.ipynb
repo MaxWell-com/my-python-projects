{
 "cells": [
  {
   "cell_type": "markdown",
   "id": "3ad01924-5a36-4c78-aa04-a06bb87304c7",
   "metadata": {},
   "source": [
    "## Словари"
   ]
  },
  {
   "cell_type": "raw",
   "id": "07da3d49-4b68-4410-9c2b-d29bd2ae3043",
   "metadata": {},
   "source": [
    "Словари в Python устроены так же. Каждый элемент словаря — пара из ключа и значения:\n",
    "ключ — то, что мы ищем в словаре. Ключом может быть строка или число;\n",
    "значение — данные, к которым ведёт этот ключ. В отличие от ключа, значением может быть объект любого типа: не только строка или число, но и, например, список.\n",
    "Для словарей в Python есть свой тип объекта — dict."
   ]
  },
  {
   "cell_type": "markdown",
   "id": "65c29b5f-b2e8-46d3-96b7-d4e37dd035b1",
   "metadata": {},
   "source": [
    "### Создание словаря"
   ]
  },
  {
   "cell_type": "raw",
   "id": "5f02c360-0f20-415e-9d4c-1ee824ecef50",
   "metadata": {},
   "source": [
    "Есть несколько правил синтаксиса для создания словаря:\n",
    "словари записываются в фигурных скобках { };\n",
    "элементы словаря перечисляются через запятую;\n",
    "ключ и значение разделяют двоеточием :."
   ]
  },
  {
   "cell_type": "code",
   "execution_count": 3,
   "id": "105bbd70-cf73-4b47-8f3f-4377616245d3",
   "metadata": {},
   "outputs": [],
   "source": [
    "schedule = {                    # элементы словаря заключают в фигурные скобки\n",
    "    'SU2222': '12.06.23 12:30', # слева от двоеточия — ключ, справа — значение\n",
    "    'SU1111': '12.06.23 14:05', # каждый элемент отделяется запятой\n",
    "    'SU0777': '12.06.23 17:00',\n",
    "    'SU5555': '15.06.23 11:25'\n",
    "} "
   ]
  },
  {
   "cell_type": "code",
   "execution_count": 5,
   "id": "c08d2864-63eb-48e0-88fb-5dfd35cb27c8",
   "metadata": {},
   "outputs": [
    {
     "name": "stdout",
     "output_type": "stream",
     "text": [
      "{'SU2222': '12.06.23 12:30', 'SU1111': '12.06.23 14:05', 'SU0777': '12.06.23 17:00', 'SU5555': '15.06.23 11:25'}\n"
     ]
    }
   ],
   "source": [
    "print(schedule) "
   ]
  },
  {
   "cell_type": "code",
   "execution_count": 7,
   "id": "66f3a9fe-f420-40ac-8db4-d740febc6fa9",
   "metadata": {},
   "outputs": [
    {
     "name": "stdout",
     "output_type": "stream",
     "text": [
      "12.06.23 12:30\n",
      "12.06.23 14:05\n"
     ]
    }
   ],
   "source": [
    "schedule = {                    \n",
    "    'SU2222': '12.06.23 12:30', \n",
    "    'SU1111': '12.06.23 14:05', \n",
    "    'SU0777': '12.06.23 17:00',\n",
    "    'SU5555': '15.06.23 11:25'\n",
    "}\n",
    "\n",
    "print(schedule['SU2222'])\n",
    "print(schedule['SU1111']) "
   ]
  },
  {
   "cell_type": "raw",
   "id": "038ed313-48e2-4968-807a-e38ec4e7ddad",
   "metadata": {},
   "source": [
    "Если мы заранее не знаем, есть ли такой ключ, то нужно использовать метод get():"
   ]
  },
  {
   "cell_type": "code",
   "execution_count": 9,
   "id": "ed25f15c-805c-4cac-b986-d1a39d6bdff7",
   "metadata": {},
   "outputs": [
    {
     "name": "stdout",
     "output_type": "stream",
     "text": [
      "None\n"
     ]
    }
   ],
   "source": [
    "schedule = {                    \n",
    "    'SU2222': '12.06.23 12:30', \n",
    "    'SU1111': '12.06.23 14:05', \n",
    "    'SU0777': '12.06.23 17:00',\n",
    "    'SU5555': '15.06.23 11:25'\n",
    "}\n",
    "\n",
    "print(schedule.get('DP6831')) "
   ]
  },
  {
   "cell_type": "markdown",
   "id": "f9cb50bc-828d-4a39-9392-cbcbd05937d8",
   "metadata": {},
   "source": [
    "### Какие данные может хранить словарь?"
   ]
  },
  {
   "cell_type": "raw",
   "id": "33bb42fc-c530-4edb-b35c-775150908c8d",
   "metadata": {},
   "source": [
    "Значениями словаря могут быть числа и строки, но не только. Списки тоже можно хранить. Создадим ещё один словарь с рейсами, но для каждого сохраним расписание сразу на несколько лет вперёд. Для этого используем списки. "
   ]
  },
  {
   "cell_type": "code",
   "execution_count": 12,
   "id": "2284082f-28e2-4dd7-b2bd-b3dd12987ecf",
   "metadata": {},
   "outputs": [
    {
     "name": "stdout",
     "output_type": "stream",
     "text": [
      "['12.06.23 12:30', '12.06.24 18:30', '12.06.25 22:30']\n"
     ]
    }
   ],
   "source": [
    "schedule = {                   \n",
    "    'SU2222': ['12.06.23 12:30', '12.06.24 18:30', '12.06.25 22:30'], \n",
    "    'SU1111': ['12.06.23 14:05', '12.06.24 20:05', '12.06.25 23:05'], \n",
    "    'SU0777': ['12.06.23 17:00', '12.06.24 21:00', '12.06.25 21:00'],\n",
    "    'SU5555': ['15.06.23 11:25', '12.06.24 17:25', '12.06.25 22:25'], \n",
    "}\n",
    "\n",
    "print(schedule['SU2222']) "
   ]
  },
  {
   "cell_type": "raw",
   "id": "875851fe-a40e-4de2-8068-7f6c9b8c0bf6",
   "metadata": {},
   "source": [
    "А ещё значениями словаря могут быть другие словари. Их называют вложенными. "
   ]
  },
  {
   "cell_type": "code",
   "execution_count": 14,
   "id": "4a74093f-0239-40cd-abf6-5a7fbfff56f1",
   "metadata": {},
   "outputs": [],
   "source": [
    "schedule = {\n",
    "    'Аэрофлот': {\n",
    "        'SU2222': '12.06.23 12:30',\n",
    "        'SU1111': '12.06.23 14:05',\n",
    "        'SU0777': '12.06.23 17:00',\n",
    "        'SU5555': '15.06.23 11:25'},\n",
    "    'Победа': {\n",
    "        'DP6831': '12.06.23 09:30', \n",
    "        'DP6800': '12.06.23 11:05'},\n",
    "    'Nordwind Airlines': {\n",
    "        'N40001': '12.06.23 08:15', \n",
    "        'N48321': '12.06.23 19:15'}\n",
    "    } "
   ]
  },
  {
   "cell_type": "code",
   "execution_count": 16,
   "id": "b45a8c6b-d741-4ebd-ad7c-48b59e64cb5c",
   "metadata": {},
   "outputs": [
    {
     "name": "stdout",
     "output_type": "stream",
     "text": [
      "{'SU2222': '12.06.23 12:30', 'SU1111': '12.06.23 14:05', 'SU0777': '12.06.23 17:00', 'SU5555': '15.06.23 11:25'}\n"
     ]
    }
   ],
   "source": [
    "aeroflot_flights = schedule['Аэрофлот']\n",
    "\n",
    "print(aeroflot_flights) "
   ]
  },
  {
   "cell_type": "code",
   "execution_count": 18,
   "id": "83779ed7-bb3e-4017-92f5-8b4a4fafc14b",
   "metadata": {},
   "outputs": [],
   "source": [
    "current_flight = schedule['Аэрофлот']['SU2222'] "
   ]
  },
  {
   "cell_type": "code",
   "execution_count": 20,
   "id": "da4913aa-88a8-4e10-bc58-176f62c85d55",
   "metadata": {},
   "outputs": [
    {
     "name": "stdout",
     "output_type": "stream",
     "text": [
      "12.06.23 12:30\n"
     ]
    }
   ],
   "source": [
    "print(current_flight) "
   ]
  },
  {
   "cell_type": "raw",
   "id": "5514ba51-16cf-4c03-b69e-9b5b3039b307",
   "metadata": {},
   "source": [
    "!!!!!! Ключами словаря не могут стать изменяемые объекты, например списки или словари. Обычно ключами в словаре являются строки или числа, будем придерживаться этого."
   ]
  },
  {
   "cell_type": "markdown",
   "id": "c6e88297-49fe-4f7f-a5b4-b4cc30619e4b",
   "metadata": {},
   "source": [
    "### Поиск в словаре"
   ]
  },
  {
   "cell_type": "code",
   "execution_count": 23,
   "id": "219ae4a0-90f9-4dac-9888-449222ade781",
   "metadata": {},
   "outputs": [],
   "source": [
    "country_capitals = {\n",
    "    'США': 'Вашингтон',\n",
    "    'Италия': 'Рим',\n",
    "    'Англия': 'Лондон'\n",
    "} "
   ]
  },
  {
   "cell_type": "raw",
   "id": "d9d58675-697e-4d88-a4d7-304f183fc04f",
   "metadata": {},
   "source": [
    "Иногда нам может потребоваться получить набор из всех ключей, которые есть в словаре. Например, найдём и выведем все страны (страна — это ключ), название которых состоит из трёх символов. Для этого воспользуемся методом keys()."
   ]
  },
  {
   "cell_type": "code",
   "execution_count": 25,
   "id": "6b9e76d4-3502-44ad-83b9-3eb129350176",
   "metadata": {},
   "outputs": [
    {
     "name": "stdout",
     "output_type": "stream",
     "text": [
      "США\n"
     ]
    }
   ],
   "source": [
    "all_countries = country_capitals.keys()\n",
    "\n",
    "for country in all_countries:\n",
    "    if len(country) == 3:\n",
    "        print(country) "
   ]
  },
  {
   "cell_type": "raw",
   "id": "731e92bf-c3b2-447e-be9e-63591137701a",
   "metadata": {},
   "source": [
    "Точно так же мы можем сразу найти и все значения, которые есть в словаре. Найдём все столицы (столица — это значение), название которых состоит из трёх символов. Для этого воспользуемся методом values()."
   ]
  },
  {
   "cell_type": "code",
   "execution_count": 27,
   "id": "e689f3f7-19a7-407d-b506-629f86752170",
   "metadata": {},
   "outputs": [
    {
     "name": "stdout",
     "output_type": "stream",
     "text": [
      "Рим\n"
     ]
    }
   ],
   "source": [
    "all_capitals = country_capitals.values()\n",
    "\n",
    "for capital in all_capitals:\n",
    "    if len(capital) == 3:\n",
    "        print(capital) "
   ]
  },
  {
   "cell_type": "raw",
   "id": "99699eb5-7675-494b-8d10-92829ee46184",
   "metadata": {},
   "source": [
    "Словарь отлично подходит для поиска значения по его ключу. Но что, если, наоборот, необходимо найти ключ по его значению? "
   ]
  },
  {
   "cell_type": "code",
   "execution_count": 29,
   "id": "a02e8198-a67f-4600-a530-3e9c37660a59",
   "metadata": {},
   "outputs": [
    {
     "name": "stdout",
     "output_type": "stream",
     "text": [
      "Италия\n"
     ]
    }
   ],
   "source": [
    "country_capitals = {\n",
    "    'США': 'Вашингтон',\n",
    "    'Италия': 'Рим',\n",
    "    'Англия': 'Лондон'\n",
    "}\n",
    "rome_country = ''\n",
    "\n",
    "for country in country_capitals.keys(): # keys() вернёт список всех стран\n",
    "    capital = country_capitals[country] # сохраним столицу текущей страны\n",
    "    if capital == 'Рим':       # если столица Рим\n",
    "        rome_country = country # то сохраним страну в переменной rome_country\n",
    "        break                  # и завершим цикл\n",
    "                               # если столица не Рим, то продолжаем цикл\n",
    "\n",
    "print(rome_country) "
   ]
  },
  {
   "cell_type": "raw",
   "id": "434549a8-e19b-4533-b83c-8efecbcbab79",
   "metadata": {},
   "source": [
    "А что, если сразу получать эту пару — ключ-значение? Да, так тоже можно! Для этого воспользуемся методом items():"
   ]
  },
  {
   "cell_type": "code",
   "execution_count": 31,
   "id": "0efdf2b5-a60f-4658-95e5-e41190a027ac",
   "metadata": {},
   "outputs": [
    {
     "name": "stdout",
     "output_type": "stream",
     "text": [
      "США Вашингтон\n",
      "Италия Рим\n",
      "Англия Лондон\n"
     ]
    }
   ],
   "source": [
    "country_capitals = {\n",
    "    'США': 'Вашингтон',\n",
    "    'Италия': 'Рим',\n",
    "    'Англия': 'Лондон'\n",
    "}\n",
    "\n",
    "for country, capital in country_capitals.items():\n",
    "    print(country, capital) "
   ]
  },
  {
   "cell_type": "markdown",
   "id": "de4ba5d3-c6ef-4757-a4c6-90dadd8f9784",
   "metadata": {},
   "source": [
    "### Действия со словарями"
   ]
  },
  {
   "cell_type": "raw",
   "id": "74aaa7ce-4033-4ff4-9992-8660037f8f0f",
   "metadata": {},
   "source": [
    "Работа со словарями очень похожа на работу со списками. В словарь можно добавлять новые элементы, изменять их и удалять. "
   ]
  },
  {
   "cell_type": "code",
   "execution_count": 34,
   "id": "764ae39a-52cb-450c-b61e-765b405cd176",
   "metadata": {},
   "outputs": [
    {
     "name": "stdout",
     "output_type": "stream",
     "text": [
      "{'США': 'Вашингтон', 'Италия': 'Рим', 'Англия': 'Лондон', 'Россия': 'Москва'}\n"
     ]
    }
   ],
   "source": [
    "country_capitals = {\n",
    "    'США': 'Вашингтон',\n",
    "    'Италия': 'Рим',\n",
    "    'Англия': 'Лондон'\n",
    "}\n",
    "country_capitals['Россия'] = 'Москва'\n",
    "\n",
    "print(country_capitals) "
   ]
  },
  {
   "cell_type": "raw",
   "id": "37a7b8c1-8107-4404-919e-1bdba76b0687",
   "metadata": {},
   "source": [
    "Если такой ключ уже есть в словаре, то его значение обновится."
   ]
  },
  {
   "cell_type": "code",
   "execution_count": 36,
   "id": "ca46f8ca-a888-462c-b32e-f043cb86bfe9",
   "metadata": {},
   "outputs": [
    {
     "name": "stdout",
     "output_type": "stream",
     "text": [
      "{'США': 'Washington', 'Италия': 'Roma', 'Англия': 'London'}\n"
     ]
    }
   ],
   "source": [
    "country_capitals = {\n",
    "    'США': 'Вашингтон',\n",
    "    'Италия': 'Рим',\n",
    "    'Англия': 'Лондон'\n",
    "}\n",
    "\n",
    "country_capitals['США'] = 'Washington'\n",
    "country_capitals['Италия'] = 'Roma'\n",
    "country_capitals['Англия'] = 'London'\n",
    "\n",
    "print(country_capitals) "
   ]
  },
  {
   "cell_type": "raw",
   "id": "530e2a2a-1110-4611-b842-0b27ff74d8cf",
   "metadata": {},
   "source": [
    "Для удаления элемента из словаря можно использовать метод pop(). Он работает так же, как и со списками — удаляет элемент и возвращает значение, которое было удалено."
   ]
  },
  {
   "cell_type": "code",
   "execution_count": 38,
   "id": "6114c6d2-6e89-4c07-a309-86bc2424fbc7",
   "metadata": {},
   "outputs": [
    {
     "name": "stdout",
     "output_type": "stream",
     "text": [
      "{'США': 'Вашингтон', 'Италия': 'Рим'}\n",
      "Лондон\n"
     ]
    }
   ],
   "source": [
    "country_capitals = {\n",
    "    'США': 'Вашингтон',\n",
    "    'Италия': 'Рим',\n",
    "    'Англия': 'Лондон'\n",
    "}\n",
    "\n",
    "deleted_capital = country_capitals.pop('Англия')\n",
    "\n",
    "print(country_capitals)\n",
    "print(deleted_capital) "
   ]
  },
  {
   "cell_type": "raw",
   "id": "1ad8316f-e619-48eb-b3f1-802ba53a9cfe",
   "metadata": {},
   "source": [
    "!!!! КЛЮЧ В СЛОВАРЕ ИЗМЕНИТЬ НЕЛЬЗЯ !!!!!\n"
   ]
  },
  {
   "cell_type": "markdown",
   "id": "e46d5c31-01b7-4977-bf47-fdcce61440ea",
   "metadata": {},
   "source": [
    "### Список со словарями"
   ]
  },
  {
   "cell_type": "code",
   "execution_count": 41,
   "id": "6b15fc13-b1df-4a80-9b6a-535e99b5f0e4",
   "metadata": {},
   "outputs": [],
   "source": [
    "user_info_1 = {\n",
    "    'ФИО': 'Иван Иваныч',\n",
    "    'Дата регистрации': '01.01.2021',\n",
    "    'Дата последней покупки': '05.07.2023',\n",
    "    'Количество заказов': 123\n",
    "}\n",
    "\n",
    "user_info_2 = {\n",
    "    'ФИО': 'Пётр Васильич',\n",
    "    'Дата регистрации': '03.06.2020',\n",
    "    'Дата последней покупки': '20.07.2023',\n",
    "    'Количество заказов': 20\n",
    "}\n",
    "\n",
    "user_info_3 = {\n",
    "    'ФИО': 'Марья Петровна',\n",
    "    'Дата регистрации': '05.02.2018',\n",
    "    'Дата последней покупки': '20.05.2021',\n",
    "    'Количество заказов': 5\n",
    "} "
   ]
  },
  {
   "cell_type": "raw",
   "id": "62dd6636-175e-445e-bef3-b597baf341b2",
   "metadata": {},
   "source": [
    "Нам поможет список! Вы же помните, что любой тип объекта может стать элементом списка? Словарь не исключение.\n",
    "\n"
   ]
  },
  {
   "cell_type": "code",
   "execution_count": 43,
   "id": "28b97ba0-530a-4343-b90d-fc739121241c",
   "metadata": {},
   "outputs": [],
   "source": [
    "users = [user_info_1, user_info_2, user_info_3] #список словарей "
   ]
  },
  {
   "cell_type": "raw",
   "id": "129c6509-a43e-4237-950c-b4ec24eb5831",
   "metadata": {},
   "source": [
    "Такой способ хранения данных напоминает привычные таблицы. Попробуем найти общее количество заказов от всех пользователей."
   ]
  },
  {
   "cell_type": "code",
   "execution_count": 45,
   "id": "ac276b91-13ad-4bd2-ba5e-b14f4f42f6d6",
   "metadata": {},
   "outputs": [
    {
     "name": "stdout",
     "output_type": "stream",
     "text": [
      "148\n"
     ]
    }
   ],
   "source": [
    "orders = 0\n",
    "for user in users:\n",
    "        orders += user['Количество заказов']\n",
    "\n",
    "print(orders) "
   ]
  },
  {
   "cell_type": "raw",
   "id": "dc26adf9-a3a5-411e-9c95-0549c1e85a92",
   "metadata": {},
   "source": [
    "Повторим самое главное:\n",
    "Словарь состоит из ключа и значения. Значением может быть объект любого типа, а ключом, как правило, строка или число.\n",
    "Обращение к элементу словаря происходит по его ключу.\n",
    "В словарь можно добавлять новые элементы и удалять старые.\n",
    "Для того чтобы перебрать все элементы словаря в цикле, можно использовать метод items()."
   ]
  },
  {
   "cell_type": "markdown",
   "id": "6378d68f-e86b-4aa8-9bb3-ed9743c1fc73",
   "metadata": {},
   "source": [
    "# ПРАКТИКА"
   ]
  },
  {
   "cell_type": "code",
   "execution_count": 48,
   "id": "93a24539-37fa-4421-9462-0982301eb7b4",
   "metadata": {},
   "outputs": [
    {
     "name": "stdout",
     "output_type": "stream",
     "text": [
      "{'Крик': 'Мунк Эдвард', 'Неизвестная': 'Крамской Иван', 'Итальянский полдень': 'Брюллов Карл', 'Рожь': 'Шишкин Иван', 'Звёздная ночь': 'Ван Гог Винсент'}\n"
     ]
    }
   ],
   "source": [
    "arts_dict = {\n",
    "    'Крик': 'Мунк Эдвард',\n",
    "    'Неизвестная': 'Крамской Иван',\n",
    "    'Итальянский полдень': 'Брюллов Карл',\n",
    "    'Рожь': 'Шишкин Иван',\n",
    "    'Звёздная ночь': 'Ван Гог Винсент'\n",
    "}\n",
    "    #сохраните словарь\n",
    "\n",
    "print(arts_dict)"
   ]
  },
  {
   "cell_type": "code",
   "execution_count": 50,
   "id": "9ec2d654-bc08-4026-a1e7-236e97f17480",
   "metadata": {},
   "outputs": [],
   "source": [
    "arts_dict ['Девятый вал'] = 'Айвазовский Иван'"
   ]
  },
  {
   "cell_type": "code",
   "execution_count": 52,
   "id": "9627bc69-0b6e-4014-a672-523101db90f0",
   "metadata": {},
   "outputs": [
    {
     "data": {
      "text/plain": [
       "{'Крик': 'Мунк Эдвард',\n",
       " 'Неизвестная': 'Крамской Иван',\n",
       " 'Итальянский полдень': 'Брюллов Карл',\n",
       " 'Рожь': 'Шишкин Иван',\n",
       " 'Звёздная ночь': 'Ван Гог Винсент',\n",
       " 'Девятый вал': 'Айвазовский Иван'}"
      ]
     },
     "execution_count": 52,
     "metadata": {},
     "output_type": "execute_result"
    }
   ],
   "source": [
    "arts_dict\n"
   ]
  },
  {
   "cell_type": "code",
   "execution_count": 64,
   "id": "d19f1108-0775-4acc-9998-0ce783b74cdf",
   "metadata": {},
   "outputs": [
    {
     "name": "stdout",
     "output_type": "stream",
     "text": [
      "Такая картина есть! Автор: Айвазовский Иван\n",
      "Такая картина есть! Автор: Шишкин Иван\n",
      "К сожалению, такой картины не нашлось.\n"
     ]
    }
   ],
   "source": [
    "def art_check(art):\n",
    "    arts_dict = {\n",
    "        'Звёздная ночь': 'Ван Гог Винсент',\n",
    "        'Крик': 'Мунк Эдвард',\n",
    "        'Неизвестная': 'Крамской Иван',\n",
    "        'Итальянский полдень': 'Брюллов Карл',\n",
    "        'Рожь': 'Шишкин Иван',\n",
    "        'Девятый вал': 'Айвазовский Иван'\n",
    "    }\n",
    "    #проверьте, есть ли картина art в словаре arts_dict \n",
    "    artist = arts_dict.get(art)\n",
    "    if artist:\n",
    "        artist = arts_dict[art]\n",
    "        print(f'Такая картина есть! Автор: {artist}')\n",
    "    else:\n",
    "        print(f'К сожалению, такой картины не нашлось.')\n",
    "\n",
    "art_check('Девятый вал')\n",
    "art_check('Рожь')\n",
    "art_check('Среди волн')"
   ]
  },
  {
   "cell_type": "code",
   "execution_count": 68,
   "id": "48974293-91e0-41b9-82f4-6d53062c5f5c",
   "metadata": {},
   "outputs": [
    {
     "name": "stdout",
     "output_type": "stream",
     "text": [
      "Итальянский полдень 1827\n"
     ]
    }
   ],
   "source": [
    "arts_dict = {\n",
    "    'Звёздная ночь': {\n",
    "        'authour': 'Ван Гог Винсент',\n",
    "        'year': 1889\n",
    "    },\n",
    "    'Крик': {\n",
    "        'authour': 'Мунк Эдвард',\n",
    "        'year': 1910\n",
    "    },\n",
    "    'Неизвестная': {\n",
    "        'authour': 'Крамской Иван',\n",
    "        'year': 1883\n",
    "    },\n",
    "    'Итальянский полдень': {\n",
    "        'authour': 'Брюллов Карл',\n",
    "        'year': 1827\n",
    "    },\n",
    "    'Рожь': {\n",
    "        'authour': 'Шишкин Иван',\n",
    "        'year': 1878\n",
    "    },\n",
    "    'Девятый вал': {\n",
    "        'authour': 'Айвазовский Иван',\n",
    "        'year': 1850\n",
    "    }\n",
    "}\n",
    "\n",
    "year = 2024\n",
    "# найдите самую старую картину\n",
    "oldest_art = None\n",
    "oldest_year = float('inf')\n",
    "\n",
    "for art_name, art_info in arts_dict.items():\n",
    "    if art_info['year'] < oldest_year:\n",
    "        oldest_year = art_info['year']\n",
    "        oldest_art = art_name\n",
    "\n",
    "\n",
    "\n",
    "\n",
    "print(oldest_art, oldest_year)"
   ]
  },
  {
   "cell_type": "markdown",
   "id": "3483bb6b-6325-4931-9a71-3225987d9a70",
   "metadata": {},
   "source": [
    "# Что если данных очень много"
   ]
  },
  {
   "cell_type": "raw",
   "id": "27da3912-5298-49e4-89ce-13689c02f5cd",
   "metadata": {},
   "source": [
    "В Python мы не можем просто так создать таблицу. Но мы можем попробовать сделать что-то похожее на неё. Например, представим, что каждая колонка в нашей таблице — это отдельный список."
   ]
  },
  {
   "cell_type": "code",
   "execution_count": 71,
   "id": "5a5f0c4f-0e34-4689-8eac-c9a6af7746cc",
   "metadata": {},
   "outputs": [],
   "source": [
    "incomes = [100, 250, 340, 2000]\n",
    "expenses = [90, 260, 100, 1800] "
   ]
  },
  {
   "cell_type": "code",
   "execution_count": 73,
   "id": "163cc1bc-c963-40f7-91e7-dcd7f7edf79a",
   "metadata": {},
   "outputs": [
    {
     "name": "stdout",
     "output_type": "stream",
     "text": [
      "[10, -10, 240, 200]\n"
     ]
    }
   ],
   "source": [
    "incomes = [100, 250, 340, 2000] # Создадим список с доходами\n",
    "expenses = [90, 260, 100, 1800] # Список с расходами\n",
    "profits = []\n",
    "\n",
    "for i in range(len(incomes)): # Пройдёмся в цикле по каждому заказу\n",
    "    # Для каждого заказа вычтем расходы из доходов\n",
    "    profits.append(incomes[i] - expenses[i]) \n",
    "\n",
    "print(profits) "
   ]
  },
  {
   "cell_type": "code",
   "execution_count": 75,
   "id": "be04fbe0-1335-4eb5-b58f-ee4e09b0ceb1",
   "metadata": {},
   "outputs": [
    {
     "name": "stdout",
     "output_type": "stream",
     "text": [
      "[-10]\n"
     ]
    }
   ],
   "source": [
    "negative_profit = [] # Список убыточных заказов\n",
    "\n",
    "for i in range(len(profits)):\n",
    "    if profits[i] <= 0: # Если заказ неприбыльный\n",
    "    # То добавим убыток в список\n",
    "        negative_profit.append(profits[i])  \n",
    "\n",
    "print(negative_profit) "
   ]
  },
  {
   "cell_type": "code",
   "execution_count": 77,
   "id": "799d8a90-be42-42e3-a343-5821dec4aded",
   "metadata": {},
   "outputs": [
    {
     "name": "stdout",
     "output_type": "stream",
     "text": [
      "['002']\n"
     ]
    }
   ],
   "source": [
    "orders = ['001', '002', '003', '004'] # Список с номерами заказов\n",
    "incomes = [100, 250, 340, 2000]\n",
    "expenses = [90, 260, 100, 1800]\n",
    "\n",
    "negative_profit_orders = []\n",
    "\n",
    "for i in range(len(incomes)):\n",
    "    # Если для заказа отрицательная прибыль\n",
    "    if incomes[i] - expenses[i] < 0: \n",
    "        # То сохраним номер заказа\n",
    "        negative_profit_orders.append(orders[i]) \n",
    "\n",
    "print(negative_profit_orders) "
   ]
  },
  {
   "cell_type": "markdown",
   "id": "e9cfe288-d0e2-4b59-80eb-19a8d3d91522",
   "metadata": {},
   "source": [
    "## Как использовать Pandas"
   ]
  },
  {
   "cell_type": "code",
   "execution_count": 80,
   "id": "e3f875b5-23a5-40dc-b8b7-6e844976e98b",
   "metadata": {},
   "outputs": [],
   "source": [
    "import pandas as pd "
   ]
  },
  {
   "cell_type": "code",
   "execution_count": 82,
   "id": "02cbff46-b521-461c-8ad4-02655296aff3",
   "metadata": {},
   "outputs": [
    {
     "name": "stdout",
     "output_type": "stream",
     "text": [
      "2.2.2\n"
     ]
    }
   ],
   "source": [
    "print(pd.__version__) "
   ]
  },
  {
   "cell_type": "raw",
   "id": "b5443446-9206-4061-8305-01de3546bdcc",
   "metadata": {},
   "source": [
    "Если нужна конкретная версия, то укажите её после двойного знака ==:\n",
    "pip install pandas==2.0.1 "
   ]
  },
  {
   "cell_type": "markdown",
   "id": "e6a0a32f-560c-462e-beeb-561feba808f1",
   "metadata": {},
   "source": [
    "## Типы данных DataFrame и Series"
   ]
  },
  {
   "cell_type": "markdown",
   "id": "6dc707e6-7a14-40d3-88e5-9a6e2d919255",
   "metadata": {},
   "source": [
    "### DataFrame"
   ]
  },
  {
   "cell_type": "raw",
   "id": "b4968924-abcf-4290-815c-0582b3c5822e",
   "metadata": {},
   "source": [
    "Датафрейм\n",
    "Работать с таблицами в Pandas помогает специальная структура — датафрейм (англ. DataFrame). \n",
    "Датафрейм состоит из колонок и строк — всё, как в таблице. У колонок есть названия, а у строки — индекс (неформально говоря, номер)."
   ]
  },
  {
   "cell_type": "raw",
   "id": "5605055e-b4c3-4c1b-ac4d-ea7195f9d618",
   "metadata": {},
   "source": [
    "С датафреймом можно работать как с обычной таблицей. Его можно изменять, дополнять и удалять. Например, можно добавить новую колонку или новую строку."
   ]
  },
  {
   "cell_type": "markdown",
   "id": "86158c5d-8999-4c39-b1b4-c7903f665e55",
   "metadata": {},
   "source": [
    "### Series"
   ]
  },
  {
   "cell_type": "raw",
   "id": "dc4adb02-c20f-4a73-b768-7ab702cc559a",
   "metadata": {},
   "source": [
    "Серия\n",
    "Объект датафрейм состоит из объектов типа серия. Если мы обратимся к конкретной колонке или строке датафрейма, то будем работать уже с объектом типа серия."
   ]
  },
  {
   "cell_type": "raw",
   "id": "0de0d549-815e-41f4-a6d0-0d34abd51891",
   "metadata": {},
   "source": [
    "У серий есть несколько атрибутов, основные — два: название name и тип объектов в ячейках dtype (англ. data type — тип данных)."
   ]
  },
  {
   "cell_type": "code",
   "execution_count": null,
   "id": "2828896d-86ac-4fe2-b81a-eaf81b02d204",
   "metadata": {},
   "outputs": [],
   "source": []
  }
 ],
 "metadata": {
  "kernelspec": {
   "display_name": "Python [conda env:base] *",
   "language": "python",
   "name": "conda-base-py"
  },
  "language_info": {
   "codemirror_mode": {
    "name": "ipython",
    "version": 3
   },
   "file_extension": ".py",
   "mimetype": "text/x-python",
   "name": "python",
   "nbconvert_exporter": "python",
   "pygments_lexer": "ipython3",
   "version": "3.12.7"
  }
 },
 "nbformat": 4,
 "nbformat_minor": 5
}
