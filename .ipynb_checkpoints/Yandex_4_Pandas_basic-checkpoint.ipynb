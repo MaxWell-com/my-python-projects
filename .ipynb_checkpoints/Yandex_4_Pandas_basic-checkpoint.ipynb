{
 "cells": [
  {
   "cell_type": "markdown",
   "id": "3ad01924-5a36-4c78-aa04-a06bb87304c7",
   "metadata": {},
   "source": [
    "## Словари"
   ]
  },
  {
   "cell_type": "raw",
   "id": "07da3d49-4b68-4410-9c2b-d29bd2ae3043",
   "metadata": {},
   "source": [
    "Словари в Python устроены так же. Каждый элемент словаря — пара из ключа и значения:\n",
    "ключ — то, что мы ищем в словаре. Ключом может быть строка или число;\n",
    "значение — данные, к которым ведёт этот ключ. В отличие от ключа, значением может быть объект любого типа: не только строка или число, но и, например, список.\n",
    "Для словарей в Python есть свой тип объекта — dict."
   ]
  },
  {
   "cell_type": "markdown",
   "id": "65c29b5f-b2e8-46d3-96b7-d4e37dd035b1",
   "metadata": {},
   "source": [
    "### Создание словаря"
   ]
  },
  {
   "cell_type": "raw",
   "id": "5f02c360-0f20-415e-9d4c-1ee824ecef50",
   "metadata": {},
   "source": [
    "Есть несколько правил синтаксиса для создания словаря:\n",
    "словари записываются в фигурных скобках { };\n",
    "элементы словаря перечисляются через запятую;\n",
    "ключ и значение разделяют двоеточием :."
   ]
  },
  {
   "cell_type": "code",
   "execution_count": 3,
   "id": "105bbd70-cf73-4b47-8f3f-4377616245d3",
   "metadata": {},
   "outputs": [],
   "source": [
    "schedule = {                    # элементы словаря заключают в фигурные скобки\n",
    "    'SU2222': '12.06.23 12:30', # слева от двоеточия — ключ, справа — значение\n",
    "    'SU1111': '12.06.23 14:05', # каждый элемент отделяется запятой\n",
    "    'SU0777': '12.06.23 17:00',\n",
    "    'SU5555': '15.06.23 11:25'\n",
    "} "
   ]
  },
  {
   "cell_type": "code",
   "execution_count": 4,
   "id": "c08d2864-63eb-48e0-88fb-5dfd35cb27c8",
   "metadata": {},
   "outputs": [
    {
     "name": "stdout",
     "output_type": "stream",
     "text": [
      "{'SU2222': '12.06.23 12:30', 'SU1111': '12.06.23 14:05', 'SU0777': '12.06.23 17:00', 'SU5555': '15.06.23 11:25'}\n"
     ]
    }
   ],
   "source": [
    "print(schedule) "
   ]
  },
  {
   "cell_type": "code",
   "execution_count": 5,
   "id": "66f3a9fe-f420-40ac-8db4-d740febc6fa9",
   "metadata": {},
   "outputs": [
    {
     "name": "stdout",
     "output_type": "stream",
     "text": [
      "12.06.23 12:30\n",
      "12.06.23 14:05\n"
     ]
    }
   ],
   "source": [
    "schedule = {                    \n",
    "    'SU2222': '12.06.23 12:30', \n",
    "    'SU1111': '12.06.23 14:05', \n",
    "    'SU0777': '12.06.23 17:00',\n",
    "    'SU5555': '15.06.23 11:25'\n",
    "}\n",
    "\n",
    "print(schedule['SU2222'])\n",
    "print(schedule['SU1111']) "
   ]
  },
  {
   "cell_type": "raw",
   "id": "038ed313-48e2-4968-807a-e38ec4e7ddad",
   "metadata": {},
   "source": [
    "Если мы заранее не знаем, есть ли такой ключ, то нужно использовать метод get():"
   ]
  },
  {
   "cell_type": "code",
   "execution_count": 6,
   "id": "ed25f15c-805c-4cac-b986-d1a39d6bdff7",
   "metadata": {},
   "outputs": [
    {
     "name": "stdout",
     "output_type": "stream",
     "text": [
      "None\n"
     ]
    }
   ],
   "source": [
    "schedule = {                    \n",
    "    'SU2222': '12.06.23 12:30', \n",
    "    'SU1111': '12.06.23 14:05', \n",
    "    'SU0777': '12.06.23 17:00',\n",
    "    'SU5555': '15.06.23 11:25'\n",
    "}\n",
    "\n",
    "print(schedule.get('DP6831')) "
   ]
  },
  {
   "cell_type": "markdown",
   "id": "f9cb50bc-828d-4a39-9392-cbcbd05937d8",
   "metadata": {},
   "source": [
    "### Какие данные может хранить словарь?"
   ]
  },
  {
   "cell_type": "raw",
   "id": "33bb42fc-c530-4edb-b35c-775150908c8d",
   "metadata": {},
   "source": [
    "Значениями словаря могут быть числа и строки, но не только. Списки тоже можно хранить. Создадим ещё один словарь с рейсами, но для каждого сохраним расписание сразу на несколько лет вперёд. Для этого используем списки. "
   ]
  },
  {
   "cell_type": "code",
   "execution_count": 8,
   "id": "2284082f-28e2-4dd7-b2bd-b3dd12987ecf",
   "metadata": {},
   "outputs": [
    {
     "name": "stdout",
     "output_type": "stream",
     "text": [
      "['12.06.23 12:30', '12.06.24 18:30', '12.06.25 22:30']\n"
     ]
    }
   ],
   "source": [
    "schedule = {                   \n",
    "    'SU2222': ['12.06.23 12:30', '12.06.24 18:30', '12.06.25 22:30'], \n",
    "    'SU1111': ['12.06.23 14:05', '12.06.24 20:05', '12.06.25 23:05'], \n",
    "    'SU0777': ['12.06.23 17:00', '12.06.24 21:00', '12.06.25 21:00'],\n",
    "    'SU5555': ['15.06.23 11:25', '12.06.24 17:25', '12.06.25 22:25'], \n",
    "}\n",
    "\n",
    "print(schedule['SU2222']) "
   ]
  },
  {
   "cell_type": "raw",
   "id": "875851fe-a40e-4de2-8068-7f6c9b8c0bf6",
   "metadata": {},
   "source": [
    "А ещё значениями словаря могут быть другие словари. Их называют вложенными. "
   ]
  },
  {
   "cell_type": "code",
   "execution_count": 9,
   "id": "4a74093f-0239-40cd-abf6-5a7fbfff56f1",
   "metadata": {},
   "outputs": [],
   "source": [
    "schedule = {\n",
    "    'Аэрофлот': {\n",
    "        'SU2222': '12.06.23 12:30',\n",
    "        'SU1111': '12.06.23 14:05',\n",
    "        'SU0777': '12.06.23 17:00',\n",
    "        'SU5555': '15.06.23 11:25'},\n",
    "    'Победа': {\n",
    "        'DP6831': '12.06.23 09:30', \n",
    "        'DP6800': '12.06.23 11:05'},\n",
    "    'Nordwind Airlines': {\n",
    "        'N40001': '12.06.23 08:15', \n",
    "        'N48321': '12.06.23 19:15'}\n",
    "    } "
   ]
  },
  {
   "cell_type": "code",
   "execution_count": 10,
   "id": "b45a8c6b-d741-4ebd-ad7c-48b59e64cb5c",
   "metadata": {},
   "outputs": [
    {
     "name": "stdout",
     "output_type": "stream",
     "text": [
      "{'SU2222': '12.06.23 12:30', 'SU1111': '12.06.23 14:05', 'SU0777': '12.06.23 17:00', 'SU5555': '15.06.23 11:25'}\n"
     ]
    }
   ],
   "source": [
    "aeroflot_flights = schedule['Аэрофлот']\n",
    "\n",
    "print(aeroflot_flights) "
   ]
  },
  {
   "cell_type": "code",
   "execution_count": 11,
   "id": "83779ed7-bb3e-4017-92f5-8b4a4fafc14b",
   "metadata": {},
   "outputs": [],
   "source": [
    "current_flight = schedule['Аэрофлот']['SU2222'] "
   ]
  },
  {
   "cell_type": "code",
   "execution_count": 12,
   "id": "da4913aa-88a8-4e10-bc58-176f62c85d55",
   "metadata": {},
   "outputs": [
    {
     "name": "stdout",
     "output_type": "stream",
     "text": [
      "12.06.23 12:30\n"
     ]
    }
   ],
   "source": [
    "print(current_flight) "
   ]
  },
  {
   "cell_type": "raw",
   "id": "5514ba51-16cf-4c03-b69e-9b5b3039b307",
   "metadata": {},
   "source": [
    "!!!!!! Ключами словаря не могут стать изменяемые объекты, например списки или словари. Обычно ключами в словаре являются строки или числа, будем придерживаться этого."
   ]
  },
  {
   "cell_type": "markdown",
   "id": "c6e88297-49fe-4f7f-a5b4-b4cc30619e4b",
   "metadata": {},
   "source": [
    "### Поиск в словаре"
   ]
  },
  {
   "cell_type": "code",
   "execution_count": 14,
   "id": "219ae4a0-90f9-4dac-9888-449222ade781",
   "metadata": {},
   "outputs": [],
   "source": [
    "country_capitals = {\n",
    "    'США': 'Вашингтон',\n",
    "    'Италия': 'Рим',\n",
    "    'Англия': 'Лондон'\n",
    "} "
   ]
  },
  {
   "cell_type": "raw",
   "id": "d9d58675-697e-4d88-a4d7-304f183fc04f",
   "metadata": {},
   "source": [
    "Иногда нам может потребоваться получить набор из всех ключей, которые есть в словаре. Например, найдём и выведем все страны (страна — это ключ), название которых состоит из трёх символов. Для этого воспользуемся методом keys()."
   ]
  },
  {
   "cell_type": "code",
   "execution_count": 15,
   "id": "6b9e76d4-3502-44ad-83b9-3eb129350176",
   "metadata": {},
   "outputs": [
    {
     "name": "stdout",
     "output_type": "stream",
     "text": [
      "США\n"
     ]
    }
   ],
   "source": [
    "all_countries = country_capitals.keys()\n",
    "\n",
    "for country in all_countries:\n",
    "    if len(country) == 3:\n",
    "        print(country) "
   ]
  },
  {
   "cell_type": "raw",
   "id": "731e92bf-c3b2-447e-be9e-63591137701a",
   "metadata": {},
   "source": [
    "Точно так же мы можем сразу найти и все значения, которые есть в словаре. Найдём все столицы (столица — это значение), название которых состоит из трёх символов. Для этого воспользуемся методом values()."
   ]
  },
  {
   "cell_type": "code",
   "execution_count": 16,
   "id": "e689f3f7-19a7-407d-b506-629f86752170",
   "metadata": {},
   "outputs": [
    {
     "name": "stdout",
     "output_type": "stream",
     "text": [
      "Рим\n"
     ]
    }
   ],
   "source": [
    "all_capitals = country_capitals.values()\n",
    "\n",
    "for capital in all_capitals:\n",
    "    if len(capital) == 3:\n",
    "        print(capital) "
   ]
  },
  {
   "cell_type": "raw",
   "id": "99699eb5-7675-494b-8d10-92829ee46184",
   "metadata": {},
   "source": [
    "Словарь отлично подходит для поиска значения по его ключу. Но что, если, наоборот, необходимо найти ключ по его значению? "
   ]
  },
  {
   "cell_type": "code",
   "execution_count": 17,
   "id": "a02e8198-a67f-4600-a530-3e9c37660a59",
   "metadata": {},
   "outputs": [
    {
     "name": "stdout",
     "output_type": "stream",
     "text": [
      "Италия\n"
     ]
    }
   ],
   "source": [
    "country_capitals = {\n",
    "    'США': 'Вашингтон',\n",
    "    'Италия': 'Рим',\n",
    "    'Англия': 'Лондон'\n",
    "}\n",
    "rome_country = ''\n",
    "\n",
    "for country in country_capitals.keys(): # keys() вернёт список всех стран\n",
    "    capital = country_capitals[country] # сохраним столицу текущей страны\n",
    "    if capital == 'Рим':       # если столица Рим\n",
    "        rome_country = country # то сохраним страну в переменной rome_country\n",
    "        break                  # и завершим цикл\n",
    "                               # если столица не Рим, то продолжаем цикл\n",
    "\n",
    "print(rome_country) "
   ]
  },
  {
   "cell_type": "raw",
   "id": "434549a8-e19b-4533-b83c-8efecbcbab79",
   "metadata": {},
   "source": [
    "А что, если сразу получать эту пару — ключ-значение? Да, так тоже можно! Для этого воспользуемся методом items():"
   ]
  },
  {
   "cell_type": "code",
   "execution_count": 18,
   "id": "0efdf2b5-a60f-4658-95e5-e41190a027ac",
   "metadata": {},
   "outputs": [
    {
     "name": "stdout",
     "output_type": "stream",
     "text": [
      "США Вашингтон\n",
      "Италия Рим\n",
      "Англия Лондон\n"
     ]
    }
   ],
   "source": [
    "country_capitals = {\n",
    "    'США': 'Вашингтон',\n",
    "    'Италия': 'Рим',\n",
    "    'Англия': 'Лондон'\n",
    "}\n",
    "\n",
    "for country, capital in country_capitals.items():\n",
    "    print(country, capital) "
   ]
  },
  {
   "cell_type": "markdown",
   "id": "de4ba5d3-c6ef-4757-a4c6-90dadd8f9784",
   "metadata": {},
   "source": [
    "### Действия со словарями"
   ]
  },
  {
   "cell_type": "raw",
   "id": "74aaa7ce-4033-4ff4-9992-8660037f8f0f",
   "metadata": {},
   "source": [
    "Работа со словарями очень похожа на работу со списками. В словарь можно добавлять новые элементы, изменять их и удалять. "
   ]
  },
  {
   "cell_type": "code",
   "execution_count": 20,
   "id": "764ae39a-52cb-450c-b61e-765b405cd176",
   "metadata": {},
   "outputs": [
    {
     "name": "stdout",
     "output_type": "stream",
     "text": [
      "{'США': 'Вашингтон', 'Италия': 'Рим', 'Англия': 'Лондон', 'Россия': 'Москва'}\n"
     ]
    }
   ],
   "source": [
    "country_capitals = {\n",
    "    'США': 'Вашингтон',\n",
    "    'Италия': 'Рим',\n",
    "    'Англия': 'Лондон'\n",
    "}\n",
    "country_capitals['Россия'] = 'Москва'\n",
    "\n",
    "print(country_capitals) "
   ]
  },
  {
   "cell_type": "raw",
   "id": "37a7b8c1-8107-4404-919e-1bdba76b0687",
   "metadata": {},
   "source": [
    "Если такой ключ уже есть в словаре, то его значение обновится."
   ]
  },
  {
   "cell_type": "code",
   "execution_count": 21,
   "id": "ca46f8ca-a888-462c-b32e-f043cb86bfe9",
   "metadata": {},
   "outputs": [
    {
     "name": "stdout",
     "output_type": "stream",
     "text": [
      "{'США': 'Washington', 'Италия': 'Roma', 'Англия': 'London'}\n"
     ]
    }
   ],
   "source": [
    "country_capitals = {\n",
    "    'США': 'Вашингтон',\n",
    "    'Италия': 'Рим',\n",
    "    'Англия': 'Лондон'\n",
    "}\n",
    "\n",
    "country_capitals['США'] = 'Washington'\n",
    "country_capitals['Италия'] = 'Roma'\n",
    "country_capitals['Англия'] = 'London'\n",
    "\n",
    "print(country_capitals) "
   ]
  },
  {
   "cell_type": "raw",
   "id": "530e2a2a-1110-4611-b842-0b27ff74d8cf",
   "metadata": {},
   "source": [
    "Для удаления элемента из словаря можно использовать метод pop(). Он работает так же, как и со списками — удаляет элемент и возвращает значение, которое было удалено."
   ]
  },
  {
   "cell_type": "code",
   "execution_count": 22,
   "id": "6114c6d2-6e89-4c07-a309-86bc2424fbc7",
   "metadata": {},
   "outputs": [
    {
     "name": "stdout",
     "output_type": "stream",
     "text": [
      "{'США': 'Вашингтон', 'Италия': 'Рим'}\n",
      "Лондон\n"
     ]
    }
   ],
   "source": [
    "country_capitals = {\n",
    "    'США': 'Вашингтон',\n",
    "    'Италия': 'Рим',\n",
    "    'Англия': 'Лондон'\n",
    "}\n",
    "\n",
    "deleted_capital = country_capitals.pop('Англия')\n",
    "\n",
    "print(country_capitals)\n",
    "print(deleted_capital) "
   ]
  },
  {
   "cell_type": "raw",
   "id": "1ad8316f-e619-48eb-b3f1-802ba53a9cfe",
   "metadata": {},
   "source": [
    "!!!! КЛЮЧ В СЛОВАРЕ ИЗМЕНИТЬ НЕЛЬЗЯ !!!!!\n"
   ]
  },
  {
   "cell_type": "markdown",
   "id": "e46d5c31-01b7-4977-bf47-fdcce61440ea",
   "metadata": {},
   "source": [
    "### Список со словарями"
   ]
  },
  {
   "cell_type": "code",
   "execution_count": 24,
   "id": "6b15fc13-b1df-4a80-9b6a-535e99b5f0e4",
   "metadata": {},
   "outputs": [],
   "source": [
    "user_info_1 = {\n",
    "    'ФИО': 'Иван Иваныч',\n",
    "    'Дата регистрации': '01.01.2021',\n",
    "    'Дата последней покупки': '05.07.2023',\n",
    "    'Количество заказов': 123\n",
    "}\n",
    "\n",
    "user_info_2 = {\n",
    "    'ФИО': 'Пётр Васильич',\n",
    "    'Дата регистрации': '03.06.2020',\n",
    "    'Дата последней покупки': '20.07.2023',\n",
    "    'Количество заказов': 20\n",
    "}\n",
    "\n",
    "user_info_3 = {\n",
    "    'ФИО': 'Марья Петровна',\n",
    "    'Дата регистрации': '05.02.2018',\n",
    "    'Дата последней покупки': '20.05.2021',\n",
    "    'Количество заказов': 5\n",
    "} "
   ]
  },
  {
   "cell_type": "raw",
   "id": "62dd6636-175e-445e-bef3-b597baf341b2",
   "metadata": {},
   "source": [
    "Нам поможет список! Вы же помните, что любой тип объекта может стать элементом списка? Словарь не исключение.\n",
    "\n"
   ]
  },
  {
   "cell_type": "code",
   "execution_count": 25,
   "id": "28b97ba0-530a-4343-b90d-fc739121241c",
   "metadata": {},
   "outputs": [],
   "source": [
    "users = [user_info_1, user_info_2, user_info_3] #список словарей "
   ]
  },
  {
   "cell_type": "raw",
   "id": "129c6509-a43e-4237-950c-b4ec24eb5831",
   "metadata": {},
   "source": [
    "Такой способ хранения данных напоминает привычные таблицы. Попробуем найти общее количество заказов от всех пользователей."
   ]
  },
  {
   "cell_type": "code",
   "execution_count": 26,
   "id": "ac276b91-13ad-4bd2-ba5e-b14f4f42f6d6",
   "metadata": {},
   "outputs": [
    {
     "name": "stdout",
     "output_type": "stream",
     "text": [
      "148\n"
     ]
    }
   ],
   "source": [
    "orders = 0\n",
    "for user in users:\n",
    "        orders += user['Количество заказов']\n",
    "\n",
    "print(orders) "
   ]
  },
  {
   "cell_type": "raw",
   "id": "dc26adf9-a3a5-411e-9c95-0549c1e85a92",
   "metadata": {},
   "source": [
    "Повторим самое главное:\n",
    "Словарь состоит из ключа и значения. Значением может быть объект любого типа, а ключом, как правило, строка или число.\n",
    "Обращение к элементу словаря происходит по его ключу.\n",
    "В словарь можно добавлять новые элементы и удалять старые.\n",
    "Для того чтобы перебрать все элементы словаря в цикле, можно использовать метод items()."
   ]
  },
  {
   "cell_type": "markdown",
   "id": "6378d68f-e86b-4aa8-9bb3-ed9743c1fc73",
   "metadata": {},
   "source": [
    "# ПРАКТИКА"
   ]
  },
  {
   "cell_type": "code",
   "execution_count": 28,
   "id": "93a24539-37fa-4421-9462-0982301eb7b4",
   "metadata": {},
   "outputs": [
    {
     "name": "stdout",
     "output_type": "stream",
     "text": [
      "{'Крик': 'Мунк Эдвард', 'Неизвестная': 'Крамской Иван', 'Итальянский полдень': 'Брюллов Карл', 'Рожь': 'Шишкин Иван', 'Звёздная ночь': 'Ван Гог Винсент'}\n"
     ]
    }
   ],
   "source": [
    "arts_dict = {\n",
    "    'Крик': 'Мунк Эдвард',\n",
    "    'Неизвестная': 'Крамской Иван',\n",
    "    'Итальянский полдень': 'Брюллов Карл',\n",
    "    'Рожь': 'Шишкин Иван',\n",
    "    'Звёздная ночь': 'Ван Гог Винсент'\n",
    "}\n",
    "    #сохраните словарь\n",
    "\n",
    "print(arts_dict)"
   ]
  },
  {
   "cell_type": "code",
   "execution_count": 29,
   "id": "9ec2d654-bc08-4026-a1e7-236e97f17480",
   "metadata": {},
   "outputs": [],
   "source": [
    "arts_dict ['Девятый вал'] = 'Айвазовский Иван'"
   ]
  },
  {
   "cell_type": "code",
   "execution_count": 30,
   "id": "9627bc69-0b6e-4014-a672-523101db90f0",
   "metadata": {},
   "outputs": [
    {
     "data": {
      "text/plain": [
       "{'Крик': 'Мунк Эдвард',\n",
       " 'Неизвестная': 'Крамской Иван',\n",
       " 'Итальянский полдень': 'Брюллов Карл',\n",
       " 'Рожь': 'Шишкин Иван',\n",
       " 'Звёздная ночь': 'Ван Гог Винсент',\n",
       " 'Девятый вал': 'Айвазовский Иван'}"
      ]
     },
     "execution_count": 30,
     "metadata": {},
     "output_type": "execute_result"
    }
   ],
   "source": [
    "arts_dict\n"
   ]
  },
  {
   "cell_type": "code",
   "execution_count": 31,
   "id": "d19f1108-0775-4acc-9998-0ce783b74cdf",
   "metadata": {},
   "outputs": [
    {
     "name": "stdout",
     "output_type": "stream",
     "text": [
      "Такая картина есть! Автор: Айвазовский Иван\n",
      "Такая картина есть! Автор: Шишкин Иван\n",
      "К сожалению, такой картины не нашлось.\n"
     ]
    }
   ],
   "source": [
    "def art_check(art):\n",
    "    arts_dict = {\n",
    "        'Звёздная ночь': 'Ван Гог Винсент',\n",
    "        'Крик': 'Мунк Эдвард',\n",
    "        'Неизвестная': 'Крамской Иван',\n",
    "        'Итальянский полдень': 'Брюллов Карл',\n",
    "        'Рожь': 'Шишкин Иван',\n",
    "        'Девятый вал': 'Айвазовский Иван'\n",
    "    }\n",
    "    #проверьте, есть ли картина art в словаре arts_dict \n",
    "    artist = arts_dict.get(art)\n",
    "    if artist:\n",
    "        artist = arts_dict[art]\n",
    "        print(f'Такая картина есть! Автор: {artist}')\n",
    "    else:\n",
    "        print(f'К сожалению, такой картины не нашлось.')\n",
    "\n",
    "art_check('Девятый вал')\n",
    "art_check('Рожь')\n",
    "art_check('Среди волн')"
   ]
  },
  {
   "cell_type": "code",
   "execution_count": 32,
   "id": "48974293-91e0-41b9-82f4-6d53062c5f5c",
   "metadata": {},
   "outputs": [
    {
     "name": "stdout",
     "output_type": "stream",
     "text": [
      "Итальянский полдень 1827\n"
     ]
    }
   ],
   "source": [
    "arts_dict = {\n",
    "    'Звёздная ночь': {\n",
    "        'authour': 'Ван Гог Винсент',\n",
    "        'year': 1889\n",
    "    },\n",
    "    'Крик': {\n",
    "        'authour': 'Мунк Эдвард',\n",
    "        'year': 1910\n",
    "    },\n",
    "    'Неизвестная': {\n",
    "        'authour': 'Крамской Иван',\n",
    "        'year': 1883\n",
    "    },\n",
    "    'Итальянский полдень': {\n",
    "        'authour': 'Брюллов Карл',\n",
    "        'year': 1827\n",
    "    },\n",
    "    'Рожь': {\n",
    "        'authour': 'Шишкин Иван',\n",
    "        'year': 1878\n",
    "    },\n",
    "    'Девятый вал': {\n",
    "        'authour': 'Айвазовский Иван',\n",
    "        'year': 1850\n",
    "    }\n",
    "}\n",
    "\n",
    "year = 2024\n",
    "# найдите самую старую картину\n",
    "oldest_art = None\n",
    "oldest_year = float('inf')\n",
    "\n",
    "for art_name, art_info in arts_dict.items():\n",
    "    if art_info['year'] < oldest_year:\n",
    "        oldest_year = art_info['year']\n",
    "        oldest_art = art_name\n",
    "\n",
    "\n",
    "\n",
    "\n",
    "print(oldest_art, oldest_year)"
   ]
  },
  {
   "cell_type": "markdown",
   "id": "3483bb6b-6325-4931-9a71-3225987d9a70",
   "metadata": {},
   "source": [
    "# Что если данных очень много"
   ]
  },
  {
   "cell_type": "raw",
   "id": "27da3912-5298-49e4-89ce-13689c02f5cd",
   "metadata": {},
   "source": [
    "В Python мы не можем просто так создать таблицу. Но мы можем попробовать сделать что-то похожее на неё. Например, представим, что каждая колонка в нашей таблице — это отдельный список."
   ]
  },
  {
   "cell_type": "code",
   "execution_count": 34,
   "id": "5a5f0c4f-0e34-4689-8eac-c9a6af7746cc",
   "metadata": {},
   "outputs": [],
   "source": [
    "incomes = [100, 250, 340, 2000]\n",
    "expenses = [90, 260, 100, 1800] "
   ]
  },
  {
   "cell_type": "code",
   "execution_count": 35,
   "id": "163cc1bc-c963-40f7-91e7-dcd7f7edf79a",
   "metadata": {},
   "outputs": [
    {
     "name": "stdout",
     "output_type": "stream",
     "text": [
      "[10, -10, 240, 200]\n"
     ]
    }
   ],
   "source": [
    "incomes = [100, 250, 340, 2000] # Создадим список с доходами\n",
    "expenses = [90, 260, 100, 1800] # Список с расходами\n",
    "profits = []\n",
    "\n",
    "for i in range(len(incomes)): # Пройдёмся в цикле по каждому заказу\n",
    "    # Для каждого заказа вычтем расходы из доходов\n",
    "    profits.append(incomes[i] - expenses[i]) \n",
    "\n",
    "print(profits) "
   ]
  },
  {
   "cell_type": "code",
   "execution_count": 36,
   "id": "be04fbe0-1335-4eb5-b58f-ee4e09b0ceb1",
   "metadata": {},
   "outputs": [
    {
     "name": "stdout",
     "output_type": "stream",
     "text": [
      "[-10]\n"
     ]
    }
   ],
   "source": [
    "negative_profit = [] # Список убыточных заказов\n",
    "\n",
    "for i in range(len(profits)):\n",
    "    if profits[i] <= 0: # Если заказ неприбыльный\n",
    "    # То добавим убыток в список\n",
    "        negative_profit.append(profits[i])  \n",
    "\n",
    "print(negative_profit) "
   ]
  },
  {
   "cell_type": "code",
   "execution_count": 37,
   "id": "799d8a90-be42-42e3-a343-5821dec4aded",
   "metadata": {},
   "outputs": [
    {
     "name": "stdout",
     "output_type": "stream",
     "text": [
      "['002']\n"
     ]
    }
   ],
   "source": [
    "orders = ['001', '002', '003', '004'] # Список с номерами заказов\n",
    "incomes = [100, 250, 340, 2000]\n",
    "expenses = [90, 260, 100, 1800]\n",
    "\n",
    "negative_profit_orders = []\n",
    "\n",
    "for i in range(len(incomes)):\n",
    "    # Если для заказа отрицательная прибыль\n",
    "    if incomes[i] - expenses[i] < 0: \n",
    "        # То сохраним номер заказа\n",
    "        negative_profit_orders.append(orders[i]) \n",
    "\n",
    "print(negative_profit_orders) "
   ]
  },
  {
   "cell_type": "markdown",
   "id": "e9cfe288-d0e2-4b59-80eb-19a8d3d91522",
   "metadata": {},
   "source": [
    "## Как использовать Pandas"
   ]
  },
  {
   "cell_type": "code",
   "execution_count": 39,
   "id": "e3f875b5-23a5-40dc-b8b7-6e844976e98b",
   "metadata": {},
   "outputs": [],
   "source": [
    "import pandas as pd "
   ]
  },
  {
   "cell_type": "code",
   "execution_count": 40,
   "id": "02cbff46-b521-461c-8ad4-02655296aff3",
   "metadata": {},
   "outputs": [
    {
     "name": "stdout",
     "output_type": "stream",
     "text": [
      "2.2.2\n"
     ]
    }
   ],
   "source": [
    "print(pd.__version__) "
   ]
  },
  {
   "cell_type": "raw",
   "id": "b5443446-9206-4061-8305-01de3546bdcc",
   "metadata": {},
   "source": [
    "Если нужна конкретная версия, то укажите её после двойного знака ==:\n",
    "pip install pandas==2.0.1 "
   ]
  },
  {
   "cell_type": "markdown",
   "id": "e6a0a32f-560c-462e-beeb-561feba808f1",
   "metadata": {},
   "source": [
    "## Типы данных DataFrame и Series"
   ]
  },
  {
   "cell_type": "markdown",
   "id": "6dc707e6-7a14-40d3-88e5-9a6e2d919255",
   "metadata": {},
   "source": [
    "### DataFrame"
   ]
  },
  {
   "cell_type": "raw",
   "id": "b4968924-abcf-4290-815c-0582b3c5822e",
   "metadata": {},
   "source": [
    "Датафрейм\n",
    "Работать с таблицами в Pandas помогает специальная структура — датафрейм (англ. DataFrame). \n",
    "Датафрейм состоит из колонок и строк — всё, как в таблице. У колонок есть названия, а у строки — индекс (неформально говоря, номер)."
   ]
  },
  {
   "cell_type": "raw",
   "id": "5605055e-b4c3-4c1b-ac4d-ea7195f9d618",
   "metadata": {},
   "source": [
    "С датафреймом можно работать как с обычной таблицей. Его можно изменять, дополнять и удалять. Например, можно добавить новую колонку или новую строку."
   ]
  },
  {
   "cell_type": "markdown",
   "id": "86158c5d-8999-4c39-b1b4-c7903f665e55",
   "metadata": {},
   "source": [
    "### Series"
   ]
  },
  {
   "cell_type": "raw",
   "id": "dc4adb02-c20f-4a73-b768-7ab702cc559a",
   "metadata": {},
   "source": [
    "Серия\n",
    "Объект датафрейм состоит из объектов типа серия. Если мы обратимся к конкретной колонке или строке датафрейма, то будем работать уже с объектом типа серия."
   ]
  },
  {
   "cell_type": "raw",
   "id": "0de0d549-815e-41f4-a6d0-0d34abd51891",
   "metadata": {},
   "source": [
    "У серий есть несколько атрибутов, основные — два: название name и тип объектов в ячейках dtype (англ. data type — тип данных)."
   ]
  },
  {
   "cell_type": "markdown",
   "id": "d8f5adad-89ec-46b5-b7ac-2322022ccfd9",
   "metadata": {},
   "source": [
    "## Создание и заполнение датафрейма вручную"
   ]
  },
  {
   "cell_type": "code",
   "execution_count": 45,
   "id": "aa070c5e-9b14-4d48-9974-27aa6f288f87",
   "metadata": {},
   "outputs": [],
   "source": [
    "df = pd.DataFrame() "
   ]
  },
  {
   "cell_type": "code",
   "execution_count": 46,
   "id": "8a9173a9-5d93-4c3c-a27f-4912005da25b",
   "metadata": {},
   "outputs": [
    {
     "name": "stdout",
     "output_type": "stream",
     "text": [
      "<class 'pandas.core.frame.DataFrame'>\n"
     ]
    }
   ],
   "source": [
    "print(type(df)) "
   ]
  },
  {
   "cell_type": "raw",
   "id": "0bac336b-1009-43d1-b3e8-1013acac2b0e",
   "metadata": {},
   "source": [
    "При создании датафрейма, мы можем указать специальные параметры. Они определяют то, какие данные и каким именно образом будут храниться в датафрейме:\n",
    "data — содержимое DataFrame;\n",
    "index — значения индексов в DataFrame;\n",
    "columns — название колонок в DataFrame.\n"
   ]
  },
  {
   "cell_type": "raw",
   "id": "3f7d494b-1e5c-473f-add1-aff4a612e3cf",
   "metadata": {},
   "source": [
    "Чтобы датафреймы были полезны, необходимо, чтобы они хранили какие-то данные"
   ]
  },
  {
   "cell_type": "raw",
   "id": "ce20627b-a265-4617-95ac-07c87607e9fa",
   "metadata": {},
   "source": [
    "Способы решить эту задачу можно поделить на две группы:\n",
    "Наполнить данными вручную. Таким же путем мы наполняли списки и словари.\n",
    "Наполнить данными из файла. Как правило, аналитики работают с данными в файлах формата xlsx (Excel-файл), csv \\ tsv или json. Мы можем прочитать данные из файлов и конвертировать их в DataFrame. И всё это, используя только библиотеку pandas."
   ]
  },
  {
   "cell_type": "code",
   "execution_count": 47,
   "id": "4c7185f9-2a6b-4b7b-883f-e964903ad991",
   "metadata": {},
   "outputs": [
    {
     "ename": "NameError",
     "evalue": "name 'countries' is not defined",
     "output_type": "error",
     "traceback": [
      "\u001b[0;31m---------------------------------------------------------------------------\u001b[0m",
      "\u001b[0;31mNameError\u001b[0m                                 Traceback (most recent call last)",
      "Cell \u001b[0;32mIn[47], line 2\u001b[0m\n\u001b[1;32m      1\u001b[0m df1 \u001b[38;5;241m=\u001b[39m pd\u001b[38;5;241m.\u001b[39mDataFrame()\n\u001b[0;32m----> 2\u001b[0m df1[\u001b[38;5;124m'\u001b[39m\u001b[38;5;124mСТРАНА\u001b[39m\u001b[38;5;124m'\u001b[39m] \u001b[38;5;241m=\u001b[39m countries\n\u001b[1;32m      3\u001b[0m df1[\u001b[38;5;124m'\u001b[39m\u001b[38;5;124mСТОЛИЦА\u001b[39m\u001b[38;5;124m'\u001b[39m] \u001b[38;5;241m=\u001b[39m capitals\n\u001b[1;32m      4\u001b[0m df1\n",
      "\u001b[0;31mNameError\u001b[0m: name 'countries' is not defined"
     ]
    }
   ],
   "source": [
    "df1 = pd.DataFrame()\n",
    "df1['СТРАНА'] = countries\n",
    "df1['СТОЛИЦА'] = capitals\n",
    "df1"
   ]
  },
  {
   "cell_type": "raw",
   "id": "441e866a-65b8-4741-be81-1867c7eb7cf7",
   "metadata": {},
   "source": [
    "Всё то же самое можно сделать и без объектов Series, а используя лишь списки. Такой способ тоже правильный и на практике он встречается чаще, так как код выглядит проще:"
   ]
  },
  {
   "cell_type": "code",
   "execution_count": null,
   "id": "b22b1405-ece9-440c-87e0-43df689d7d04",
   "metadata": {},
   "outputs": [],
   "source": [
    "df = pd.DataFrame() # Создали датафрейм\n",
    "\n",
    "df['страна'] = ['Россия', 'США', 'Англия', 'Италия'] # Добавили колонку стран\n",
    "df['столица'] = ['Москва', 'Вашингтон', 'Лондон', 'Рим'] # Добавили колонку столиц\n",
    "display(df) "
   ]
  },
  {
   "cell_type": "code",
   "execution_count": null,
   "id": "f9d134fa-dd5a-465c-8de8-9c91a4f0fd0a",
   "metadata": {},
   "outputs": [],
   "source": [
    "\n",
    "countries = {'СТРАНА':['Россия', 'США', 'Италия'],'СТОЛИЦА':['Москва', 'Вашингтон', 'Рим']}\n",
    "df = pd.DataFrame(data = countries)\n",
    "df"
   ]
  },
  {
   "cell_type": "markdown",
   "id": "c00d3b85-5f16-4fd9-ad75-3cd63568e679",
   "metadata": {},
   "source": [
    "## Заполнение датафрейма на основе списка"
   ]
  },
  {
   "cell_type": "raw",
   "id": "24f4e612-22c1-4c43-82a8-dd7a7f69e38c",
   "metadata": {},
   "source": [
    "Один из способов представить данные в табличном виде — это использовать вложенные списки. Ещё их называют двумерными."
   ]
  },
  {
   "cell_type": "code",
   "execution_count": null,
   "id": "3fc3e306-447a-4c70-a521-23ed2daf73bf",
   "metadata": {},
   "outputs": [],
   "source": [
    "a_list = [[1, 'a'], [2, 'b'], [3, 'c']] # двумерный список "
   ]
  },
  {
   "cell_type": "code",
   "execution_count": null,
   "id": "d5766787-c994-422b-a322-b29768b03a6c",
   "metadata": {},
   "outputs": [],
   "source": [
    "import pandas as pd \n"
   ]
  },
  {
   "cell_type": "code",
   "execution_count": null,
   "id": "24db6145-7d97-44db-827f-a40a61194ed1",
   "metadata": {},
   "outputs": [],
   "source": [
    "data_countries = [['Россия', 'Москва'],\n",
    "                  ['США', 'Вашингтон'],\n",
    "                  ['Великобритания', 'Лондон'],\n",
    "                  ['Италия', 'Рим']] "
   ]
  },
  {
   "cell_type": "code",
   "execution_count": null,
   "id": "e2e8b094-db9a-48fc-97a3-b3396da1e19c",
   "metadata": {},
   "outputs": [],
   "source": [
    "df = pd.DataFrame(data=data_countries)"
   ]
  },
  {
   "cell_type": "code",
   "execution_count": null,
   "id": "2d4f8389-7ac6-4f85-821d-c62578525333",
   "metadata": {},
   "outputs": [],
   "source": [
    "df"
   ]
  },
  {
   "cell_type": "code",
   "execution_count": null,
   "id": "1b7b2df4-7fdc-4b39-a2f7-652eff09a181",
   "metadata": {},
   "outputs": [],
   "source": [
    "df = pd.DataFrame(data=data_countries, columns=['страна', 'столица'])\n",
    "display(df)"
   ]
  },
  {
   "cell_type": "raw",
   "id": "e3f6dd37-af81-466c-927d-c06484df4644",
   "metadata": {},
   "source": [
    "Eщё один способ дать названия колонкам — обратиться к атрибуту columns в датафрейме. Этот атрибут хранит названия для колонок в виде списка."
   ]
  },
  {
   "cell_type": "code",
   "execution_count": null,
   "id": "4cd76892-a7ec-414d-813e-ac83505da81b",
   "metadata": {},
   "outputs": [],
   "source": [
    "df = pd.DataFrame(data=data_countries)\n",
    "df.columns = ['страна', 'столица'] # изменили атрибут columns\n",
    "\n",
    "print(df.columns) \n"
   ]
  },
  {
   "cell_type": "raw",
   "id": "9e81f12c-c105-4c89-9db0-d744e27f3e26",
   "metadata": {},
   "source": [
    "Если мы пропустим элемент в списке, то в датафрейм запишется пустое значение или None, \n",
    "при этом ошибки не будет и программа не остановится:"
   ]
  },
  {
   "cell_type": "code",
   "execution_count": null,
   "id": "71fbbf02-34ae-4cff-a591-d314c9f24668",
   "metadata": {},
   "outputs": [],
   "source": [
    "data_countries = [['Россия', 'Москва'],\n",
    "                  ['Вашингтон'], # Пропустили США\n",
    "                  ['Великобритания', 'Лондон'],\n",
    "                  ['Италия']] # Пропустили Рим\n",
    "\n",
    "df = pd.DataFrame(data=data_countries, columns=['страна', 'столица'])\n",
    "display(df) "
   ]
  },
  {
   "cell_type": "markdown",
   "id": "5a02baa0-4987-437e-83ad-dc141906920e",
   "metadata": {},
   "source": [
    "## Заполнение датафрейма на основе словаря\n"
   ]
  },
  {
   "cell_type": "code",
   "execution_count": null,
   "id": "2c934522-fa8b-475a-8d0d-da07f77c61df",
   "metadata": {},
   "outputs": [],
   "source": [
    "data_countries = {\n",
    "    # По ключу храним набор значений в колонке\n",
    "        'cтрана': pd.Series(['Россия', 'США', 'Великобритания', 'Италия']),\n",
    "        'столица': pd.Series(['Москва', 'Вашингтон', 'Лондон', 'Рим'])\n",
    "    } \n"
   ]
  },
  {
   "cell_type": "code",
   "execution_count": null,
   "id": "8e54414a-08cc-41e1-aaff-c7e0644a896d",
   "metadata": {},
   "outputs": [],
   "source": [
    "pd.DataFrame(data=data_countries)\n",
    "df"
   ]
  },
  {
   "cell_type": "raw",
   "id": "1e2c02cb-7f37-4162-bb70-1e3203537476",
   "metadata": {},
   "source": [
    "Мы использовали Series для хранения значений. Но если мы передадим списки, то Pandas всё равно поймет нас, иногда это даже удобнее:"
   ]
  },
  {
   "cell_type": "code",
   "execution_count": null,
   "id": "fbabc725-3ca0-4775-83b5-ce4ca9c52667",
   "metadata": {},
   "outputs": [],
   "source": [
    "data_countries = {\n",
    "        'cтрана': ['Россия', 'США', 'Великобритания', 'Италия'],\n",
    "        'столица': ['Москва', 'Вашингтон', 'Лондон', 'Рим'] # Вместо Series обычные списки\n",
    "    }\n",
    "\n",
    "pd.DataFrame(data=data_countries) \n",
    "df"
   ]
  },
  {
   "cell_type": "code",
   "execution_count": 9,
   "id": "e5b12d51-89ae-4cd4-9159-9b1ec3dfd6c7",
   "metadata": {},
   "outputs": [
    {
     "data": {
      "text/html": [
       "<div>\n",
       "<style scoped>\n",
       "    .dataframe tbody tr th:only-of-type {\n",
       "        vertical-align: middle;\n",
       "    }\n",
       "\n",
       "    .dataframe tbody tr th {\n",
       "        vertical-align: top;\n",
       "    }\n",
       "\n",
       "    .dataframe thead th {\n",
       "        text-align: right;\n",
       "    }\n",
       "</style>\n",
       "<table border=\"1\" class=\"dataframe\">\n",
       "  <thead>\n",
       "    <tr style=\"text-align: right;\">\n",
       "      <th></th>\n",
       "      <th>Имя</th>\n",
       "      <th>Страница</th>\n",
       "      <th>Зарегистрирован</th>\n",
       "      <th>Количество заказов в прошлом</th>\n",
       "    </tr>\n",
       "  </thead>\n",
       "  <tbody>\n",
       "    <tr>\n",
       "      <th>0</th>\n",
       "      <td>Петя</td>\n",
       "      <td>home</td>\n",
       "      <td>True</td>\n",
       "      <td>10</td>\n",
       "    </tr>\n",
       "    <tr>\n",
       "      <th>1</th>\n",
       "      <td>Петя</td>\n",
       "      <td>home</td>\n",
       "      <td>True</td>\n",
       "      <td>12</td>\n",
       "    </tr>\n",
       "    <tr>\n",
       "      <th>2</th>\n",
       "      <td>Саша</td>\n",
       "      <td>catalog</td>\n",
       "      <td>True</td>\n",
       "      <td>3</td>\n",
       "    </tr>\n",
       "    <tr>\n",
       "      <th>3</th>\n",
       "      <td>None</td>\n",
       "      <td>cart</td>\n",
       "      <td>False</td>\n",
       "      <td>0</td>\n",
       "    </tr>\n",
       "  </tbody>\n",
       "</table>\n",
       "</div>"
      ],
      "text/plain": [
       "    Имя Страница  Зарегистрирован  Количество заказов в прошлом\n",
       "0  Петя     home             True                            10\n",
       "1  Петя     home             True                            12\n",
       "2  Саша  catalog             True                             3\n",
       "3  None     cart            False                             0"
      ]
     },
     "execution_count": 9,
     "metadata": {},
     "output_type": "execute_result"
    }
   ],
   "source": [
    "data_base = {\n",
    "        'Имя': ['Петя', 'Петя', 'Саша', None],\n",
    "        'Страница': ['home', 'home', 'catalog', 'cart'],\n",
    "    'Зарегистрирован': [True, True, True, False],\n",
    "    'Количество заказов в прошлом': [10, 12, 3, 0] \n",
    "    }\n",
    "\n",
    "df1 = pd.DataFrame(data=data_base) \n",
    "df1"
   ]
  },
  {
   "cell_type": "raw",
   "id": "9eaabbbf-9c65-4444-8069-a9d4bbe4350f",
   "metadata": {},
   "source": [
    "Рассмотрим ещё один способ сохранить данные на основе словаря. Используем список, где каждый элемент — строка таблицы в виде словаря. "
   ]
  },
  {
   "cell_type": "code",
   "execution_count": null,
   "id": "03f05cb4-24bf-4607-b6f9-7b8d0cce14cf",
   "metadata": {},
   "outputs": [],
   "source": [
    "data_countries = [{'страна': 'Россия', 'столица': 'Москва'}, # строка 1\n",
    "                  {'страна': 'США', 'столица': 'Вашингтон'}, # строка 2\n",
    "                  {'страна': 'Великобритания', 'столица': 'Лондон'}, # строка 3\n",
    "                  {'страна': 'Италия', 'столица': 'Рим'}]    # строка 4 \n",
    "\n",
    "df = pd.DataFrame(data=data_countries)\n",
    "display(df) "
   ]
  },
  {
   "cell_type": "code",
   "execution_count": null,
   "id": "eb196376-f23f-4ea9-8fe3-0da14473f37a",
   "metadata": {},
   "outputs": [],
   "source": [
    "df2 = pd.DataFrame()\n",
    "ames = ['Вася', 'Петя', 'Таня', 'Маша']\n",
    "years = [1996, 2001, 1998, 1997]\n",
    "\n",
    "df2['имя'] =  names \n",
    "df2 ['год рождения'] = years\n",
    "\n",
    "df2"
   ]
  },
  {
   "cell_type": "code",
   "execution_count": null,
   "id": "c8a2a7b7-477e-4d0e-b1a6-5cf1cbc147b7",
   "metadata": {},
   "outputs": [],
   "source": [
    "import pandas as pd\n",
    "\n",
    "data = { 'имя': ['Вася', 'Петя', 'Таня','Маша'],\n",
    "    'год рождения': ['1996','2001','1998','1997']}\n",
    "df = pd.DataFrame(data = data)# Создайте датафрейм и заполните его данными\n",
    "\n",
    "df"
   ]
  },
  {
   "cell_type": "code",
   "execution_count": null,
   "id": "303c9127-925e-41e1-9554-4f5bfbeb67a6",
   "metadata": {},
   "outputs": [],
   "source": [
    "data = [{'имя': 'Вася', 'год рождения': '1996'},\n",
    "        {'имя':'Петя', 'год рождения': '2001'},\n",
    "        {'имя': 'Таня','год рождения':'1998'},\n",
    "        {'имя': 'Маша', 'год рождения': '1997'}]\n",
    "df = pd.DataFrame(data)# Создайте датафрейм и заполните его данными\n",
    "\n",
    "df"
   ]
  },
  {
   "cell_type": "code",
   "execution_count": null,
   "id": "d0c817d1-e903-4420-bf0e-a2483a1d777e",
   "metadata": {},
   "outputs": [],
   "source": [
    "names = ['Вася', 'Петя', 'Таня', 'Маша']\n",
    "years = [1996, 2001, 1998, 1997]\n",
    "\n",
    "df['имя'] =  names \n",
    "df['год рождения'] = years\n",
    "\n",
    "df"
   ]
  },
  {
   "cell_type": "code",
   "execution_count": null,
   "id": "fc0f066b-8d3b-463d-924d-b426d92f8167",
   "metadata": {},
   "outputs": [],
   "source": [
    "data = [['Вася','1996'],\n",
    "        ['Петя', '2001'],\n",
    "        ['Таня', '1998'],\n",
    "        ['Маша', '1997']]\n",
    "df = pd.DataFrame(data = data, columns = ['имя', 'год рождения'])# Создайте датафрейм и заполните его данными\n",
    "\n",
    "df"
   ]
  },
  {
   "cell_type": "code",
   "execution_count": null,
   "id": "c690f4bc-433b-4517-a4e8-612e8f5d5289",
   "metadata": {},
   "outputs": [],
   "source": [
    "data = [['#0001', 'Подушка', 'Idea', '790'],\n",
    "        ['#0024', 'Сковородка', 'Tofal', '1890'],\n",
    "        ['#0201', 'Телевизор', 'Samfung', '52900'],\n",
    "        ['#0142', 'Наушники', 'Sonya', '33400'],\n",
    "        ['#0032', 'Телефон', 'Pineapple', '96990']] # Создайте датафрейм и наполните его данными\n",
    "df = pd.DataFrame(data = data, columns = ['product_id','product_name','company_name','price'])\n",
    "                  \n",
    "df"
   ]
  },
  {
   "cell_type": "markdown",
   "id": "1cbf87d8-fa8e-452e-869c-b376c8d615f6",
   "metadata": {},
   "source": [
    "## Выгрузка датафрейма из файла"
   ]
  },
  {
   "cell_type": "raw",
   "id": "8992ab13-583b-4093-9513-fc808cb63d38",
   "metadata": {},
   "source": [
    "Что такое CSV файл\n",
    "CSV расшифровывается как Comma-Separated Values или значения, разделённые запятой. \n"
   ]
  },
  {
   "cell_type": "code",
   "execution_count": null,
   "id": "5f64f255-1253-4c3a-b234-9bb88df5ae87",
   "metadata": {},
   "outputs": [],
   "source": [
    "import pandas as pd\n",
    "\n",
    "df = pd.read_csv('/Users/olgaa/Downloads/arts.csv') \n",
    "#Выведем содержимое датафрейма:\n",
    "\n",
    "display(df) "
   ]
  },
  {
   "cell_type": "code",
   "execution_count": null,
   "id": "ed20f0c9-5ee1-4d94-ba00-41af1ce1ec28",
   "metadata": {},
   "outputs": [],
   "source": [
    "df.dtypes"
   ]
  },
  {
   "cell_type": "code",
   "execution_count": null,
   "id": "17621b5f-3f2b-42c0-bf80-1041f4c1926f",
   "metadata": {},
   "outputs": [],
   "source": [
    "df = pd.read_csv('/Users/olgaa/Downloads/arts2.csv', sep ='t') \n",
    "#Выведем содержимое датафрейма:\n",
    "\n",
    "display(df) \n"
   ]
  },
  {
   "cell_type": "code",
   "execution_count": null,
   "id": "daf6f175-517f-4b21-95b0-91427c38de30",
   "metadata": {},
   "outputs": [],
   "source": [
    "df = pd.read_csv('/Users/olgaa/Downloads/arts.csv') "
   ]
  },
  {
   "cell_type": "code",
   "execution_count": null,
   "id": "780af610-963e-49ed-ba70-bddfae528050",
   "metadata": {},
   "outputs": [],
   "source": [
    "df.head(3) "
   ]
  },
  {
   "cell_type": "code",
   "execution_count": null,
   "id": "ff870dfe-b999-4e79-a725-713fe935b52e",
   "metadata": {},
   "outputs": [],
   "source": [
    "df.tail(1) "
   ]
  },
  {
   "cell_type": "code",
   "execution_count": null,
   "id": "519eb4ee-1d28-4bf3-b6d6-1d168b4e7cc3",
   "metadata": {},
   "outputs": [],
   "source": [
    "df.sample() # случайная строка"
   ]
  },
  {
   "cell_type": "code",
   "execution_count": null,
   "id": "531874d6-3d88-4180-99d5-d602120365d9",
   "metadata": {},
   "outputs": [],
   "source": [
    "df.shape #определим размеры датафрейма\n"
   ]
  },
  {
   "cell_type": "code",
   "execution_count": null,
   "id": "d254c670-08c2-453c-9923-cb98a0612dd9",
   "metadata": {},
   "outputs": [],
   "source": [
    "df.info() #выведем всю важную информацию"
   ]
  },
  {
   "cell_type": "raw",
   "id": "9e2f0fba-433b-4fdd-818c-b9e5e5ae5460",
   "metadata": {},
   "source": [
    "Внимательно посмотрим, что получилось в результате:\n",
    "RangeIndex даёт информацию об индексах: количество строк с индексами и как они распределены. В нашем случае 6 строк, со значениями от 0 до 5.\n",
    "Data columns указывает на количество колонок. Для каждой колонки мы видим тип данных, которые она хранит Dtype и количество непустых значений Non-Null.\n",
    "Memory usage говорит о том, какое место занимает датафрейм. В нашем случае это всего 272 байта."
   ]
  },
  {
   "cell_type": "markdown",
   "id": "120c9ad2-d650-4002-9bbe-895ba30783da",
   "metadata": {},
   "source": [
    "## Фильтрация по столбцам"
   ]
  },
  {
   "cell_type": "markdown",
   "id": "306474c3-7fad-45d6-abbb-a553e641f9bb",
   "metadata": {},
   "source": [
    "## Удаление столбцов. Метод .drop()"
   ]
  },
  {
   "cell_type": "raw",
   "id": "5892c393-c64f-4ae3-a406-90afa77d9f11",
   "metadata": {},
   "source": [
    "# удалим из датафрейма music_df столбцы user_id и total_play:\n",
    "filtered_df = music_df.drop(columns=['user_id','total_play'])"
   ]
  },
  {
   "cell_type": "raw",
   "id": "d873f371-fa69-44d3-93c1-a25640a1364a",
   "metadata": {},
   "source": [
    "Если необходимо сохранить результат фильтрации в исходном датафрейме, то метод .drop() позволяет это сделать, если указать параметр inplace=True:"
   ]
  },
  {
   "cell_type": "raw",
   "id": "e77b1781-b28d-4b66-ab8a-538f68ecfd3b",
   "metadata": {},
   "source": [
    "# удалим из датафрейма music_df столбцы user_id и total_play:\n",
    "music_df.drop(columns=['user_id','total_play'], inplace=True)\n",
    "print(music_df.head()) "
   ]
  },
  {
   "cell_type": "raw",
   "id": "ec9f5682-f584-4448-ac68-c2df2d5bb5d1",
   "metadata": {},
   "source": [
    "# импортируйте библиотеку pandas здесь\n",
    "import pandas as pd\n",
    "orders = pd.read_csv('/datasets/orders_shop_rel.csv')\n",
    "print(orders.head(5))\n",
    "# выведите первые пять строк на экран"
   ]
  },
  {
   "cell_type": "raw",
   "id": "63f4047b-430b-4107-81f8-0b619dee1613",
   "metadata": {},
   "source": [
    "# импорт библиотеки pandas и загрузка данных датасета orders_shop_rel.csv:\n",
    "import pandas as pd\n",
    "orders = pd.read_csv('/datasets/orders_shop_rel.csv')\n",
    "orders.drop(columns=['Unnamed: 0'], inplace=True)\n",
    "print(orders.head(3)) \n",
    "# напишите ваш код здесь"
   ]
  },
  {
   "cell_type": "raw",
   "id": "fcf62c93-c029-4304-851b-fb39156e6099",
   "metadata": {},
   "source": [
    "# импорт библиотеки pandas и загрузка данных датасета orders_shop_rel.csv:\n",
    "import pandas as pd\n",
    "\n",
    "orders = pd.read_csv('/datasets/orders_shop_rel.csv', index_col = 'Unnamed: 0')\n",
    "print(orders.head(3))"
   ]
  },
  {
   "cell_type": "raw",
   "id": "fcb4e814-1e64-45f7-a597-27060aa0ca5b",
   "metadata": {},
   "source": [
    "# импорт библиотеки pandas и загрузка данных датасета orders_shop_rel.csv:\n",
    "import pandas as pd\n",
    "orders = pd.read_csv('/datasets/orders_shop_rel.csv', index_col='Unnamed: 0')\n",
    "clients = orders[['first_name', 'last_name', 'email']] \n",
    "print(clients.head()) \n",
    "\n",
    "# напишите ваш код здесь"
   ]
  },
  {
   "cell_type": "raw",
   "id": "69e2c870-69a6-4440-9657-0514abe088c3",
   "metadata": {},
   "source": [
    "# импорт библиотеки pandas и загрузка данных датасета orders_shop_rel.csv:\n",
    "import pandas as pd\n",
    "orders = pd.read_csv('/datasets/orders_shop_rel.csv', index_col='Unnamed: 0')\n",
    "\n",
    "# удалим избыточные столбцы:\n",
    "orders.drop(columns=['total_amt', 'items_cnt'], inplace=True)# напишите ваш код здесь\n",
    "\n",
    "print(orders.head())"
   ]
  },
  {
   "cell_type": "markdown",
   "id": "9d7f60b1-ecc2-421b-a48c-d37dc500fc8b",
   "metadata": {},
   "source": [
    "## Фильтрация по строкам при помощи индексации"
   ]
  },
  {
   "cell_type": "raw",
   "id": "3f55f62b-e0f1-45cf-b39d-f5266ce6285b",
   "metadata": {},
   "source": [
    "Для индексации в pandas существует несколько операторов. Наиболее распространёнными из них являются:\n",
    "оператор [] — позволяет проводить простую индексацию по целочисленному значению индекса строк или по меткам столбцов;\n",
    "оператор .loc[] — позволяет проводить индексацию по меткам столбцов и индексов;\n",
    "оператор .iloc[] — позволяет проводить индексацию по целочисленному индексу столбцов и строк."
   ]
  },
  {
   "cell_type": "raw",
   "id": "c176eef0-86c1-4df2-8442-ba385c424493",
   "metadata": {},
   "source": [
    "import pandas as pd\n",
    "import numpy as np\n",
    "orders = pd.read_csv('/datasets/music_df.csv')"
   ]
  },
  {
   "cell_type": "code",
   "execution_count": null,
   "id": "c0a50d7e-4a34-4225-9d36-955ee9638a8e",
   "metadata": {},
   "outputs": [],
   "source": [
    "dates = pd.date_range(\"20130101\", periods=6)\n",
    "\n",
    "dates"
   ]
  },
  {
   "cell_type": "code",
   "execution_count": null,
   "id": "168cfe94-c3ff-4d91-948b-dc97d2c4134c",
   "metadata": {},
   "outputs": [],
   "source": [
    "df = pd.DataFrame(np.random.randn(6, 4), index=dates, columns=list(\"ABCD\"))\n",
    "\n",
    "df"
   ]
  },
  {
   "cell_type": "code",
   "execution_count": null,
   "id": "fb9959aa-8f08-4c66-b42e-b8db277c0821",
   "metadata": {},
   "outputs": [],
   "source": [
    "df[:3]"
   ]
  },
  {
   "cell_type": "code",
   "execution_count": null,
   "id": "ae63574b-342e-4f45-8795-5344c7f8b352",
   "metadata": {},
   "outputs": [],
   "source": [
    "df.info()"
   ]
  },
  {
   "cell_type": "code",
   "execution_count": null,
   "id": "e1d66f7d-f9ea-4e75-bad1-029590b39255",
   "metadata": {},
   "outputs": [],
   "source": [
    "df[['A', 'C']]"
   ]
  },
  {
   "cell_type": "code",
   "execution_count": null,
   "id": "6e334cad-d18c-4ebf-9c17-3d43797e05b9",
   "metadata": {},
   "outputs": [],
   "source": [
    "df[:]"
   ]
  },
  {
   "cell_type": "code",
   "execution_count": null,
   "id": "4aeea33a-0139-4b0f-9ca1-c47b595242a0",
   "metadata": {},
   "outputs": [],
   "source": [
    "df[2:]"
   ]
  },
  {
   "cell_type": "code",
   "execution_count": null,
   "id": "05921d90-0597-415d-805d-cf2542c9fab4",
   "metadata": {},
   "outputs": [],
   "source": [
    "sorted_df = df.sort_values(by='C')"
   ]
  },
  {
   "cell_type": "code",
   "execution_count": null,
   "id": "bf422152-36b0-45c6-b172-c31a5da08445",
   "metadata": {},
   "outputs": [],
   "source": [
    "sorted_df"
   ]
  },
  {
   "cell_type": "raw",
   "id": "29593282-fe67-45c7-863b-37167a092cdf",
   "metadata": {},
   "source": [
    "Для сортировки значений мы использовали метод .sort_values() с параметром by='user_id', передающим метки столбцов, по которым проводится сортировка данных. По умолчанию метод проводит сортировку от меньшего значения к большему, поэтому, если есть необходимость провести сортировку в обратном порядке, используется параметр ascending=False."
   ]
  },
  {
   "cell_type": "markdown",
   "id": "3ce46592-6b6d-4caa-9683-24b81ede7fb2",
   "metadata": {},
   "source": [
    "## Индексация по строкам и столбцам"
   ]
  },
  {
   "cell_type": "code",
   "execution_count": null,
   "id": "abd5a0a8-80ef-42c9-b84f-4e0b140d221d",
   "metadata": {},
   "outputs": [],
   "source": [
    "df[1:3]['B']"
   ]
  },
  {
   "cell_type": "code",
   "execution_count": null,
   "id": "016ae965-33a2-4200-ad66-45805ff4fb14",
   "metadata": {},
   "outputs": [],
   "source": [
    "df = pd.read_csv('https://code.s3.yandex.net/datasets/yandex_music_project.csv')"
   ]
  },
  {
   "cell_type": "code",
   "execution_count": null,
   "id": "5b00e07b-58e2-4037-955e-c1a9814d677b",
   "metadata": {},
   "outputs": [],
   "source": [
    "df.head()"
   ]
  },
  {
   "cell_type": "code",
   "execution_count": null,
   "id": "569e50bb-961a-47e0-a14c-dd4930d72faf",
   "metadata": {},
   "outputs": [],
   "source": [
    "df[df['genre'] == 'metal'].head()"
   ]
  },
  {
   "cell_type": "raw",
   "id": "3ae88fea-d043-45b9-8c11-134a2cf710fb",
   "metadata": {},
   "source": [
    "Мы задали условие music_df['genre'] == 'metal', которое возвращает для каждой строки значение True, если значение в столбце 'genre' равно metal и значение False, если это условие ложное."
   ]
  },
  {
   "cell_type": "code",
   "execution_count": null,
   "id": "0cbef148-1627-4f0d-8f08-83cf46b8bc1c",
   "metadata": {},
   "outputs": [],
   "source": [
    "# Использование сложного логического выражения в качестве логической маски:\n",
    "df[(df['genre'] == 'metal') | (df['genre'] == 'rock')].head()\n"
   ]
  },
  {
   "cell_type": "code",
   "execution_count": null,
   "id": "1cf3c517-4781-4c14-b90e-3f6aa4b2f294",
   "metadata": {},
   "outputs": [],
   "source": [
    "# Сохраним сложное логическое выражение в переменной mask:\n",
    "mask = (df['genre'] == 'metal') | (df['genre'] == 'rock')"
   ]
  },
  {
   "cell_type": "code",
   "execution_count": null,
   "id": "ed79ee10-e72b-4e67-8593-ccdad698ae9f",
   "metadata": {},
   "outputs": [],
   "source": [
    "df[mask].head()"
   ]
  },
  {
   "cell_type": "code",
   "execution_count": null,
   "id": "b4bb5136-915b-49f1-8258-e14901727ac2",
   "metadata": {},
   "outputs": [],
   "source": [
    "# Сохраним сложное логическое выражение в переменной mask:\n",
    "mask = (df['genre'] == 'metal') | (df['genre'] == 'rock')\n",
    "\n",
    "# Выведем на экран первые 7 строк данных в столбцах artist, genre и track:\n",
    "df[mask][:7][['artist','genre','Track']]"
   ]
  },
  {
   "cell_type": "code",
   "execution_count": null,
   "id": "25621784-fac3-4004-aa31-8a4588489765",
   "metadata": {},
   "outputs": [],
   "source": [
    "import pandas as pd\n",
    "orders = pd.read_csv('https://code.s3.yandex.net/datasets/orders_shop_rel.csv').drop(columns='Unnamed: 0')\n",
    "result = orders.sort_values(by='items_cnt',ascending=False)[:7]\n",
    "# Сохраните первые 7 строк датафрейма, отсортированного по уменьшению значений items_cnt\n",
    "# в переменной result здесь:\n",
    "result"
   ]
  },
  {
   "cell_type": "code",
   "execution_count": null,
   "id": "917cf55f-1204-4889-82e5-2a6697757c54",
   "metadata": {},
   "outputs": [],
   "source": [
    "import pandas as pd\n",
    "orders = pd.read_csv('https://code.s3.yandex.net/datasets/orders_shop_rel.csv')\n",
    "top_10 = orders.sort_values(by='items_cnt',ascending=False)[:10][['first_name','last_name','email']]\n",
    "top_40 = orders.sort_values(by='items_cnt',ascending=False)[10:51][['first_name','last_name','email']]\n",
    "# Напишите ваш код здесь\n",
    "\n",
    "# Выведем на экран результат - первые две строки каждого среза данных:\n",
    "top_10\n",
    "top_40.head(2)"
   ]
  },
  {
   "cell_type": "code",
   "execution_count": null,
   "id": "d54435b7-ad8d-4a7d-9576-2624d11bebd6",
   "metadata": {},
   "outputs": [],
   "source": [
    "import pandas as pd\n",
    "orders = pd.read_csv('https://code.s3.yandex.net/datasets/orders_shop_rel.csv').drop(columns='Unnamed: 0')\n",
    "mask = (orders['email'] == 'Sunita_Tanaka1992@mail.com')\n",
    "print(orders[mask].sort_values(by='order_id'))\n"
   ]
  },
  {
   "cell_type": "code",
   "execution_count": null,
   "id": "1d5804ba-4c65-436c-b238-d0ef4949757c",
   "metadata": {},
   "outputs": [],
   "source": [
    "import pandas as pd\n",
    "orders = pd.read_csv('https://code.s3.yandex.net/datasets/orders_shop_rel.csv').drop(columns='Unnamed: 0')\n",
    "mask = ((orders['category'] == 'gadget') & (orders['price'] > 100 )) | ((orders['category'] == 'device') & (orders['price'] > 200 ))\n",
    "print(orders[mask].head(5))"
   ]
  },
  {
   "cell_type": "code",
   "execution_count": null,
   "id": "ab2cc988-467e-4a30-ae95-67892552b1bd",
   "metadata": {},
   "outputs": [],
   "source": [
    "import pandas as pd\n",
    "orders = pd.read_csv('https://code.s3.yandex.net/datasets/orders_shop_rel.csv').drop(columns='Unnamed: 0')\n",
    "\n",
    "# Задайте сложные логические условия для двух категорий товаров:\n",
    "mask_for_gadget = ((orders['category'] == 'gadget') & (orders['price'] > 100 )) # напишите инструкцию здесь\n",
    "mask_for_device = ((orders['category'] == 'device') & (orders['price'] > 200 )) # напишите инструкцию здесь\n",
    "\n",
    "# Создайте новый срез данных results, который будет содержать необходимые данные:\n",
    "results = orders[mask_for_device|mask_for_gadget]# напишите инструкцию здесь\n",
    "print(results.head(5))"
   ]
  },
  {
   "cell_type": "markdown",
   "id": "740bdcf2-b749-4c57-b283-275983304b6e",
   "metadata": {},
   "source": [
    "## Фильтрация при помощи loc и iloc"
   ]
  },
  {
   "cell_type": "code",
   "execution_count": null,
   "id": "68402014-eb57-4d28-85f2-e4d77ab64577",
   "metadata": {},
   "outputs": [],
   "source": [
    "import pandas as pd\n",
    "music_df = pd.read_csv('https://code.s3.yandex.net/datasets/yandex_music_project.csv')\n",
    "music_df[:3][['artist','Track']]"
   ]
  },
  {
   "cell_type": "markdown",
   "id": "e9e8e274-b119-4a86-8b86-e349119b0102",
   "metadata": {},
   "source": [
    "## Фильтрация строк с помощью операторов .loc[] и .iloc[]"
   ]
  },
  {
   "cell_type": "raw",
   "id": "8cd51af0-3c2a-43ef-9161-30bddb2a38a9",
   "metadata": {},
   "source": [
    "Основное различие операторов .loc[] и .iloc[] в том, что:\n",
    ".loc[] выбирает строки и столбцы на основе их метки (названия), списка или интервала меток, а также с использованием логической индексации.\n",
    ".iloc[] выбирает строки и столбцы на основе их целочисленного индекса (порядкового номера), списка и интервала этих значений."
   ]
  },
  {
   "cell_type": "code",
   "execution_count": null,
   "id": "6819d580-6b2f-4ce3-bd2f-44428bc4feff",
   "metadata": {},
   "outputs": [],
   "source": [
    "import pandas as pd\n",
    "music_df = pd.read_csv('https://code.s3.yandex.net/datasets/yandex_music_project.csv')"
   ]
  },
  {
   "cell_type": "code",
   "execution_count": null,
   "id": "73f898db-e428-4066-a869-203f1ebcf6b1",
   "metadata": {},
   "outputs": [],
   "source": [
    "music_df.head(5)"
   ]
  },
  {
   "cell_type": "raw",
   "id": "bf8006ce-f9f2-453c-b1b3-53a96a565ddb",
   "metadata": {},
   "source": [
    "Приступим к выбору строк с использованием .loc[]. Для этого нужно передать разделённый двоеточием диапазон необходимых значений индексов строк — [1:3]. При этом в отличие от оператора [], при использовании диапазона индексов будут выведены все строки включая последнее значение:"
   ]
  },
  {
   "cell_type": "code",
   "execution_count": null,
   "id": "daadfd2b-b881-4666-84f1-5fce8d8315d6",
   "metadata": {},
   "outputs": [],
   "source": [
    "music_df.loc[1:3]"
   ]
  },
  {
   "cell_type": "raw",
   "id": "23445350-cbba-453e-b827-58ea961c3765",
   "metadata": {},
   "source": [
    "На этом же примере разберём основную особенность оператора .iloc[]. В логике этого оператора лежит обращение к целочисленному индексу строк или столбцов, то есть к их порядковому номеру. Его использование будет аналогично использованию оператора [] — последнее значение в интервале строк не будет включено в итоговый срез. Поэтому для вывода необходимых строк в оператор .iloc[] следует передать такой интервал индексов — [1:4]:"
   ]
  },
  {
   "cell_type": "code",
   "execution_count": null,
   "id": "42714eaa-29af-4e5d-a590-aa4e9a5aa2af",
   "metadata": {},
   "outputs": [],
   "source": [
    "music_df.iloc[1:4]"
   ]
  },
  {
   "cell_type": "code",
   "execution_count": null,
   "id": "e73c2daf-3fc4-4afe-aa3b-25890fb4b27d",
   "metadata": {},
   "outputs": [],
   "source": [
    "filtered_df = music_df[music_df['genre'] == 'dance']\n",
    "filtered_df.reset_index(drop=True, inplace=True)\n",
    "filtered_df.head()"
   ]
  },
  {
   "cell_type": "code",
   "execution_count": null,
   "id": "08c7038f-6daf-406f-87e4-7a1a5563b2bb",
   "metadata": {},
   "outputs": [],
   "source": [
    "filtered_df = music_df[music_df['Day'] == 'Friday']\n",
    "filtered_df.head(5)"
   ]
  },
  {
   "cell_type": "raw",
   "id": "5f7b4dcb-2ae4-4d7d-bebc-698fa26492ff",
   "metadata": {},
   "source": [
    "Если мы попробуем использовать .loc[1:3] для выбора строк с метками 14, 15 и 18, то столкнёмся с проблемой:"
   ]
  },
  {
   "cell_type": "code",
   "execution_count": null,
   "id": "64ac9856-6f1d-41fd-8ae1-8f6a3b6ccddd",
   "metadata": {},
   "outputs": [],
   "source": [
    "filtered_df.loc[1:3]"
   ]
  },
  {
   "cell_type": "raw",
   "id": "4ed0d850-629b-40b8-acb5-6fcbca6d63ce",
   "metadata": {},
   "source": [
    "Это произошло, потому что .loc[] использует диапазон значений меток строк, которые были отфильтрованы, а поскольку этих строк уже нет, то и в результате получаем пустой датафрейм."
   ]
  },
  {
   "cell_type": "raw",
   "id": "1567d0b8-9a80-4056-9980-ee761e8e76eb",
   "metadata": {},
   "source": [
    "После фильтрации данных для оператора .iloc[]  инструкция останется прежней, поскольку оператор будет выводить строки 1, 2, 3 по их порядку:"
   ]
  },
  {
   "cell_type": "code",
   "execution_count": null,
   "id": "f58c7909-0264-445b-9f86-80687264419e",
   "metadata": {},
   "outputs": [],
   "source": [
    "filtered_df.iloc[1:4]"
   ]
  },
  {
   "cell_type": "raw",
   "id": "73b2e42d-097c-4525-8297-88405fa39592",
   "metadata": {},
   "source": [
    "Если индексы изменились и необходимо снова использовать целочисленные индексы, в pandas можно использовать метод .reset_index()  — от английского reset - «сбросить» и index - «индекс»:"
   ]
  },
  {
   "cell_type": "code",
   "execution_count": null,
   "id": "80d27e5a-a719-4b75-b672-9a269b1c6567",
   "metadata": {},
   "outputs": [],
   "source": [
    "filtered_df = filtered_df.reset_index()\n",
    "filtered_df.head()"
   ]
  },
  {
   "cell_type": "raw",
   "id": "c3fb1ad7-c85d-4a68-ae8e-2c699bdec39e",
   "metadata": {},
   "source": [
    "Обратите внимание, что при использовании метода .reset_index() в датафрейме появился новый столбец index, содержащий метки старого индекса. Если эти данные не нужны, то при использовании метода .reset_index() можно использовать параметр drop=True, который удалит эти значения."
   ]
  },
  {
   "cell_type": "code",
   "execution_count": null,
   "id": "b7fdb51e-9177-457b-9d7e-40ccc5a3c120",
   "metadata": {},
   "outputs": [],
   "source": [
    "# Сохраним срез данных, включающий композиции с жанром dance:\n",
    "filtered_df = music_df[music_df['genre'] == 'dance']\n",
    "\n",
    "# Сбросим метки индексов строк с помощью метода .reset_index() \n",
    "# и удалим старые значения:\n",
    "filtered_df = filtered_df.reset_index(drop=True)\n",
    "filtered_df.head() "
   ]
  },
  {
   "cell_type": "raw",
   "id": "bc0adfc3-ff3e-4521-8c97-31f26104c2b3",
   "metadata": {},
   "source": [
    "омимо срезов строк, можно также использовать списки тех строк, которые необходимо вывести. Например, создадим срез данных, который будет включать в себя строки с индексами 1, 2, 6. Начнем с .loc[]:"
   ]
  },
  {
   "cell_type": "code",
   "execution_count": null,
   "id": "25cbe115-d47d-4bd8-9166-cf0d6762d6c7",
   "metadata": {},
   "outputs": [],
   "source": [
    "music_df.loc[[1,2,6]]"
   ]
  },
  {
   "cell_type": "code",
   "execution_count": null,
   "id": "6014851c-5404-4184-8291-7c6b107f955f",
   "metadata": {},
   "outputs": [],
   "source": [
    "music_df.iloc[[1,2,6]]"
   ]
  },
  {
   "cell_type": "markdown",
   "id": "bc721b2d-f116-469f-9b8e-c4186cb37d53",
   "metadata": {},
   "source": [
    "## Фильтрация столбцов с помощью операторов loc и iloc"
   ]
  },
  {
   "cell_type": "code",
   "execution_count": null,
   "id": "157423b4-85bf-4e7b-97e5-36d2855ea345",
   "metadata": {},
   "outputs": [],
   "source": [
    "music_df.loc[:, ['artist','genre']].head()"
   ]
  },
  {
   "cell_type": "raw",
   "id": "d33e34d0-a197-4c33-b382-0fc24f1fe99c",
   "metadata": {},
   "source": [
    "как с помощью операторов .loc[] и .iloc[] проводить фильтрацию столбцов, указав метки или их диапазон. Для этого нужно в начале передать вывод всех строк — для этого достаточно указать двоеточие :, а затем передать список столбцов, которые необходимо вывести."
   ]
  },
  {
   "cell_type": "code",
   "execution_count": null,
   "id": "96a8a16b-e74b-495f-8e36-cd5bca1926ee",
   "metadata": {},
   "outputs": [],
   "source": [
    "music_df.iloc[:, [2,3]].head()"
   ]
  },
  {
   "cell_type": "code",
   "execution_count": null,
   "id": "d8e364a6-e6d7-4f8b-99ac-30df3daba0ff",
   "metadata": {},
   "outputs": [],
   "source": [
    "import pandas as pd\n",
    "music_df = pd.read_csv('https://code.s3.yandex.net/datasets/yandex_music_project.csv')\n",
    "music_df.loc[:, 'Track':'artist'].head()"
   ]
  },
  {
   "cell_type": "code",
   "execution_count": null,
   "id": "977ecf92-f2a5-489c-9e94-d056b8f4f043",
   "metadata": {},
   "outputs": [],
   "source": [
    "music_df.iloc[:, 1:3].head()"
   ]
  },
  {
   "cell_type": "markdown",
   "id": "4ed9a451-c2b2-4058-b6d4-b4edce947ffc",
   "metadata": {},
   "source": [
    "## Индексация ячейки данных"
   ]
  },
  {
   "cell_type": "code",
   "execution_count": null,
   "id": "472635c1-20dc-4179-b352-4eb174198835",
   "metadata": {},
   "outputs": [],
   "source": [
    "# Индексация ячейки с помощью оператора .loc[]:\n",
    "music_df.loc[3, 'Track']"
   ]
  },
  {
   "cell_type": "code",
   "execution_count": null,
   "id": "1ab49d27-d998-45c4-bf0c-2f1ce2afe34f",
   "metadata": {},
   "outputs": [],
   "source": [
    "#Индексация ячейки с помощью оператора []:\n",
    "music_df[3:4]['Track']"
   ]
  },
  {
   "cell_type": "code",
   "execution_count": null,
   "id": "e9add03e-b6e5-4fd3-81a9-30fd9c6f1da5",
   "metadata": {},
   "outputs": [],
   "source": [
    "import pandas as pd\n",
    "items = pd.read_csv('https://code.s3.yandex.net/datasets/orders_shop_items.csv')\n",
    "items.sort_values(by = 'orders', ascending = False).head(5)"
   ]
  },
  {
   "cell_type": "code",
   "execution_count": null,
   "id": "cfe374d0-6414-488f-8776-d5c7d25921f1",
   "metadata": {},
   "outputs": [],
   "source": [
    "import pandas as pd\n",
    "items = pd.read_csv('https://code.s3.yandex.net/datasets/orders_shop_items.csv')\n",
    "\n",
    "# Проведем сортировку датафрейма items по снижению значений 'orders':\n",
    "sorted_df = items.sort_values(by = 'orders', ascending = False)# Напишите ваш код здесь\n",
    "\n",
    "# Сбросим индекс датафрейма sorted_df:\n",
    "sorted_df = sorted_df.reset_index(drop=True) # Напишите ваш код здесь\n",
    "\n",
    "# Создадим срез данных, включающий первые 10 строк столбцов:\n",
    "# 'category','item_name' и 'orders':\n",
    "top_10_items =sorted_df.loc[:10,['category','item_name', 'orders']] # Напишите ваш код здесь\n",
    "\n",
    "# Выведем результат на экран:\n",
    "top_10_items"
   ]
  },
  {
   "cell_type": "code",
   "execution_count": null,
   "id": "6518ade3-0ed2-401a-9eb0-6ae6f6a43031",
   "metadata": {},
   "outputs": [],
   "source": [
    "import pandas as pd\n",
    "items = pd.read_csv('https://code.s3.yandex.net/datasets/orders_shop_items.csv')\n",
    " # напишите инструкцию здесь\n",
    "mask_for_items = ((items['category'] == 'apparatus') | (items['category'] == 'module' ))\n",
    "\n",
    "# Создайте новый срез данных results, который будет содержать необходимые данные:\n",
    "items_sort = items[mask_for_items].sort_values(by = 'price', ascending = False)# напишите инструкцию здесь\n",
    "result = items_sort.iloc[:50,[0, 1]]\n",
    "result.head(5)"
   ]
  },
  {
   "cell_type": "code",
   "execution_count": null,
   "id": "ace1e461-20ea-4470-a694-b56464b3dbdf",
   "metadata": {},
   "outputs": [],
   "source": [
    "import pandas as pd\n",
    "items = pd.read_csv('https://code.s3.yandex.net/datasets/orders_shop_items.csv')\n",
    "\n",
    "# Напишите ваш код здесь\n",
    "\n",
    "popular_items = items.loc[items['orders']>items['buyers'], 'item_name'] \n",
    "print(len(popular_items))"
   ]
  },
  {
   "cell_type": "markdown",
   "id": "5499c8e6-4e68-4869-a765-2b4d01f7b83d",
   "metadata": {},
   "source": [
    "## Фильтрация при помощи loc: логические выражения"
   ]
  },
  {
   "cell_type": "raw",
   "id": "6dc7f846-e1d0-4648-b951-03ba79940f4d",
   "metadata": {},
   "source": [
    "Как правило, для создания простых срезов (среза строк или выбора отдельных столбцов) или условий в логических масках используется оператор [], а при более комплексных фильтрациях данных, когда необходимо выделить строки и столбцы согласно различным условиям, используется оператор .loc[]."
   ]
  },
  {
   "cell_type": "raw",
   "id": "f4a2c652-a470-4141-94de-509e4d43b752",
   "metadata": {},
   "source": [
    "Оператор .iloc[] используется реже и полезен, когда нужно вывести точно определённое количество строк и столбцов вне зависимости от их названия."
   ]
  },
  {
   "cell_type": "markdown",
   "id": "83c0ebcc-5051-4879-b66c-4e9d50ac534a",
   "metadata": {},
   "source": [
    "### Логическая индексация в .loc[]"
   ]
  },
  {
   "cell_type": "code",
   "execution_count": null,
   "id": "28812dc2-1dbd-423a-bc31-6046b48b512b",
   "metadata": {},
   "outputs": [],
   "source": [
    "music_df = pd.read_csv('https://code.s3.yandex.net/datasets/yandex_music_project.csv')\n",
    "mask = music_df['artist'] == 'Aura' \n",
    "music_df.loc[mask, 'artist':'genre']"
   ]
  },
  {
   "cell_type": "code",
   "execution_count": null,
   "id": "dba4d0d4-e127-41de-b0e6-070552bc6e54",
   "metadata": {},
   "outputs": [],
   "source": [
    "mask = (music_df.loc[:,'artist'] == 'Aura') & (music_df.loc[:,'genre'] == 'dance')\n",
    "music_df.loc[mask, 'Track':'artist'] "
   ]
  },
  {
   "cell_type": "raw",
   "id": "93831c04-c8ed-4630-8f22-af214e4c288f",
   "metadata": {},
   "source": [
    "music_df.loc[(music_df['genre'] == 'latin') & (music_df['total_play'] >= 100), ['artist','track']]"
   ]
  },
  {
   "cell_type": "markdown",
   "id": "29f8deba-9403-45f5-966b-c05583e8ae2b",
   "metadata": {},
   "source": [
    "### Фильтрация при помощи query"
   ]
  },
  {
   "cell_type": "raw",
   "id": "a6c9258b-bdb4-45d6-96db-57d7f46adca5",
   "metadata": {},
   "source": [
    "В pandas есть ещё один способ фильтрации данных с помощью условий — метод .query()  — от английского query — «запрос». \n",
    "Метод .query() позволяет проводить фильтрацию данных по заданным условиям в виде одного запроса. Более простой синтаксис написания и совмещения логических условий, чем у операторов [], .iloc[] и loc[], упрощает написание и чтение кода. Благодаря повышенной производительности метод подходит для работы с объёмными данными, состоящими из более десятка тысяч строк."
   ]
  },
  {
   "cell_type": "code",
   "execution_count": null,
   "id": "27007474-4d26-4879-a89a-4d1f7b379c13",
   "metadata": {},
   "outputs": [],
   "source": [
    "dance_df = music_df.query('genre == \"dance\"')\n",
    "\n",
    "dance_df.head()"
   ]
  },
  {
   "cell_type": "raw",
   "id": "e87dcbb8-2b10-4449-855a-2b700dfd6814",
   "metadata": {},
   "source": [
    "Запрос genre == \"dance\" аналогичен по смыслу и результату условию music_df['genre'] == 'dance'. Только он выглядит компактнее, поскольку метод .query() уже применяется к определённому датафрейму и при указании названия меток нет необходимости указывать название этого датафрейма."
   ]
  },
  {
   "cell_type": "raw",
   "id": "57b28dc7-6d96-4de8-8904-b8e43e414f10",
   "metadata": {},
   "source": [
    "# Логическая индексация с помощью []:\n",
    "dance_df = music_df[music_df['genre'] == 'dance']\n",
    "\n",
    "# Логическая индексация с помощью .loc[]:\n",
    "dance_df = music_df.loc[music_df['genre'] == 'dance']\n",
    "\n",
    "# Запрос .query():\n",
    "dance_df = music_df.query('genre == \"dance\"') "
   ]
  },
  {
   "cell_type": "raw",
   "id": "1e4fa9d5-b5df-4d3b-9f9a-01bde26052c7",
   "metadata": {},
   "source": [
    "Обратите внимание, что запрос query() заключен в кавычки: 'genre == \"dance\"', обычно это одиночные кавычки ''. Если в запросе используются подстроки или любые другие элементы, которые обычно также заключаются в кавычки, то для них используют двойные кавычки \"\" — в примере выше это \"dance\". Иными словами, если запрос query() помещён в одиночные кавычки, то все другие кавычки, которые используются в запросе должны быть двойными."
   ]
  },
  {
   "cell_type": "markdown",
   "id": "4682d04d-e132-4ca3-a315-307d60342644",
   "metadata": {},
   "source": [
    "### Комбинирование нескольких условий в одном запросе"
   ]
  },
  {
   "cell_type": "raw",
   "id": "13d90dc0-c316-42d6-b57a-16c43d8f0d71",
   "metadata": {},
   "source": [
    "# Проведём фильтрацию данных с помощью метода query:\n",
    "filtered_df = music_df.query('total_play > 200 and genre == \"pop\"')\n",
    "\n",
    "print(filtered_df.head()) "
   ]
  },
  {
   "cell_type": "raw",
   "id": "4b175e73-d5f0-4453-80ec-347c6cf96c19",
   "metadata": {},
   "source": [
    "# Проведём фильтрацию данных с помощью метода query и значений списка:\n",
    "genres = ['postrock','folkmetal','thrash']\n",
    "filtered_df = music_df.query('genre == @genres')\n",
    "\n",
    "print(filtered_df.head()) "
   ]
  },
  {
   "cell_type": "raw",
   "id": "fe99a757-77c8-4efc-9ce1-9f955017aba5",
   "metadata": {},
   "source": [
    "Аналогичный результат будет при использовании оператора in:\n",
    "\n",
    "# Проведём фильтрацию данных с помощью метода query и значений списка:\n",
    "genres = ['postrock','folkmetal','thrash']\n",
    "filtered_df = music_df.query('genre in @genres')\n",
    "\n",
    "print(filtered_df.head()) "
   ]
  },
  {
   "cell_type": "raw",
   "id": "4e05d511-8027-428c-aaba-c35924512a7d",
   "metadata": {},
   "source": [
    "Какое выражение выведет на экран песни стиля jazz  или ambient?\n",
    "\n",
    "\n",
    "music_df.query('genre == [\"dance\",\"latin\",\"techno\"]')\n",
    "\n",
    "Тоже правильный ответ\n",
    "music_df.query('genre != [\"dance\",\"latin\",\"techno\"]')\n",
    "Оператор != выберет строки, которые не содержат одно из значений из списка.\n",
    "\n",
    "Неправильный ответ\n",
    "music_df.query('genre not in \"dance\",\"latin\",\"techno\"')\n",
    "Значения стилей необходимо передать в виде списка.\n",
    "\n",
    "Тоже правильный ответ\n",
    "music_df.query('genre not in [\"dance\",\"latin\",\"techno\"]')\n",
    "Оператор not in выберет строки, которые не содержат одно из значений из списка."
   ]
  },
  {
   "cell_type": "markdown",
   "id": "c42336b7-9841-4903-af1a-6f66ad21a130",
   "metadata": {},
   "source": [
    "### Использование метки индекса строк"
   ]
  },
  {
   "cell_type": "code",
   "execution_count": null,
   "id": "adb2120a-3432-4c6d-bdc4-c3f48b43eefa",
   "metadata": {},
   "outputs": [],
   "source": [
    "# Проведём фильтрацию данных с помощью метода query:\n",
    "filtered_df = music_df.query('index < 3')\n",
    "\n",
    "filtered_df.head()"
   ]
  },
  {
   "cell_type": "code",
   "execution_count": null,
   "id": "9300d92b-76d7-4674-a004-e49b5b5125fd",
   "metadata": {},
   "outputs": [],
   "source": [
    "# Проведём фильтрацию данных с помощью метода query - \n",
    "# сделаем срез строк с индексами 2 и 3:\n",
    "filtered_df = music_df.query('1 < index < 4')\n",
    "filtered_df.head()"
   ]
  },
  {
   "cell_type": "code",
   "execution_count": null,
   "id": "fdfa9dda-b820-4832-ba14-a3823a137fc2",
   "metadata": {},
   "outputs": [],
   "source": [
    "# Проведём фильтрацию данных с помощью метода query:\n",
    "filtered_df = music_df.query('index in [2,46,345]')\n",
    "\n",
    "filtered_df.head() "
   ]
  },
  {
   "cell_type": "markdown",
   "id": "d097d857-3e63-48c3-9092-dc5de5ef0f9e",
   "metadata": {},
   "source": [
    "### Использование методов pandas"
   ]
  },
  {
   "cell_type": "raw",
   "id": "c58cd8f4-8068-4eb1-82c7-92fdce0f93d4",
   "metadata": {},
   "source": [
    "# Проведём фильтрацию данных с помощью метода query:\n",
    "filtered_df = music_df.query('total_play > total_play.mean()')\n",
    "\n",
    "filtered_df.head() "
   ]
  },
  {
   "cell_type": "markdown",
   "id": "d570d9c2-58d4-4e9f-ad1c-6979815158c7",
   "metadata": {},
   "source": [
    "### Сочетание query() с оператором [] для фильтрации по столбцам и строкам"
   ]
  },
  {
   "cell_type": "raw",
   "id": "9710cb95-49a6-4d10-a5c0-78fc06aea268",
   "metadata": {},
   "source": [
    "# Проведём фильтрацию данных с помощью метода query:\n",
    "genres = ['postrock','folkmetal','thrash']\n",
    "filtered_df = music_df.query('genre in @genres')[['artist','track']]\n",
    "\n",
    "print(filtered_df.head()) "
   ]
  },
  {
   "cell_type": "markdown",
   "id": "ebff0ac9-fb98-472a-bfc4-757ad6d8c768",
   "metadata": {},
   "source": [
    "### Сравнение метода .query() и оператора .loc[]"
   ]
  },
  {
   "cell_type": "code",
   "execution_count": null,
   "id": "f54fb79b-49f7-4bd1-ac9d-9d53af4da76f",
   "metadata": {},
   "outputs": [],
   "source": [
    "import pandas as pd\n",
    "buyers = pd.read_csv('https://code.s3.yandex.net/datasets/orders_shop_buyers.csv')\n",
    "wo_purchases = buyers.query('orders == 0') \n",
    "print(wo_purchases.shape[0]/buyers.shape[0])\n",
    "                           \n"
   ]
  },
  {
   "cell_type": "code",
   "execution_count": null,
   "id": "cc72f67e-1641-445d-8e78-28ae4e76fc28",
   "metadata": {},
   "outputs": [],
   "source": [
    "import pandas as pd\n",
    "buyers = pd.read_csv('https://code.s3.yandex.net/datasets/orders_shop_buyers.csv')\n",
    "active_clients = buyers.query('orders >= 3 or items >= 5')[['first_name', 'last_name', 'email']]\n",
    "print(active_clients.head())"
   ]
  },
  {
   "cell_type": "code",
   "execution_count": null,
   "id": "68bdfb0b-0b34-43b8-a5bb-bf0de0b33b74",
   "metadata": {},
   "outputs": [],
   "source": [
    "import pandas as pd\n",
    "buyers = pd.read_csv('https://code.s3.yandex.net/datasets/orders_shop_buyers.csv')\n",
    "averege_price = buyers['total_price']/buyers['items']\n",
    "active_clients = buyers.query('@averege_price > 300 & items > 1')\n",
    "active_clients = active_clients.sort_values('total_price', ascending=False)\n",
    "print(active_clients.head())\n"
   ]
  },
  {
   "cell_type": "code",
   "execution_count": null,
   "id": "36ec8f42-8d20-4643-b10e-54be4aa8a3a4",
   "metadata": {},
   "outputs": [],
   "source": [
    "import pandas as pd\n",
    "buyers = pd.read_csv('https://code.s3.yandex.net/datasets/orders_shop_buyers.csv')\n",
    "buyers = buyers[buyers['orders']>0]\n",
    "total_averege_price = buyers['total_price'].mean()\n",
    "active_clients = buyers.query('total_price > @total_averege_price')\n",
    "print(active_clients.head())"
   ]
  },
  {
   "cell_type": "markdown",
   "id": "8ff01f10-457a-4aa9-81b4-9a945148d068",
   "metadata": {},
   "source": [
    "# Замена данных при подготовке к анализу"
   ]
  },
  {
   "cell_type": "markdown",
   "id": "131ca500-c7c0-4df1-aa4e-603aa05dee39",
   "metadata": {},
   "source": [
    "## Действия над названиями столбцов"
   ]
  },
  {
   "cell_type": "markdown",
   "id": "b5345fdd-309a-4ccd-8e41-470d2154f131",
   "metadata": {},
   "source": [
    "### Атрибут датафрейма columns"
   ]
  },
  {
   "cell_type": "code",
   "execution_count": null,
   "id": "48253ee2-29e6-45cc-9ac6-63e3ccfc19d9",
   "metadata": {},
   "outputs": [],
   "source": [
    "# Используем атрибут columns для вывода названия столбцов music_df:\n",
    "print(music_df.columns) "
   ]
  },
  {
   "cell_type": "code",
   "execution_count": null,
   "id": "52f84bc4-2d64-4824-8381-1c27927dba28",
   "metadata": {},
   "outputs": [],
   "source": [
    "# Выведем название второго по счёту столбца:\n",
    "print(music_df.columns[1]) "
   ]
  },
  {
   "cell_type": "code",
   "execution_count": null,
   "id": "5ddca076-ed2b-49ba-a44f-1980853c451c",
   "metadata": {},
   "outputs": [],
   "source": [
    "columns = ['Product ID', 'Category', 'Description', 'Price']\n",
    "data = [[10001, 'Телефоны','Смартфон', 15999],\n",
    "       [10002, 'Компьютеры', 'Монитор', 17200],\n",
    "       [10003, 'Кухонная техника', 'Микроволновка', 6350]]\n",
    "\n",
    "# Создадим новый датафрейм df:\n",
    "df = pd.DataFrame(data=data, columns=columns)\n",
    "print(df) "
   ]
  },
  {
   "cell_type": "code",
   "execution_count": null,
   "id": "ee251d9c-e9c4-4119-9ea2-3e5f70e0513c",
   "metadata": {},
   "outputs": [],
   "source": [
    "new_columns = ['product_id','category','description','price']\n",
    "\n",
    "# Используя атрибут columns, зададим новый индекс столбцов df:\n",
    "df.columns = new_columns\n",
    "print(df) "
   ]
  },
  {
   "cell_type": "markdown",
   "id": "48cc92f8-4ea3-402a-851b-f53f7b38b9cb",
   "metadata": {},
   "source": [
    "### Метод .rename()\n"
   ]
  },
  {
   "cell_type": "raw",
   "id": "520a222f-a41c-48f0-a40e-d357d54dd2d6",
   "metadata": {},
   "source": [
    "В pandas существует ещё один подход к изменению названия столбцов — метод .rename()  — от английского «переименовать»."
   ]
  },
  {
   "cell_type": "raw",
   "id": "0d8fa586-8de8-47a5-84ae-73fc0d1a7e0a",
   "metadata": {},
   "source": [
    "Для изменения названия столбцов необходимо использовать аргумент columns метода  .rename(), в котором передаётся словарь, содержащий в качестве ключа исходное название столбца, а в качестве значения — новое:"
   ]
  },
  {
   "cell_type": "code",
   "execution_count": null,
   "id": "1052a4bb-d421-4e21-a9f1-ae31c9106d23",
   "metadata": {},
   "outputs": [],
   "source": [
    "# Зададим данные для датафрейма: названия столбцов и содержание строк:\n",
    "columns = ['Product ID', 'Category', 'Description', 'Price']\n",
    "data = [[10001, 'Телефоны','Смартфон', 15999],\n",
    "       [10002, 'Компьютеры', 'Монитор', 17200],\n",
    "       [10003, 'Кухонная техника', 'Микроволновка', 6350]]\n",
    "\n",
    "# Создадим новый датафрейм df:\n",
    "df = pd.DataFrame(data=data, columns=columns)\n",
    "\n",
    "# Используя метод rename() изменим названия столбцов df:\n",
    "df = df.rename(columns={'Product ID': 'product_id',\n",
    "                        'Category': 'category',\n",
    "                        'Description': 'description',\n",
    "                        'Price': 'price'})\n",
    "\n",
    "print(df) "
   ]
  },
  {
   "cell_type": "raw",
   "id": "e9c4ee34-9492-4781-abe9-f76be2be68db",
   "metadata": {},
   "source": [
    "Используя метод .rename(), мы можем изменить названия как всех столбцов, так и только их часть. При этом нет необходимости соблюдать последовательность столбцов, как это было в случае использования атрибута columns. Изменим название столбца 'description' на 'info':"
   ]
  },
  {
   "cell_type": "code",
   "execution_count": null,
   "id": "c0776c17-ae4d-498c-a09a-0eca9a85a3a1",
   "metadata": {},
   "outputs": [],
   "source": [
    "# Изменим название столбца 'description' на 'info':\n",
    "# Используя атрибут inplace=True, сохраним изменения в текущем датафрейме:\n",
    "df.rename(columns={'description': 'info'}, inplace=True)\n",
    "\n",
    "print(df) "
   ]
  },
  {
   "cell_type": "markdown",
   "id": "f7e49faf-e412-4713-b6de-3c4a3ca06cdf",
   "metadata": {},
   "source": [
    "### Перевод названия столбцов в Snake Case"
   ]
  },
  {
   "cell_type": "code",
   "execution_count": null,
   "id": "888e0ec1-ce4d-409b-bace-d340afd1f164",
   "metadata": {},
   "outputs": [],
   "source": [
    "# Зададим исходную строку для перевода в нижний регистр:\n",
    "name = 'Column Name'\n",
    "\n",
    "# Используем метод .lower() для перевода всех символов в нижний регистр:\n",
    "lower_name = name.lower()\n",
    "print(lower_name) "
   ]
  },
  {
   "cell_type": "code",
   "execution_count": null,
   "id": "b5dc3c49-03d9-46ea-a81a-3a74ae9daa07",
   "metadata": {},
   "outputs": [],
   "source": [
    "# Используем метод .replace() для замены пробела на нижнее подчёркивание:\n",
    "lower_name = lower_name.replace(' ', '_')\n",
    "print(lower_name) "
   ]
  },
  {
   "cell_type": "raw",
   "id": "1da6bc42-fe74-4754-b612-2549c18447a1",
   "metadata": {},
   "source": [
    "Таким образом, мы можем совместить два метода .lower() и .replace() в одну цепочку действий, что позволит изменить нотацию названия на Snake Case:"
   ]
  },
  {
   "cell_type": "code",
   "execution_count": null,
   "id": "55064d7d-c19e-454c-afe3-57f3f10d4b12",
   "metadata": {},
   "outputs": [],
   "source": [
    "# Зададим исходную строку для перевода в нижний регистр:\n",
    "name = 'Column Name'\n",
    "\n",
    "# Используем метод .lower() для перевода всех символов в нижний регистр:\n",
    "snake_case_name = name.lower().replace(' ', '_')\n",
    "print(snake_case_name) "
   ]
  },
  {
   "cell_type": "code",
   "execution_count": null,
   "id": "7bfefd44-3d00-4c54-a77a-b88acd1219f5",
   "metadata": {},
   "outputs": [],
   "source": [
    "# Зададим данные для датафрейма: названия столбцов и содержание строк:\n",
    "columns = ['Product ID', 'Category', 'Description', 'Price']\n",
    "data = [[10001, 'Телефоны','Смартфон', 15999],\n",
    "       [10002, 'Компьютеры', 'Монитор', 17200],\n",
    "       [10003, 'Кухонная техника', 'Микроволновка', 6350]]\n",
    "\n",
    "# Создадим новый датафрейм df:\n",
    "df = pd.DataFrame(data=data, columns=columns)\n",
    "\n",
    "# Создадим пустой словарь для записи переименований\n",
    "rename_dict = {}\n",
    "\n",
    "# Заполним словарь в цикле\n",
    "for column in df.columns:\n",
    "    rename_dict[column] = column.lower().replace(' ', '_')\n",
    "\n",
    "# Произведём переименование\n",
    "df.rename(columns=rename_dict, inplace=True)\n",
    "\n",
    "    \n",
    "print(df) "
   ]
  },
  {
   "cell_type": "markdown",
   "id": "0ff8a5b1-7e6f-4fa6-b602-1d8e8043f06f",
   "metadata": {},
   "source": [
    "### Изменение названия столбцов с помощью аксессора str"
   ]
  },
  {
   "cell_type": "code",
   "execution_count": null,
   "id": "d134fa72-6b77-40f0-b1df-ddb8a17da2aa",
   "metadata": {},
   "outputs": [],
   "source": [
    "# Зададим данные для датафрейма: названия столбцов и содержание строк:\n",
    "columns = ['Product ID', 'Category', 'Description', 'Price']\n",
    "data = [[10001, 'Телефоны','Смартфон', 15999],\n",
    "       [10002, 'Компьютеры', 'Монитор', 17200],\n",
    "       [10003, 'Кухонная техника', 'Микроволновка', 6350]]\n",
    "\n",
    "# Создадим новый датафрейм df:\n",
    "df = pd.DataFrame(data=data, columns=columns)\n",
    "    \n",
    "print(df.columns) "
   ]
  },
  {
   "cell_type": "code",
   "execution_count": null,
   "id": "20d91582-3f49-408d-9299-99cf1d65618e",
   "metadata": {},
   "outputs": [],
   "source": [
    "# Измененим все объекты внутри Index при помощи метода lower():\n",
    "print(df.columns.str.lower()) "
   ]
  },
  {
   "cell_type": "code",
   "execution_count": null,
   "id": "91e7b2bc-038d-4419-b9cb-6a6d18e6da87",
   "metadata": {},
   "outputs": [],
   "source": [
    "# Зададим данные для датафрейма: названия столбцов и содержание строк:\n",
    "columns = ['Product ID', 'Category', 'Description', 'Price']\n",
    "data = [[10001, 'Телефоны','Смартфон', 15999],\n",
    "       [10002, 'Компьютеры', 'Монитор', 17200],\n",
    "       [10003, 'Кухонная техника', 'Микроволновка', 6350]]\n",
    "\n",
    "# Приведем названия столбцов к Snake Case:\n",
    "df.columns = df.columns.str.lower().str.replace(' ', '_')\n",
    "\n",
    "print(df.columns) "
   ]
  },
  {
   "cell_type": "code",
   "execution_count": 2,
   "id": "75242be4-d075-4531-b1ab-0946a86b45dd",
   "metadata": {},
   "outputs": [
    {
     "name": "stdout",
     "output_type": "stream",
     "text": [
      "Index(['  user_id', 'total play', 'Artist', 'genre', 'track'], dtype='object')\n",
      "Index(['user_id', 'total_play', 'artist', 'genre', 'track'], dtype='object')\n"
     ]
    }
   ],
   "source": [
    "import pandas as pd\n",
    "music_df = pd.read_csv('https://code.s3.yandex.net/datasets/music_log.csv')\n",
    "\n",
    "# Выведем на экран названия всех столбцов с помощью атрибута DataFrame columns:\n",
    "print(music_df.columns)\n",
    "\n",
    "\n",
    "\n",
    "# Создание списка новых названий столбцов в snake_case\n",
    "# ВАЖНО: Замените эти названия на правильные snake_case названия для ваших столбцов!\n",
    "new_columns = ['user_id', 'total_play', 'artist', 'genre', 'track']\n",
    "\n",
    "# Присвоение новых названий столбцам\n",
    "music_df.columns = new_columns\n",
    "\n",
    "# Вывод названий столбцов (для проверки)\n",
    "print(music_df.columns)"
   ]
  },
  {
   "cell_type": "code",
   "execution_count": 77,
   "id": "9bf4de46-e25f-4934-b6c6-a891737e9ede",
   "metadata": {},
   "outputs": [
    {
     "data": {
      "text/plain": [
       "Index(['  user_id', 'total_play', 'artist', 'genre', 'track'], dtype='object')"
      ]
     },
     "execution_count": 77,
     "metadata": {},
     "output_type": "execute_result"
    }
   ],
   "source": [
    "import pandas as pd\n",
    "music_df = pd.read_csv('https://code.s3.yandex.net/datasets/music_log.csv')\n",
    "new_columns = {\n",
    "    'user_id': 'user_id',  \n",
    "    'total play': 'total_play',\n",
    "    'Artist': 'artist',\n",
    "    'genre': 'genre',\n",
    "    'track': 'track'\n",
    "}\n",
    "\n",
    "\n",
    "# Переименование столбцов с использованием метода .rename()\n",
    "music_df = music_df.rename(columns=new_columns)\n",
    "\n",
    "# Вывод названий столбцов (для проверки)\n",
    "music_df.columns"
   ]
  },
  {
   "cell_type": "code",
   "execution_count": 4,
   "id": "256ce1e0-fee1-46b1-95a0-d9ef52a48566",
   "metadata": {},
   "outputs": [
    {
     "name": "stdout",
     "output_type": "stream",
     "text": [
      "Index(['user_id', 'total_play', 'artist', 'genre', 'track'], dtype='object')\n"
     ]
    }
   ],
   "source": [
    "import pandas as pd\n",
    "music_df = pd.read_csv('https://code.s3.yandex.net/datasets/music_log.csv')\n",
    "\n",
    "# Для замены названий столбцов используйте цепочку строковых методов:\n",
    "music_df.columns = music_df.columns.str.strip().str.lower().str.replace(' ', '_')\n",
    "# напишите ваш код здесь\n",
    "\n",
    "# Выведем на экран обновленные названия столбцов:\n",
    "print(music_df.columns)"
   ]
  },
  {
   "cell_type": "markdown",
   "id": "9466718f-6b3b-4d06-bce8-f93e3a892d33",
   "metadata": {},
   "source": [
    "# Методы замены данных по условию"
   ]
  },
  {
   "cell_type": "code",
   "execution_count": 7,
   "id": "821e3b0a-f2b1-4e3a-a116-f624b0cb0cdc",
   "metadata": {},
   "outputs": [
    {
     "data": {
      "text/html": [
       "<div>\n",
       "<style scoped>\n",
       "    .dataframe tbody tr th:only-of-type {\n",
       "        vertical-align: middle;\n",
       "    }\n",
       "\n",
       "    .dataframe tbody tr th {\n",
       "        vertical-align: top;\n",
       "    }\n",
       "\n",
       "    .dataframe thead th {\n",
       "        text-align: right;\n",
       "    }\n",
       "</style>\n",
       "<table border=\"1\" class=\"dataframe\">\n",
       "  <thead>\n",
       "    <tr style=\"text-align: right;\">\n",
       "      <th></th>\n",
       "      <th>category</th>\n",
       "      <th>id</th>\n",
       "      <th>group</th>\n",
       "      <th>price</th>\n",
       "      <th>rating</th>\n",
       "      <th>votes</th>\n",
       "    </tr>\n",
       "  </thead>\n",
       "  <tbody>\n",
       "    <tr>\n",
       "      <th>0</th>\n",
       "      <td>Электроника</td>\n",
       "      <td>1826254</td>\n",
       "      <td>Смартфоны</td>\n",
       "      <td>14297</td>\n",
       "      <td>4.8</td>\n",
       "      <td>1536</td>\n",
       "    </tr>\n",
       "    <tr>\n",
       "      <th>1</th>\n",
       "      <td>Смартфоны</td>\n",
       "      <td>1832281</td>\n",
       "      <td>Смартфоны</td>\n",
       "      <td>32690</td>\n",
       "      <td>4.9</td>\n",
       "      <td>186</td>\n",
       "    </tr>\n",
       "    <tr>\n",
       "      <th>2</th>\n",
       "      <td>Электроника</td>\n",
       "      <td>2338051</td>\n",
       "      <td>Мобильный телефон</td>\n",
       "      <td>817</td>\n",
       "      <td>37.0</td>\n",
       "      <td>88</td>\n",
       "    </tr>\n",
       "    <tr>\n",
       "      <th>3</th>\n",
       "      <td>Электроника</td>\n",
       "      <td>6757637</td>\n",
       "      <td>Умные часы</td>\n",
       "      <td>1287</td>\n",
       "      <td>4.5</td>\n",
       "      <td>121</td>\n",
       "    </tr>\n",
       "    <tr>\n",
       "      <th>4</th>\n",
       "      <td>Бытовая техника</td>\n",
       "      <td>1777135</td>\n",
       "      <td>Микроволновая печь</td>\n",
       "      <td>5206</td>\n",
       "      <td>4.9</td>\n",
       "      <td>25</td>\n",
       "    </tr>\n",
       "    <tr>\n",
       "      <th>5</th>\n",
       "      <td>Компьютерная техника</td>\n",
       "      <td>1774907</td>\n",
       "      <td>Ноутбук</td>\n",
       "      <td>91200</td>\n",
       "      <td>4.8</td>\n",
       "      <td>98</td>\n",
       "    </tr>\n",
       "    <tr>\n",
       "      <th>6</th>\n",
       "      <td>Компьютерная техника</td>\n",
       "      <td>1879698</td>\n",
       "      <td>Планшет</td>\n",
       "      <td>30290</td>\n",
       "      <td>4.9</td>\n",
       "      <td>749</td>\n",
       "    </tr>\n",
       "  </tbody>\n",
       "</table>\n",
       "</div>"
      ],
      "text/plain": [
       "               category       id               group  price  rating  votes\n",
       "0           Электроника  1826254           Смартфоны  14297     4.8   1536\n",
       "1             Смартфоны  1832281           Смартфоны  32690     4.9    186\n",
       "2           Электроника  2338051   Мобильный телефон    817    37.0     88\n",
       "3           Электроника  6757637          Умные часы   1287     4.5    121\n",
       "4       Бытовая техника  1777135  Микроволновая печь   5206     4.9     25\n",
       "5  Компьютерная техника  1774907             Ноутбук  91200     4.8     98\n",
       "6  Компьютерная техника  1879698             Планшет  30290     4.9    749"
      ]
     },
     "execution_count": 7,
     "metadata": {},
     "output_type": "execute_result"
    }
   ],
   "source": [
    "columns = ['category', 'id', 'group', 'price', 'rating', 'votes']\n",
    "data = [['Электроника', 1826254, 'Смартфоны', 14297, 4.8, 1536],\n",
    "        ['Смартфоны', 1832281, 'Смартфоны', 32690, 4.9, 186],\n",
    "        ['Электроника', 2338051, 'Мобильный телефон', 817, 37, 88],\n",
    "        ['Электроника', 6757637, 'Умные часы', 1287, 4.5, 121],\n",
    "        ['Бытовая техника', 1777135, 'Микроволновая печь', 5206, 4.9, 25],\n",
    "        ['Компьютерная техника', 1774907, 'Ноутбук', 91200, 4.8, 98],\n",
    "        ['Компьютерная техника', 1879698, 'Планшет', 30290, 4.9, 749]]\n",
    "\n",
    "# Создадим новый датафрейм df:\n",
    "df = pd.DataFrame(data=data, columns=columns)\n",
    "df"
   ]
  },
  {
   "cell_type": "markdown",
   "id": "e0b18271-b111-4e8c-b721-b43158c229eb",
   "metadata": {},
   "source": [
    "### Замена данных с помощью метода .replace()"
   ]
  },
  {
   "cell_type": "raw",
   "id": "e0b98ad7-6515-42fd-babd-a9fdd24bc5d9",
   "metadata": {},
   "source": [
    "DataFrame.replace(to_replace=None, value=None, inplace=False, limit=None, regex=False) "
   ]
  },
  {
   "cell_type": "raw",
   "id": "9ca48270-ae0f-40a5-809c-849b08842b52",
   "metadata": {},
   "source": [
    "Метод имеет несколько атрибутов:\n",
    "to_replace — значение или список значений, которые необходимо заменить.\n",
    "value — значение или их список, на которые будет проводиться замена.\n",
    "inplace — логический атрибут, который указывает, изменять датафрейм на месте или нет. По умолчанию стоит значение False — не изменять на месте.\n",
    "limit — устанавливает максимальное количество значений, которые необходимо заменить в датафрейме. По умолчанию ограничений нет.\n",
    "regex — логический атрибут, который указывает, являются ли to_replace и value регулярным выражением. В будущих уроках вы познакомитесь с регулярными выражениями подробнее."
   ]
  },
  {
   "cell_type": "code",
   "execution_count": 16,
   "id": "260a9a78-d640-4fa3-aec3-0f04c6a6ec92",
   "metadata": {},
   "outputs": [
    {
     "data": {
      "text/html": [
       "<div>\n",
       "<style scoped>\n",
       "    .dataframe tbody tr th:only-of-type {\n",
       "        vertical-align: middle;\n",
       "    }\n",
       "\n",
       "    .dataframe tbody tr th {\n",
       "        vertical-align: top;\n",
       "    }\n",
       "\n",
       "    .dataframe thead th {\n",
       "        text-align: right;\n",
       "    }\n",
       "</style>\n",
       "<table border=\"1\" class=\"dataframe\">\n",
       "  <thead>\n",
       "    <tr style=\"text-align: right;\">\n",
       "      <th></th>\n",
       "      <th>category</th>\n",
       "      <th>id</th>\n",
       "      <th>group</th>\n",
       "      <th>price</th>\n",
       "      <th>rating</th>\n",
       "      <th>votes</th>\n",
       "    </tr>\n",
       "  </thead>\n",
       "  <tbody>\n",
       "    <tr>\n",
       "      <th>0</th>\n",
       "      <td>electronics</td>\n",
       "      <td>1826254</td>\n",
       "      <td>Смартфоны</td>\n",
       "      <td>14297</td>\n",
       "      <td>4.8</td>\n",
       "      <td>1536</td>\n",
       "    </tr>\n",
       "    <tr>\n",
       "      <th>1</th>\n",
       "      <td>Смартфоны</td>\n",
       "      <td>1832281</td>\n",
       "      <td>Смартфоны</td>\n",
       "      <td>32690</td>\n",
       "      <td>4.9</td>\n",
       "      <td>186</td>\n",
       "    </tr>\n",
       "    <tr>\n",
       "      <th>2</th>\n",
       "      <td>electronics</td>\n",
       "      <td>2338051</td>\n",
       "      <td>Мобильный телефон</td>\n",
       "      <td>817</td>\n",
       "      <td>37.0</td>\n",
       "      <td>88</td>\n",
       "    </tr>\n",
       "    <tr>\n",
       "      <th>3</th>\n",
       "      <td>electronics</td>\n",
       "      <td>6757637</td>\n",
       "      <td>Умные часы</td>\n",
       "      <td>1287</td>\n",
       "      <td>4.5</td>\n",
       "      <td>121</td>\n",
       "    </tr>\n",
       "    <tr>\n",
       "      <th>4</th>\n",
       "      <td>Бытовая техника</td>\n",
       "      <td>1777135</td>\n",
       "      <td>Микроволновая печь</td>\n",
       "      <td>5206</td>\n",
       "      <td>4.9</td>\n",
       "      <td>25</td>\n",
       "    </tr>\n",
       "    <tr>\n",
       "      <th>5</th>\n",
       "      <td>Компьютерная техника</td>\n",
       "      <td>1774907</td>\n",
       "      <td>Ноутбук</td>\n",
       "      <td>91200</td>\n",
       "      <td>4.8</td>\n",
       "      <td>98</td>\n",
       "    </tr>\n",
       "    <tr>\n",
       "      <th>6</th>\n",
       "      <td>Компьютерная техника</td>\n",
       "      <td>1879698</td>\n",
       "      <td>Планшет</td>\n",
       "      <td>30290</td>\n",
       "      <td>4.9</td>\n",
       "      <td>749</td>\n",
       "    </tr>\n",
       "  </tbody>\n",
       "</table>\n",
       "</div>"
      ],
      "text/plain": [
       "               category       id               group  price  rating  votes\n",
       "0           electronics  1826254           Смартфоны  14297     4.8   1536\n",
       "1             Смартфоны  1832281           Смартфоны  32690     4.9    186\n",
       "2           electronics  2338051   Мобильный телефон    817    37.0     88\n",
       "3           electronics  6757637          Умные часы   1287     4.5    121\n",
       "4       Бытовая техника  1777135  Микроволновая печь   5206     4.9     25\n",
       "5  Компьютерная техника  1774907             Ноутбук  91200     4.8     98\n",
       "6  Компьютерная техника  1879698             Планшет  30290     4.9    749"
      ]
     },
     "execution_count": 16,
     "metadata": {},
     "output_type": "execute_result"
    }
   ],
   "source": [
    "df.replace('Электроника', 'electronics', inplace=True)\n",
    "\n",
    "df "
   ]
  },
  {
   "cell_type": "code",
   "execution_count": 20,
   "id": "1b183d09-7cd5-4216-9cfa-6d954de7c744",
   "metadata": {},
   "outputs": [
    {
     "name": "stderr",
     "output_type": "stream",
     "text": [
      "/var/folders/70/vrc88x_94pn4w3n7ss3fj_qw0000gn/T/ipykernel_48659/759551664.py:1: FutureWarning: A value is trying to be set on a copy of a DataFrame or Series through chained assignment using an inplace method.\n",
      "The behavior will change in pandas 3.0. This inplace method will never work because the intermediate object on which we are setting values always behaves as a copy.\n",
      "\n",
      "For example, when doing 'df[col].method(value, inplace=True)', try using 'df.method({col: value}, inplace=True)' or df[col] = df[col].method(value) instead, to perform the operation inplace on the original object.\n",
      "\n",
      "\n",
      "  df['group'].replace('Смартфоны', 'electronics', inplace=True)\n"
     ]
    },
    {
     "data": {
      "text/html": [
       "<div>\n",
       "<style scoped>\n",
       "    .dataframe tbody tr th:only-of-type {\n",
       "        vertical-align: middle;\n",
       "    }\n",
       "\n",
       "    .dataframe tbody tr th {\n",
       "        vertical-align: top;\n",
       "    }\n",
       "\n",
       "    .dataframe thead th {\n",
       "        text-align: right;\n",
       "    }\n",
       "</style>\n",
       "<table border=\"1\" class=\"dataframe\">\n",
       "  <thead>\n",
       "    <tr style=\"text-align: right;\">\n",
       "      <th></th>\n",
       "      <th>category</th>\n",
       "      <th>id</th>\n",
       "      <th>group</th>\n",
       "      <th>price</th>\n",
       "      <th>rating</th>\n",
       "      <th>votes</th>\n",
       "    </tr>\n",
       "  </thead>\n",
       "  <tbody>\n",
       "    <tr>\n",
       "      <th>0</th>\n",
       "      <td>electronics</td>\n",
       "      <td>1826254</td>\n",
       "      <td>electronics</td>\n",
       "      <td>14297</td>\n",
       "      <td>4.8</td>\n",
       "      <td>1536</td>\n",
       "    </tr>\n",
       "    <tr>\n",
       "      <th>1</th>\n",
       "      <td>electronics</td>\n",
       "      <td>1832281</td>\n",
       "      <td>electronics</td>\n",
       "      <td>32690</td>\n",
       "      <td>4.9</td>\n",
       "      <td>186</td>\n",
       "    </tr>\n",
       "    <tr>\n",
       "      <th>2</th>\n",
       "      <td>electronics</td>\n",
       "      <td>2338051</td>\n",
       "      <td>Мобильный телефон</td>\n",
       "      <td>817</td>\n",
       "      <td>37.0</td>\n",
       "      <td>88</td>\n",
       "    </tr>\n",
       "    <tr>\n",
       "      <th>3</th>\n",
       "      <td>electronics</td>\n",
       "      <td>6757637</td>\n",
       "      <td>Умные часы</td>\n",
       "      <td>1287</td>\n",
       "      <td>4.5</td>\n",
       "      <td>121</td>\n",
       "    </tr>\n",
       "    <tr>\n",
       "      <th>4</th>\n",
       "      <td>Бытовая техника</td>\n",
       "      <td>1777135</td>\n",
       "      <td>Микроволновая печь</td>\n",
       "      <td>5206</td>\n",
       "      <td>4.9</td>\n",
       "      <td>25</td>\n",
       "    </tr>\n",
       "    <tr>\n",
       "      <th>5</th>\n",
       "      <td>Компьютерная техника</td>\n",
       "      <td>1774907</td>\n",
       "      <td>Ноутбук</td>\n",
       "      <td>91200</td>\n",
       "      <td>4.8</td>\n",
       "      <td>98</td>\n",
       "    </tr>\n",
       "    <tr>\n",
       "      <th>6</th>\n",
       "      <td>Компьютерная техника</td>\n",
       "      <td>1879698</td>\n",
       "      <td>Планшет</td>\n",
       "      <td>30290</td>\n",
       "      <td>4.9</td>\n",
       "      <td>749</td>\n",
       "    </tr>\n",
       "  </tbody>\n",
       "</table>\n",
       "</div>"
      ],
      "text/plain": [
       "               category       id               group  price  rating  votes\n",
       "0           electronics  1826254         electronics  14297     4.8   1536\n",
       "1           electronics  1832281         electronics  32690     4.9    186\n",
       "2           electronics  2338051   Мобильный телефон    817    37.0     88\n",
       "3           electronics  6757637          Умные часы   1287     4.5    121\n",
       "4       Бытовая техника  1777135  Микроволновая печь   5206     4.9     25\n",
       "5  Компьютерная техника  1774907             Ноутбук  91200     4.8     98\n",
       "6  Компьютерная техника  1879698             Планшет  30290     4.9    749"
      ]
     },
     "execution_count": 20,
     "metadata": {},
     "output_type": "execute_result"
    }
   ],
   "source": [
    "df['group'].replace('Смартфоны', 'electronics', inplace=True)\n",
    "df"
   ]
  },
  {
   "cell_type": "raw",
   "id": "e427466a-0e8e-46c5-b2e7-bcda4cce806e",
   "metadata": {},
   "source": [
    "В методе .replace() для замены значений можно использовать списки. Например, заменим остальные значения категорий на их англоязычные названия. Для этого создадим два списка: один со старым названием old_category, другой — с новым new_category:"
   ]
  },
  {
   "cell_type": "code",
   "execution_count": 22,
   "id": "9ea95e72-4fa8-4dbd-944a-4911754a811a",
   "metadata": {},
   "outputs": [
    {
     "name": "stderr",
     "output_type": "stream",
     "text": [
      "/var/folders/70/vrc88x_94pn4w3n7ss3fj_qw0000gn/T/ipykernel_48659/2460586060.py:6: FutureWarning: A value is trying to be set on a copy of a DataFrame or Series through chained assignment using an inplace method.\n",
      "The behavior will change in pandas 3.0. This inplace method will never work because the intermediate object on which we are setting values always behaves as a copy.\n",
      "\n",
      "For example, when doing 'df[col].method(value, inplace=True)', try using 'df.method({col: value}, inplace=True)' or df[col] = df[col].method(value) instead, to perform the operation inplace on the original object.\n",
      "\n",
      "\n",
      "  df['category'].replace(old_category, new_category, inplace=True)\n"
     ]
    },
    {
     "data": {
      "text/html": [
       "<div>\n",
       "<style scoped>\n",
       "    .dataframe tbody tr th:only-of-type {\n",
       "        vertical-align: middle;\n",
       "    }\n",
       "\n",
       "    .dataframe tbody tr th {\n",
       "        vertical-align: top;\n",
       "    }\n",
       "\n",
       "    .dataframe thead th {\n",
       "        text-align: right;\n",
       "    }\n",
       "</style>\n",
       "<table border=\"1\" class=\"dataframe\">\n",
       "  <thead>\n",
       "    <tr style=\"text-align: right;\">\n",
       "      <th></th>\n",
       "      <th>category</th>\n",
       "      <th>id</th>\n",
       "      <th>group</th>\n",
       "      <th>price</th>\n",
       "      <th>rating</th>\n",
       "      <th>votes</th>\n",
       "    </tr>\n",
       "  </thead>\n",
       "  <tbody>\n",
       "    <tr>\n",
       "      <th>0</th>\n",
       "      <td>electronics</td>\n",
       "      <td>1826254</td>\n",
       "      <td>electronics</td>\n",
       "      <td>14297</td>\n",
       "      <td>4.8</td>\n",
       "      <td>1536</td>\n",
       "    </tr>\n",
       "    <tr>\n",
       "      <th>1</th>\n",
       "      <td>electronics</td>\n",
       "      <td>1832281</td>\n",
       "      <td>electronics</td>\n",
       "      <td>32690</td>\n",
       "      <td>4.9</td>\n",
       "      <td>186</td>\n",
       "    </tr>\n",
       "    <tr>\n",
       "      <th>2</th>\n",
       "      <td>electronics</td>\n",
       "      <td>2338051</td>\n",
       "      <td>Мобильный телефон</td>\n",
       "      <td>817</td>\n",
       "      <td>37.0</td>\n",
       "      <td>88</td>\n",
       "    </tr>\n",
       "    <tr>\n",
       "      <th>3</th>\n",
       "      <td>electronics</td>\n",
       "      <td>6757637</td>\n",
       "      <td>Умные часы</td>\n",
       "      <td>1287</td>\n",
       "      <td>4.5</td>\n",
       "      <td>121</td>\n",
       "    </tr>\n",
       "    <tr>\n",
       "      <th>4</th>\n",
       "      <td>appliances</td>\n",
       "      <td>1777135</td>\n",
       "      <td>Микроволновая печь</td>\n",
       "      <td>5206</td>\n",
       "      <td>4.9</td>\n",
       "      <td>25</td>\n",
       "    </tr>\n",
       "    <tr>\n",
       "      <th>5</th>\n",
       "      <td>computers</td>\n",
       "      <td>1774907</td>\n",
       "      <td>Ноутбук</td>\n",
       "      <td>91200</td>\n",
       "      <td>4.8</td>\n",
       "      <td>98</td>\n",
       "    </tr>\n",
       "    <tr>\n",
       "      <th>6</th>\n",
       "      <td>computers</td>\n",
       "      <td>1879698</td>\n",
       "      <td>Планшет</td>\n",
       "      <td>30290</td>\n",
       "      <td>4.9</td>\n",
       "      <td>749</td>\n",
       "    </tr>\n",
       "  </tbody>\n",
       "</table>\n",
       "</div>"
      ],
      "text/plain": [
       "      category       id               group  price  rating  votes\n",
       "0  electronics  1826254         electronics  14297     4.8   1536\n",
       "1  electronics  1832281         electronics  32690     4.9    186\n",
       "2  electronics  2338051   Мобильный телефон    817    37.0     88\n",
       "3  electronics  6757637          Умные часы   1287     4.5    121\n",
       "4   appliances  1777135  Микроволновая печь   5206     4.9     25\n",
       "5    computers  1774907             Ноутбук  91200     4.8     98\n",
       "6    computers  1879698             Планшет  30290     4.9    749"
      ]
     },
     "execution_count": 22,
     "metadata": {},
     "output_type": "execute_result"
    }
   ],
   "source": [
    "# Создадим два списка – один со старым названием категорий, другой – с новым:\n",
    "old_category = ['Бытовая техника', 'Компьютерная техника']\n",
    "new_category = ['appliances', 'computers']\n",
    "\n",
    "# Заменим название категории согласно двум спискам:\n",
    "df['category'].replace(old_category, new_category, inplace=True)\n",
    "\n",
    "df "
   ]
  },
  {
   "cell_type": "code",
   "execution_count": 24,
   "id": "6d04237b-756a-4349-9109-adf960422ef7",
   "metadata": {},
   "outputs": [
    {
     "data": {
      "text/html": [
       "<div>\n",
       "<style scoped>\n",
       "    .dataframe tbody tr th:only-of-type {\n",
       "        vertical-align: middle;\n",
       "    }\n",
       "\n",
       "    .dataframe tbody tr th {\n",
       "        vertical-align: top;\n",
       "    }\n",
       "\n",
       "    .dataframe thead th {\n",
       "        text-align: right;\n",
       "    }\n",
       "</style>\n",
       "<table border=\"1\" class=\"dataframe\">\n",
       "  <thead>\n",
       "    <tr style=\"text-align: right;\">\n",
       "      <th></th>\n",
       "      <th>category</th>\n",
       "      <th>id</th>\n",
       "      <th>group</th>\n",
       "      <th>price</th>\n",
       "      <th>rating</th>\n",
       "      <th>votes</th>\n",
       "    </tr>\n",
       "  </thead>\n",
       "  <tbody>\n",
       "    <tr>\n",
       "      <th>0</th>\n",
       "      <td>electronics</td>\n",
       "      <td>1826254</td>\n",
       "      <td>electronics</td>\n",
       "      <td>14297</td>\n",
       "      <td>4.8</td>\n",
       "      <td>1536</td>\n",
       "    </tr>\n",
       "    <tr>\n",
       "      <th>1</th>\n",
       "      <td>electronics</td>\n",
       "      <td>1832281</td>\n",
       "      <td>electronics</td>\n",
       "      <td>32690</td>\n",
       "      <td>4.9</td>\n",
       "      <td>186</td>\n",
       "    </tr>\n",
       "    <tr>\n",
       "      <th>2</th>\n",
       "      <td>electronics</td>\n",
       "      <td>2338051</td>\n",
       "      <td>Мобильный телефон</td>\n",
       "      <td>817</td>\n",
       "      <td>37.0</td>\n",
       "      <td>88</td>\n",
       "    </tr>\n",
       "    <tr>\n",
       "      <th>3</th>\n",
       "      <td>electronics</td>\n",
       "      <td>6757637</td>\n",
       "      <td>Умные часы</td>\n",
       "      <td>1287</td>\n",
       "      <td>4.5</td>\n",
       "      <td>121</td>\n",
       "    </tr>\n",
       "    <tr>\n",
       "      <th>4</th>\n",
       "      <td>appliances</td>\n",
       "      <td>1777135</td>\n",
       "      <td>Микроволновая печь</td>\n",
       "      <td>5206</td>\n",
       "      <td>4.9</td>\n",
       "      <td>25</td>\n",
       "    </tr>\n",
       "    <tr>\n",
       "      <th>5</th>\n",
       "      <td>computers</td>\n",
       "      <td>1774907</td>\n",
       "      <td>Ноутбук</td>\n",
       "      <td>91200</td>\n",
       "      <td>4.8</td>\n",
       "      <td>98</td>\n",
       "    </tr>\n",
       "    <tr>\n",
       "      <th>6</th>\n",
       "      <td>computers</td>\n",
       "      <td>1879698</td>\n",
       "      <td>Планшет</td>\n",
       "      <td>30290</td>\n",
       "      <td>4.9</td>\n",
       "      <td>749</td>\n",
       "    </tr>\n",
       "  </tbody>\n",
       "</table>\n",
       "</div>"
      ],
      "text/plain": [
       "      category       id               group  price  rating  votes\n",
       "0  electronics  1826254         electronics  14297     4.8   1536\n",
       "1  electronics  1832281         electronics  32690     4.9    186\n",
       "2  electronics  2338051   Мобильный телефон    817    37.0     88\n",
       "3  electronics  6757637          Умные часы   1287     4.5    121\n",
       "4   appliances  1777135  Микроволновая печь   5206     4.9     25\n",
       "5    computers  1774907             Ноутбук  91200     4.8     98\n",
       "6    computers  1879698             Планшет  30290     4.9    749"
      ]
     },
     "execution_count": 24,
     "metadata": {},
     "output_type": "execute_result"
    }
   ],
   "source": [
    "# Создадим словарь для замены значений:\n",
    "replace_dict = {'Бытовая техника':'appliances',\n",
    "                'Компьютерная техника':'computers'}\n",
    "\n",
    "# Заменим название категории согласно словарю:\n",
    "df['category'].replace(replace_dict, inplace=True)\n",
    "\n",
    "df"
   ]
  },
  {
   "cell_type": "raw",
   "id": "971dfabd-8387-4106-8b86-745328550f6d",
   "metadata": {},
   "source": [
    "На промежуточной стадии анализа использовать inplace=True стоит осторожно — чтобы вернуть изменения, придётся перезагрузить все исходные данные и запустить скрипт с начала. В этом случае удобнее сохранять изменение значений в виде нового объекта — датафрейма или серии. Для этого не прописывают в методе атрибут inplace — по умолчанию возможность перезаписи исходных данных отключена (inplace=False). Это удобно, когда стоит задача сохранить исходные данные."
   ]
  },
  {
   "cell_type": "code",
   "execution_count": 26,
   "id": "e3b685f4-28ec-4a55-be1c-fbdb2aab974b",
   "metadata": {},
   "outputs": [
    {
     "data": {
      "text/html": [
       "<div>\n",
       "<style scoped>\n",
       "    .dataframe tbody tr th:only-of-type {\n",
       "        vertical-align: middle;\n",
       "    }\n",
       "\n",
       "    .dataframe tbody tr th {\n",
       "        vertical-align: top;\n",
       "    }\n",
       "\n",
       "    .dataframe thead th {\n",
       "        text-align: right;\n",
       "    }\n",
       "</style>\n",
       "<table border=\"1\" class=\"dataframe\">\n",
       "  <thead>\n",
       "    <tr style=\"text-align: right;\">\n",
       "      <th></th>\n",
       "      <th>category</th>\n",
       "      <th>id</th>\n",
       "      <th>group</th>\n",
       "      <th>price</th>\n",
       "      <th>rating</th>\n",
       "      <th>votes</th>\n",
       "      <th>new_group</th>\n",
       "    </tr>\n",
       "  </thead>\n",
       "  <tbody>\n",
       "    <tr>\n",
       "      <th>0</th>\n",
       "      <td>electronics</td>\n",
       "      <td>1826254</td>\n",
       "      <td>electronics</td>\n",
       "      <td>14297</td>\n",
       "      <td>4.8</td>\n",
       "      <td>1536</td>\n",
       "      <td>electronics</td>\n",
       "    </tr>\n",
       "    <tr>\n",
       "      <th>1</th>\n",
       "      <td>electronics</td>\n",
       "      <td>1832281</td>\n",
       "      <td>electronics</td>\n",
       "      <td>32690</td>\n",
       "      <td>4.9</td>\n",
       "      <td>186</td>\n",
       "      <td>electronics</td>\n",
       "    </tr>\n",
       "    <tr>\n",
       "      <th>2</th>\n",
       "      <td>electronics</td>\n",
       "      <td>2338051</td>\n",
       "      <td>Мобильный телефон</td>\n",
       "      <td>817</td>\n",
       "      <td>37.0</td>\n",
       "      <td>88</td>\n",
       "      <td>gadgets</td>\n",
       "    </tr>\n",
       "    <tr>\n",
       "      <th>3</th>\n",
       "      <td>electronics</td>\n",
       "      <td>6757637</td>\n",
       "      <td>Умные часы</td>\n",
       "      <td>1287</td>\n",
       "      <td>4.5</td>\n",
       "      <td>121</td>\n",
       "      <td>gadgets</td>\n",
       "    </tr>\n",
       "    <tr>\n",
       "      <th>4</th>\n",
       "      <td>appliances</td>\n",
       "      <td>1777135</td>\n",
       "      <td>Микроволновая печь</td>\n",
       "      <td>5206</td>\n",
       "      <td>4.9</td>\n",
       "      <td>25</td>\n",
       "      <td>Микроволновая печь</td>\n",
       "    </tr>\n",
       "    <tr>\n",
       "      <th>5</th>\n",
       "      <td>computers</td>\n",
       "      <td>1774907</td>\n",
       "      <td>Ноутбук</td>\n",
       "      <td>91200</td>\n",
       "      <td>4.8</td>\n",
       "      <td>98</td>\n",
       "      <td>Ноутбук</td>\n",
       "    </tr>\n",
       "    <tr>\n",
       "      <th>6</th>\n",
       "      <td>computers</td>\n",
       "      <td>1879698</td>\n",
       "      <td>Планшет</td>\n",
       "      <td>30290</td>\n",
       "      <td>4.9</td>\n",
       "      <td>749</td>\n",
       "      <td>gadgets</td>\n",
       "    </tr>\n",
       "  </tbody>\n",
       "</table>\n",
       "</div>"
      ],
      "text/plain": [
       "      category       id               group  price  rating  votes  \\\n",
       "0  electronics  1826254         electronics  14297     4.8   1536   \n",
       "1  electronics  1832281         electronics  32690     4.9    186   \n",
       "2  electronics  2338051   Мобильный телефон    817    37.0     88   \n",
       "3  electronics  6757637          Умные часы   1287     4.5    121   \n",
       "4   appliances  1777135  Микроволновая печь   5206     4.9     25   \n",
       "5    computers  1774907             Ноутбук  91200     4.8     98   \n",
       "6    computers  1879698             Планшет  30290     4.9    749   \n",
       "\n",
       "            new_group  \n",
       "0         electronics  \n",
       "1         electronics  \n",
       "2             gadgets  \n",
       "3             gadgets  \n",
       "4  Микроволновая печь  \n",
       "5             Ноутбук  \n",
       "6             gadgets  "
      ]
     },
     "execution_count": 26,
     "metadata": {},
     "output_type": "execute_result"
    }
   ],
   "source": [
    "# Создадим список с названием групп товаров для замены названия:\n",
    "group_list = ['Смартфоны','Умные часы','Планшет','Мобильный телефон']\n",
    "\n",
    "# Заменим все значения списка group_list на gadgets:\n",
    "df['new_group'] = df['group'].replace(group_list, 'gadgets')\n",
    "\n",
    "df"
   ]
  },
  {
   "cell_type": "raw",
   "id": "994b2051-25ff-48a7-b79c-13519b591491",
   "metadata": {},
   "source": [
    "Здесь метод .replace() использовался с атрибутом inplace по умолчанию — False. Это позволило в начале скопировать данные с заменой из столбца 'group' в новый столбец 'new_group'."
   ]
  },
  {
   "cell_type": "markdown",
   "id": "6917a82f-0155-4e18-9401-6a225b68d42f",
   "metadata": {},
   "source": [
    "### Замена данных с помощью индексации"
   ]
  },
  {
   "cell_type": "code",
   "execution_count": 29,
   "id": "844cb0a0-74f6-4784-a75f-86d183b718d7",
   "metadata": {},
   "outputs": [
    {
     "data": {
      "text/html": [
       "<div>\n",
       "<style scoped>\n",
       "    .dataframe tbody tr th:only-of-type {\n",
       "        vertical-align: middle;\n",
       "    }\n",
       "\n",
       "    .dataframe tbody tr th {\n",
       "        vertical-align: top;\n",
       "    }\n",
       "\n",
       "    .dataframe thead th {\n",
       "        text-align: right;\n",
       "    }\n",
       "</style>\n",
       "<table border=\"1\" class=\"dataframe\">\n",
       "  <thead>\n",
       "    <tr style=\"text-align: right;\">\n",
       "      <th></th>\n",
       "      <th>category</th>\n",
       "      <th>id</th>\n",
       "      <th>group</th>\n",
       "      <th>price</th>\n",
       "      <th>rating</th>\n",
       "      <th>votes</th>\n",
       "      <th>new_group</th>\n",
       "    </tr>\n",
       "  </thead>\n",
       "  <tbody>\n",
       "    <tr>\n",
       "      <th>0</th>\n",
       "      <td>electronics</td>\n",
       "      <td>1826254</td>\n",
       "      <td>electronics</td>\n",
       "      <td>14297</td>\n",
       "      <td>4.8</td>\n",
       "      <td>1536</td>\n",
       "      <td>electronics</td>\n",
       "    </tr>\n",
       "    <tr>\n",
       "      <th>1</th>\n",
       "      <td>electronics</td>\n",
       "      <td>1832281</td>\n",
       "      <td>electronics</td>\n",
       "      <td>32690</td>\n",
       "      <td>4.9</td>\n",
       "      <td>186</td>\n",
       "      <td>electronics</td>\n",
       "    </tr>\n",
       "    <tr>\n",
       "      <th>2</th>\n",
       "      <td>electronics</td>\n",
       "      <td>2338051</td>\n",
       "      <td>Мобильный телефон</td>\n",
       "      <td>817</td>\n",
       "      <td>3.7</td>\n",
       "      <td>88</td>\n",
       "      <td>gadgets</td>\n",
       "    </tr>\n",
       "    <tr>\n",
       "      <th>3</th>\n",
       "      <td>electronics</td>\n",
       "      <td>6757637</td>\n",
       "      <td>Умные часы</td>\n",
       "      <td>1287</td>\n",
       "      <td>4.5</td>\n",
       "      <td>121</td>\n",
       "      <td>gadgets</td>\n",
       "    </tr>\n",
       "    <tr>\n",
       "      <th>4</th>\n",
       "      <td>appliances</td>\n",
       "      <td>1777135</td>\n",
       "      <td>Микроволновая печь</td>\n",
       "      <td>5206</td>\n",
       "      <td>4.9</td>\n",
       "      <td>25</td>\n",
       "      <td>Микроволновая печь</td>\n",
       "    </tr>\n",
       "    <tr>\n",
       "      <th>5</th>\n",
       "      <td>computers</td>\n",
       "      <td>1774907</td>\n",
       "      <td>Ноутбук</td>\n",
       "      <td>91200</td>\n",
       "      <td>4.8</td>\n",
       "      <td>98</td>\n",
       "      <td>Ноутбук</td>\n",
       "    </tr>\n",
       "    <tr>\n",
       "      <th>6</th>\n",
       "      <td>computers</td>\n",
       "      <td>1879698</td>\n",
       "      <td>Планшет</td>\n",
       "      <td>30290</td>\n",
       "      <td>4.9</td>\n",
       "      <td>749</td>\n",
       "      <td>gadgets</td>\n",
       "    </tr>\n",
       "  </tbody>\n",
       "</table>\n",
       "</div>"
      ],
      "text/plain": [
       "      category       id               group  price  rating  votes  \\\n",
       "0  electronics  1826254         electronics  14297     4.8   1536   \n",
       "1  electronics  1832281         electronics  32690     4.9    186   \n",
       "2  electronics  2338051   Мобильный телефон    817     3.7     88   \n",
       "3  electronics  6757637          Умные часы   1287     4.5    121   \n",
       "4   appliances  1777135  Микроволновая печь   5206     4.9     25   \n",
       "5    computers  1774907             Ноутбук  91200     4.8     98   \n",
       "6    computers  1879698             Планшет  30290     4.9    749   \n",
       "\n",
       "            new_group  \n",
       "0         electronics  \n",
       "1         electronics  \n",
       "2             gadgets  \n",
       "3             gadgets  \n",
       "4  Микроволновая печь  \n",
       "5             Ноутбук  \n",
       "6             gadgets  "
      ]
     },
     "execution_count": 29,
     "metadata": {},
     "output_type": "execute_result"
    }
   ],
   "source": [
    "#Для замены обратимся к ячейке с помощью индексации loc[] по id товара:\n",
    "\n",
    "# Используя индексацию, сделаем срез данных по id товара и поделим значение на 10:\n",
    "df.loc[df['id'] == 2338051, 'rating'] = df['rating'] / 10\n",
    "\n",
    "df "
   ]
  },
  {
   "cell_type": "markdown",
   "id": "dad77eb7-ca0e-4768-8c22-3255fa39e87f",
   "metadata": {},
   "source": [
    "### Замена данных по условию"
   ]
  },
  {
   "cell_type": "code",
   "execution_count": 32,
   "id": "6c2b3edd-9baf-4ac5-ba69-cc7bab9e914c",
   "metadata": {},
   "outputs": [
    {
     "data": {
      "text/html": [
       "<div>\n",
       "<style scoped>\n",
       "    .dataframe tbody tr th:only-of-type {\n",
       "        vertical-align: middle;\n",
       "    }\n",
       "\n",
       "    .dataframe tbody tr th {\n",
       "        vertical-align: top;\n",
       "    }\n",
       "\n",
       "    .dataframe thead th {\n",
       "        text-align: right;\n",
       "    }\n",
       "</style>\n",
       "<table border=\"1\" class=\"dataframe\">\n",
       "  <thead>\n",
       "    <tr style=\"text-align: right;\">\n",
       "      <th></th>\n",
       "      <th>category</th>\n",
       "      <th>id</th>\n",
       "      <th>group</th>\n",
       "      <th>price</th>\n",
       "      <th>rating</th>\n",
       "      <th>votes</th>\n",
       "      <th>new_group</th>\n",
       "    </tr>\n",
       "  </thead>\n",
       "  <tbody>\n",
       "    <tr>\n",
       "      <th>0</th>\n",
       "      <td>electronics</td>\n",
       "      <td>1826254</td>\n",
       "      <td>electronics</td>\n",
       "      <td>14297</td>\n",
       "      <td>4.8</td>\n",
       "      <td>1536</td>\n",
       "      <td>other</td>\n",
       "    </tr>\n",
       "    <tr>\n",
       "      <th>1</th>\n",
       "      <td>electronics</td>\n",
       "      <td>1832281</td>\n",
       "      <td>electronics</td>\n",
       "      <td>32690</td>\n",
       "      <td>4.9</td>\n",
       "      <td>186</td>\n",
       "      <td>other</td>\n",
       "    </tr>\n",
       "    <tr>\n",
       "      <th>2</th>\n",
       "      <td>electronics</td>\n",
       "      <td>2338051</td>\n",
       "      <td>Мобильный телефон</td>\n",
       "      <td>817</td>\n",
       "      <td>3.7</td>\n",
       "      <td>88</td>\n",
       "      <td>gadgets</td>\n",
       "    </tr>\n",
       "    <tr>\n",
       "      <th>3</th>\n",
       "      <td>electronics</td>\n",
       "      <td>6757637</td>\n",
       "      <td>Умные часы</td>\n",
       "      <td>1287</td>\n",
       "      <td>4.5</td>\n",
       "      <td>121</td>\n",
       "      <td>gadgets</td>\n",
       "    </tr>\n",
       "    <tr>\n",
       "      <th>4</th>\n",
       "      <td>appliances</td>\n",
       "      <td>1777135</td>\n",
       "      <td>Микроволновая печь</td>\n",
       "      <td>5206</td>\n",
       "      <td>4.9</td>\n",
       "      <td>25</td>\n",
       "      <td>other</td>\n",
       "    </tr>\n",
       "    <tr>\n",
       "      <th>5</th>\n",
       "      <td>computers</td>\n",
       "      <td>1774907</td>\n",
       "      <td>Ноутбук</td>\n",
       "      <td>91200</td>\n",
       "      <td>4.8</td>\n",
       "      <td>98</td>\n",
       "      <td>other</td>\n",
       "    </tr>\n",
       "    <tr>\n",
       "      <th>6</th>\n",
       "      <td>computers</td>\n",
       "      <td>1879698</td>\n",
       "      <td>Планшет</td>\n",
       "      <td>30290</td>\n",
       "      <td>4.9</td>\n",
       "      <td>749</td>\n",
       "      <td>gadgets</td>\n",
       "    </tr>\n",
       "  </tbody>\n",
       "</table>\n",
       "</div>"
      ],
      "text/plain": [
       "      category       id               group  price  rating  votes new_group\n",
       "0  electronics  1826254         electronics  14297     4.8   1536     other\n",
       "1  electronics  1832281         electronics  32690     4.9    186     other\n",
       "2  electronics  2338051   Мобильный телефон    817     3.7     88   gadgets\n",
       "3  electronics  6757637          Умные часы   1287     4.5    121   gadgets\n",
       "4   appliances  1777135  Микроволновая печь   5206     4.9     25     other\n",
       "5    computers  1774907             Ноутбук  91200     4.8     98     other\n",
       "6    computers  1879698             Планшет  30290     4.9    749   gadgets"
      ]
     },
     "execution_count": 32,
     "metadata": {},
     "output_type": "execute_result"
    }
   ],
   "source": [
    "# Используя логическую индексацию, проведём замену значений:\n",
    "df.loc[df['new_group'] != 'gadgets', 'new_group'] = 'other'\n",
    "\n",
    "df"
   ]
  },
  {
   "cell_type": "raw",
   "id": "95863b49-15fc-4a3d-abbd-d6bc161ce473",
   "metadata": {},
   "source": [
    "При замене значений можно использовать более сложные логические выражения, которые включают в себя несколько условий. Например, создадим новый столбец 'is_popular', в котором будет информация о том, является ли товар популярным или нет. Будем считать товар популярным, если количество голосов больше 500 и рейтинг выше 4.7 — тогда значение в столбце 'is_popular' будет True. Если хотя бы одно условие не выполняется, то False."
   ]
  },
  {
   "cell_type": "code",
   "execution_count": 34,
   "id": "cded170d-1a4e-42be-b1a5-6bccd34d6c68",
   "metadata": {},
   "outputs": [
    {
     "data": {
      "text/html": [
       "<div>\n",
       "<style scoped>\n",
       "    .dataframe tbody tr th:only-of-type {\n",
       "        vertical-align: middle;\n",
       "    }\n",
       "\n",
       "    .dataframe tbody tr th {\n",
       "        vertical-align: top;\n",
       "    }\n",
       "\n",
       "    .dataframe thead th {\n",
       "        text-align: right;\n",
       "    }\n",
       "</style>\n",
       "<table border=\"1\" class=\"dataframe\">\n",
       "  <thead>\n",
       "    <tr style=\"text-align: right;\">\n",
       "      <th></th>\n",
       "      <th>id</th>\n",
       "      <th>rating</th>\n",
       "      <th>votes</th>\n",
       "      <th>new_group</th>\n",
       "      <th>is_popular</th>\n",
       "    </tr>\n",
       "  </thead>\n",
       "  <tbody>\n",
       "    <tr>\n",
       "      <th>0</th>\n",
       "      <td>1826254</td>\n",
       "      <td>4.8</td>\n",
       "      <td>1536</td>\n",
       "      <td>other</td>\n",
       "      <td>True</td>\n",
       "    </tr>\n",
       "    <tr>\n",
       "      <th>1</th>\n",
       "      <td>1832281</td>\n",
       "      <td>4.9</td>\n",
       "      <td>186</td>\n",
       "      <td>other</td>\n",
       "      <td>False</td>\n",
       "    </tr>\n",
       "    <tr>\n",
       "      <th>2</th>\n",
       "      <td>2338051</td>\n",
       "      <td>3.7</td>\n",
       "      <td>88</td>\n",
       "      <td>gadgets</td>\n",
       "      <td>False</td>\n",
       "    </tr>\n",
       "    <tr>\n",
       "      <th>3</th>\n",
       "      <td>6757637</td>\n",
       "      <td>4.5</td>\n",
       "      <td>121</td>\n",
       "      <td>gadgets</td>\n",
       "      <td>False</td>\n",
       "    </tr>\n",
       "    <tr>\n",
       "      <th>4</th>\n",
       "      <td>1777135</td>\n",
       "      <td>4.9</td>\n",
       "      <td>25</td>\n",
       "      <td>other</td>\n",
       "      <td>False</td>\n",
       "    </tr>\n",
       "    <tr>\n",
       "      <th>5</th>\n",
       "      <td>1774907</td>\n",
       "      <td>4.8</td>\n",
       "      <td>98</td>\n",
       "      <td>other</td>\n",
       "      <td>False</td>\n",
       "    </tr>\n",
       "    <tr>\n",
       "      <th>6</th>\n",
       "      <td>1879698</td>\n",
       "      <td>4.9</td>\n",
       "      <td>749</td>\n",
       "      <td>gadgets</td>\n",
       "      <td>True</td>\n",
       "    </tr>\n",
       "  </tbody>\n",
       "</table>\n",
       "</div>"
      ],
      "text/plain": [
       "        id  rating  votes new_group  is_popular\n",
       "0  1826254     4.8   1536     other        True\n",
       "1  1832281     4.9    186     other       False\n",
       "2  2338051     3.7     88   gadgets       False\n",
       "3  6757637     4.5    121   gadgets       False\n",
       "4  1777135     4.9     25     other       False\n",
       "5  1774907     4.8     98     other       False\n",
       "6  1879698     4.9    749   gadgets        True"
      ]
     },
     "execution_count": 34,
     "metadata": {},
     "output_type": "execute_result"
    }
   ],
   "source": [
    "# Создадим новый столбец 'is_popular' со значением по умолчанию False:\n",
    "df['is_popular'] = False\n",
    "\n",
    "# Используя логическую индексацию, найдём популярные товары:\n",
    "mask = (df['votes'] > 500) & (df['rating'] > 4.7)\n",
    "df.loc[mask, 'is_popular'] = True\n",
    "\n",
    "# Выведем на экран часть данных:\n",
    "df.iloc[:, [1,4,5,6,7]] "
   ]
  },
  {
   "cell_type": "raw",
   "id": "2c18580e-ab8c-4036-8141-97b4eebd6e86",
   "metadata": {},
   "source": [
    "Код выше можно оптимизировать, если при создании прописать логическое условие:\n",
    "\n",
    "# Создадим новый столбец 'is_popular' с помощью логической маски:\n",
    "df['is_popular'] = (df['votes'] > 500) & (df['rating'] > 4.7) \n",
    "Такой подход хорошо использовать при создании новых столбцов. При изменении ранее созданных данных лучше использовать непосредственно замену данных."
   ]
  },
  {
   "cell_type": "markdown",
   "id": "24d0719e-ecd5-4260-a4fb-51e1371c20a2",
   "metadata": {},
   "source": [
    "### Использование query() в условии при замене данных"
   ]
  },
  {
   "cell_type": "code",
   "execution_count": 39,
   "id": "72e52c4d-ff7b-4dff-a58a-ec0a71a9cc70",
   "metadata": {},
   "outputs": [
    {
     "data": {
      "text/html": [
       "<div>\n",
       "<style scoped>\n",
       "    .dataframe tbody tr th:only-of-type {\n",
       "        vertical-align: middle;\n",
       "    }\n",
       "\n",
       "    .dataframe tbody tr th {\n",
       "        vertical-align: top;\n",
       "    }\n",
       "\n",
       "    .dataframe thead th {\n",
       "        text-align: right;\n",
       "    }\n",
       "</style>\n",
       "<table border=\"1\" class=\"dataframe\">\n",
       "  <thead>\n",
       "    <tr style=\"text-align: right;\">\n",
       "      <th></th>\n",
       "      <th>id</th>\n",
       "      <th>rating</th>\n",
       "      <th>votes</th>\n",
       "      <th>new_group</th>\n",
       "      <th>is_popular</th>\n",
       "    </tr>\n",
       "  </thead>\n",
       "  <tbody>\n",
       "    <tr>\n",
       "      <th>0</th>\n",
       "      <td>1826254</td>\n",
       "      <td>4.8</td>\n",
       "      <td>1536</td>\n",
       "      <td>other</td>\n",
       "      <td>True</td>\n",
       "    </tr>\n",
       "    <tr>\n",
       "      <th>1</th>\n",
       "      <td>1832281</td>\n",
       "      <td>4.9</td>\n",
       "      <td>186</td>\n",
       "      <td>other</td>\n",
       "      <td>False</td>\n",
       "    </tr>\n",
       "    <tr>\n",
       "      <th>2</th>\n",
       "      <td>2338051</td>\n",
       "      <td>3.7</td>\n",
       "      <td>88</td>\n",
       "      <td>gadgets</td>\n",
       "      <td>False</td>\n",
       "    </tr>\n",
       "    <tr>\n",
       "      <th>3</th>\n",
       "      <td>6757637</td>\n",
       "      <td>4.5</td>\n",
       "      <td>121</td>\n",
       "      <td>gadgets</td>\n",
       "      <td>False</td>\n",
       "    </tr>\n",
       "    <tr>\n",
       "      <th>4</th>\n",
       "      <td>1777135</td>\n",
       "      <td>4.9</td>\n",
       "      <td>25</td>\n",
       "      <td>other</td>\n",
       "      <td>False</td>\n",
       "    </tr>\n",
       "    <tr>\n",
       "      <th>5</th>\n",
       "      <td>1774907</td>\n",
       "      <td>4.8</td>\n",
       "      <td>98</td>\n",
       "      <td>other</td>\n",
       "      <td>False</td>\n",
       "    </tr>\n",
       "    <tr>\n",
       "      <th>6</th>\n",
       "      <td>1879698</td>\n",
       "      <td>4.9</td>\n",
       "      <td>749</td>\n",
       "      <td>gadgets</td>\n",
       "      <td>False</td>\n",
       "    </tr>\n",
       "  </tbody>\n",
       "</table>\n",
       "</div>"
      ],
      "text/plain": [
       "        id  rating  votes new_group  is_popular\n",
       "0  1826254     4.8   1536     other        True\n",
       "1  1832281     4.9    186     other       False\n",
       "2  2338051     3.7     88   gadgets       False\n",
       "3  6757637     4.5    121   gadgets       False\n",
       "4  1777135     4.9     25     other       False\n",
       "5  1774907     4.8     98     other       False\n",
       "6  1879698     4.9    749   gadgets       False"
      ]
     },
     "execution_count": 39,
     "metadata": {},
     "output_type": "execute_result"
    }
   ],
   "source": [
    "# Создадим новый столбец 'is_popular' со значением по умолчанию False:\n",
    "df['is_popular'] = False\n",
    "\n",
    "# Используя запрос query, найдём необходимые товары, результат сохраним в mask:\n",
    "mask = df.query('votes > 1500 and rating > 4.5').index\n",
    "df.loc[mask, 'is_popular'] = True\n",
    "\n",
    "# Выведем на экран часть данных:\n",
    "df.iloc[:, [1,4,5,6,7]]"
   ]
  },
  {
   "cell_type": "code",
   "execution_count": 41,
   "id": "86ef6226-590e-4cdf-b7a6-1160b98e2f07",
   "metadata": {},
   "outputs": [
    {
     "name": "stdout",
     "output_type": "stream",
     "text": [
      "82\n"
     ]
    },
    {
     "name": "stderr",
     "output_type": "stream",
     "text": [
      "/var/folders/70/vrc88x_94pn4w3n7ss3fj_qw0000gn/T/ipykernel_48659/235142980.py:9: FutureWarning: A value is trying to be set on a copy of a DataFrame or Series through chained assignment using an inplace method.\n",
      "The behavior will change in pandas 3.0. This inplace method will never work because the intermediate object on which we are setting values always behaves as a copy.\n",
      "\n",
      "For example, when doing 'df[col].method(value, inplace=True)', try using 'df.method({col: value}, inplace=True)' or df[col] = df[col].method(value) instead, to perform the operation inplace on the original object.\n",
      "\n",
      "\n",
      "  music_df['genre'].replace('k-pop', 'kpop', inplace=True)\n"
     ]
    }
   ],
   "source": [
    "import pandas as pd\n",
    "music_df = pd.read_csv('https://code.s3.yandex.net/datasets/music_log.csv')\n",
    "\n",
    "# Проведём предварительную подготовку названия столбцов - трансформируем в нотацию snake_case:\n",
    "music_df.columns = music_df.columns.str.strip().str.replace(' ', '_').str.lower()\n",
    "\n",
    "# Заменим значение 'k-pop' на 'kpop' в столбце 'genre':\n",
    "# напишите ваш код здесь\n",
    "music_df['genre'].replace('k-pop', 'kpop', inplace=True)\n",
    "# Сохраним срез данных с песнями жанра kpop в отдельный датафрейм:\n",
    "kpop = music_df.loc[music_df['genre'] == 'kpop']# напишите ваш код здесь\n",
    "\n",
    "# Подсчитаем количество строк и выведем их количество на экран:\n",
    "print(len(kpop))"
   ]
  },
  {
   "cell_type": "code",
   "execution_count": 43,
   "id": "bdcd91df-2c85-4462-b06b-031d65ca88cc",
   "metadata": {},
   "outputs": [
    {
     "name": "stdout",
     "output_type": "stream",
     "text": [
      "164\n"
     ]
    },
    {
     "name": "stderr",
     "output_type": "stream",
     "text": [
      "/var/folders/70/vrc88x_94pn4w3n7ss3fj_qw0000gn/T/ipykernel_48659/1802155085.py:14: FutureWarning: A value is trying to be set on a copy of a DataFrame or Series through chained assignment using an inplace method.\n",
      "The behavior will change in pandas 3.0. This inplace method will never work because the intermediate object on which we are setting values always behaves as a copy.\n",
      "\n",
      "For example, when doing 'df[col].method(value, inplace=True)', try using 'df.method({col: value}, inplace=True)' or df[col] = df[col].method(value) instead, to perform the operation inplace on the original object.\n",
      "\n",
      "\n",
      "  music_df['genre'].replace(new_genres, inplace=True)\n"
     ]
    }
   ],
   "source": [
    "import pandas as pd\n",
    "music_df = pd.read_csv('https://code.s3.yandex.net/datasets/music_log.csv')\n",
    "music_df.columns = music_df.columns.str.strip().str.replace(' ', '_').str.lower()\n",
    "\n",
    "# Создадим словарь с изменяемыми значениями:\n",
    "new_genres ={\n",
    "    '''hard'n'heavy''': 'hard_n_heavy',\n",
    "    'hard-n-heavy': 'hard_n_heavy',\n",
    "    'türk': 'turkish',\n",
    "    'türkçe': 'turkish' # напишите ваш код здесь\n",
    "}\n",
    "# Проведём замену данных:\n",
    "# напишите ваш код здесь\n",
    "music_df['genre'].replace(new_genres, inplace=True)\n",
    "turkish = music_df.loc[music_df['genre'] == 'turkish']\n",
    "hard_n_heavy = music_df.loc[music_df['genre'] == 'hard_n_heavy']\n",
    "# Подсчитаем количество строк и выведем их количество на экран:\n",
    "print(len(turkish)+len(hard_n_heavy))"
   ]
  },
  {
   "cell_type": "code",
   "execution_count": 59,
   "id": "281cf260-8882-44e9-b5fb-adc923d85ebe",
   "metadata": {},
   "outputs": [
    {
     "name": "stdout",
     "output_type": "stream",
     "text": [
      "110\n"
     ]
    }
   ],
   "source": [
    "import pandas as pd\n",
    "music_df = pd.read_csv('https://code.s3.yandex.net/datasets/music_log.csv')\n",
    "music_df.columns = music_df.columns.str.strip().str.replace(' ', '_').str.lower()\n",
    "\n",
    "# Создадим новый столбец is_popular и зададим его значение через логическую маску:\n",
    "# напишите ваш код \n",
    "music_df['is_popular'] = music_df['total_play'] > 1000\n",
    "genres = ['folk', 'folklore', 'folkmetal', 'folkrock']\n",
    "genre_string = f\"genre in {genres} and total_play > 300\"\n",
    "music_df.loc[music_df.query(genre_string).index, 'is_popular'] = True\n",
    "# Сохраним срез данных с популярными песнями в отдельный датафрейм:\n",
    "\n",
    "popular = music_df.query('is_popular == True').shape[0] # напишите ваш код здесь\n",
    "\n",
    "# Подсчитаем количество строк и выведем их количество на экран:\n",
    "print(popular)"
   ]
  },
  {
   "cell_type": "code",
   "execution_count": 65,
   "id": "03868719-4bde-41ca-b1d4-ba34d0d69853",
   "metadata": {},
   "outputs": [
    {
     "name": "stdout",
     "output_type": "stream",
     "text": [
      "0\n"
     ]
    }
   ],
   "source": [
    "# Импорт библиотеки pandas и загрузка данных датасета music_log.csv:\n",
    "import pandas as pd\n",
    "music_df = pd.read_csv('https://code.s3.yandex.net/datasets/music_log.csv')\n",
    "\n",
    "# Проведём предварительную подготовку названия столбцов - трансформируем в нотацию snake_case:\n",
    "music_df.columns = music_df.columns.str.strip().str.replace(' ', '_').str.lower()\n",
    "avantgarde_mask = (music_df['genre'] == 'avantgarde') & (music_df['total_play'] > 1000)\n",
    "music_df.loc[avantgarde_mask, 'total_play'] = music_df.loc[avantgarde_mask, 'total_play'] / 10\n",
    "# Проверим замену данных, выведем количество строк жанра avantgarde с длительностью >1000:\n",
    "n = music_df.loc[(music_df['genre'] == 'avantgarde') & (music_df['total_play']>1000)].shape[0]\n",
    "print(n)\n"
   ]
  },
  {
   "cell_type": "markdown",
   "id": "4f8e7e96-8941-4fdd-b84d-167e557b1365",
   "metadata": {},
   "source": [
    "# Очень важные типы данных в Pandas"
   ]
  },
  {
   "cell_type": "code",
   "execution_count": 8,
   "id": "7a15c519-4f4d-4cc0-a8bf-e203ecb5c062",
   "metadata": {},
   "outputs": [
    {
     "data": {
      "text/plain": [
       "dtype('int64')"
      ]
     },
     "execution_count": 8,
     "metadata": {},
     "output_type": "execute_result"
    }
   ],
   "source": [
    "# Импортируем библиотеку pandas и загрузим данные:\n",
    "import pandas as pd\n",
    "df = pd.read_csv('https://code.s3.yandex.net/datasets/vehicles_us.csv')\n",
    "\n",
    "# Заменим пропуски:\n",
    "df['paint_color'] = df['paint_color'].fillna('unknown')\n",
    "df['is_4wd'] = df['is_4wd'].fillna(0)\n",
    "df['odometer'] = df['odometer'].fillna(df.groupby(['model_year','model','condition'])['odometer'].transform('median'))\n",
    "df['cylinders'] = df['cylinders'].fillna(df.groupby(['type'])['cylinders'].transform(lambda x: x.mode()[0]))\n",
    "\n",
    "# Остальные пропуски удалим:\n",
    "df = df.dropna()\n",
    "\n",
    "# Преобразуем тип данных в столбце model_year:\n",
    "df['model_year'] = df['model_year'].astype('int64')\n",
    "\n",
    "# Проверим результат:\n",
    "df['model_year'].dtypes "
   ]
  },
  {
   "cell_type": "code",
   "execution_count": 10,
   "id": "1ca63bd0-de51-47b1-af34-f000823de1d7",
   "metadata": {},
   "outputs": [
    {
     "data": {
      "text/plain": [
       "cylinders    int64\n",
       "odometer     int64\n",
       "is_4wd       int64\n",
       "dtype: object"
      ]
     },
     "execution_count": 10,
     "metadata": {},
     "output_type": "execute_result"
    }
   ],
   "source": [
    "# Преобразуем тип данных в нескольких столбцах:\n",
    "df[['cylinders','odometer','is_4wd']] = df[['cylinders',\n",
    "                                            'odometer','is_4wd']].astype('int64')\n",
    "                                            \n",
    "# Проверим результат:\n",
    "df[['cylinders','odometer','is_4wd']].dtypes "
   ]
  },
  {
   "cell_type": "code",
   "execution_count": 14,
   "id": "f8c37915-6f4d-47e1-85a2-d835a8895215",
   "metadata": {},
   "outputs": [
    {
     "data": {
      "text/plain": [
       "price            int64\n",
       "model_year       int64\n",
       "model           object\n",
       "condition       object\n",
       "cylinders        int64\n",
       "fuel            object\n",
       "odometer         int64\n",
       "transmission    object\n",
       "type            object\n",
       "paint_color     object\n",
       "is_4wd            bool\n",
       "date_posted     object\n",
       "days_listed      int64\n",
       "dtype: object"
      ]
     },
     "execution_count": 14,
     "metadata": {},
     "output_type": "execute_result"
    }
   ],
   "source": [
    "# Создадим словарь, содержащий новый тип данных для нужных столбцов:\n",
    "types_dict = {'model_year': 'int64', \n",
    "              'cylinders': 'int64', \n",
    "              'odometer': 'int64', \n",
    "              'is_4wd': 'bool' \n",
    "              }\n",
    "\n",
    "# Изучим типы данных:\n",
    "df = df.astype(types_dict)\n",
    "\n",
    "# Проверим результат:\n",
    "df.dtypes "
   ]
  },
  {
   "cell_type": "raw",
   "id": "480ff102-a698-415d-9ba8-6e95dd0410cb",
   "metadata": {},
   "source": [
    "У метода .astype() есть полезный аргумент errors, который позволяет указать действия метода при обнаружении в данных ошибки при изменении типа данных. Такие ошибки возникают, когда данные нельзя перевести в другой тип, например, строковые данные, содержащие символы, отличные от цифр, нельзя перевести в тип данных int или float. Аргумент errors определяет, как поступить при обнаружении ошибки. По умолчанию аргумент имеет значение raise. В этом случае при обнаружении ошибки в данных при запуске кода будет ошибка, в которой в конце будет указана причина:\n",
    "\n"
   ]
  },
  {
   "cell_type": "code",
   "execution_count": 18,
   "id": "c3f3d94b-1469-4adc-bd1b-b627ce2b2bb7",
   "metadata": {},
   "outputs": [
    {
     "data": {
      "text/plain": [
       "id                 object\n",
       "is_ordered         object\n",
       "is_ordered_bool    object\n",
       "dtype: object"
      ]
     },
     "execution_count": 18,
     "metadata": {},
     "output_type": "execute_result"
    }
   ],
   "source": [
    "# Создадим датафрейм с исходными данными:\n",
    "df_ = pd.DataFrame({'id': ['0001274', '0001023', '0002484', '0000981', '0001127'],\n",
    "                   'is_ordered': [1, 1, 0, 'нет данных', 0]})\n",
    "\n",
    "# Изменим тип данных на численный:\n",
    "df_['is_ordered_bool'] = df_['is_ordered'].astype('int', errors='ignore')\n",
    "\n",
    "# Выведем информацию о датафрейме:\n",
    "df_.dtypes "
   ]
  },
  {
   "cell_type": "raw",
   "id": "6b8823f6-cd49-4a22-9dbf-16933846ab63",
   "metadata": {},
   "source": [
    "аргумент errors может иметь значение ignore. В результате столбец не будет преобразован, то есть его просто проигнорируют:"
   ]
  },
  {
   "cell_type": "raw",
   "id": "17f0b584-0689-466c-8e13-7df794ed769b",
   "metadata": {},
   "source": [
    "Метод .to_numeric() переведёт данные в численный тип — int64 или float64. При этом метод .to_numeric() имеет аргумент errors, который так же, как и в методе .astype() определяет действия, при обнаружении ошибки, но в отличии от метода .astype() имеет значение coerce, которое будет заменять ошибочное значение на пропуск и изменять тип данных на float64"
   ]
  },
  {
   "cell_type": "code",
   "execution_count": 20,
   "id": "2c2ea27c-65e7-4026-902a-545ac316395a",
   "metadata": {},
   "outputs": [
    {
     "data": {
      "text/plain": [
       "id                 object\n",
       "is_ordered         object\n",
       "is_ordered_bool     int64\n",
       "dtype: object"
      ]
     },
     "execution_count": 20,
     "metadata": {},
     "output_type": "execute_result"
    }
   ],
   "source": [
    "# Создадим датафрейм с исходными данными:\n",
    "df_ = pd.DataFrame({'id': ['0001274', '0001023', '0002484', '0000981', '0001127'],\n",
    "                   'is_ordered': [1, 1, 0, '1', 0]})\n",
    "\n",
    "# Изменим тип данных на численный:\n",
    "df_['is_ordered_bool'] = pd.to_numeric(df_['is_ordered'], errors='coerce')\n",
    "\n",
    "# Выведем информацию о датафрейме:\n",
    "df_.dtypes "
   ]
  },
  {
   "cell_type": "raw",
   "id": "8055f403-1b41-4e26-a6d6-a78380e9377f",
   "metadata": {},
   "source": [
    "У метода .to_numeric() также есть параметр downcast, который позволяет уменьшить размер числовых данных путём снижения их битности. Это может быть полезно для оптимизации использования памяти, особенно при работе с большими данными:"
   ]
  },
  {
   "cell_type": "code",
   "execution_count": 22,
   "id": "72a6348d-e304-470b-ba71-de87bdb19125",
   "metadata": {},
   "outputs": [
    {
     "name": "stdout",
     "output_type": "stream",
     "text": [
      "id        int16\n",
      "orders     int8\n",
      "dtype: object\n",
      "     id  orders\n",
      "0  1274      15\n",
      "1  1023      32\n",
      "2  2484       0\n",
      "3   981      17\n",
      "4  1127      14\n"
     ]
    }
   ],
   "source": [
    "# Создадим датафрейм с исходными данными:\n",
    "df = pd.DataFrame({'id': ['0001274', '0001023', '0002484', '0000981', '0001127'],\n",
    "                   'orders': [15, 32, 0, '17', 14]})\n",
    "\n",
    "# Изменим тип данных на целочисленный с понижением размерности данных:\n",
    "df['id'] = pd.to_numeric(df['id'], downcast='integer')\n",
    "df['orders'] = pd.to_numeric(df['orders'], downcast='integer')\n",
    "\n",
    "# Выведем информацию о типах данных:\n",
    "print(df.dtypes)\n",
    "\n",
    "# Выведем датафрейм:\n",
    "print(df) "
   ]
  },
  {
   "cell_type": "code",
   "execution_count": 28,
   "id": "6001a371-149d-4c2a-a520-44ebb9415e82",
   "metadata": {},
   "outputs": [
    {
     "name": "stdout",
     "output_type": "stream",
     "text": [
      "total_images              int64\n",
      "last_price              float64\n",
      "total_area              float64\n",
      "first_day_exposition     object\n",
      "rooms                     int64\n",
      "ceiling_height          float64\n",
      "floors_total            float64\n",
      "living_area             float64\n",
      "floor                     int64\n",
      "is_apartment               bool\n",
      "studio                     bool\n",
      "open_plan                  bool\n",
      "kitchen_area            float64\n",
      "balcony                 float64\n",
      "locality_name            object\n",
      "days_exposition         float64\n",
      "dtype: object\n"
     ]
    },
    {
     "data": {
      "text/html": [
       "<div>\n",
       "<style scoped>\n",
       "    .dataframe tbody tr th:only-of-type {\n",
       "        vertical-align: middle;\n",
       "    }\n",
       "\n",
       "    .dataframe tbody tr th {\n",
       "        vertical-align: top;\n",
       "    }\n",
       "\n",
       "    .dataframe thead th {\n",
       "        text-align: right;\n",
       "    }\n",
       "</style>\n",
       "<table border=\"1\" class=\"dataframe\">\n",
       "  <thead>\n",
       "    <tr style=\"text-align: right;\">\n",
       "      <th></th>\n",
       "      <th>total_images</th>\n",
       "      <th>last_price</th>\n",
       "      <th>total_area</th>\n",
       "      <th>first_day_exposition</th>\n",
       "      <th>rooms</th>\n",
       "      <th>ceiling_height</th>\n",
       "      <th>floors_total</th>\n",
       "      <th>living_area</th>\n",
       "      <th>floor</th>\n",
       "      <th>is_apartment</th>\n",
       "      <th>studio</th>\n",
       "      <th>open_plan</th>\n",
       "      <th>kitchen_area</th>\n",
       "      <th>balcony</th>\n",
       "      <th>locality_name</th>\n",
       "      <th>days_exposition</th>\n",
       "    </tr>\n",
       "  </thead>\n",
       "  <tbody>\n",
       "    <tr>\n",
       "      <th>0</th>\n",
       "      <td>20</td>\n",
       "      <td>13000000.0</td>\n",
       "      <td>108.0</td>\n",
       "      <td>2019-03-07T00:00:00</td>\n",
       "      <td>3</td>\n",
       "      <td>2.70</td>\n",
       "      <td>16.0</td>\n",
       "      <td>51.000000</td>\n",
       "      <td>8</td>\n",
       "      <td>False</td>\n",
       "      <td>False</td>\n",
       "      <td>False</td>\n",
       "      <td>25.000000</td>\n",
       "      <td>0.0</td>\n",
       "      <td>Санкт-Петербург</td>\n",
       "      <td>-1.0</td>\n",
       "    </tr>\n",
       "    <tr>\n",
       "      <th>1</th>\n",
       "      <td>7</td>\n",
       "      <td>3350000.0</td>\n",
       "      <td>40.4</td>\n",
       "      <td>2018-12-04T00:00:00</td>\n",
       "      <td>1</td>\n",
       "      <td>2.65</td>\n",
       "      <td>11.0</td>\n",
       "      <td>18.600000</td>\n",
       "      <td>1</td>\n",
       "      <td>False</td>\n",
       "      <td>False</td>\n",
       "      <td>False</td>\n",
       "      <td>11.000000</td>\n",
       "      <td>2.0</td>\n",
       "      <td>посёлок Шушары</td>\n",
       "      <td>81.0</td>\n",
       "    </tr>\n",
       "    <tr>\n",
       "      <th>2</th>\n",
       "      <td>10</td>\n",
       "      <td>5196000.0</td>\n",
       "      <td>56.0</td>\n",
       "      <td>2015-08-20T00:00:00</td>\n",
       "      <td>2</td>\n",
       "      <td>2.65</td>\n",
       "      <td>5.0</td>\n",
       "      <td>34.300000</td>\n",
       "      <td>4</td>\n",
       "      <td>False</td>\n",
       "      <td>False</td>\n",
       "      <td>False</td>\n",
       "      <td>8.300000</td>\n",
       "      <td>0.0</td>\n",
       "      <td>Санкт-Петербург</td>\n",
       "      <td>558.0</td>\n",
       "    </tr>\n",
       "    <tr>\n",
       "      <th>3</th>\n",
       "      <td>0</td>\n",
       "      <td>64900000.0</td>\n",
       "      <td>159.0</td>\n",
       "      <td>2015-07-24T00:00:00</td>\n",
       "      <td>3</td>\n",
       "      <td>2.65</td>\n",
       "      <td>14.0</td>\n",
       "      <td>100.461415</td>\n",
       "      <td>9</td>\n",
       "      <td>False</td>\n",
       "      <td>False</td>\n",
       "      <td>False</td>\n",
       "      <td>20.427708</td>\n",
       "      <td>0.0</td>\n",
       "      <td>Санкт-Петербург</td>\n",
       "      <td>424.0</td>\n",
       "    </tr>\n",
       "    <tr>\n",
       "      <th>4</th>\n",
       "      <td>2</td>\n",
       "      <td>10000000.0</td>\n",
       "      <td>100.0</td>\n",
       "      <td>2018-06-19T00:00:00</td>\n",
       "      <td>2</td>\n",
       "      <td>3.03</td>\n",
       "      <td>14.0</td>\n",
       "      <td>32.000000</td>\n",
       "      <td>13</td>\n",
       "      <td>False</td>\n",
       "      <td>False</td>\n",
       "      <td>False</td>\n",
       "      <td>41.000000</td>\n",
       "      <td>0.0</td>\n",
       "      <td>Санкт-Петербург</td>\n",
       "      <td>121.0</td>\n",
       "    </tr>\n",
       "  </tbody>\n",
       "</table>\n",
       "</div>"
      ],
      "text/plain": [
       "   total_images  last_price  total_area first_day_exposition  rooms  \\\n",
       "0            20  13000000.0       108.0  2019-03-07T00:00:00      3   \n",
       "1             7   3350000.0        40.4  2018-12-04T00:00:00      1   \n",
       "2            10   5196000.0        56.0  2015-08-20T00:00:00      2   \n",
       "3             0  64900000.0       159.0  2015-07-24T00:00:00      3   \n",
       "4             2  10000000.0       100.0  2018-06-19T00:00:00      2   \n",
       "\n",
       "   ceiling_height  floors_total  living_area  floor  is_apartment  studio  \\\n",
       "0            2.70          16.0    51.000000      8         False   False   \n",
       "1            2.65          11.0    18.600000      1         False   False   \n",
       "2            2.65           5.0    34.300000      4         False   False   \n",
       "3            2.65          14.0   100.461415      9         False   False   \n",
       "4            3.03          14.0    32.000000     13         False   False   \n",
       "\n",
       "   open_plan  kitchen_area  balcony    locality_name  days_exposition  \n",
       "0      False     25.000000      0.0  Санкт-Петербург             -1.0  \n",
       "1      False     11.000000      2.0   посёлок Шушары             81.0  \n",
       "2      False      8.300000      0.0  Санкт-Петербург            558.0  \n",
       "3      False     20.427708      0.0  Санкт-Петербург            424.0  \n",
       "4      False     41.000000      0.0  Санкт-Петербург            121.0  "
      ]
     },
     "execution_count": 28,
     "metadata": {},
     "output_type": "execute_result"
    }
   ],
   "source": [
    "# Импортируем библиотеку pandas и загрузим данные в переменную df:\n",
    "import pandas as pd\n",
    "df = pd.read_csv('https://code.s3.yandex.net/datasets/real_estate_data_n_missing.csv')\n",
    "\n",
    "# Выведем информацию о типе данных:\n",
    "print(df.dtypes)\n",
    "\n",
    "# Выведем первые строки датафрейма:\n",
    "df.head(5)"
   ]
  },
  {
   "cell_type": "code",
   "execution_count": null,
   "id": "b6c29a47-00f5-4b20-bcb6-2e5276b4d3c5",
   "metadata": {},
   "outputs": [],
   "source": [
    "import pandas as pd\n",
    "df = pd.read_csv('https://code.s3.yandex.net/datasets/real_estate_data_n_missing.csv')\n",
    "\n",
    "# Выведем пример данных с типами int64 и float64:\n",
    "print('Данные с типами int64 и float64:')\n",
    "print(df.select_dtypes(['int64', 'float64']).head(5)) # напишите ваш код здесь)\n",
    "\n",
    "# Выведем пример данных с типом object:\n",
    "print('Данные с типом object:')\n",
    "print(df.select_dtypes('object').head(5)) # напишите ваш код здесь)"
   ]
  },
  {
   "cell_type": "code",
   "execution_count": 32,
   "id": "c9fd82a5-64b5-4084-82bb-d6695218ba99",
   "metadata": {},
   "outputs": [
    {
     "data": {
      "text/plain": [
       "last_price         int64\n",
       "floors_total       int64\n",
       "balcony            int64\n",
       "days_exposition    int64\n",
       "dtype: object"
      ]
     },
     "execution_count": 32,
     "metadata": {},
     "output_type": "execute_result"
    }
   ],
   "source": [
    "# Преобразуем тип данных в нескольких столбцах:\n",
    "df[['last_price','floors_total','balcony', 'days_exposition']] = df[['last_price','floors_total','balcony', 'days_exposition']].astype('int64')\n",
    "                                            \n",
    "# Проверим результат:\n",
    "df[['last_price','floors_total','balcony', 'days_exposition']].dtypes "
   ]
  },
  {
   "cell_type": "code",
   "execution_count": 36,
   "id": "283a021a-af5c-490d-9dea-e247660143a7",
   "metadata": {},
   "outputs": [
    {
     "data": {
      "text/plain": [
       "id           object\n",
       "price       float64\n",
       "quantity    float64\n",
       "dtype: object"
      ]
     },
     "execution_count": 36,
     "metadata": {},
     "output_type": "execute_result"
    }
   ],
   "source": [
    "# Создадим датафрейм с исходными данными:\n",
    "df = pd.DataFrame({'id': ['0001274', '0001023', '0002484', '0000981', '0001127'],\n",
    "                   'price': ['739', '540', '1500', 'нет_данных', '439'],\n",
    "                   'quantity': ['14', '13', 'нет_данных', 'нет_данных', '10']})\n",
    "\n",
    "# Изменим тип данных на численный:\n",
    "df['price'] = pd.to_numeric(df['price'], errors='coerce')\n",
    "df['quantity'] = pd.to_numeric(df['quantity'], errors='coerce')\n",
    "# Выведем информацию о датафрейме:\n",
    "df.dtypes "
   ]
  },
  {
   "cell_type": "markdown",
   "id": "7e892214-badc-4a36-96cb-388d61b015d1",
   "metadata": {},
   "source": [
    "# ВРЕМЯ"
   ]
  },
  {
   "cell_type": "markdown",
   "id": "6d14e41f-7b39-4edd-8c44-f9cee9273c69",
   "metadata": {},
   "source": [
    "## Метод pandas .to_datetime()"
   ]
  },
  {
   "cell_type": "raw",
   "id": "9623b615-469e-48bf-bfde-bc36f803d86d",
   "metadata": {},
   "source": [
    "Метод pandas .to_datetime() **для перевода данных в формат даты и времени в базовом синтаксисе устроен так: в качестве аргумента передаются данные, которые нужно преобразовать. Обычно, это серия значения — столбец датафрейма."
   ]
  },
  {
   "cell_type": "code",
   "execution_count": 6,
   "id": "868846b3-ccd9-4646-a608-2d4dcaf55e78",
   "metadata": {},
   "outputs": [
    {
     "name": "stdout",
     "output_type": "stream",
     "text": [
      "  user_id             start_dt               end_dt\n",
      "0  001244  2024-03-28 08:00:00  08:30:00 28.03.2024\n",
      "1  001037  2024-03-28 12:30:00  13:00:00 28.03.2024\n",
      "2  001655  2024-03-28 13:15:00  12:45:00 28.03.2024\n",
      "3  000942  2024-03-28 17:45:00  19:00:00 28.03.2024\n",
      "4  001244  2024-03-28 19:30:00  21:00:00 28.03.2024\n",
      "Проверим типы данных датафрейма df:\n",
      "user_id     object\n",
      "start_dt    object\n",
      "end_dt      object\n",
      "dtype: object\n"
     ]
    }
   ],
   "source": [
    "import pandas as pd\n",
    "\n",
    "# Создадим датафрейм с данными:\n",
    "df = pd.DataFrame({\n",
    "    'user_id': ['001244', '001037', '001655', '000942', '001244'],\n",
    "    'start_dt': ['2024-03-28 08:00:00', '2024-03-28 12:30:00', \n",
    "                 '2024-03-28 13:15:00', '2024-03-28 17:45:00', \n",
    "                 '2024-03-28 19:30:00'],\n",
    "    'end_dt': ['08:30:00 28.03.2024', '13:00:00 28.03.2024', \n",
    "               '12:45:00 28.03.2024', '19:00:00 28.03.2024', '21:00:00 28.03.2024']\n",
    "})\n",
    "\n",
    "# Выведем датафрейм на экран:\n",
    "print(df)\n",
    "\n",
    "# Проверим типы данных:\n",
    "print('Проверим типы данных датафрейма df:')\n",
    "print(df.dtypes) "
   ]
  },
  {
   "cell_type": "raw",
   "id": "b3371a31-b953-4d42-ae21-c40ff44b8c8b",
   "metadata": {},
   "source": [
    "Изменим тип данных с датой и числом на тип datetime64 с помощью метода .to_datetime():"
   ]
  },
  {
   "cell_type": "code",
   "execution_count": 8,
   "id": "d8577d4b-efbc-42e1-ab5e-f32cee103aa0",
   "metadata": {},
   "outputs": [
    {
     "name": "stdout",
     "output_type": "stream",
     "text": [
      "  user_id            start_dt              end_dt\n",
      "0  001244 2024-03-28 08:00:00 2024-03-28 08:30:00\n",
      "1  001037 2024-03-28 12:30:00 2024-03-28 13:00:00\n",
      "2  001655 2024-03-28 13:15:00 2024-03-28 12:45:00\n",
      "3  000942 2024-03-28 17:45:00 2024-03-28 19:00:00\n",
      "4  001244 2024-03-28 19:30:00 2024-03-28 21:00:00\n",
      "Проверим типы данных датафрейма df:\n",
      "user_id             object\n",
      "start_dt    datetime64[ns]\n",
      "end_dt      datetime64[ns]\n",
      "dtype: object\n"
     ]
    },
    {
     "name": "stderr",
     "output_type": "stream",
     "text": [
      "/var/folders/70/vrc88x_94pn4w3n7ss3fj_qw0000gn/T/ipykernel_54653/960292740.py:3: UserWarning: Parsing dates in %H:%M:%S %d.%m.%Y format when dayfirst=False (the default) was specified. Pass `dayfirst=True` or specify a format to silence this warning.\n",
      "  df['end_dt'] = pd.to_datetime(df['end_dt'])\n"
     ]
    }
   ],
   "source": [
    "# Изменим тип данных с помощью метода .to_datetime():\n",
    "df['start_dt'] = pd.to_datetime(df['start_dt'])\n",
    "df['end_dt'] = pd.to_datetime(df['end_dt'])\n",
    "\n",
    "# Выведем датафрейм на экран:\n",
    "print(df)\n",
    "\n",
    "# Проверим типы данных:\n",
    "print('Проверим типы данных датафрейма df:')\n",
    "print(df.dtypes) "
   ]
  },
  {
   "cell_type": "raw",
   "id": "3bdf28ab-0f58-4333-94b7-00286bca7881",
   "metadata": {},
   "source": [
    "Обратите внимание, что в коде выше каждый столбец был преобразован отдельно. Методу .to_datetime() нельзя передать несколько столбцов для преобразования, как это можно сделать в методе .astype(). Поэтому для преобразования нескольких столбцов одновременно можно использовать метод .to_datetime() в связке с методом .apply(), применяя его к необходимому срезу данных:"
   ]
  },
  {
   "cell_type": "code",
   "execution_count": 10,
   "id": "1144bde4-b38e-4eb9-9757-4f7340754884",
   "metadata": {},
   "outputs": [],
   "source": [
    "# Изменим тип данных с помощью метода .to_datetime():\n",
    "df[['start_dt','end_dt']] = df[['start_dt','end_dt']].apply(pd.to_datetime) "
   ]
  },
  {
   "cell_type": "raw",
   "id": "680e563d-c972-47f6-ac95-677135ff7da1",
   "metadata": {},
   "source": [
    "Однако pandas не всегда может определить формат даты и времени, особенно, если день и месяц имеют целочисленное значение меньше 12. Рассмотрим такой пример:"
   ]
  },
  {
   "cell_type": "code",
   "execution_count": 12,
   "id": "45b0b630-aa89-40ca-a4a6-46f79e0740b2",
   "metadata": {},
   "outputs": [
    {
     "name": "stdout",
     "output_type": "stream",
     "text": [
      "  user_id      reg_dt\n",
      "0  001244  01.03.2024\n",
      "1  001037  02.03.2024\n",
      "2  001655  01.03.2024\n",
      "3  000942  10.03.2024\n",
      "4  001244  11.03.2024\n",
      "  user_id     reg_dt\n",
      "0  001244 2024-01-03\n",
      "1  001037 2024-02-03\n",
      "2  001655 2024-01-03\n",
      "3  000942 2024-10-03\n",
      "4  001244 2024-11-03\n"
     ]
    }
   ],
   "source": [
    "# Создадим датафрейм с данными:\n",
    "df = pd.DataFrame({\n",
    "    'user_id': ['001244', '001037', '001655', '000942', '001244'],\n",
    "    'reg_dt': ['01.03.2024', '02.03.2024', '01.03.2024', \n",
    "               '10.03.2024', '11.03.2024']\n",
    "})\n",
    "\n",
    "# Выведем датафрейм на экран:\n",
    "print(df)\n",
    "\n",
    "# Преобразуем типы данных с датой:\n",
    "df['reg_dt'] = pd.to_datetime(df['reg_dt'])\n",
    "\n",
    "# Выведем результ на экран:\n",
    "print(df) "
   ]
  },
  {
   "cell_type": "raw",
   "id": "511cc7eb-e7e1-4b50-8855-2f96ec9c74af",
   "metadata": {},
   "source": [
    "В примере выше данные были представлены в виде день, месяц, год. Однако метод .to_datetime() обработал их в иной последовательности: месяц, день, год. В результате данные исказились, а это может привести к непредсказуемым результатам.\n",
    "Чтобы избежать такой ошибки, в методе .to_datetime() есть параметр format, в котором можно указать, какой формат времени и даты используется. Сравните результат с предыдущим:"
   ]
  },
  {
   "cell_type": "code",
   "execution_count": 14,
   "id": "5a1f60fa-6ff0-4414-add1-852f9f58537f",
   "metadata": {},
   "outputs": [
    {
     "name": "stdout",
     "output_type": "stream",
     "text": [
      "  user_id      reg_dt\n",
      "0  001244  01.03.2024\n",
      "1  001037  02.03.2024\n",
      "2  001655  01.03.2024\n",
      "3  000942  10.03.2024\n",
      "4  001244  11.03.2024\n",
      "  user_id     reg_dt\n",
      "0  001244 2024-03-01\n",
      "1  001037 2024-03-02\n",
      "2  001655 2024-03-01\n",
      "3  000942 2024-03-10\n",
      "4  001244 2024-03-11\n"
     ]
    }
   ],
   "source": [
    "# Создадим датафрейм с данными:\n",
    "df = pd.DataFrame({\n",
    "    'user_id': ['001244', '001037', '001655', '000942', '001244'],\n",
    "    'reg_dt': ['01.03.2024', '02.03.2024', '01.03.2024', \n",
    "               '10.03.2024', '11.03.2024']\n",
    "})\n",
    "\n",
    "# Выведем датафрейм на экран:\n",
    "print(df)\n",
    "\n",
    "# Преобразуем типы данных с датой:\n",
    "df['reg_dt'] = pd.to_datetime(df['reg_dt'], format='%d.%m.%Y')\n",
    "\n",
    "# Выведем результ на экран:\n",
    "print(df) "
   ]
  },
  {
   "cell_type": "markdown",
   "id": "f366826b-eb69-450e-b187-a8042c235fed",
   "metadata": {},
   "source": [
    "## Формат данных даты и времени timestamp"
   ]
  },
  {
   "cell_type": "raw",
   "id": "b73fdac8-2147-4913-8ce0-9562b2666550",
   "metadata": {},
   "source": [
    "Дата и время в формате timestamp  представлены в виде целого числа, которое обычно составляет количество секунд или миллисекунд, прошедших с определённой точки отсчёта. За точку отсчёта берут различные даты. Например, в Unix-системах timestamp представляет собой количество секунд, прошедших с начала эпохи Unix, которая начинается с 1 января 1970 года 00:00:00 (UTC).\n",
    "Например, дата и время 2024-02-15 12:35:41 в формате timestamp будут записаны как 1707989741, поскольку именно такое количество секунд прошло с 1 января 1970 года 00:00:00 (UTC)."
   ]
  },
  {
   "cell_type": "raw",
   "id": "0c292343-ca25-4b74-9f47-e27f5447900c",
   "metadata": {},
   "source": [
    "\n",
    "Посмотрим, как перевести дату и время из формата timestamp в формат datetime64. Для этого можно использовать метод pd.to_datetime(), в котором нужно указать атрибут unit='s', если время в формате timestamp округлено до секунды:"
   ]
  },
  {
   "cell_type": "code",
   "execution_count": 17,
   "id": "4c105bc4-7280-4780-bfba-3e2eddbc484a",
   "metadata": {},
   "outputs": [
    {
     "name": "stdout",
     "output_type": "stream",
     "text": [
      "  user_id    start_ts      end_ts            start_dt              end_dt\n",
      "0  001244  1585382400  1585384200 2020-03-28 08:00:00 2020-03-28 08:30:00\n",
      "1  001037  1585396200  1585398000 2020-03-28 11:50:00 2020-03-28 12:20:00\n",
      "2  001655  1585398900  1585399500 2020-03-28 12:35:00 2020-03-28 12:45:00\n",
      "3  000942  1585410300  1585412400 2020-03-28 15:45:00 2020-03-28 16:20:00\n",
      "4  001244  1585416600  1585422000 2020-03-28 17:30:00 2020-03-28 19:00:00\n",
      "Проверим типы данных датафрейма df:\n",
      "user_id             object\n",
      "start_ts             int64\n",
      "end_ts               int64\n",
      "start_dt    datetime64[ns]\n",
      "end_dt      datetime64[ns]\n",
      "dtype: object\n"
     ]
    }
   ],
   "source": [
    "# Создадим датафрейм с данными:\n",
    "df = pd.DataFrame({\n",
    "    'user_id': ['001244', '001037', '001655', '000942', '001244'],\n",
    "    'start_ts': [1585382400, 1585396200, 1585398900, 1585410300, 1585416600],     \n",
    "    'end_ts': [1585384200, 1585398000, 1585399500, 1585412400, 1585422000]})\n",
    "\n",
    "# Изменим тип данных с помощью метода .to_datetime():\n",
    "df['start_dt'] = pd.to_datetime(df['start_ts'], unit='s')\n",
    "df['end_dt'] = pd.to_datetime(df['end_ts'], unit='s')\n",
    "\n",
    "# Выведем датафрейм на экран:\n",
    "print(df)\n",
    "\n",
    "# Проверим типы данных:\n",
    "print('Проверим типы данных датафрейма df:')\n",
    "print(df.dtypes) "
   ]
  },
  {
   "cell_type": "markdown",
   "id": "7b8ae963-13b8-460d-8f70-2880e7c20d5b",
   "metadata": {},
   "source": [
    "## Время: дополнительные возможности\n"
   ]
  },
  {
   "cell_type": "raw",
   "id": "bfd98abf-96a1-4c98-b25f-12f0efb963fb",
   "metadata": {},
   "source": [
    "Чтобы извлечь из данных datetime64 дополнительную информацию, к столбцу с данными применяется акцессор .dt, который позволяет обращаться к каждой строке как к объекту datetime64, и специальный атрибут, выполняющий ту или иную функцию."
   ]
  },
  {
   "cell_type": "code",
   "execution_count": 20,
   "id": "e9ee3d97-c17d-4918-b253-e6fc3ed5dfa9",
   "metadata": {},
   "outputs": [
    {
     "name": "stdout",
     "output_type": "stream",
     "text": [
      "  date_posted  year\n",
      "0  2018-06-23  2018\n",
      "1  2018-10-19  2018\n",
      "2  2019-02-07  2019\n",
      "3  2019-03-22  2019\n",
      "4  2019-04-02  2019\n"
     ]
    }
   ],
   "source": [
    "# Импортируем библиотеку pandas и загрузим данные:\n",
    "import pandas as pd\n",
    "df = pd.read_csv('https://code.s3.yandex.net/datasets/vehicles_us.csv')\n",
    "\n",
    "# Изменим тип данных столбца date_posted:\n",
    "df['date_posted'] = pd.to_datetime(df['date_posted'])\n",
    "\n",
    "# Выделим год публикации объявления:\n",
    "df['year'] = df['date_posted'].dt.year\n",
    "\n",
    "# Проверим результат:\n",
    "print(df[['date_posted','year']].head())"
   ]
  },
  {
   "cell_type": "raw",
   "id": "60a69e6c-43c9-4be4-8353-951cee7810c1",
   "metadata": {},
   "source": [
    "Например, выделим год, квартал, номер месяца, номер недели, день:"
   ]
  },
  {
   "cell_type": "code",
   "execution_count": 26,
   "id": "0de6cec6-dbe0-4645-9e00-c27d2101258d",
   "metadata": {},
   "outputs": [
    {
     "name": "stdout",
     "output_type": "stream",
     "text": [
      "  date_posted  year  quarter  day  dayofyear  dayofweek  day_name\n",
      "0  2018-06-23  2018        2   23        174          5  Saturday\n",
      "1  2018-10-19  2018        4   19        292          4    Friday\n",
      "2  2019-02-07  2019        1    7         38          3  Thursday\n",
      "3  2019-03-22  2019        1   22         81          4    Friday\n",
      "4  2019-04-02  2019        2    2         92          1   Tuesday\n"
     ]
    }
   ],
   "source": [
    "# Выделим год публикации объявления:\n",
    "df['year'] = df['date_posted'].dt.year\n",
    "\n",
    "# Выделим квартал публикации объявления:\n",
    "df['quarter'] = df['date_posted'].dt.quarter\n",
    "\n",
    "# Выделим месяц публикации объявления:\n",
    "df['month'] = df['date_posted'].dt.month\n",
    "\n",
    "\n",
    "\n",
    "# Выделим день (месяца) публикации объявления:\n",
    "df['day'] = df['date_posted'].dt.day\n",
    "\n",
    "# Выделим порядковый номер дня публикации объявления:\n",
    "df['dayofyear'] = df['date_posted'].dt.dayofyear\n",
    "\n",
    "# Выделим день недели публикации объявления:\n",
    "df['dayofweek'] = df['date_posted'].dt.dayofweek\n",
    "\n",
    "# Выделим название дня недели публикации объявления:\n",
    "df['day_name'] = df['date_posted'].dt.day_name()\n",
    "\n",
    "# Проверим результат:\n",
    "print(df[['date_posted','year','quarter','day',\n",
    "          'dayofyear','dayofweek','day_name']].head()) "
   ]
  },
  {
   "cell_type": "raw",
   "id": "21c33408-c13a-48d3-ba2d-e23dfa22ec59",
   "metadata": {},
   "source": [
    " для выделения номера недели лучше использовать метод isocalendar() — он преобразует дату в датафрейм — с перечислением года, номера недели и дня:"
   ]
  },
  {
   "cell_type": "code",
   "execution_count": 28,
   "id": "75d68a53-9a05-4cd9-ba39-97dc790e9fb9",
   "metadata": {},
   "outputs": [
    {
     "name": "stdout",
     "output_type": "stream",
     "text": [
      "   year  week  day\n",
      "0  2018    25    6\n",
      "1  2018    42    5\n",
      "2  2019     6    4\n",
      "3  2019    12    5\n",
      "4  2019    14    2\n"
     ]
    }
   ],
   "source": [
    "# Проверим результат метода isocalendar():\n",
    "print(df['date_posted'].dt.isocalendar().head())"
   ]
  },
  {
   "cell_type": "code",
   "execution_count": 30,
   "id": "a01e2b6d-55e5-43b7-9157-3e96671b2ec5",
   "metadata": {},
   "outputs": [
    {
     "name": "stdout",
     "output_type": "stream",
     "text": [
      "  date_posted  week\n",
      "0  2018-06-23    25\n",
      "1  2018-10-19    42\n",
      "2  2019-02-07     6\n",
      "3  2019-03-22    12\n",
      "4  2019-04-02    14\n"
     ]
    }
   ],
   "source": [
    "# Выделим номер недели публикации объявления:\n",
    "df['week'] = df['date_posted'].dt.isocalendar().week\n",
    "\n",
    "# Проверим результат:\n",
    "print(df[['date_posted','week']].head()) "
   ]
  },
  {
   "cell_type": "raw",
   "id": "2ed12aa8-9584-4b98-a516-e73ffb108d8b",
   "metadata": {},
   "source": [
    "Обратите внимание, что атрибут .dayofweek возвращает номер дня недели начиная с 0, где 0 — это понедельник, а 6 — воскресенье. Для отображения в более привычном виде можно к результату добавить 1, чтобы 1 соответствовало понедельнику, а 7 — воскресенью."
   ]
  },
  {
   "cell_type": "code",
   "execution_count": 32,
   "id": "04c68802-80a3-4794-8407-34429549ad23",
   "metadata": {},
   "outputs": [
    {
     "name": "stdout",
     "output_type": "stream",
     "text": [
      "                 date  hour  minute  second\n",
      "0 2024-03-28 08:30:15     8      30      15\n",
      "1 2024-03-31 21:25:43    21      25      43\n"
     ]
    }
   ],
   "source": [
    "# Создадим датафрейм с данными:\n",
    "df = pd.DataFrame({\n",
    "    'date': ['2024-03-28 08:30:15','2024-03-31 21:25:43']\n",
    "})\n",
    "\n",
    "# Изменим тип данных столбца date:\n",
    "df['date'] = pd.to_datetime(df['date'])\n",
    "\n",
    "# Выделим час:\n",
    "df['hour'] = pd.to_datetime(df['date']).dt.hour\n",
    "\n",
    "# Выделим минуты:\n",
    "df['minute'] = pd.to_datetime(df['date']).dt.minute\n",
    "\n",
    "# Выделим секунды:\n",
    "df['second'] = pd.to_datetime(df['date']).dt.second\n",
    "\n",
    "# Проверим результат:\n",
    "print(df) \n"
   ]
  },
  {
   "cell_type": "code",
   "execution_count": 34,
   "id": "e3b43ab9-adee-46ce-8fc4-318aab6e4781",
   "metadata": {},
   "outputs": [
    {
     "name": "stdout",
     "output_type": "stream",
     "text": [
      "                   dt        date      time  date_norm\n",
      "0 2024-03-28 08:30:15  2024-03-28  08:30:15 2024-03-28\n",
      "1 2024-03-31 21:25:43  2024-03-31  21:25:43 2024-03-31\n",
      "dt           datetime64[ns]\n",
      "date                 object\n",
      "time                 object\n",
      "date_norm    datetime64[ns]\n",
      "dtype: object\n"
     ]
    }
   ],
   "source": [
    "# Создадим датафрейм с данными:\n",
    "df = pd.DataFrame({\n",
    "    'dt': ['2024-03-28 08:30:15','2024-03-31 21:25:43']\n",
    "})\n",
    "# Изменим тип данных столбца date:\n",
    "df['dt'] = pd.to_datetime(df['dt'])\n",
    "\n",
    "# Выделим только дату:\n",
    "df['date'] = pd.to_datetime(df['dt']).dt.date\n",
    "\n",
    "# Выделим только время:\n",
    "df['time'] = pd.to_datetime(df['dt']).dt.time\n",
    "\n",
    "# Выделим дату как объект datetime64:\n",
    "df['date_norm'] = pd.to_datetime(df['dt']).dt.normalize()\n",
    "\n",
    "# Проверим результат:\n",
    "print(df)\n",
    "print(df.dtypes) "
   ]
  },
  {
   "cell_type": "raw",
   "id": "b6491624-e815-4d77-b56f-38ca18027d6c",
   "metadata": {},
   "source": [
    "Обратите внимание, что при использовании указанных выше атрибутов тип данных будет изменён на object, поскольку эти атрибуты возвращают строковые значения. Если необходимо оставить дату в виде типа datetime64, тогда следует использовать метод .normalize()"
   ]
  },
  {
   "cell_type": "raw",
   "id": "76ceabee-4be2-4fd6-a9b6-543b2c7400ed",
   "metadata": {},
   "source": [
    "Атрибут strftime позволяет выводить дату и время в виде шаблонов в произвольном порядке. В качестве шаблонов используются те же символы, которые мы использовали в параметре format метода .to_datetime(). Например, выделим год и месяц из даты:"
   ]
  },
  {
   "cell_type": "code",
   "execution_count": 36,
   "id": "5e8b80ba-83b9-421c-a20e-a0e6f303dd5b",
   "metadata": {},
   "outputs": [
    {
     "name": "stdout",
     "output_type": "stream",
     "text": [
      "                   dt year_month\n",
      "0 2024-03-28 08:30:15    2024-03\n",
      "1 2024-03-31 21:25:43    2024-03\n"
     ]
    }
   ],
   "source": [
    "# Создадим датафрейм с данными:\n",
    "df = pd.DataFrame({\n",
    "    'dt': ['2024-03-28 08:30:15','2024-03-31 21:25:43']\n",
    "})\n",
    "# Изменим тип данных столбца date:\n",
    "df['dt'] = pd.to_datetime(df['dt'])\n",
    "\n",
    "# Выделим только дату:\n",
    "df['year_month'] = pd.to_datetime(df['dt']).dt.strftime('%Y-%m')\n",
    "\n",
    "# Проверим результат:\n",
    "print(df) \n"
   ]
  },
  {
   "cell_type": "code",
   "execution_count": 38,
   "id": "9c0fdcc5-9417-408d-a149-4353d0ebd3ed",
   "metadata": {},
   "outputs": [
    {
     "name": "stdout",
     "output_type": "stream",
     "text": [
      "                         dt                     date  \\\n",
      "0 2024-03-28 08:30:15+03:00  Thursday, 28 March 2024   \n",
      "1 2024-03-31 21:25:43+03:00    Sunday, 31 March 2024   \n",
      "\n",
      "                                  time  \n",
      "0  Московское время: 08 часов 30 минут  \n",
      "1  Московское время: 21 часов 25 минут  \n"
     ]
    }
   ],
   "source": [
    "# Создадим датафрейм с данными:\n",
    "df = pd.DataFrame({\n",
    "    'dt': ['2024-03-28 08:30:15+03:00','2024-03-31 21:25:43+03:00']\n",
    "})\n",
    "# Изменим тип данных столбца date:\n",
    "df['dt'] = pd.to_datetime(df['dt'])\n",
    "\n",
    "# Выделим только дату:\n",
    "df['date'] = pd.to_datetime(df['dt']).dt.strftime('%A, %d %B %Y')\n",
    "\n",
    "# Выделим только дату:\n",
    "df['time'] = pd.to_datetime(df['dt'])\\\n",
    "               .dt.strftime('Московское время: %H часов %M минут')\n",
    "\n",
    "# Проверим результат:\n",
    "print(df) "
   ]
  },
  {
   "cell_type": "markdown",
   "id": "ba6ccf49-acba-4844-849e-320adb40e681",
   "metadata": {},
   "source": [
    "## Часовой пояс и .to_datetime()"
   ]
  },
  {
   "cell_type": "raw",
   "id": "3f077ac8-85e5-44a0-9212-c65ccc139476",
   "metadata": {},
   "source": [
    "Например, дата и время 2024-03-28 00:00:00+03:00 указывают, что событие было совершено в 0 часов 28 марта 2024 года с учётом часового пояса +3 (Europe/Moscow). Чтобы убрать часовой пояс и привести время к UTC, метод .to_datetime() имеет параметр utc=True"
   ]
  },
  {
   "cell_type": "code",
   "execution_count": 41,
   "id": "34fd0c61-e714-4f52-93e8-8c330f387af3",
   "metadata": {},
   "outputs": [
    {
     "name": "stdout",
     "output_type": "stream",
     "text": [
      "                         dt\n",
      "0 2024-03-27 21:00:00+00:00\n"
     ]
    }
   ],
   "source": [
    "# Создадим датафрейм с данными:\n",
    "df = pd.DataFrame({'dt': ['2024-03-28 00:00:00+03:00']})\n",
    "\n",
    "# Преобразование столбца dt в формат datetime64 с учетом часового пояса:\n",
    "df['dt'] = pd.to_datetime(df['dt'], utc=True)\n",
    "\n",
    "print(df) "
   ]
  },
  {
   "cell_type": "raw",
   "id": "58d7e088-2ee6-4eb7-8756-04ec47e841d3",
   "metadata": {},
   "source": [
    "Чтобы убрать информацию о часовом поясе, можно использовать метод .tz_localize() с параметром None:"
   ]
  },
  {
   "cell_type": "code",
   "execution_count": 43,
   "id": "0c5bf024-5a8c-40a6-90d8-8a5315744d5c",
   "metadata": {},
   "outputs": [
    {
     "name": "stdout",
     "output_type": "stream",
     "text": [
      "                   dt\n",
      "0 2024-03-28 03:00:00\n"
     ]
    }
   ],
   "source": [
    "# Создадим датафрейм с данными:\n",
    "df = pd.DataFrame({'dt': ['2024-03-28 03:00:00+03:00']})\n",
    "\n",
    "# Преобразование столбца dt в формат datetime64 с учетом часового пояса:\n",
    "df['dt'] = pd.to_datetime(df['dt']).dt.tz_localize(None)\n",
    "\n",
    "print(df) "
   ]
  },
  {
   "cell_type": "markdown",
   "id": "d766e6a5-4eaf-4788-8f54-d655525a1409",
   "metadata": {},
   "source": [
    "## Временные интервалы timedelta64 и метод .to_timedelta()"
   ]
  },
  {
   "cell_type": "raw",
   "id": "27ba306e-df6f-428b-8ff9-3b28fa835162",
   "metadata": {},
   "source": [
    "При вычитании одних даты и времени из других, например, при подсчёте длительности загрузки приложения по формуле «время окончания загрузки - время старта загрузки» образуется разница — интервал времени, который может быть выражен в секундах, минутах, часах, днях. В pandas результат будет представлен в виде данных типа timedelta64:"
   ]
  },
  {
   "cell_type": "code",
   "execution_count": 52,
   "id": "6db22d50-94e6-4c5f-b044-712d7624f574",
   "metadata": {},
   "outputs": [
    {
     "data": {
      "text/plain": [
       "0     0 days 00:30:00\n",
       "1     0 days 00:43:00\n",
       "2   -1 days +23:30:00\n",
       "3     0 days 01:15:13\n",
       "4     0 days 01:30:00\n",
       "Name: session_length, dtype: timedelta64[ns]"
      ]
     },
     "execution_count": 52,
     "metadata": {},
     "output_type": "execute_result"
    }
   ],
   "source": [
    "# Create a DataFrame with data:\n",
    "df = pd.DataFrame({\n",
    "    'user_id': ['001244', '001037', '001655', '000942', '001244'],\n",
    "    'start_dt': ['2024-03-28 08:00:00', '2024-03-28 12:30:00', '2024-03-28 13:15:00', '2024-03-28 17:45:00', '2024-03-28 19:30:00'],\n",
    "    'end_dt': ['2024-03-28 08:30:00', '2024-03-28 13:13:00', '2024-03-28 12:45:00', '2024-03-28 19:00:13', '2024-03-28 21:00:00']})\n",
    "\n",
    "# Convert both columns to datetime format\n",
    "df[['start_dt','end_dt']] = df[['start_dt','end_dt']].apply(pd.to_datetime)\n",
    "\n",
    "# Calculate session length\n",
    "df['session_length'] = df['end_dt'] - df['start_dt']\n",
    "\n",
    "# Display the session length results\n",
    "df['session_length']"
   ]
  },
  {
   "cell_type": "code",
   "execution_count": null,
   "id": "2aa840d7-da70-480b-8b5c-662b9aab9a79",
   "metadata": {},
   "outputs": [],
   "source": []
  },
  {
   "cell_type": "code",
   "execution_count": 56,
   "id": "a48275c3-a735-4fb0-9def-4c4300e1d4dd",
   "metadata": {},
   "outputs": [
    {
     "data": {
      "text/plain": [
       "0     0 days 00:30:00\n",
       "1     0 days 00:43:00\n",
       "2   -1 days +23:30:00\n",
       "3     0 days 01:15:13\n",
       "4     0 days 01:30:00\n",
       "Name: session_length, dtype: timedelta64[ns]"
      ]
     },
     "execution_count": 56,
     "metadata": {},
     "output_type": "execute_result"
    }
   ],
   "source": [
    "# Create a DataFrame with data:\n",
    "df = pd.DataFrame({\n",
    "    'user_id': ['001244', '001037', '001655', '000942', '001244'],\n",
    "    'start_dt': ['2024-03-28 08:00:00', '2024-03-28 12:30:00', '2024-03-28 13:15:00', '2024-03-28 17:45:00', '2024-03-28 19:30:00'],\n",
    "    'end_dt': ['2024-03-28 08:30:00', '2024-03-28 13:13:00', '2024-03-28 12:45:00', '2024-03-28 19:00:13', '2024-03-28 21:00:00']})\n",
    "\n",
    "# Convert both columns to datetime format\n",
    "df[['start_dt','end_dt']] = df[['start_dt','end_dt']].apply(pd.to_datetime)\n",
    "\n",
    "# Calculate session length\n",
    "df['session_length'] = df['end_dt'] - df['start_dt']\n",
    "\n",
    "# Display the session length results\n",
    "df['session_length']\n"
   ]
  },
  {
   "cell_type": "code",
   "execution_count": 58,
   "id": "b2987ce0-32de-4745-89ad-60237ee512e3",
   "metadata": {},
   "outputs": [
    {
     "name": "stdout",
     "output_type": "stream",
     "text": [
      "5 days 13:10:00\n"
     ]
    }
   ],
   "source": [
    "# Создадим интервал в 5 дней, 13 часов и 10 минут:\n",
    "interval = pd.to_timedelta('5 days 13:10:00')\n",
    "\n",
    "print(interval) "
   ]
  },
  {
   "cell_type": "raw",
   "id": "bccbb4d7-7e8b-4897-b4b8-86a5b802a3b6",
   "metadata": {},
   "source": [
    "Объекты типа timedelta64 поддерживают арифметические операции, такие как сложение, вычитание и умножение на число. Это позволяет выполнять вычисления с временными интервалами:\n",
    "\n"
   ]
  },
  {
   "cell_type": "code",
   "execution_count": 60,
   "id": "12aa70f2-ac15-4498-9a5a-718f295f33a4",
   "metadata": {},
   "outputs": [
    {
     "name": "stdout",
     "output_type": "stream",
     "text": [
      "55 days 11:40:00\n"
     ]
    }
   ],
   "source": [
    "# Увеличим интервал в 10 раз:\n",
    "interval = pd.to_timedelta('5 days 13:10:00') * 10\n",
    "\n",
    "print(interval) "
   ]
  },
  {
   "cell_type": "code",
   "execution_count": 62,
   "id": "2dbdd62c-b6f8-4c3f-9b19-73bfc19cdaf5",
   "metadata": {},
   "outputs": [
    {
     "name": "stdout",
     "output_type": "stream",
     "text": [
      "  date_posted days_listed\n",
      "0  2018-06-23     19 days\n",
      "1  2018-10-19     50 days\n",
      "2  2019-02-07     79 days\n",
      "3  2019-03-22      9 days\n",
      "4  2019-04-02     28 days\n",
      "date_posted     datetime64[ns]\n",
      "days_listed    timedelta64[ns]\n",
      "dtype: object\n"
     ]
    }
   ],
   "source": [
    "# Импортируем библиотеку pandas и загрузим данные:\n",
    "import pandas as pd\n",
    "df = pd.read_csv('https://code.s3.yandex.net/datasets/vehicles_us.csv')\n",
    "\n",
    "# Преобразуем date_posted в тип datetime64:\n",
    "df['date_posted'] = pd.to_datetime(df['date_posted'])\n",
    "\n",
    "# Преобразуем days_listed в тип timedelta64:\n",
    "df['days_listed'] = pd.to_timedelta(df['days_listed'], unit='D')\n",
    "\n",
    "# Проверим результат:\n",
    "print(df[['date_posted','days_listed']].head())\n",
    "print(df[['date_posted','days_listed']].dtypes)"
   ]
  },
  {
   "cell_type": "code",
   "execution_count": 64,
   "id": "50e9a6a1-213d-431d-9b42-77d4b2fe6472",
   "metadata": {},
   "outputs": [
    {
     "name": "stdout",
     "output_type": "stream",
     "text": [
      "  date_posted days_listed  date_sale\n",
      "0  2018-06-23     19 days 2018-07-12\n",
      "1  2018-10-19     50 days 2018-12-08\n",
      "2  2019-02-07     79 days 2019-04-27\n",
      "3  2019-03-22      9 days 2019-03-31\n",
      "4  2019-04-02     28 days 2019-04-30\n",
      "date_posted     datetime64[ns]\n",
      "days_listed    timedelta64[ns]\n",
      "date_sale       datetime64[ns]\n",
      "dtype: object\n"
     ]
    }
   ],
   "source": [
    "# Найдем дату продажи:\n",
    "df['date_sale'] = df['date_posted'] + df['days_listed']\n",
    "\n",
    "# Проверим результат:\n",
    "print(df[['date_posted','days_listed','date_sale']].head())\n",
    "print(df[['date_posted','days_listed','date_sale']].dtypes) "
   ]
  },
  {
   "cell_type": "code",
   "execution_count": 70,
   "id": "8feeafb9-ad3c-4dfd-9834-c20692f6620b",
   "metadata": {},
   "outputs": [
    {
     "name": "stdout",
     "output_type": "stream",
     "text": [
      "Тип данных столбца first_day_exposition: datetime64[ns]\n"
     ]
    }
   ],
   "source": [
    "import pandas as pd\n",
    "df = pd.read_csv('https://code.s3.yandex.net/datasets/real_estate_data_n_missing.csv')\n",
    "\n",
    "# Преобразуем тип данных столбца first_day_exposition в тип datetime64:\n",
    "df['first_day_exposition'] = pd.to_datetime(df['first_day_exposition'])\n",
    "\n",
    "# Проверим тип данных столбца first_day_exposition:\n",
    "print(f'Тип данных столбца first_day_exposition: {df['first_day_exposition'].dtypes}')"
   ]
  },
  {
   "cell_type": "code",
   "execution_count": 76,
   "id": "e5305a95-0e59-4a74-87f8-31d9fbc990f2",
   "metadata": {},
   "outputs": [
    {
     "name": "stdout",
     "output_type": "stream",
     "text": [
      "Тип данных столбца first_day_exposition: datetime64[ns]\n",
      "Минимальная дата публикации объявления: 2014-11-27 00:00:00\n",
      "Максимальная дата публикации объявления: 2019-05-03 00:00:00\n"
     ]
    }
   ],
   "source": [
    "import pandas as pd\n",
    "df = pd.read_csv('https://code.s3.yandex.net/datasets/real_estate_data_n_missing.csv')\n",
    "\n",
    "# Преобразуем тип данных столбца first_day_exposition в тип datetime64:\n",
    "df['first_day_exposition'] = pd.to_datetime(df['first_day_exposition'])\n",
    "\n",
    "# Проверим тип данных столбца first_day_exposition:\n",
    "print('Тип данных столбца first_day_exposition:', df['first_day_exposition'].dtypes)\n",
    "\n",
    "# Найдём минимальную и максимальную даты публикации объявлений:\n",
    "min_date = df['first_day_exposition'].min()\n",
    "max_date = df['first_day_exposition'].max()\n",
    "\n",
    "# Выведем результат:\n",
    "print('Минимальная дата публикации объявления:', min_date)\n",
    "print('Максимальная дата публикации объявления:', max_date)"
   ]
  },
  {
   "cell_type": "code",
   "execution_count": 102,
   "id": "ce6a044d-6fb1-4e09-b86f-a982736d3e57",
   "metadata": {},
   "outputs": [
    {
     "name": "stdout",
     "output_type": "stream",
     "text": [
      "Количество объявлений по годам\n",
      "fde_year\n",
      "2018    8486\n",
      "2017    8161\n",
      "2019    2871\n",
      "2016    2745\n",
      "2015    1166\n",
      "2014     136\n",
      "Name: count, dtype: int64\n",
      "Количество объявлений по месяцам для наименее популярного года - 2014\n",
      "fde_month\n",
      "12    116\n",
      "11     20\n",
      "Name: count, dtype: int64\n"
     ]
    }
   ],
   "source": [
    "import pandas as pd\n",
    "\n",
    "# Convert first_day_exposition column to datetime format\n",
    "df['first_day_exposition'] = pd.to_datetime(df['first_day_exposition'])\n",
    "\n",
    "# Create a new date column 'fde_date' from first_day_exposition\n",
    "# The original code seems to assume fde_date already exists, but we need to create it\n",
    "df['fde_date'] = df['first_day_exposition'].dt.date\n",
    "\n",
    "# Extract month and year components from first_day_exposition\n",
    "df['fde_month'] = df['first_day_exposition'].dt.month  # Month component (1-12)\n",
    "df['fde_year'] = df['first_day_exposition'].dt.year    # Year component (e.g., 2019)\n",
    "\n",
    "# Display the distribution of listings by year\n",
    "print('Количество объявлений по годам')\n",
    "print(df['fde_year'].value_counts())\n",
    "\n",
    "top_year = df['fde_year'].value_counts().index[-1]\n",
    "print(f'Количество объявлений по месяцам для наименее популярного года - {top_year}')\n",
    "print(df[df['fde_year'] == top_year]['fde_month'].value_counts())\n",
    "   "
   ]
  },
  {
   "cell_type": "code",
   "execution_count": 130,
   "id": "bec52196-6aaf-4081-b65a-71df00f9dbf0",
   "metadata": {},
   "outputs": [
    {
     "name": "stdout",
     "output_type": "stream",
     "text": [
      "Распределение объявлений по дням недели:\n",
      "last_week_day\n",
      "Tuesday      3837\n",
      "Monday       3309\n",
      "Thursday     3076\n",
      "Friday       3017\n",
      "Wednesday    3014\n",
      "Saturday     2263\n",
      "Sunday       1878\n",
      "Name: count, dtype: int64\n"
     ]
    }
   ],
   "source": [
    "import pandas as pd\n",
    "\n",
    "# Импортируем библиотеку pandas и загрузим данные в переменную df:\n",
    "df = pd.read_csv('https://code.s3.yandex.net/datasets/real_estate_data_n_missing.csv')\n",
    "\n",
    "# Преобразуем тип данных столбца first_day_exposition в тип datetime64:\n",
    "df['first_day_exposition'] = pd.to_datetime(df['first_day_exposition'])\n",
    "\n",
    "# Найдём последний день активности объявления:\n",
    "df['last_date'] = df['first_day_exposition'] + pd.to_timedelta(df['days_exposition'], unit='D')\n",
    "\n",
    "# Выделим название дня недели, когда объявление было снято:\n",
    "df['last_week_day'] = df['last_date'].dt.day_name()\n",
    "\n",
    "# Отфильтруем данные по значению -1 в столбце days_exposition\n",
    "filtered_df = df[df['days_exposition'] != -1]\n",
    "\n",
    "# Посмотрим на распределение объявлений по дням недели:\n",
    "result = filtered_df['last_week_day'].value_counts()\n",
    "\n",
    "print('Распределение объявлений по дням недели:')\n",
    "print(result)"
   ]
  },
  {
   "cell_type": "code",
   "execution_count": 132,
   "id": "10d6b2d8-a54c-4e36-961a-c4a2455ddbbd",
   "metadata": {},
   "outputs": [
    {
     "name": "stdout",
     "output_type": "stream",
     "text": [
      "21742   2017-11-05 07:40:00\n",
      "14226   2018-12-29 18:27:50\n",
      "22399   2020-08-22 14:28:20\n",
      "22883   2018-04-27 07:38:20\n",
      "20657   2019-09-05 20:33:20\n",
      "559     2017-07-27 00:06:40\n",
      "19955   2017-04-29 06:33:20\n",
      "Name: first_day_exposition, dtype: datetime64[ns]\n"
     ]
    }
   ],
   "source": [
    "import pandas as pd\n",
    "df = pd.read_csv('https://code.s3.yandex.net/datasets/real_estate_data_n_missing.csv')\n",
    "\n",
    "# Преобразуем тип данных столбца first_day_exposition в тип datetime64:\n",
    "df['first_day_exposition'] = pd.to_datetime(df['first_day_exposition'])\n",
    "\n",
    "# Создадим датасет с новыми данными:\n",
    "new_data = pd.DataFrame({'new_ts': {21742: 1509867600, 14226: 1546108070, \n",
    "22399: 1598106500, 22883: 1524814700, 20657: 1567715600, 559: 1501114000, \n",
    "19955: 1493447600}})\n",
    "\n",
    "new_data['new_dt'] = pd.to_datetime(new_data['new_ts'], unit='s')\n",
    "\n",
    "# Заменим данные в столбце first_day_exposition на новые:\n",
    "df.loc[new_data.index, 'first_day_exposition'] = new_data['new_dt']\n",
    "\n",
    "# Проверим результат замены данных:\n",
    "print(df.loc[new_data.index, 'first_day_exposition'])"
   ]
  },
  {
   "cell_type": "code",
   "execution_count": null,
   "id": "dcad8135-6a9f-4bd0-b131-bd0f4b34ae7a",
   "metadata": {},
   "outputs": [],
   "source": []
  }
 ],
 "metadata": {
  "kernelspec": {
   "display_name": "Python [conda env:base] *",
   "language": "python",
   "name": "conda-base-py"
  },
  "language_info": {
   "codemirror_mode": {
    "name": "ipython",
    "version": 3
   },
   "file_extension": ".py",
   "mimetype": "text/x-python",
   "name": "python",
   "nbconvert_exporter": "python",
   "pygments_lexer": "ipython3",
   "version": "3.12.7"
  }
 },
 "nbformat": 4,
 "nbformat_minor": 5
}
