{
 "cells": [
  {
   "cell_type": "code",
   "execution_count": 5,
   "id": "2413e5b1-3790-4c92-a965-7567f99b9c26",
   "metadata": {},
   "outputs": [
    {
     "name": "stdout",
     "output_type": "stream",
     "text": [
      "Файл для менеджера 'Андрианова Ирина Валентиновна' успешно создан: /Users/olgaa/Desktop/MaxWork/Менеджеры/Андрианова Ирина Валентиновна.xlsx\n",
      "Файл для менеджера 'Ахметов Максат Келесович' успешно создан: /Users/olgaa/Desktop/MaxWork/Менеджеры/Ахметов Максат Келесович.xlsx\n",
      "Файл для менеджера 'Балаян Лусине Вардкесовна' успешно создан: /Users/olgaa/Desktop/MaxWork/Менеджеры/Балаян Лусине Вардкесовна.xlsx\n",
      "Файл для менеджера 'Без РМ' успешно создан: /Users/olgaa/Desktop/MaxWork/Менеджеры/Без РМ.xlsx\n",
      "Файл для менеджера 'Блажко Денис Владимирович' успешно создан: /Users/olgaa/Desktop/MaxWork/Менеджеры/Блажко Денис Владимирович.xlsx\n",
      "Файл для менеджера 'Бондаренко Ольга Игоревна' успешно создан: /Users/olgaa/Desktop/MaxWork/Менеджеры/Бондаренко Ольга Игоревна.xlsx\n",
      "Файл для менеджера 'Будняк Сергей Анатольевич' успешно создан: /Users/olgaa/Desktop/MaxWork/Менеджеры/Будняк Сергей Анатольевич.xlsx\n",
      "Файл для менеджера 'Войтенко Елена Юрьевна' успешно создан: /Users/olgaa/Desktop/MaxWork/Менеджеры/Войтенко Елена Юрьевна.xlsx\n",
      "Файл для менеджера 'Гасанов Рауф' успешно создан: /Users/olgaa/Desktop/MaxWork/Менеджеры/Гасанов Рауф.xlsx\n",
      "Файл для менеджера 'Граф Марина Михайловна' успешно создан: /Users/olgaa/Desktop/MaxWork/Менеджеры/Граф Марина Михайловна.xlsx\n",
      "Файл для менеджера 'Евсеева Наталья Анатольевна' успешно создан: /Users/olgaa/Desktop/MaxWork/Менеджеры/Евсеева Наталья Анатольевна.xlsx\n",
      "Файл для менеджера 'Замятина Елена Евгеньевна' успешно создан: /Users/olgaa/Desktop/MaxWork/Менеджеры/Замятина Елена Евгеньевна.xlsx\n",
      "Файл для менеджера 'Зеленецкая Евгения Александровна' успешно создан: /Users/olgaa/Desktop/MaxWork/Менеджеры/Зеленецкая Евгения Александровна.xlsx\n",
      "Файл для менеджера 'Зыкина Вероника Николаевна' успешно создан: /Users/olgaa/Desktop/MaxWork/Менеджеры/Зыкина Вероника Николаевна.xlsx\n",
      "Файл для менеджера 'Иванова Галина Владимировна' успешно создан: /Users/olgaa/Desktop/MaxWork/Менеджеры/Иванова Галина Владимировна.xlsx\n",
      "Файл для менеджера 'Капрова Ольга Сергеевна' успешно создан: /Users/olgaa/Desktop/MaxWork/Менеджеры/Капрова Ольга Сергеевна.xlsx\n",
      "Файл для менеджера 'Ким Игорь Владимирович' успешно создан: /Users/olgaa/Desktop/MaxWork/Менеджеры/Ким Игорь Владимирович.xlsx\n",
      "Файл для менеджера 'Крыжановская Юлия Александровна' успешно создан: /Users/olgaa/Desktop/MaxWork/Менеджеры/Крыжановская Юлия Александровна.xlsx\n",
      "Файл для менеджера 'Кузнецов Константин Игоревич' успешно создан: /Users/olgaa/Desktop/MaxWork/Менеджеры/Кузнецов Константин Игоревич.xlsx\n",
      "Файл для менеджера 'Курбатова Наталья Анатольевна' успешно создан: /Users/olgaa/Desktop/MaxWork/Менеджеры/Курбатова Наталья Анатольевна.xlsx\n",
      "Файл для менеджера 'Куренинова Зинаида Юрьевна' успешно создан: /Users/olgaa/Desktop/MaxWork/Менеджеры/Куренинова Зинаида Юрьевна.xlsx\n",
      "Файл для менеджера 'Москвина Елена Альбертовна' успешно создан: /Users/olgaa/Desktop/MaxWork/Менеджеры/Москвина Елена Альбертовна.xlsx\n",
      "Файл для менеджера 'Неретина Марина Анатольевна' успешно создан: /Users/olgaa/Desktop/MaxWork/Менеджеры/Неретина Марина Анатольевна.xlsx\n",
      "Файл для менеджера 'Олизаренко Екатерина Александровна' успешно создан: /Users/olgaa/Desktop/MaxWork/Менеджеры/Олизаренко Екатерина Александровна.xlsx\n",
      "Файл для менеджера 'Перминова Екатерина Валерьевна' успешно создан: /Users/olgaa/Desktop/MaxWork/Менеджеры/Перминова Екатерина Валерьевна.xlsx\n",
      "Файл для менеджера 'Пономаренко Оксана Викторовна' успешно создан: /Users/olgaa/Desktop/MaxWork/Менеджеры/Пономаренко Оксана Викторовна.xlsx\n",
      "Файл для менеджера 'Рязанова Екатерина Сергеевна' успешно создан: /Users/olgaa/Desktop/MaxWork/Менеджеры/Рязанова Екатерина Сергеевна.xlsx\n",
      "Файл для менеджера 'Савичев Георгий Александрович' успешно создан: /Users/olgaa/Desktop/MaxWork/Менеджеры/Савичев Георгий Александрович.xlsx\n",
      "Файл для менеджера 'Савков Антон Юрьевич' успешно создан: /Users/olgaa/Desktop/MaxWork/Менеджеры/Савков Антон Юрьевич.xlsx\n",
      "Файл для менеджера 'Сарафанова Елизавета Кирилловна' успешно создан: /Users/olgaa/Desktop/MaxWork/Менеджеры/Сарафанова Елизавета Кирилловна.xlsx\n",
      "Файл для менеджера 'Сорочкин Алексей Николаевич' успешно создан: /Users/olgaa/Desktop/MaxWork/Менеджеры/Сорочкин Алексей Николаевич.xlsx\n",
      "Файл для менеджера 'Тенькова Ольга Юрьевна' успешно создан: /Users/olgaa/Desktop/MaxWork/Менеджеры/Тенькова Ольга Юрьевна.xlsx\n",
      "Файл для менеджера 'Трушкова Юлия Михайловна' успешно создан: /Users/olgaa/Desktop/MaxWork/Менеджеры/Трушкова Юлия Михайловна.xlsx\n",
      "Файл для менеджера 'Уткина Наталья Валерьевна' успешно создан: /Users/olgaa/Desktop/MaxWork/Менеджеры/Уткина Наталья Валерьевна.xlsx\n",
      "Файл для менеджера 'Федосимова Марина Витальевна' успешно создан: /Users/olgaa/Desktop/MaxWork/Менеджеры/Федосимова Марина Витальевна.xlsx\n",
      "Файл для менеджера 'Широкова Яна Васильевна' успешно создан: /Users/olgaa/Desktop/MaxWork/Менеджеры/Широкова Яна Васильевна.xlsx\n"
     ]
    }
   ],
   "source": [
    "import pandas as pd\n",
    "import os\n",
    "\n",
    "def split_excel_by_manager(excel_file, sheet_name, output_folder):\n",
    "    try:\n",
    "        # 1. Загрузка данных из Excel\n",
    "        df = pd.read_excel(excel_file, sheet_name=sheet_name)\n",
    "\n",
    "        # 2. Проверка наличия колонки \"Менеджер\"\n",
    "        if 'Менеджер' not in df.columns:\n",
    "            print(\"Ошибка: Колонка 'Менеджер' не найдена в листе Excel.\")\n",
    "            return\n",
    "\n",
    "        # 3. Группировка данных по менеджерам\n",
    "        grouped = df.groupby('Менеджер')\n",
    "\n",
    "        # 4. Сохранение данных для каждого менеджера в отдельный файл\n",
    "        for manager, manager_df in grouped:\n",
    "            # Очистка имени менеджера для использования в имени файла (удаление недопустимых символов)\n",
    "            filename = f\"{manager.replace('/', '_').replace('\\\\', '_')}.xlsx\"\n",
    "            filepath = os.path.join(output_folder, filename)\n",
    "\n",
    "            try:\n",
    "                manager_df.to_excel(filepath, index=False)  # Сохраняем в Excel, без индекса\n",
    "                print(f\"Файл для менеджера '{manager}' успешно создан: {filepath}\")\n",
    "            except Exception as e:\n",
    "                print(f\"Ошибка при создании файла для менеджера '{manager}': {e}\")\n",
    "\n",
    "    except FileNotFoundError:\n",
    "        print(f\"Ошибка: Файл '{excel_file}' не найден.\")\n",
    "    except KeyError:\n",
    "        print(f\"Ошибка: Лист '{sheet_name}' не найден в файле Excel.\")\n",
    "    except Exception as e:\n",
    "        print(f\"Общая ошибка: {e}\")\n",
    "\n",
    "# Пример вызова функции\n",
    "split_excel_by_manager(\n",
    "    excel_file='/Users/olgaa/Desktop/MaxWork/Контрагент_SKU_(выгрузка из дашборда).xlsx',\n",
    "    sheet_name='Final_version (2)',\n",
    "    output_folder='/Users/olgaa/Desktop/MaxWork/Менеджеры'\n",
    ")\n"
   ]
  },
  {
   "cell_type": "code",
   "execution_count": null,
   "id": "83706919-cbf6-458d-84a3-4edc17118a6f",
   "metadata": {},
   "outputs": [],
   "source": []
  }
 ],
 "metadata": {
  "kernelspec": {
   "display_name": "Python 3 (ipykernel)",
   "language": "python",
   "name": "python3"
  },
  "language_info": {
   "codemirror_mode": {
    "name": "ipython",
    "version": 3
   },
   "file_extension": ".py",
   "mimetype": "text/x-python",
   "name": "python",
   "nbconvert_exporter": "python",
   "pygments_lexer": "ipython3",
   "version": "3.12.7"
  }
 },
 "nbformat": 4,
 "nbformat_minor": 5
}
